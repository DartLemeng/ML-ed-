{
 "cells": [
  {
   "cell_type": "markdown",
   "id": "1eb3e69f",
   "metadata": {
    "toc": true
   },
   "source": [
    "<h1>Содержание<span class=\"tocSkip\"></span></h1>\n",
    "<div class=\"toc\"><ul class=\"toc-item\"><li><span><a href=\"#Функции-и-библиотеки\" data-toc-modified-id=\"Функции-и-библиотеки-1\"><span class=\"toc-item-num\">1&nbsp;&nbsp;</span>Функции и библиотеки</a></span></li><li><span><a href=\"#Обзор-данных\" data-toc-modified-id=\"Обзор-данных-2\"><span class=\"toc-item-num\">2&nbsp;&nbsp;</span>Обзор данных</a></span></li><li><span><a href=\"#Предобработка-данных\" data-toc-modified-id=\"Предобработка-данных-3\"><span class=\"toc-item-num\">3&nbsp;&nbsp;</span>Предобработка данных</a></span><ul class=\"toc-item\"><li><span><a href=\"#устранение-некачественных-данных\" data-toc-modified-id=\"устранение-некачественных-данных-3.1\"><span class=\"toc-item-num\">3.1&nbsp;&nbsp;</span>устранение некачественных данных</a></span></li><li><span><a href=\"#изменение-индексов\" data-toc-modified-id=\"изменение-индексов-3.2\"><span class=\"toc-item-num\">3.2&nbsp;&nbsp;</span>изменение индексов</a></span></li></ul></li><li><span><a href=\"#Разделение-исходных-данные-на-обучающую-и-валидационную-выборки,-подготовка-признаков\" data-toc-modified-id=\"Разделение-исходных-данные-на-обучающую-и-валидационную-выборки,-подготовка-признаков-4\"><span class=\"toc-item-num\">4&nbsp;&nbsp;</span>Разделение исходных данные на обучающую и валидационную выборки, подготовка признаков</a></span><ul class=\"toc-item\"><li><span><a href=\"#локация-1\" data-toc-modified-id=\"локация-1-4.1\"><span class=\"toc-item-num\">4.1&nbsp;&nbsp;</span>локация 1</a></span></li><li><span><a href=\"#локация-2\" data-toc-modified-id=\"локация-2-4.2\"><span class=\"toc-item-num\">4.2&nbsp;&nbsp;</span>локация 2</a></span></li><li><span><a href=\"#локация-3\" data-toc-modified-id=\"локация-3-4.3\"><span class=\"toc-item-num\">4.3&nbsp;&nbsp;</span>локация 3</a></span></li></ul></li><li><span><a href=\"#Обучение-модели\" data-toc-modified-id=\"Обучение-модели-5\"><span class=\"toc-item-num\">5&nbsp;&nbsp;</span>Обучение модели</a></span><ul class=\"toc-item\"><li><span><a href=\"#локация-1\" data-toc-modified-id=\"локация-1-5.1\"><span class=\"toc-item-num\">5.1&nbsp;&nbsp;</span>локация 1</a></span></li><li><span><a href=\"#локация-2\" data-toc-modified-id=\"локация-2-5.2\"><span class=\"toc-item-num\">5.2&nbsp;&nbsp;</span>локация 2</a></span></li><li><span><a href=\"#локация-3\" data-toc-modified-id=\"локация-3-5.3\"><span class=\"toc-item-num\">5.3&nbsp;&nbsp;</span>локация 3</a></span></li></ul></li><li><span><a href=\"#Расчет-прибыли\" data-toc-modified-id=\"Расчет-прибыли-6\"><span class=\"toc-item-num\">6&nbsp;&nbsp;</span>Расчет прибыли</a></span><ul class=\"toc-item\"><li><span><a href=\"#расчет-достаточного-объема-сырья-для-безубыточной-разработки-новой-скважины\" data-toc-modified-id=\"расчет-достаточного-объема-сырья-для-безубыточной-разработки-новой-скважины-6.1\"><span class=\"toc-item-num\">6.1&nbsp;&nbsp;</span>расчет достаточного объема сырья для безубыточной разработки новой скважины</a></span></li><li><span><a href=\"#отбор-скважин-и-расчет-прибыли\" data-toc-modified-id=\"отбор-скважин-и-расчет-прибыли-6.2\"><span class=\"toc-item-num\">6.2&nbsp;&nbsp;</span>отбор скважин и расчет прибыли</a></span></li><li><span><a href=\"#расчет-рисков-и-прибыли\" data-toc-modified-id=\"расчет-рисков-и-прибыли-6.3\"><span class=\"toc-item-num\">6.3&nbsp;&nbsp;</span>расчет рисков и прибыли</a></span><ul class=\"toc-item\"><li><span><a href=\"#локация-1\" data-toc-modified-id=\"локация-1-6.3.1\"><span class=\"toc-item-num\">6.3.1&nbsp;&nbsp;</span>локация 1</a></span></li><li><span><a href=\"#локация-2\" data-toc-modified-id=\"локация-2-6.3.2\"><span class=\"toc-item-num\">6.3.2&nbsp;&nbsp;</span>локация 2</a></span></li><li><span><a href=\"#локация-3\" data-toc-modified-id=\"локация-3-6.3.3\"><span class=\"toc-item-num\">6.3.3&nbsp;&nbsp;</span>локация 3</a></span></li></ul></li></ul></li><li><span><a href=\"#Заключение\" data-toc-modified-id=\"Заключение-7\"><span class=\"toc-item-num\">7&nbsp;&nbsp;</span>Заключение</a></span></li></ul></div>"
   ]
  },
  {
   "cell_type": "markdown",
   "id": "501c8085",
   "metadata": {},
   "source": [
    "# Выбор локации для скважины"
   ]
  },
  {
   "cell_type": "markdown",
   "id": "2e4da52d",
   "metadata": {},
   "source": [
    "**Входные данные** —  пробы нефти в трёх регионах (характеристики для каждой скважины в регионе уже известны). \n",
    "\n",
    "\n",
    "\n",
    "**Дальнейшее использование результатов исследования** — определение наиболее прибыльных мест бурения скважин.\n",
    "\n",
    "**Цель исследования** \n",
    "- построение модели для определения региона, где добыча принесёт наибольшую прибыль, в т.ч.:    \n",
    "- анализ возможной прибыли и рисков, в т.ч.:\n",
    "    - расчет достаточного объёма сырья для безубыточной разработки новой скважины\n",
    "    - нахождение распределение прибыли\n",
    "    - нахождние средней прибыли, доверительный интервал и риск убытков\n",
    "- предложение региона для разработки\n",
    "\n",
    "**Дополнительные условия**\n",
    "- Для обучения модели подходит только линейная регрессия.\n",
    "- При разведке региона исследуют 500 точек, из которых с помощью машинного обучения выбирают 200 лучших для разработки.\n",
    "- Бюджет на разработку скважин в регионе — 10 млрд рублей.\n",
    "- Один баррель сырья приносит 450 рублей дохода, доход с каждой единицы продукта составляет 450 тыс. руб. (объём указан в тысячах баррелей).\n",
    "- Риск-аппетит по риску убытки составляет 2.5%."
   ]
  },
  {
   "cell_type": "markdown",
   "id": "f6c13df0",
   "metadata": {},
   "source": [
    "## Функции и библиотеки"
   ]
  },
  {
   "cell_type": "code",
   "execution_count": 46,
   "id": "abcfbb7c",
   "metadata": {},
   "outputs": [],
   "source": [
    "import pandas as pd\n",
    "\n",
    "import numpy as np\n",
    "\n",
    "from sklearn.preprocessing import StandardScaler \n",
    "\n",
    "from sklearn.model_selection import train_test_split\n",
    "\n",
    "from sklearn.linear_model import LinearRegression\n",
    "\n",
    "from sklearn.metrics import mean_squared_error\n",
    "\n",
    "from statistics import mean\n",
    "\n",
    "from scipy import stats as st\n",
    "\n",
    "from sklearn.model_selection import cross_val_score\n",
    "\n",
    "from sklearn.metrics import fbeta_score, make_scorer"
   ]
  },
  {
   "cell_type": "code",
   "execution_count": 2,
   "id": "4164942d",
   "metadata": {},
   "outputs": [],
   "source": [
    "# назначение - расчет доходов полученых при добыче в скважинах, отобранных согласно предсказаниям модели\n",
    "# входные данные:\n",
    "# target - набор реальных значений доступных для добычи объемов продукции\n",
    "# probabilities - набор предсказанных объемов продукции\n",
    "# count - количество скважин из которых предполагается осуществлять добычу (при значении 10 выбирается 10 скважин с наибольшими предсказанными запасами)\n",
    "\n",
    "def revenue(target, probabilities, count):\n",
    "    probs_sorted = probabilities.sort_values(ascending=False) # сортировка предсказанных объемов продукции по возрастанию\n",
    "    selected = target[probs_sorted.index][:count] # выбор реальных объемов, содержащихся в заданом количестве скважинах, наиболее перспективных согласно предсказаниям   \n",
    "    \n",
    "    \n",
    "    return round(450000 * selected.sum() - 10000000000,0) #расчет реального дохода полученного при разработке скважин (выбранных обученной моделью)"
   ]
  },
  {
   "cell_type": "markdown",
   "id": "3a40d287",
   "metadata": {},
   "source": [
    "## Обзор данных"
   ]
  },
  {
   "cell_type": "markdown",
   "id": "2bc16d66",
   "metadata": {},
   "source": [
    "Данные геологоразведки трёх регионов:\n",
    "\n",
    "Признаки:\n",
    "- id — уникальный идентификатор скважины;\n",
    "- f0, f1, f2 — значимые признаки;\n",
    "\n",
    "**Целевой признак**\n",
    "- product — объём запасов в скважине (тыс. баррелей)."
   ]
  },
  {
   "cell_type": "code",
   "execution_count": 3,
   "id": "e54cf764",
   "metadata": {},
   "outputs": [],
   "source": [
    "try:\n",
    "    df_1 = pd.read_csv ('D:/Data for projects/ML/geo_data_0.csv')\n",
    "    df_2 = pd.read_csv ('D:/Data for projects/ML/geo_data_1.csv')\n",
    "    df_3 = pd.read_csv ('D:/Data for projects/ML/geo_data_2.csv')\n",
    "\n",
    "except: #метод try/except применяется для открытия блокнота по адресу Практикума\n",
    "    df_1 = pd.read_csv ('/datasets/geo_data_0.csv')\n",
    "    df_2 = pd.read_csv ('/datasets/geo_data_1.csv')\n",
    "    df_3 = pd.read_csv ('/datasets/geo_data_2.csv')"
   ]
  },
  {
   "cell_type": "code",
   "execution_count": 4,
   "id": "110cf82e",
   "metadata": {},
   "outputs": [
    {
     "name": "stdout",
     "output_type": "stream",
     "text": [
      "<class 'pandas.core.frame.DataFrame'>\n",
      "RangeIndex: 100000 entries, 0 to 99999\n",
      "Data columns (total 5 columns):\n",
      "id         100000 non-null object\n",
      "f0         100000 non-null float64\n",
      "f1         100000 non-null float64\n",
      "f2         100000 non-null float64\n",
      "product    100000 non-null float64\n",
      "dtypes: float64(4), object(1)\n",
      "memory usage: 3.8+ MB\n",
      "None\n",
      "\n",
      "<class 'pandas.core.frame.DataFrame'>\n",
      "RangeIndex: 100000 entries, 0 to 99999\n",
      "Data columns (total 5 columns):\n",
      "id         100000 non-null object\n",
      "f0         100000 non-null float64\n",
      "f1         100000 non-null float64\n",
      "f2         100000 non-null float64\n",
      "product    100000 non-null float64\n",
      "dtypes: float64(4), object(1)\n",
      "memory usage: 3.8+ MB\n",
      "None\n",
      "\n",
      "<class 'pandas.core.frame.DataFrame'>\n",
      "RangeIndex: 100000 entries, 0 to 99999\n",
      "Data columns (total 5 columns):\n",
      "id         100000 non-null object\n",
      "f0         100000 non-null float64\n",
      "f1         100000 non-null float64\n",
      "f2         100000 non-null float64\n",
      "product    100000 non-null float64\n",
      "dtypes: float64(4), object(1)\n",
      "memory usage: 3.8+ MB\n",
      "None\n"
     ]
    }
   ],
   "source": [
    "print (df_1.info())\n",
    "print()\n",
    "print (df_2.info())\n",
    "print()\n",
    "print (df_3.info())"
   ]
  },
  {
   "cell_type": "code",
   "execution_count": 5,
   "id": "c9901d02",
   "metadata": {},
   "outputs": [
    {
     "name": "stdout",
     "output_type": "stream",
     "text": [
      "id          99990\n",
      "f0         100000\n",
      "f1         100000\n",
      "f2         100000\n",
      "product    100000\n",
      "dtype: int64\n",
      "\n",
      "id          99996\n",
      "f0         100000\n",
      "f1         100000\n",
      "f2         100000\n",
      "product        12\n",
      "dtype: int64\n",
      "\n",
      "id          99996\n",
      "f0         100000\n",
      "f1         100000\n",
      "f2         100000\n",
      "product    100000\n",
      "dtype: int64\n"
     ]
    }
   ],
   "source": [
    "print (df_1.nunique())\n",
    "print()\n",
    "print (df_2.nunique())\n",
    "print()\n",
    "print (df_3.nunique())"
   ]
  },
  {
   "cell_type": "code",
   "execution_count": 6,
   "id": "823767a8",
   "metadata": {},
   "outputs": [
    {
     "name": "stdout",
     "output_type": "stream",
     "text": [
      "0\n",
      "\n",
      "0\n",
      "\n",
      "0\n"
     ]
    }
   ],
   "source": [
    "print (df_1.duplicated().sum())\n",
    "print()\n",
    "print (df_2.duplicated().sum())\n",
    "print()\n",
    "print (df_3.duplicated().sum())"
   ]
  },
  {
   "cell_type": "code",
   "execution_count": 7,
   "id": "bfe9e66f",
   "metadata": {},
   "outputs": [
    {
     "name": "stdout",
     "output_type": "stream",
     "text": [
      "10\n",
      "\n",
      "4\n",
      "\n",
      "4\n"
     ]
    }
   ],
   "source": [
    "print (df_1['id'].duplicated().sum())\n",
    "print()\n",
    "print (df_2['id'].duplicated().sum())\n",
    "print()\n",
    "print (df_3['id'].duplicated().sum())"
   ]
  },
  {
   "cell_type": "markdown",
   "id": "c6f15449",
   "metadata": {},
   "source": [
    "<div style=\"border:solid blue 2px; padding: 20px\">\n",
    "\n",
    "По результатам обзора данных выявлено:\n",
    "    \n",
    "    - наличие различных комбинаций признаков для одного и того же уникального идентификатора скважины (количество некачественных данных статистически не значимо)"
   ]
  },
  {
   "cell_type": "markdown",
   "id": "43881024",
   "metadata": {},
   "source": [
    "## Предобработка данных"
   ]
  },
  {
   "cell_type": "markdown",
   "id": "758aff80",
   "metadata": {},
   "source": [
    "### устранение некачественных данных"
   ]
  },
  {
   "cell_type": "markdown",
   "id": "55565fdf",
   "metadata": {},
   "source": [
    "В ходе обзора данных выявлено сопоставления различных комбинаций признаков для одних и тех же скважин, восстановить данные не представляется возможным.\n",
    "Объем некачественных данных статистически не значим и позволяет провести обучение без их предобработки, тем не менее устраним не качественные данные"
   ]
  },
  {
   "cell_type": "code",
   "execution_count": 8,
   "id": "d1c6aa5c",
   "metadata": {
    "scrolled": true
   },
   "outputs": [],
   "source": [
    "df_1 = df_1[df_1['id'].duplicated() == False]"
   ]
  },
  {
   "cell_type": "code",
   "execution_count": 9,
   "id": "067487ba",
   "metadata": {},
   "outputs": [],
   "source": [
    "df_2 = df_2[df_2['id'].duplicated() == False]"
   ]
  },
  {
   "cell_type": "code",
   "execution_count": 10,
   "id": "96581c54",
   "metadata": {},
   "outputs": [],
   "source": [
    "df_3 = df_3[df_3['id'].duplicated() == False]"
   ]
  },
  {
   "cell_type": "markdown",
   "id": "5755e9a3",
   "metadata": {},
   "source": [
    "### изменение индексов"
   ]
  },
  {
   "cell_type": "code",
   "execution_count": 11,
   "id": "7aba0cff",
   "metadata": {},
   "outputs": [],
   "source": [
    "df_1 = df_1.set_index('id')\n",
    "df_2 = df_2.set_index('id')\n",
    "df_3 = df_3.set_index('id')"
   ]
  },
  {
   "cell_type": "markdown",
   "id": "01117201",
   "metadata": {},
   "source": [
    "## Разделение исходных данные на обучающую и валидационную выборки, подготовка признаков"
   ]
  },
  {
   "cell_type": "markdown",
   "id": "c4272916",
   "metadata": {},
   "source": [
    "### локация 1"
   ]
  },
  {
   "cell_type": "code",
   "execution_count": 12,
   "id": "de8d07d8",
   "metadata": {},
   "outputs": [],
   "source": [
    "features_1 = df_1.drop('product',axis=1) # признаки \n",
    "target_1 = df_1['product'] # целевой признак"
   ]
  },
  {
   "cell_type": "code",
   "execution_count": 13,
   "id": "b6575cc6",
   "metadata": {},
   "outputs": [],
   "source": [
    "features_train_1, features_valid_1, target_train_1, target_valid_1 = train_test_split(\n",
    "    features_1, target_1, test_size=0.25, random_state=404) #выделение обучающей и валидационной выборки"
   ]
  },
  {
   "cell_type": "code",
   "execution_count": 14,
   "id": "67bc8322",
   "metadata": {},
   "outputs": [
    {
     "name": "stdout",
     "output_type": "stream",
     "text": [
      "(74992, 3)\n",
      "(24998, 3)\n",
      "(74992,)\n",
      "(24998,)\n"
     ]
    }
   ],
   "source": [
    "print(features_train_1.shape)\n",
    "print(features_valid_1.shape)\n",
    "\n",
    "print(target_train_1.shape)\n",
    "print(target_valid_1.shape)"
   ]
  },
  {
   "cell_type": "markdown",
   "id": "f05a6969",
   "metadata": {},
   "source": [
    "Проведем масштабирование признаков"
   ]
  },
  {
   "cell_type": "code",
   "execution_count": 15,
   "id": "b9502331",
   "metadata": {},
   "outputs": [],
   "source": [
    "pd.options.mode.chained_assignment = None\n",
    "\n",
    "numeric = features_train_1.columns\n",
    "\n",
    "scaler = StandardScaler()\n",
    "scaler.fit(features_train_1[numeric])\n",
    "\n",
    "features_train_1[numeric] = scaler.transform(features_train_1[numeric])\n",
    "features_valid_1[numeric] = scaler.transform(features_valid_1[numeric])"
   ]
  },
  {
   "cell_type": "markdown",
   "id": "cbe110f1",
   "metadata": {},
   "source": [
    "### локация 2"
   ]
  },
  {
   "cell_type": "code",
   "execution_count": 16,
   "id": "8fb7d200",
   "metadata": {},
   "outputs": [],
   "source": [
    "features_2 = df_2.drop('product',axis=1) # признаки \n",
    "target_2 = df_2['product'] # целевой признак"
   ]
  },
  {
   "cell_type": "code",
   "execution_count": 17,
   "id": "3a42daac",
   "metadata": {},
   "outputs": [],
   "source": [
    "features_train_2, features_valid_2, target_train_2, target_valid_2 = train_test_split(\n",
    "    features_2, target_2, test_size=0.25, random_state=404) #выделение обучающей и валидационной выборки"
   ]
  },
  {
   "cell_type": "code",
   "execution_count": 18,
   "id": "760e784b",
   "metadata": {},
   "outputs": [
    {
     "name": "stdout",
     "output_type": "stream",
     "text": [
      "(74997, 3)\n",
      "(24999, 3)\n",
      "(74997,)\n",
      "(24999,)\n"
     ]
    }
   ],
   "source": [
    "print(features_train_2.shape)\n",
    "print(features_valid_2.shape)\n",
    "\n",
    "print(target_train_2.shape)\n",
    "print(target_valid_2.shape)"
   ]
  },
  {
   "cell_type": "markdown",
   "id": "eba5a981",
   "metadata": {},
   "source": [
    "Проведем масштабирование признаков"
   ]
  },
  {
   "cell_type": "code",
   "execution_count": 19,
   "id": "5f5cb8f5",
   "metadata": {},
   "outputs": [],
   "source": [
    "pd.options.mode.chained_assignment = None\n",
    "\n",
    "numeric = features_train_2.columns\n",
    "\n",
    "scaler = StandardScaler()\n",
    "scaler.fit(features_train_2[numeric])\n",
    "\n",
    "features_train_2[numeric] = scaler.transform(features_train_2[numeric])\n",
    "features_valid_2[numeric] = scaler.transform(features_valid_2[numeric])"
   ]
  },
  {
   "cell_type": "markdown",
   "id": "b29f58b3",
   "metadata": {},
   "source": [
    "### локация 3"
   ]
  },
  {
   "cell_type": "code",
   "execution_count": 20,
   "id": "fdb4957b",
   "metadata": {},
   "outputs": [],
   "source": [
    "features_3 = df_3.drop('product',axis=1) # признаки \n",
    "target_3 = df_3['product'] # целевой признак"
   ]
  },
  {
   "cell_type": "code",
   "execution_count": 21,
   "id": "9b0a8436",
   "metadata": {},
   "outputs": [],
   "source": [
    "features_train_3, features_valid_3, target_train_3, target_valid_3 = train_test_split(\n",
    "    features_3, target_3, test_size=0.25, random_state=404) #выделение обучающей и валидационной выборки"
   ]
  },
  {
   "cell_type": "code",
   "execution_count": 22,
   "id": "5a91b5db",
   "metadata": {},
   "outputs": [
    {
     "name": "stdout",
     "output_type": "stream",
     "text": [
      "(74997, 3)\n",
      "(24999, 3)\n",
      "(74997,)\n",
      "(24999,)\n"
     ]
    }
   ],
   "source": [
    "print(features_train_3.shape)\n",
    "print(features_valid_3.shape)\n",
    "\n",
    "print(target_train_3.shape)\n",
    "print(target_valid_3.shape)"
   ]
  },
  {
   "cell_type": "markdown",
   "id": "44151833",
   "metadata": {},
   "source": [
    "Проведем масштабирование признаков"
   ]
  },
  {
   "cell_type": "code",
   "execution_count": 23,
   "id": "c87739a7",
   "metadata": {},
   "outputs": [],
   "source": [
    "pd.options.mode.chained_assignment = None\n",
    "\n",
    "numeric = features_train_3.columns\n",
    "\n",
    "scaler = StandardScaler()\n",
    "scaler.fit(features_train_3[numeric])\n",
    "\n",
    "features_train_3[numeric] = scaler.transform(features_train_3[numeric])\n",
    "features_valid_3[numeric] = scaler.transform(features_valid_3[numeric])"
   ]
  },
  {
   "cell_type": "markdown",
   "id": "0efba931",
   "metadata": {},
   "source": [
    "## Обучение модели"
   ]
  },
  {
   "cell_type": "markdown",
   "id": "1a77daeb",
   "metadata": {},
   "source": [
    "### локация 1"
   ]
  },
  {
   "cell_type": "code",
   "execution_count": 24,
   "id": "422ab680",
   "metadata": {},
   "outputs": [
    {
     "name": "stdout",
     "output_type": "stream",
     "text": [
      "Средний запас предсказанного сырья: 92.51106814077136\n",
      "RMSE модели линейной регрессии на валидационной выборке: 37.489657515705076\n"
     ]
    }
   ],
   "source": [
    "model_1 = LinearRegression() \n",
    "model_1.fit(features_train_1, target_train_1) # обучение\n",
    "predictions_valid_1 = model_1.predict(features_valid_1) #предсказание\n",
    "\n",
    "reserves_mean_1 = predictions_valid_1.mean()\n",
    "RMSE_1 = mean_squared_error (target_valid_1, predictions_valid_1)**0.5 #значение метрики RMSE на валидационной выборке\n",
    "\n",
    "print('Средний запас предсказанного сырья:',reserves_mean_1)\n",
    "print(\"RMSE модели линейной регрессии на валидационной выборке:\", RMSE_1)"
   ]
  },
  {
   "cell_type": "code",
   "execution_count": 25,
   "id": "63e8f527",
   "metadata": {},
   "outputs": [
    {
     "name": "stdout",
     "output_type": "stream",
     "text": [
      "Средняя оценка качества модели: 37.694934636954144\n"
     ]
    }
   ],
   "source": [
    "ftwo_scorer = make_scorer(mean_squared_error)\n",
    "\n",
    "scores = cross_val_score(model_1, features_1, target_1, cv=5,scoring=ftwo_scorer) \n",
    "\n",
    "final_score = scores.mean()**0.5\n",
    "\n",
    "print('Средняя оценка качества модели:', final_score)"
   ]
  },
  {
   "cell_type": "markdown",
   "id": "445b37ff",
   "metadata": {},
   "source": [
    "### локация 2"
   ]
  },
  {
   "cell_type": "code",
   "execution_count": 26,
   "id": "1b3ad78c",
   "metadata": {},
   "outputs": [
    {
     "name": "stdout",
     "output_type": "stream",
     "text": [
      "Средний запас предсказанного сырья: 68.93255484171301\n",
      "RMSE модели линейной регрессии на валидационной выборке: 0.8894296342214345\n"
     ]
    }
   ],
   "source": [
    "model_2 = LinearRegression() \n",
    "model_2.fit(features_train_2, target_train_2) # обучение\n",
    "predictions_valid_2 = model_2.predict(features_valid_2) #предсказание\n",
    "\n",
    "reserves_mean_2 = predictions_valid_2.mean()\n",
    "RMSE_2 = mean_squared_error (target_valid_2, predictions_valid_2)**0.5 #значение метрики RMSE на валидационной выборке\n",
    "\n",
    "print('Средний запас предсказанного сырья:',reserves_mean_2)\n",
    "print(\"RMSE модели линейной регрессии на валидационной выборке:\", RMSE_2)"
   ]
  },
  {
   "cell_type": "code",
   "execution_count": 27,
   "id": "1b9c5a16",
   "metadata": {},
   "outputs": [
    {
     "name": "stdout",
     "output_type": "stream",
     "text": [
      "Средняя оценка качества модели: 0.8904258590202471\n"
     ]
    }
   ],
   "source": [
    "scores = cross_val_score(model_2, features_2, target_2, cv=5,scoring=ftwo_scorer) \n",
    "\n",
    "final_score = scores.mean()**0.5\n",
    "\n",
    "print('Средняя оценка качества модели:', final_score)"
   ]
  },
  {
   "cell_type": "markdown",
   "id": "6c4b2e4e",
   "metadata": {},
   "source": [
    "### локация 3"
   ]
  },
  {
   "cell_type": "code",
   "execution_count": 28,
   "id": "5e388c03",
   "metadata": {
    "scrolled": true
   },
   "outputs": [
    {
     "name": "stdout",
     "output_type": "stream",
     "text": [
      "Средний запас предсказанного сырья: 95.04719299953348\n",
      "RMSE модели линейной регрессии на валидационной выборке: 40.10447873875969\n"
     ]
    }
   ],
   "source": [
    "model_3 = LinearRegression() \n",
    "model_3.fit(features_train_3, target_train_3) # обучение\n",
    "predictions_valid_3 = model_3.predict(features_valid_3) #предсказание\n",
    "\n",
    "reserves_mean_3 = predictions_valid_3.mean()\n",
    "RMSE_3 = mean_squared_error (target_valid_3, predictions_valid_3)**0.5 #значение метрики RMSE на валидационной выборке\n",
    "\n",
    "print('Средний запас предсказанного сырья:',reserves_mean_3)\n",
    "print(\"RMSE модели линейной регрессии на валидационной выборке:\", RMSE_3)"
   ]
  },
  {
   "cell_type": "code",
   "execution_count": 29,
   "id": "625208ef",
   "metadata": {},
   "outputs": [
    {
     "name": "stdout",
     "output_type": "stream",
     "text": [
      "Средняя оценка качества модели: 40.05698887609784\n"
     ]
    }
   ],
   "source": [
    "scores = cross_val_score(model_3, features_3, target_3, cv=5,scoring=ftwo_scorer) \n",
    "\n",
    "final_score = scores.mean()**0.5\n",
    "\n",
    "print('Средняя оценка качества модели:', final_score)"
   ]
  },
  {
   "cell_type": "markdown",
   "id": "a9d09a3f",
   "metadata": {},
   "source": [
    "<div style=\"border:solid blue 2px; padding: 20px\">\n",
    "\n",
    "В результате обучения моделей обнаружены значительные отличия в метрики RMSE между моделями, обученными на данных для различних регионов\n",
    "кратный рост метрики RMSE соответствует увеличению средних запасов предсказанного сырья"
   ]
  },
  {
   "cell_type": "markdown",
   "id": "003f2dd1",
   "metadata": {},
   "source": [
    "## Расчет прибыли"
   ]
  },
  {
   "cell_type": "markdown",
   "id": "486b35e2",
   "metadata": {},
   "source": [
    "### расчет достаточного объема сырья для безубыточной разработки новой скважины"
   ]
  },
  {
   "cell_type": "markdown",
   "id": "50697d04",
   "metadata": {},
   "source": [
    "минимально необходимый объем добычи в регионе для окупаемости проекта"
   ]
  },
  {
   "cell_type": "code",
   "execution_count": 30,
   "id": "a23ba425",
   "metadata": {},
   "outputs": [
    {
     "data": {
      "text/plain": [
       "22222.222222222223"
      ]
     },
     "execution_count": 30,
     "metadata": {},
     "output_type": "execute_result"
    }
   ],
   "source": [
    "cost = 10000000000 #сумма затрат на проект\n",
    "price = 450000 #цена за тыс. ед. продукции\n",
    "\n",
    "volume_min = cost/price\n",
    "volume_min #количество тыс.ед. продукции необходимое для покрытия затрат на проект"
   ]
  },
  {
   "cell_type": "code",
   "execution_count": 31,
   "id": "562a917d",
   "metadata": {},
   "outputs": [
    {
     "name": "stdout",
     "output_type": "stream",
     "text": [
      "Средний запас предсказанного сырья в локации 1: 92.51106814077136\n",
      "Средний запас предсказанного сырья в локации 2: 68.93255484171301\n",
      "Средний запас предсказанного сырья в локации 3: 95.04719299953348\n"
     ]
    }
   ],
   "source": [
    "print('Средний запас предсказанного сырья в локации 1:',reserves_mean_1)\n",
    "print('Средний запас предсказанного сырья в локации 2:',reserves_mean_2)\n",
    "print('Средний запас предсказанного сырья в локации 3:',reserves_mean_3)"
   ]
  },
  {
   "cell_type": "markdown",
   "id": "f1f31113",
   "metadata": {},
   "source": [
    "<div style=\"border:solid blue 2px; padding: 20px\">\n",
    "\n",
    "Все локации удовлетворяют требованию превышения совокупного объема запасов минимально необходимого для достижения окупаемости проекта"
   ]
  },
  {
   "cell_type": "markdown",
   "id": "58a616a1",
   "metadata": {},
   "source": [
    "минимально необходимый объем добычи для окупаемости проекта (в расчете на одну скважину)"
   ]
  },
  {
   "cell_type": "code",
   "execution_count": 32,
   "id": "1fccffbf",
   "metadata": {},
   "outputs": [
    {
     "data": {
      "text/plain": [
       "111.11111111111111"
      ]
     },
     "execution_count": 32,
     "metadata": {},
     "output_type": "execute_result"
    }
   ],
   "source": [
    "cost = 10000000000 #сумма затрат на проект\n",
    "price = 450000 #цена за тыс. ед. продукции\n",
    "n_well = 200 #количество планируемых к разработке скважин\n",
    "\n",
    "volume_well_min = (cost/price)/n_well\n",
    "volume_well_min"
   ]
  },
  {
   "cell_type": "code",
   "execution_count": 33,
   "id": "55eb643d",
   "metadata": {},
   "outputs": [
    {
     "name": "stdout",
     "output_type": "stream",
     "text": [
      "Средний запас предсказанного сырья 200 лучших скважин в локации 1: 155.43210222575053\n",
      "Средний запас предсказанного сырья 200 лучших скважин в локации 2: 138.74181037950063\n",
      "Средний запас предсказанного сырья 200 лучших скважин в локации 3: 149.3790255334628\n"
     ]
    }
   ],
   "source": [
    "print ('Средний запас предсказанного сырья 200 лучших скважин в локации 1:',mean(sorted(predictions_valid_1, reverse=True)[:199]))\n",
    "print ('Средний запас предсказанного сырья 200 лучших скважин в локации 2:',mean(sorted(predictions_valid_2, reverse=True)[:199]))\n",
    "print ('Средний запас предсказанного сырья 200 лучших скважин в локации 3:',mean(sorted(predictions_valid_3, reverse=True)[:199]))"
   ]
  },
  {
   "cell_type": "markdown",
   "id": "95afe363",
   "metadata": {},
   "source": [
    "<div style=\"border:solid blue 2px; padding: 20px\">\n",
    "\n",
    "Все локации удовлетворяют требованию превышения совокупного объема запасов минимально необходимого для достижения окупаемости проекта "
   ]
  },
  {
   "cell_type": "markdown",
   "id": "613f8cd9",
   "metadata": {},
   "source": [
    "### отбор скважин и расчет прибыли"
   ]
  },
  {
   "cell_type": "code",
   "execution_count": 34,
   "id": "5c681242",
   "metadata": {},
   "outputs": [
    {
     "name": "stdout",
     "output_type": "stream",
     "text": [
      "прибыль от выбранных моделью 200 скважин в регионе 1: 3137955218.0\n",
      "масимальная прибыль от 200 скважин в регионе 1: 16504153163.0\n"
     ]
    }
   ],
   "source": [
    "predictions_valid_1_ = pd.Series(predictions_valid_1)\n",
    "target_valid_1_ = pd.Series(target_valid_1).reset_index(drop=True)\n",
    "\n",
    "print ('прибыль от выбранных моделью 200 скважин в регионе 1:',\n",
    "       revenue(target_valid_1_, predictions_valid_1_, 200))\n",
    "print ('масимальная прибыль от 200 скважин в регионе 1:',\n",
    "       round(target_valid_1.sort_values(ascending=False).head(200).sum()*450000,0))"
   ]
  },
  {
   "cell_type": "code",
   "execution_count": 35,
   "id": "56d2ab4a",
   "metadata": {},
   "outputs": [
    {
     "name": "stdout",
     "output_type": "stream",
     "text": [
      "прибыль от выбранных моделью 200 скважин в регионе 2: 2415086697.0\n",
      "масимальная прибыль от 200 скважин в регионе 2: 12415086697.0\n"
     ]
    }
   ],
   "source": [
    "predictions_valid_2_ = pd.Series(predictions_valid_2)\n",
    "target_valid_2_ = pd.Series(target_valid_2).reset_index(drop=True)\n",
    "\n",
    "print ('прибыль от выбранных моделью 200 скважин в регионе 2:',\n",
    "       revenue(target_valid_2_, predictions_valid_2_, 200))\n",
    "print ('масимальная прибыль от 200 скважин в регионе 2:',\n",
    "       round(target_valid_2.sort_values(ascending=False).head(200).sum()*450000,0))"
   ]
  },
  {
   "cell_type": "code",
   "execution_count": 36,
   "id": "02c5483a",
   "metadata": {},
   "outputs": [
    {
     "name": "stdout",
     "output_type": "stream",
     "text": [
      "прибыль от выбранных моделью 200 скважин в регионе 3: 2235954020.0\n",
      "масимальная прибыль от 200 скважин в регионе 3: 16930573580.0\n"
     ]
    }
   ],
   "source": [
    "predictions_valid_3_ = pd.Series(predictions_valid_3)\n",
    "target_valid_3_ = pd.Series(target_valid_3).reset_index(drop=True)\n",
    "\n",
    "print ('прибыль от выбранных моделью 200 скважин в регионе 3:',\n",
    "       revenue(target_valid_3_, predictions_valid_3_, 200))\n",
    "print ('масимальная прибыль от 200 скважин в регионе 3:',\n",
    "       round(target_valid_3.sort_values(ascending=False).head(200).sum()*450000,0))"
   ]
  },
  {
   "cell_type": "markdown",
   "id": "3bf4edda",
   "metadata": {},
   "source": [
    "### расчет рисков и прибыли"
   ]
  },
  {
   "cell_type": "markdown",
   "id": "5a2315ad",
   "metadata": {},
   "source": [
    "#### локация 1"
   ]
  },
  {
   "cell_type": "code",
   "execution_count": 37,
   "id": "e232baef",
   "metadata": {},
   "outputs": [
    {
     "name": "stdout",
     "output_type": "stream",
     "text": [
      "Средняя прибыль: 435174701.893\n",
      "2,5%-квантиль: 976016201.4749999\n",
      "97,5%-квантиль: -111512939.64999998\n"
     ]
    }
   ],
   "source": [
    "state = np.random.RandomState(12345)\n",
    "    \n",
    "values = []\n",
    "count_losses = 0\n",
    "\n",
    "for i in range(1000):\n",
    "    \n",
    "    target_subsample = target_valid_1_.sample(n=500, replace=True, random_state=state)\n",
    "    probs_subsample = predictions_valid_1_[target_subsample.index] \n",
    "          \n",
    "    values.append(revenue(target_subsample, probs_subsample, 200))\n",
    "    \n",
    "    if revenue(target_subsample, probs_subsample, 200) < 0:\n",
    "        count_losses += 1\n",
    "        \n",
    "\n",
    "values = pd.Series(values)\n",
    "lower = values.quantile(0.975)\n",
    "upper = values.quantile(0.025)\n",
    "\n",
    "mean_1 = values.mean()\n",
    "print(\"Средняя прибыль:\", mean_1)\n",
    "print(\"2,5%-квантиль:\", lower)\n",
    "print(\"97,5%-квантиль:\", upper)"
   ]
  },
  {
   "cell_type": "code",
   "execution_count": 38,
   "id": "9d5f6fee",
   "metadata": {},
   "outputs": [
    {
     "name": "stdout",
     "output_type": "stream",
     "text": [
      "95%-ый доверительный интервал: (418114579.91965115, 452234823.86634886)\n"
     ]
    }
   ],
   "source": [
    "confidence_interval = st.t.interval(alpha=0.95,df=(len(values)-1), loc=mean_1, scale=values.sem())\n",
    "\n",
    "print(\"95%-ый доверительный интервал:\", confidence_interval)"
   ]
  },
  {
   "cell_type": "code",
   "execution_count": 39,
   "id": "34c55f4b",
   "metadata": {},
   "outputs": [
    {
     "name": "stdout",
     "output_type": "stream",
     "text": [
      "риск убытков: 5.6 %\n"
     ]
    }
   ],
   "source": [
    "print('риск убытков:',round((count_losses/1000)*100,2),'%')\n"
   ]
  },
  {
   "cell_type": "markdown",
   "id": "e0ab1cf2",
   "metadata": {},
   "source": [
    "#### локация 2"
   ]
  },
  {
   "cell_type": "code",
   "execution_count": 40,
   "id": "b43ea44c",
   "metadata": {},
   "outputs": [
    {
     "name": "stdout",
     "output_type": "stream",
     "text": [
      "Средняя прибыль: 483323029.216\n",
      "2,5%-квантиль: 899506901.7249999\n",
      "97,5%-квантиль: 90217098.22500001\n"
     ]
    }
   ],
   "source": [
    "values = []\n",
    "count_losses = 0\n",
    "\n",
    "for i in range(1000):\n",
    "    \n",
    "    target_subsample = target_valid_2_.sample(n=500, replace=True, random_state=state)\n",
    "    probs_subsample = predictions_valid_2_[target_subsample.index] \n",
    "          \n",
    "    values.append(revenue(target_subsample, probs_subsample, 200))\n",
    "    \n",
    "    if revenue(target_subsample, probs_subsample, 200) < 0:\n",
    "        count_losses += 1\n",
    "        \n",
    "\n",
    "values = pd.Series(values)\n",
    "lower = values.quantile(0.975)\n",
    "upper = values.quantile(0.025)\n",
    "\n",
    "mean_2 = values.mean()\n",
    "print(\"Средняя прибыль:\", mean_2)\n",
    "print(\"2,5%-квантиль:\", lower)\n",
    "print(\"97,5%-квантиль:\", upper)"
   ]
  },
  {
   "cell_type": "code",
   "execution_count": 41,
   "id": "9c3930ef",
   "metadata": {},
   "outputs": [
    {
     "name": "stdout",
     "output_type": "stream",
     "text": [
      "95%-ый доверительный интервал: (470377496.9149201, 496268561.51707995)\n"
     ]
    }
   ],
   "source": [
    "confidence_interval = st.t.interval(alpha=0.95,df=(len(values)-1), loc=mean_2, scale=values.sem())\n",
    "\n",
    "print(\"95%-ый доверительный интервал:\", confidence_interval)"
   ]
  },
  {
   "cell_type": "code",
   "execution_count": 42,
   "id": "ef7a77e1",
   "metadata": {},
   "outputs": [
    {
     "name": "stdout",
     "output_type": "stream",
     "text": [
      "риск убытков: 0.9 %\n"
     ]
    }
   ],
   "source": [
    "print('риск убытков:',round((count_losses/1000)*100,2),'%')"
   ]
  },
  {
   "cell_type": "markdown",
   "id": "f0033b11",
   "metadata": {},
   "source": [
    "#### локация 3"
   ]
  },
  {
   "cell_type": "code",
   "execution_count": 43,
   "id": "7f408e1e",
   "metadata": {},
   "outputs": [
    {
     "name": "stdout",
     "output_type": "stream",
     "text": [
      "Средняя прибыль: 387794301.28\n",
      "2,5%-квантиль: 907101430.15\n",
      "97,5%-квантиль: -169779585.975\n"
     ]
    }
   ],
   "source": [
    "values = []\n",
    "count_losses = 0\n",
    "\n",
    "for i in range(1000):\n",
    "    \n",
    "    target_subsample = target_valid_3_.sample(n=500, replace=True, random_state=state)\n",
    "    probs_subsample = predictions_valid_3_[target_subsample.index] \n",
    "          \n",
    "    values.append(revenue(target_subsample, probs_subsample, 200))\n",
    "    \n",
    "    if revenue(target_subsample, probs_subsample, 200) < 0:\n",
    "        count_losses += 1\n",
    "        \n",
    "\n",
    "values = pd.Series(values)\n",
    "lower = values.quantile(0.975)\n",
    "upper = values.quantile(0.025)\n",
    "\n",
    "mean_3 = values.mean()\n",
    "print(\"Средняя прибыль:\", mean_3)\n",
    "print(\"2,5%-квантиль:\", lower)\n",
    "print(\"97,5%-квантиль:\", upper)"
   ]
  },
  {
   "cell_type": "code",
   "execution_count": 44,
   "id": "765f5396",
   "metadata": {},
   "outputs": [
    {
     "name": "stdout",
     "output_type": "stream",
     "text": [
      "95%-ый доверительный интервал: (370880271.8563468, 404708330.70365316)\n"
     ]
    }
   ],
   "source": [
    "confidence_interval = st.t.interval(alpha=0.95,df=(len(values)-1), loc=mean_3, scale=values.sem())\n",
    "\n",
    "print(\"95%-ый доверительный интервал:\", confidence_interval)"
   ]
  },
  {
   "cell_type": "code",
   "execution_count": 45,
   "id": "2144b502",
   "metadata": {},
   "outputs": [
    {
     "name": "stdout",
     "output_type": "stream",
     "text": [
      "риск убытков: 8.0 %\n"
     ]
    }
   ],
   "source": [
    "print('риск убытков:',round((count_losses/1000)*100,2),'%')"
   ]
  },
  {
   "cell_type": "markdown",
   "id": "c1f936ae",
   "metadata": {},
   "source": [
    "## Заключение"
   ]
  },
  {
   "cell_type": "markdown",
   "id": "d08e1ab9",
   "metadata": {},
   "source": [
    "В рамках настоящего исследования:\n",
    "\n",
    "- проведена предобработка данных\n",
    "- проведено обучение моделей (LinearRegression) для трех регионов \n",
    "- произведен рассчет прибыли в разрезе регионов, включающий в себя:\n",
    "    - определение объема сырья, необходимого для достижения точки безубыточности проекта\n",
    "    - отбор скважин с наимбольшими запасами (согласно предсказаниям модели) и расчет прибыли (согласно реальным данным о запасах в выбранных скважинах)\n",
    "- при помощи техники Bootstrap определны распределения прибыли по регионам, определена средняя прибыль, доверительный интервал и риски убытков, так:\n",
    "    - для локации 1:\n",
    "        - прибыль от выбранных моделью 200 скважин в регионе 1: 3 137 955 218.0\n",
    "        - масимальная прибыль от 200 скважин в регионе 1: 16 504 153 163.0\n",
    "        - Средняя прибыль: 435 174 701.893\n",
    "        - риск убытков: 5.6 %\n",
    "\n",
    "    - для локации 2:\n",
    "        - прибыль от выбранных моделью 200 скважин в регионе 22 415 086 697.0\n",
    "        - масимальная прибыль от 200 скважин в регионе 212 415 086 697.0\n",
    "        - Средняя прибыль: 483 323 029.216\n",
    "        - риск убытков: 0.9 %\n",
    "\n",
    "    - для локации 3:\n",
    "        - прибыль от выбранных моделью 200 скважин в регионе 32 235 954 020.0\n",
    "        - масимальная прибыль от 200 скважин в регионе 316 930 573 580.0\n",
    "        - Средняя прибыль: 387 794 301.28\n",
    "        - риск убытков: 8.0 %\n",
    "        \n",
    "        \n",
    "В рамках исследования рассмотрены три региона, так:\n",
    "- разработка реиона 1 является менее перспективной, однако расчитанная средняя прибыль для данного региона сопоставима с средней прибылью для региона 2.\n",
    "- разработка реиона 2 является наиболее прогнозируемой и сопряжена с меньшими рисками. Так же для данного региона расчитана наибольшая средняя прибыль.\n",
    "- разработка региона 3 допустима, однако сопряжена с большим уровнем риска. Так же стоит отметить, что не смотря на большие запасы 200 наиболее перспективных скважин, расчетная средняя прибыль для данного региона меньше чем для региона 2.\n",
    "\n",
    "**вывод**\n",
    "\n",
    "при принятии решения о длительном проекте (в отсутствии в регионе конкурирующих организаций) наиболее перспективным регионом согласно расчетам является регион 2.\n",
    "\n",
    "при принятии решения о реализации проекта на части скважин (например в случае наличия конкурентов в регионе) и при возможности выбора наиболее перспективных скважин возможна организация добычи в регионе 3."
   ]
  },
  {
   "cell_type": "code",
   "execution_count": null,
   "id": "12376a80",
   "metadata": {},
   "outputs": [],
   "source": []
  }
 ],
 "metadata": {
  "kernelspec": {
   "display_name": "Python 3",
   "language": "python",
   "name": "python3"
  },
  "language_info": {
   "codemirror_mode": {
    "name": "ipython",
    "version": 3
   },
   "file_extension": ".py",
   "mimetype": "text/x-python",
   "name": "python",
   "nbconvert_exporter": "python",
   "pygments_lexer": "ipython3",
   "version": "3.7.12"
  },
  "toc": {
   "base_numbering": 1,
   "nav_menu": {},
   "number_sections": true,
   "sideBar": true,
   "skip_h1_title": true,
   "title_cell": "Содержание",
   "title_sidebar": "Содержание",
   "toc_cell": true,
   "toc_position": {
    "height": "calc(100% - 180px)",
    "left": "10px",
    "top": "150px",
    "width": "480px"
   },
   "toc_section_display": true,
   "toc_window_display": true
  }
 },
 "nbformat": 4,
 "nbformat_minor": 5
}
