{
 "cells": [
  {
   "cell_type": "markdown",
   "id": "4eb4fe3c",
   "metadata": {
    "toc": true
   },
   "source": [
    "<h1>Содержание<span class=\"tocSkip\"></span></h1>\n",
    "<div class=\"toc\"><ul class=\"toc-item\"><li><span><a href=\"#Функции-и-библиотеки\" data-toc-modified-id=\"Функции-и-библиотеки-1\"><span class=\"toc-item-num\">1&nbsp;&nbsp;</span>Функции и библиотеки</a></span></li><li><span><a href=\"#Обзор-данных\" data-toc-modified-id=\"Обзор-данных-2\"><span class=\"toc-item-num\">2&nbsp;&nbsp;</span>Обзор данных</a></span></li><li><span><a href=\"#Разделение-исходных-данные-на-обучающую,-валидационную-и-тестовую-выборки\" data-toc-modified-id=\"Разделение-исходных-данные-на-обучающую,-валидационную-и-тестовую-выборки-3\"><span class=\"toc-item-num\">3&nbsp;&nbsp;</span>Разделение исходных данные на обучающую, валидационную и тестовую выборки</a></span></li><li><span><a href=\"#Исследование-качества-разных-моделей\" data-toc-modified-id=\"Исследование-качества-разных-моделей-4\"><span class=\"toc-item-num\">4&nbsp;&nbsp;</span>Исследование качества разных моделей</a></span><ul class=\"toc-item\"><li><span><a href=\"#модель-&quot;Решающее-дерево&quot;\" data-toc-modified-id=\"модель-&quot;Решающее-дерево&quot;-4.1\"><span class=\"toc-item-num\">4.1&nbsp;&nbsp;</span>модель \"Решающее дерево\"</a></span></li><li><span><a href=\"#модель-&quot;Случайный-лес&quot;\" data-toc-modified-id=\"модель-&quot;Случайный-лес&quot;-4.2\"><span class=\"toc-item-num\">4.2&nbsp;&nbsp;</span>модель \"Случайный лес\"</a></span></li><li><span><a href=\"#модель-&quot;Логистическая-регрессия&quot;\" data-toc-modified-id=\"модель-&quot;Логистическая-регрессия&quot;-4.3\"><span class=\"toc-item-num\">4.3&nbsp;&nbsp;</span>модель \"Логистическая регрессия\"</a></span><ul class=\"toc-item\"><li><span><a href=\"#Влияние-параметров-на-качество-моделирования\" data-toc-modified-id=\"Влияние-параметров-на-качество-моделирования-4.3.1\"><span class=\"toc-item-num\">4.3.1&nbsp;&nbsp;</span>Влияние параметров на качество моделирования</a></span></li></ul></li></ul></li><li><span><a href=\"#Проверка-качества-модели\" data-toc-modified-id=\"Проверка-качества-модели-5\"><span class=\"toc-item-num\">5&nbsp;&nbsp;</span>Проверка качества модели</a></span></li><li><span><a href=\"#Заключение\" data-toc-modified-id=\"Заключение-6\"><span class=\"toc-item-num\">6&nbsp;&nbsp;</span>Заключение</a></span></li></ul></div>"
   ]
  },
  {
   "cell_type": "markdown",
   "id": "f24b1fbe",
   "metadata": {},
   "source": [
    "# Анализ поведения клиентов телеком-компании"
   ]
  },
  {
   "cell_type": "markdown",
   "id": "2ab7226d",
   "metadata": {},
   "source": [
    "**Входные данные** —  данные пользователей телеком-компании «Мегалайн» за 2018 год (предобработанные).\n",
    "\n",
    "**Дальнейшее использование результатов исследования** — построение системы, способной проанализировать поведение клиентов и предложить пользователям новый тариф: «Смарт» или «Ультра».\n",
    "\n",
    "**Цель исследования** \n",
    "1. Построение модели со значением accuracy больше либо равной 0.75. \n",
    "\n",
    "2. Проверка accuracy на тестовой выборке \n"
   ]
  },
  {
   "cell_type": "markdown",
   "id": "becd5c8c",
   "metadata": {},
   "source": [
    "## Функции и библиотеки"
   ]
  },
  {
   "cell_type": "code",
   "execution_count": 1,
   "id": "747bf62c",
   "metadata": {},
   "outputs": [],
   "source": [
    "import pandas as pd\n",
    "\n",
    "from sklearn.tree import DecisionTreeClassifier\n",
    "\n",
    "from sklearn.ensemble import RandomForestClassifier\n",
    "\n",
    "from sklearn.linear_model import LogisticRegression \n",
    "\n",
    "from sklearn.model_selection import train_test_split\n",
    "\n",
    "from sklearn.metrics import mean_squared_error\n",
    "\n",
    "from sklearn.metrics import accuracy_score\n",
    "\n",
    "import warnings\n",
    "warnings.filterwarnings('ignore', category=DeprecationWarning)"
   ]
  },
  {
   "cell_type": "markdown",
   "id": "5d80a0be",
   "metadata": {},
   "source": [
    "## Обзор данных"
   ]
  },
  {
   "cell_type": "markdown",
   "id": "2a851210",
   "metadata": {},
   "source": [
    "**Описание данных**\n",
    "\n",
    "Каждый объект в наборе данных — информация о поведении одного пользователя за месяц. Известно:\n",
    "- сalls — количество звонков,\n",
    "- minutes — суммарная длительность звонков в минутах,\n",
    "- messages — количество sms-сообщений,\n",
    "- mb_used — израсходованный интернет-трафик в Мб,\n",
    "- is_ultra — каким тарифом пользовался в течение месяца («Ультра» — 1, «Смарт» — 0)."
   ]
  },
  {
   "cell_type": "code",
   "execution_count": 2,
   "id": "ffdace1e",
   "metadata": {},
   "outputs": [],
   "source": [
    "try:\n",
    "    df = pd.read_csv ('D:/Data for projects/users_behavior.csv')\n",
    "\n",
    "except: #метод try/except применяется для открытия блокнота по адресу Практикума\n",
    "    df = pd.read_csv ('/datasets/users_behavior.csv')"
   ]
  },
  {
   "cell_type": "code",
   "execution_count": 3,
   "id": "d6aa84d9",
   "metadata": {},
   "outputs": [
    {
     "name": "stdout",
     "output_type": "stream",
     "text": [
      "<class 'pandas.core.frame.DataFrame'>\n",
      "RangeIndex: 3214 entries, 0 to 3213\n",
      "Data columns (total 5 columns):\n",
      "calls       3214 non-null float64\n",
      "minutes     3214 non-null float64\n",
      "messages    3214 non-null float64\n",
      "mb_used     3214 non-null float64\n",
      "is_ultra    3214 non-null int64\n",
      "dtypes: float64(4), int64(1)\n",
      "memory usage: 125.7 KB\n"
     ]
    }
   ],
   "source": [
    "df.info()"
   ]
  },
  {
   "cell_type": "code",
   "execution_count": 4,
   "id": "027edb7c",
   "metadata": {},
   "outputs": [
    {
     "data": {
      "text/plain": [
       "calls        184\n",
       "minutes     3142\n",
       "messages     180\n",
       "mb_used     3203\n",
       "is_ultra       2\n",
       "dtype: int64"
      ]
     },
     "execution_count": 4,
     "metadata": {},
     "output_type": "execute_result"
    }
   ],
   "source": [
    "df.nunique()"
   ]
  },
  {
   "cell_type": "code",
   "execution_count": 5,
   "id": "77ad15a7",
   "metadata": {},
   "outputs": [
    {
     "data": {
      "text/plain": [
       "0    2229\n",
       "1     985\n",
       "Name: is_ultra, dtype: int64"
      ]
     },
     "execution_count": 5,
     "metadata": {},
     "output_type": "execute_result"
    }
   ],
   "source": [
    "df['is_ultra'].value_counts() #оценим достаточность разнообразия данных для обучения"
   ]
  },
  {
   "cell_type": "markdown",
   "id": "40ac72aa",
   "metadata": {},
   "source": [
    "<div style=\"border:solid blue 2px; padding: 20px\">\n",
    "\n",
    "Качество представленных данных позволяет использовать их без проведения предобработки\n",
    "    \n",
    "вызывает сомнение достаточность объема данных (при не достаточном объеме данных выделение валидационной выборки за счет данных для обучения негативно скажется на качестве обучения модели)"
   ]
  },
  {
   "cell_type": "markdown",
   "id": "10eeb5db",
   "metadata": {},
   "source": [
    "## Разделение исходных данные на обучающую, валидационную и тестовую выборки"
   ]
  },
  {
   "cell_type": "code",
   "execution_count": 6,
   "id": "63eaa2df",
   "metadata": {},
   "outputs": [],
   "source": [
    "features = df.drop('is_ultra',axis=1) # признаки \n",
    "target = df['is_ultra'] # целевой признак"
   ]
  },
  {
   "cell_type": "code",
   "execution_count": 7,
   "id": "ffdd27bf",
   "metadata": {},
   "outputs": [],
   "source": [
    "features, features_test, target, target_test = train_test_split(\n",
    "    features, target, test_size=0.20, random_state=404) #выделение тестовой выборки"
   ]
  },
  {
   "cell_type": "code",
   "execution_count": 8,
   "id": "1ac80b8a",
   "metadata": {},
   "outputs": [],
   "source": [
    "features_train, features_valid, target_train, target_valid = train_test_split(\n",
    "    features, target, test_size=0.25, random_state=404) #выделение обучающей и валидационной выборки"
   ]
  },
  {
   "cell_type": "code",
   "execution_count": 9,
   "id": "4672fa09",
   "metadata": {},
   "outputs": [
    {
     "name": "stdout",
     "output_type": "stream",
     "text": [
      "(1928, 4)\n",
      "(643, 4)\n",
      "(643, 4)\n",
      "(1928,)\n",
      "(643,)\n",
      "(643,)\n"
     ]
    }
   ],
   "source": [
    "print(features_train.shape)\n",
    "print(features_valid.shape)\n",
    "print(features_test.shape)\n",
    "print(target_train.shape)\n",
    "print(target_valid.shape)\n",
    "print(target_test.shape)"
   ]
  },
  {
   "cell_type": "markdown",
   "id": "9502984f",
   "metadata": {},
   "source": [
    "## Исследование качества разных моделей"
   ]
  },
  {
   "cell_type": "markdown",
   "id": "b37a0148",
   "metadata": {},
   "source": [
    "### модель \"Решающее дерево\""
   ]
  },
  {
   "cell_type": "code",
   "execution_count": 32,
   "id": "18324694",
   "metadata": {},
   "outputs": [
    {
     "name": "stdout",
     "output_type": "stream",
     "text": [
      "Accuracy наилучшей модели : 0.7838, max_depth = 3\n"
     ]
    }
   ],
   "source": [
    "best_model_tree = None\n",
    "best_result_tree = 0\n",
    "depth = 0\n",
    "\n",
    "for _ in range(1,30):\n",
    "    model = DecisionTreeClassifier(random_state=404, max_depth=_)\n",
    "    model.fit(features_train, target_train) # обучение модели\n",
    "    predictions = model.predict(features_valid) \n",
    "    \n",
    "    accuracy = accuracy_score(target_valid, predictions) # расчет качества модели\n",
    "    \n",
    "    if accuracy > best_result_tree:\n",
    "        best_model_tree = model # сохранение наилучшей модели\n",
    "        best_result_tree = accuracy #  сохранение наилучшего значения метрики accuracy\n",
    "        depth = _ # сохранение глубины лучшей модели\n",
    "\n",
    "print(f'Accuracy наилучшей модели : {round(best_result_tree,4)}, max_depth = {depth}')"
   ]
  },
  {
   "cell_type": "markdown",
   "id": "39845acc",
   "metadata": {},
   "source": [
    "<div style=\"border:solid blue 2px; padding: 20px\">\n",
    "\n",
    "оптимальная точность модели достигается при глубине 3, точность соответствует заявленнй в ТЗ (>0.75)"
   ]
  },
  {
   "cell_type": "markdown",
   "id": "1ffeeb1b",
   "metadata": {},
   "source": [
    "### модель \"Случайный лес\""
   ]
  },
  {
   "cell_type": "code",
   "execution_count": 31,
   "id": "97a5c3f5",
   "metadata": {},
   "outputs": [
    {
     "name": "stdout",
     "output_type": "stream",
     "text": [
      "Accuracy наилучшей модели: 0.7963, кол-во деревьев: 29\n"
     ]
    }
   ],
   "source": [
    "best_model_forest = None\n",
    "best_result_forest = 0\n",
    "n_estimators = 0\n",
    "\n",
    "for _ in range(1, 100):\n",
    "    model = RandomForestClassifier(random_state=404, n_estimators=_) \n",
    "    model.fit(features_train,target_train) # обучение модели\n",
    "    predictions = model.predict(features_valid)\n",
    "    accuracy = accuracy_score(predictions, target_valid) # расчет качества модели\n",
    "    \n",
    "    if accuracy > best_result_forest:\n",
    "        best_model_forest = model # сохранение наилучшей модели\n",
    "        best_result_forest = accuracy #  сохранение наилучшего значения метрики accuracy\n",
    "        n_estimators = _ # сохранение количества деревьев лучшей модели\n",
    "\n",
    "print(f'Accuracy наилучшей модели: {round(best_result_forest,4)}, кол-во деревьев: {n_estimators}')"
   ]
  },
  {
   "cell_type": "markdown",
   "id": "f8e9fdb2",
   "metadata": {},
   "source": [
    "<div style=\"border:solid blue 2px; padding: 20px\">\n",
    "\n",
    "оптимальная точность модели достигается при количестве деревьев 29, точность соответствует заявленнй в ТЗ (>0.75)"
   ]
  },
  {
   "cell_type": "markdown",
   "id": "e7ab871b",
   "metadata": {},
   "source": [
    "### модель \"Логистическая регрессия\""
   ]
  },
  {
   "cell_type": "code",
   "execution_count": 34,
   "id": "0bee490f",
   "metadata": {},
   "outputs": [
    {
     "name": "stderr",
     "output_type": "stream",
     "text": [
      "D:\\Anaconda\\envs\\praktikum_env\\lib\\site-packages\\sklearn\\linear_model\\logistic.py:947: ConvergenceWarning: lbfgs failed to converge. Increase the number of iterations.\n",
      "  \"of iterations.\", ConvergenceWarning)\n",
      "D:\\Anaconda\\envs\\praktikum_env\\lib\\site-packages\\sklearn\\linear_model\\logistic.py:947: ConvergenceWarning: lbfgs failed to converge. Increase the number of iterations.\n",
      "  \"of iterations.\", ConvergenceWarning)\n",
      "D:\\Anaconda\\envs\\praktikum_env\\lib\\site-packages\\sklearn\\linear_model\\logistic.py:947: ConvergenceWarning: lbfgs failed to converge. Increase the number of iterations.\n",
      "  \"of iterations.\", ConvergenceWarning)\n",
      "D:\\Anaconda\\envs\\praktikum_env\\lib\\site-packages\\sklearn\\linear_model\\logistic.py:947: ConvergenceWarning: lbfgs failed to converge. Increase the number of iterations.\n",
      "  \"of iterations.\", ConvergenceWarning)\n",
      "D:\\Anaconda\\envs\\praktikum_env\\lib\\site-packages\\sklearn\\linear_model\\logistic.py:947: ConvergenceWarning: lbfgs failed to converge. Increase the number of iterations.\n",
      "  \"of iterations.\", ConvergenceWarning)\n",
      "D:\\Anaconda\\envs\\praktikum_env\\lib\\site-packages\\sklearn\\linear_model\\logistic.py:947: ConvergenceWarning: lbfgs failed to converge. Increase the number of iterations.\n",
      "  \"of iterations.\", ConvergenceWarning)\n",
      "D:\\Anaconda\\envs\\praktikum_env\\lib\\site-packages\\sklearn\\linear_model\\logistic.py:947: ConvergenceWarning: lbfgs failed to converge. Increase the number of iterations.\n",
      "  \"of iterations.\", ConvergenceWarning)\n",
      "D:\\Anaconda\\envs\\praktikum_env\\lib\\site-packages\\sklearn\\linear_model\\logistic.py:947: ConvergenceWarning: lbfgs failed to converge. Increase the number of iterations.\n",
      "  \"of iterations.\", ConvergenceWarning)\n"
     ]
    },
    {
     "name": "stdout",
     "output_type": "stream",
     "text": [
      "Accuracy наилучшей модели: 0.7278, количество иттераций: 71\n"
     ]
    }
   ],
   "source": [
    "best_model_log_reg = None\n",
    "best_result_log_reg = 0\n",
    "max_iter_ = 0\n",
    "\n",
    "for _ in range(1,150,10):\n",
    "    model = LogisticRegression(random_state=404, solver='lbfgs', max_iter=_) \n",
    "    model.fit(features_train,target_train) # обучение модели\n",
    "    predictions = model.predict(features_valid)\n",
    "    accuracy = accuracy_score(predictions, target_valid) # расчет качества модели\n",
    "    \n",
    "    if accuracy > best_result_log_reg:\n",
    "        best_model_log_reg = model # сохранение наилучшей модели\n",
    "        best_result_log_reg = accuracy #  сохранение наилучшего значения метрики accuracy\n",
    "        max_iter_ = _ # сохранение количества иттераций лучшей модели\n",
    "\n",
    "print(f'Accuracy наилучшей модели: {round(best_result_log_reg,4)}, количество иттераций: {max_iter_}')"
   ]
  },
  {
   "cell_type": "markdown",
   "id": "0c776fcb",
   "metadata": {},
   "source": [
    "<div style=\"border:solid blue 2px; padding: 20px\">\n",
    "\n",
    "оптимальная точность модели достигается при количестве иттераций 71, точность соответствует заявленнй в ТЗ (=0.75)"
   ]
  },
  {
   "cell_type": "markdown",
   "id": "0f28dbff",
   "metadata": {},
   "source": [
    "#### Влияние параметров на качество моделирования"
   ]
  },
  {
   "cell_type": "markdown",
   "id": "ed62e843",
   "metadata": {},
   "source": [
    "Рассмотрим возможность повышения качества модели \"Логистическая регрессия\" за счет обучения ее на обогащенных данных\n",
    "\n",
    "Выбор модели для исследования основан на предположении о том, что информация о ценах за прерасходованные минуты, сообщения и траффик позволит модели лучше определить прогнозируемые веса"
   ]
  },
  {
   "cell_type": "code",
   "execution_count": 13,
   "id": "329dba2f",
   "metadata": {},
   "outputs": [],
   "source": [
    "df_check = df.copy()"
   ]
  },
  {
   "cell_type": "markdown",
   "id": "05a28234",
   "metadata": {},
   "source": [
    "возьмем данные о тарифах из предыдущего кейса"
   ]
  },
  {
   "cell_type": "code",
   "execution_count": 14,
   "id": "760a898e",
   "metadata": {},
   "outputs": [],
   "source": [
    "tariffs = pd.DataFrame(columns=['messages_included', \n",
    "                                'mb_per_month_included', \n",
    "                                'minutes_included',\n",
    "                                'rub_monthly_fee', \n",
    "                                'rub_per_gb', \n",
    "                                'rub_per_message', \n",
    "                                'rub_per_minute',\n",
    "                                'tariff_name'])\n",
    "tariffs.loc[0,:] = [50, 15360, 500, 550, 200, 3, 3, 'smart']\n",
    "tariffs.loc[1,:] = [1000, 30720, 3000, 1950, 150, 1, 1, 'ultra']"
   ]
  },
  {
   "cell_type": "markdown",
   "id": "44fd2f4f",
   "metadata": {},
   "source": [
    "рассчитаем переплату пользователей за перерасход минут, сообщений и интернет трафика\n",
    "\n",
    "**при расчете взяты данные тарифа Smart, по скольку в рамках задачи требуется выявить пользователей которым может быть интересен тариф Ultra**, предположим что данным пользователям условия тарифа Smart не достаточны"
   ]
  },
  {
   "cell_type": "code",
   "execution_count": 15,
   "id": "549cce2d",
   "metadata": {},
   "outputs": [],
   "source": [
    "df_check.loc[:,'minutes_payment'] = (df_check['minutes'] - tariffs.loc[0,'minutes_included']).clip(lower=0) * tariffs.loc[0,'rub_per_minute']\n",
    "df_check.loc[:,'messages_payment'] = (df_check['messages'] - tariffs.loc[0,'messages_included']).clip(lower=0) * tariffs.loc[0,'rub_per_message']\n",
    "df_check.loc[:,'mb_payment'] = round((df_check['mb_used'] - tariffs.loc[0,'mb_per_month_included']).clip(lower=0)/1024) * tariffs.loc[0,'rub_per_gb'] "
   ]
  },
  {
   "cell_type": "markdown",
   "id": "d9677c97",
   "metadata": {},
   "source": [
    "рассчитаем общие затраты пользователей (сложив переплату)"
   ]
  },
  {
   "cell_type": "code",
   "execution_count": 16,
   "id": "38e6f8bc",
   "metadata": {},
   "outputs": [],
   "source": [
    "df_check['total_cost'] = df_check['minutes_payment'] + df_check['messages_payment'] + df_check['mb_payment'] "
   ]
  },
  {
   "cell_type": "markdown",
   "id": "49d5ffce",
   "metadata": {},
   "source": [
    "разделим данные на обучающую, валидационную и тестовую выборку"
   ]
  },
  {
   "cell_type": "code",
   "execution_count": 17,
   "id": "1ab80ee4",
   "metadata": {},
   "outputs": [],
   "source": [
    "features_check =  df_check.drop(['is_ultra'],axis=1)  #.drop(['minutes', 'messages', 'mb_used', 'is_ultra','minutes_payment','messages_payment','mb_payment'],axis=1) # признаки\n",
    "target_check = df_check['is_ultra'] # целевой признак"
   ]
  },
  {
   "cell_type": "code",
   "execution_count": 18,
   "id": "5f16a665",
   "metadata": {},
   "outputs": [],
   "source": [
    "features_check, features_test_check, target_check, target_test_check = train_test_split(\n",
    "    features_check, target_check, test_size=0.20, random_state=404)\n",
    "\n",
    "features_train_check, features_valid_check, target_train_check, target_valid_check = train_test_split(\n",
    "    features_check, target_check, test_size=0.25, random_state=404)"
   ]
  },
  {
   "cell_type": "markdown",
   "id": "6d619cb0",
   "metadata": {},
   "source": [
    "проверим качество работы модели \"Логистическая регрессия\" на обогащенных данных"
   ]
  },
  {
   "cell_type": "code",
   "execution_count": 35,
   "id": "9864e384",
   "metadata": {},
   "outputs": [
    {
     "name": "stderr",
     "output_type": "stream",
     "text": [
      "D:\\Anaconda\\envs\\praktikum_env\\lib\\site-packages\\sklearn\\linear_model\\logistic.py:947: ConvergenceWarning: lbfgs failed to converge. Increase the number of iterations.\n",
      "  \"of iterations.\", ConvergenceWarning)\n",
      "D:\\Anaconda\\envs\\praktikum_env\\lib\\site-packages\\sklearn\\linear_model\\logistic.py:947: ConvergenceWarning: lbfgs failed to converge. Increase the number of iterations.\n",
      "  \"of iterations.\", ConvergenceWarning)\n",
      "D:\\Anaconda\\envs\\praktikum_env\\lib\\site-packages\\sklearn\\linear_model\\logistic.py:947: ConvergenceWarning: lbfgs failed to converge. Increase the number of iterations.\n",
      "  \"of iterations.\", ConvergenceWarning)\n",
      "D:\\Anaconda\\envs\\praktikum_env\\lib\\site-packages\\sklearn\\linear_model\\logistic.py:947: ConvergenceWarning: lbfgs failed to converge. Increase the number of iterations.\n",
      "  \"of iterations.\", ConvergenceWarning)\n",
      "D:\\Anaconda\\envs\\praktikum_env\\lib\\site-packages\\sklearn\\linear_model\\logistic.py:947: ConvergenceWarning: lbfgs failed to converge. Increase the number of iterations.\n",
      "  \"of iterations.\", ConvergenceWarning)\n",
      "D:\\Anaconda\\envs\\praktikum_env\\lib\\site-packages\\sklearn\\linear_model\\logistic.py:947: ConvergenceWarning: lbfgs failed to converge. Increase the number of iterations.\n",
      "  \"of iterations.\", ConvergenceWarning)\n",
      "D:\\Anaconda\\envs\\praktikum_env\\lib\\site-packages\\sklearn\\linear_model\\logistic.py:947: ConvergenceWarning: lbfgs failed to converge. Increase the number of iterations.\n",
      "  \"of iterations.\", ConvergenceWarning)\n",
      "D:\\Anaconda\\envs\\praktikum_env\\lib\\site-packages\\sklearn\\linear_model\\logistic.py:947: ConvergenceWarning: lbfgs failed to converge. Increase the number of iterations.\n",
      "  \"of iterations.\", ConvergenceWarning)\n"
     ]
    },
    {
     "name": "stdout",
     "output_type": "stream",
     "text": [
      "Accuracy наилучшей модели: 0.7807, количество иттераций: 21\n"
     ]
    }
   ],
   "source": [
    "best_result_check_log_reg = 0\n",
    "max_iter_ = 0\n",
    "\n",
    "for _ in range(1,150,10):\n",
    "    model = LogisticRegression(random_state=404, solver='lbfgs', max_iter=_)\n",
    "    model.fit(features_train_check, target_train_check) # обучение модели\n",
    "    predictions = model.predict(features_valid_check) \n",
    "    \n",
    "    accuracy = accuracy_score(target_valid_check, predictions) # расчет качества модели\n",
    "    \n",
    "    if accuracy > best_result_check_log_reg:\n",
    "        best_result_check_log_reg = accuracy #  сохранение наилучшего значения метрики accuracy\n",
    "        max_iter_ = _ # сохранение количества иттераций лучшей модели\n",
    "\n",
    "print(f'Accuracy наилучшей модели: {round(best_result_check_log_reg,4)}, количество иттераций: {max_iter_}')"
   ]
  },
  {
   "cell_type": "markdown",
   "id": "405223e2",
   "metadata": {},
   "source": [
    "<div style=\"border:solid blue 2px; padding: 20px\">\n",
    "\n",
    "оптимальная точность модели достигается при количестве иттераций 21, точность соответствует заявленнй в ТЗ (=0.75) и **превосходит точность модели, обученной на исходных данных на 5%**"
   ]
  },
  {
   "cell_type": "markdown",
   "id": "932ee518",
   "metadata": {},
   "source": [
    "## Проверка качества модели"
   ]
  },
  {
   "cell_type": "markdown",
   "id": "b933ca79",
   "metadata": {},
   "source": [
    "Исследуем зависимость качества моделей от гиперпараметров (на валидационной выборке) "
   ]
  },
  {
   "cell_type": "code",
   "execution_count": 20,
   "id": "4b96fbd0",
   "metadata": {},
   "outputs": [],
   "source": [
    "result_tree = pd.DataFrame(columns=['accuracy'])\n",
    "\n",
    "for _ in range(1,30):\n",
    "    model = DecisionTreeClassifier(random_state=404, max_depth=_)\n",
    "    model.fit(features_train, target_train) # обучение модели\n",
    "    predictions = model.predict(features_valid) \n",
    "    \n",
    "    accuracy = accuracy_score(target_valid, predictions) # расчет качества модели\n",
    "     \n",
    "    result_tree.loc[_,'accuracy'] = accuracy"
   ]
  },
  {
   "cell_type": "code",
   "execution_count": 21,
   "id": "f0f853b5",
   "metadata": {},
   "outputs": [],
   "source": [
    "result_forest = pd.DataFrame(columns=['accuracy'])\n",
    "\n",
    "for _ in range(1,40):\n",
    "    model = RandomForestClassifier(random_state=404, n_estimators=_)\n",
    "    model.fit(features_train, target_train) # обучение модели\n",
    "    predictions = model.predict(features_valid) \n",
    "    \n",
    "    accuracy = accuracy_score(target_valid, predictions) # расчет качества модели\n",
    "     \n",
    "    result_forest.loc[_,'accuracy'] = accuracy"
   ]
  },
  {
   "cell_type": "code",
   "execution_count": 22,
   "id": "026410f8",
   "metadata": {},
   "outputs": [
    {
     "name": "stderr",
     "output_type": "stream",
     "text": [
      "D:\\Anaconda\\envs\\praktikum_env\\lib\\site-packages\\sklearn\\linear_model\\logistic.py:947: ConvergenceWarning: lbfgs failed to converge. Increase the number of iterations.\n",
      "  \"of iterations.\", ConvergenceWarning)\n",
      "D:\\Anaconda\\envs\\praktikum_env\\lib\\site-packages\\sklearn\\linear_model\\logistic.py:947: ConvergenceWarning: lbfgs failed to converge. Increase the number of iterations.\n",
      "  \"of iterations.\", ConvergenceWarning)\n",
      "D:\\Anaconda\\envs\\praktikum_env\\lib\\site-packages\\sklearn\\linear_model\\logistic.py:947: ConvergenceWarning: lbfgs failed to converge. Increase the number of iterations.\n",
      "  \"of iterations.\", ConvergenceWarning)\n",
      "D:\\Anaconda\\envs\\praktikum_env\\lib\\site-packages\\sklearn\\linear_model\\logistic.py:947: ConvergenceWarning: lbfgs failed to converge. Increase the number of iterations.\n",
      "  \"of iterations.\", ConvergenceWarning)\n",
      "D:\\Anaconda\\envs\\praktikum_env\\lib\\site-packages\\sklearn\\linear_model\\logistic.py:947: ConvergenceWarning: lbfgs failed to converge. Increase the number of iterations.\n",
      "  \"of iterations.\", ConvergenceWarning)\n",
      "D:\\Anaconda\\envs\\praktikum_env\\lib\\site-packages\\sklearn\\linear_model\\logistic.py:947: ConvergenceWarning: lbfgs failed to converge. Increase the number of iterations.\n",
      "  \"of iterations.\", ConvergenceWarning)\n",
      "D:\\Anaconda\\envs\\praktikum_env\\lib\\site-packages\\sklearn\\linear_model\\logistic.py:947: ConvergenceWarning: lbfgs failed to converge. Increase the number of iterations.\n",
      "  \"of iterations.\", ConvergenceWarning)\n",
      "D:\\Anaconda\\envs\\praktikum_env\\lib\\site-packages\\sklearn\\linear_model\\logistic.py:947: ConvergenceWarning: lbfgs failed to converge. Increase the number of iterations.\n",
      "  \"of iterations.\", ConvergenceWarning)\n"
     ]
    }
   ],
   "source": [
    "result_log_reg = pd.DataFrame(columns=['accuracy'])\n",
    "\n",
    "for _ in range(1,150,10):\n",
    "    model = LogisticRegression(random_state=12345, solver='lbfgs', max_iter=_)\n",
    "    model.fit(features_train, target_train) # обучение модели\n",
    "    predictions = model.predict(features_valid) \n",
    "    \n",
    "    accuracy = accuracy_score(target_valid, predictions) # расчет качества модели\n",
    "     \n",
    "    result_log_reg.loc[_,'accuracy'] = accuracy"
   ]
  },
  {
   "cell_type": "code",
   "execution_count": 23,
   "id": "e914f66d",
   "metadata": {},
   "outputs": [
    {
     "data": {
      "text/plain": [
       "Text(0.5, 0, 'кол-во итераций')"
      ]
     },
     "execution_count": 23,
     "metadata": {},
     "output_type": "execute_result"
    },
    {
     "data": {
      "image/png": "[encoded data removed]",
      "text/plain": [
       "<Figure size 1080x360 with 1 Axes>"
      ]
     },
     "metadata": {
      "needs_background": "light"
     },
     "output_type": "display_data"
    },
    {
     "data": {
      "image/png": "[encoded data removed]",
      "text/plain": [
       "<Figure size 1080x360 with 1 Axes>"
      ]
     },
     "metadata": {
      "needs_background": "light"
     },
     "output_type": "display_data"
    },
    {
     "data": {
      "image/png": "[encoded data removed]",
      "text/plain": [
       "<Figure size 1080x360 with 1 Axes>"
      ]
     },
     "metadata": {
      "needs_background": "light"
     },
     "output_type": "display_data"
    }
   ],
   "source": [
    "result_tree.plot(style='o-',\n",
    "                 grid=True,\n",
    "                figsize=(15,5),\n",
    "                title='Зависимость качества модели Решающее дерево от гиперпараметров').set_xlabel('глубина')\n",
    "\n",
    "result_forest.plot(grid=True,\n",
    "                  figsize=(15,5),\n",
    "                  title='Зависимость качества модели Случайный лес от гиперпараметров').set_xlabel('кол-во деревьев')\n",
    "\n",
    "result_log_reg.plot(grid=True,\n",
    "                  figsize=(15,5),\n",
    "                   title='Зависимость качества модели Логистическая регрессия от гиперпараметров').set_xlabel('кол-во итераций')"
   ]
  },
  {
   "cell_type": "markdown",
   "id": "a3792391",
   "metadata": {},
   "source": [
    "<div style=\"border:solid blue 2px; padding: 20px\">\n",
    "\n",
    "на графиках представлена зависимость точности от гиперпараметров моделей"
   ]
  },
  {
   "cell_type": "markdown",
   "id": "67ad6e40",
   "metadata": {},
   "source": [
    "Проверим качество моделей на тестовых данных"
   ]
  },
  {
   "cell_type": "code",
   "execution_count": 24,
   "id": "d1074f41",
   "metadata": {},
   "outputs": [
    {
     "data": {
      "text/plain": [
       "0.8072"
      ]
     },
     "execution_count": 24,
     "metadata": {},
     "output_type": "execute_result"
    }
   ],
   "source": [
    "predictions = best_model_tree.predict(features_test)\n",
    "\n",
    "round(accuracy_score(target_test, predictions),4)"
   ]
  },
  {
   "cell_type": "code",
   "execution_count": 25,
   "id": "9d561304",
   "metadata": {},
   "outputs": [
    {
     "data": {
      "text/plain": [
       "0.8149"
      ]
     },
     "execution_count": 25,
     "metadata": {},
     "output_type": "execute_result"
    }
   ],
   "source": [
    "predictions = best_model_forest.predict(features_test)\n",
    "\n",
    "round(accuracy_score(target_test, predictions),4)"
   ]
  },
  {
   "cell_type": "code",
   "execution_count": 26,
   "id": "4554fe17",
   "metadata": {},
   "outputs": [
    {
     "data": {
      "text/plain": [
       "0.7465"
      ]
     },
     "execution_count": 26,
     "metadata": {},
     "output_type": "execute_result"
    }
   ],
   "source": [
    "predictions = best_model_log_reg.predict(features_test)\n",
    "\n",
    "round(accuracy_score(target_test, predictions),4)"
   ]
  },
  {
   "cell_type": "markdown",
   "id": "8bc75395",
   "metadata": {},
   "source": [
    "## Заключение"
   ]
  },
  {
   "cell_type": "markdown",
   "id": "595398ec",
   "metadata": {},
   "source": [
    "В рамках настоящего исследования:\n",
    "\n",
    "- проведено обучение моделей \"Решающее дерево\", \"Случайный лес\", \"Логистическая регрессия\"\n",
    "- исследовано качество обученных моделей для разных гиперпараметров. Показатели точности моделей:\n",
    "    - \"Решающее дерево\" (Accuracy наилучшей модели : 0.8072, max_depth = 3)  \n",
    "    - \"Случайный лес\" (Accuracy наилучшей модели: 0.8149, кол-во деревьев: 29)\n",
    "    - \"Логистическая регрессия\" (Accuracy наилучшей модели: 0.7465, количество иттераций: 71)\n",
    "- исследована возможность повышения качества модели \"Логистическая регрессия\" за счет обучения ее на обогащенных данных. Показатели точности модели:\n",
    "    - Accuracy наилучшей модели : 0.7807, количество иттераций: 21\n",
    "    \n",
    "       \n",
    "**По результатам исследования выявлена возможность повышения качества предсказаний модели \"Логистическая регрессия\" за счет обогащения данных (78% правильных результатов по сравнению с 74,6%) на фоне снижения количества иттераций**\n",
    "\n",
    "Так же стоит отметить, что не смотря на то что данных достаточно для обучения, увеличение объема данных способно улучшить качество работы моделей"
   ]
  },
  {
   "cell_type": "code",
   "execution_count": null,
   "id": "e2960868",
   "metadata": {},
   "outputs": [],
   "source": []
  }
 ],
 "metadata": {
  "kernelspec": {
   "display_name": "Python 3",
   "language": "python",
   "name": "python3"
  },
  "language_info": {
   "codemirror_mode": {
    "name": "ipython",
    "version": 3
   },
   "file_extension": ".py",
   "mimetype": "text/x-python",
   "name": "python",
   "nbconvert_exporter": "python",
   "pygments_lexer": "ipython3",
   "version": "3.7.12"
  },
  "toc": {
   "base_numbering": 1,
   "nav_menu": {},
   "number_sections": true,
   "sideBar": true,
   "skip_h1_title": true,
   "title_cell": "Содержание",
   "title_sidebar": "Содержание",
   "toc_cell": true,
   "toc_position": {
    "height": "calc(100% - 180px)",
    "left": "10px",
    "top": "150px",
    "width": "384px"
   },
   "toc_section_display": true,
   "toc_window_display": true
  }
 },
 "nbformat": 4,
 "nbformat_minor": 5
}
