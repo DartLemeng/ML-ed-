{
 "cells": [
  {
   "cell_type": "markdown",
   "id": "86cd9314",
   "metadata": {
    "toc": true
   },
   "source": [
    "<h1>Содержание<span class=\"tocSkip\"></span></h1>\n",
    "<div class=\"toc\"><ul class=\"toc-item\"><li><span><a href=\"#Функции-и-библиотеки\" data-toc-modified-id=\"Функции-и-библиотеки-1\"><span class=\"toc-item-num\">1&nbsp;&nbsp;</span>Функции и библиотеки</a></span></li><li><span><a href=\"#Обзор-данных\" data-toc-modified-id=\"Обзор-данных-2\"><span class=\"toc-item-num\">2&nbsp;&nbsp;</span>Обзор данных</a></span></li><li><span><a href=\"#Предобработка-данных\" data-toc-modified-id=\"Предобработка-данных-3\"><span class=\"toc-item-num\">3&nbsp;&nbsp;</span>Предобработка данных</a></span><ul class=\"toc-item\"><li><span><a href=\"#Наименования-столбцов\" data-toc-modified-id=\"Наименования-столбцов-3.1\"><span class=\"toc-item-num\">3.1&nbsp;&nbsp;</span>Наименования столбцов</a></span></li><li><span><a href=\"#Дублирование-индекса\" data-toc-modified-id=\"Дублирование-индекса-3.2\"><span class=\"toc-item-num\">3.2&nbsp;&nbsp;</span>Дублирование индекса</a></span></li><li><span><a href=\"#Очистка-данных\" data-toc-modified-id=\"Очистка-данных-3.3\"><span class=\"toc-item-num\">3.3&nbsp;&nbsp;</span>Очистка данных</a></span></li><li><span><a href=\"#Обработка-пропусков\" data-toc-modified-id=\"Обработка-пропусков-3.4\"><span class=\"toc-item-num\">3.4&nbsp;&nbsp;</span>Обработка пропусков</a></span></li><li><span><a href=\"#Преобразование-категориальных-признаков-в-численные\" data-toc-modified-id=\"Преобразование-категориальных-признаков-в-численные-3.5\"><span class=\"toc-item-num\">3.5&nbsp;&nbsp;</span>Преобразование категориальных признаков в численные</a></span></li><li><span><a href=\"#Масштабирование-признаков\" data-toc-modified-id=\"Масштабирование-признаков-3.6\"><span class=\"toc-item-num\">3.6&nbsp;&nbsp;</span>Масштабирование признаков</a></span></li></ul></li><li><span><a href=\"#Разделение-исходных-данные-на-обучающую,-валидационную-и-тестовую-выборки\" data-toc-modified-id=\"Разделение-исходных-данные-на-обучающую,-валидационную-и-тестовую-выборки-4\"><span class=\"toc-item-num\">4&nbsp;&nbsp;</span>Разделение исходных данные на обучающую, валидационную и тестовую выборки</a></span><ul class=\"toc-item\"><li><span><a href=\"#Масштабирование-признаков\" data-toc-modified-id=\"Масштабирование-признаков-4.1\"><span class=\"toc-item-num\">4.1&nbsp;&nbsp;</span>Масштабирование признаков</a></span></li></ul></li><li><span><a href=\"#Обучение-модели\" data-toc-modified-id=\"Обучение-модели-5\"><span class=\"toc-item-num\">5&nbsp;&nbsp;</span>Обучение модели</a></span><ul class=\"toc-item\"><li><span><a href=\"#без-учета-дисбаланса\" data-toc-modified-id=\"без-учета-дисбаланса-5.1\"><span class=\"toc-item-num\">5.1&nbsp;&nbsp;</span>без учета дисбаланса</a></span></li><li><span><a href=\"#Устранение-дисбаланса\" data-toc-modified-id=\"Устранение-дисбаланса-5.2\"><span class=\"toc-item-num\">5.2&nbsp;&nbsp;</span>Устранение дисбаланса</a></span><ul class=\"toc-item\"><li><span><a href=\"#Увеличение-выборки\" data-toc-modified-id=\"Увеличение-выборки-5.2.1\"><span class=\"toc-item-num\">5.2.1&nbsp;&nbsp;</span>Увеличение выборки</a></span></li><li><span><a href=\"#Уменьшение-выборки\" data-toc-modified-id=\"Уменьшение-выборки-5.2.2\"><span class=\"toc-item-num\">5.2.2&nbsp;&nbsp;</span>Уменьшение выборки</a></span></li></ul></li><li><span><a href=\"#с-учетом-дисбаланса\" data-toc-modified-id=\"с-учетом-дисбаланса-5.3\"><span class=\"toc-item-num\">5.3&nbsp;&nbsp;</span>с учетом дисбаланса</a></span><ul class=\"toc-item\"><li><span><a href=\"#Для-увеличиной-выборки\" data-toc-modified-id=\"Для-увеличиной-выборки-5.3.1\"><span class=\"toc-item-num\">5.3.1&nbsp;&nbsp;</span>Для увеличиной выборки</a></span></li><li><span><a href=\"#Для-уменьшеной-выборки\" data-toc-modified-id=\"Для-уменьшеной-выборки-5.3.2\"><span class=\"toc-item-num\">5.3.2&nbsp;&nbsp;</span>Для уменьшеной выборки</a></span></li></ul></li><li><span><a href=\"#оптимизация-гиперпараметров-для-моделей-с-лучшими-показателями\" data-toc-modified-id=\"оптимизация-гиперпараметров-для-моделей-с-лучшими-показателями-5.4\"><span class=\"toc-item-num\">5.4&nbsp;&nbsp;</span>оптимизация гиперпараметров для моделей с лучшими показателями</a></span><ul class=\"toc-item\"><li><span><a href=\"#RandomForestClassifier-(увеличенная-выборка)\" data-toc-modified-id=\"RandomForestClassifier-(увеличенная-выборка)-5.4.1\"><span class=\"toc-item-num\">5.4.1&nbsp;&nbsp;</span>RandomForestClassifier (увеличенная выборка)</a></span></li><li><span><a href=\"#GradientBoostingClassifier-(увеличенная-выборка)\" data-toc-modified-id=\"GradientBoostingClassifier-(увеличенная-выборка)-5.4.2\"><span class=\"toc-item-num\">5.4.2&nbsp;&nbsp;</span>GradientBoostingClassifier (увеличенная выборка)</a></span></li><li><span><a href=\"#GradientBoostingClassifier-(уменьшенная-выборка)\" data-toc-modified-id=\"GradientBoostingClassifier-(уменьшенная-выборка)-5.4.3\"><span class=\"toc-item-num\">5.4.3&nbsp;&nbsp;</span>GradientBoostingClassifier (уменьшенная выборка)</a></span></li><li><span><a href=\"#MLPClassifier-(увеличенная-выборка)\" data-toc-modified-id=\"MLPClassifier-(увеличенная-выборка)-5.4.4\"><span class=\"toc-item-num\">5.4.4&nbsp;&nbsp;</span>MLPClassifier (увеличенная выборка)</a></span></li></ul></li></ul></li><li><span><a href=\"#Финальное-тестирование\" data-toc-modified-id=\"Финальное-тестирование-6\"><span class=\"toc-item-num\">6&nbsp;&nbsp;</span>Финальное тестирование</a></span></li><li><span><a href=\"#Заключение\" data-toc-modified-id=\"Заключение-7\"><span class=\"toc-item-num\">7&nbsp;&nbsp;</span>Заключение</a></span></li></ul></div>"
   ]
  },
  {
   "cell_type": "markdown",
   "id": "274ae45c",
   "metadata": {},
   "source": [
    "**Входные данные** —  исторические данные о поведении клиентов и расторжении договоров с банком.\n",
    "\n",
    "**Дальнейшее использование результатов исследования** — прогноз ухода клиента из банка в ближайшее время с целью планирования мероприятий по его удержанию.\n",
    "\n",
    "**Цель исследования** \n",
    "1. Построение модели с предельно большим значением F1-меры (> 0.59)\n",
    "\n",
    "2. Измерение AUC-ROC и сравнивнение с F1-мерой "
   ]
  },
  {
   "cell_type": "markdown",
   "id": "97f16f95",
   "metadata": {},
   "source": [
    "## Функции и библиотеки"
   ]
  },
  {
   "cell_type": "code",
   "execution_count": 68,
   "id": "5f95d5c4",
   "metadata": {},
   "outputs": [],
   "source": [
    "import pandas as pd\n",
    "\n",
    "import numpy as np\n",
    "\n",
    "from sklearn.preprocessing import OrdinalEncoder, StandardScaler \n",
    "\n",
    "from sklearn.model_selection import train_test_split\n",
    "\n",
    "from sklearn.tree import DecisionTreeClassifier\n",
    "\n",
    "from sklearn.ensemble import RandomForestClassifier, GradientBoostingClassifier\n",
    "\n",
    "from sklearn.linear_model import LogisticRegression\n",
    "\n",
    "from sklearn.neural_network import MLPClassifier\n",
    "\n",
    "from sklearn.metrics import accuracy_score, f1_score, roc_auc_score\n",
    "\n",
    "from sklearn.neighbors import KNeighborsClassifier\n",
    "\n",
    "from sklearn.utils import shuffle\n",
    "\n",
    "from sklearn.model_selection import RepeatedStratifiedKFold, RandomizedSearchCV\n",
    "\n",
    "from scipy.stats import uniform as sp_randFloat\n",
    "\n",
    "from scipy.stats import randint as sp_randInt\n",
    "\n",
    "import warnings\n",
    "warnings.filterwarnings('ignore')"
   ]
  },
  {
   "cell_type": "code",
   "execution_count": 2,
   "id": "78fbe86e",
   "metadata": {},
   "outputs": [],
   "source": [
    "def upsample(features, target):\n",
    "    features_zeros = features[target == 0]\n",
    "    features_ones = features[target == 1]\n",
    "    target_zeros = target[target == 0]\n",
    "    target_ones = target[target == 1]\n",
    "    \n",
    "    repeat = int(round(len(target_zeros)/len(target_ones),0))\n",
    "\n",
    "    features_upsampled = pd.concat([features_zeros] + [features_ones] * repeat)\n",
    "    target_upsampled = pd.concat([target_zeros] + [target_ones] * repeat)\n",
    "    \n",
    "    features_upsampled, target_upsampled = shuffle(\n",
    "        features_upsampled, target_upsampled, random_state=12345)\n",
    "    \n",
    "    return  features_upsampled, target_upsampled"
   ]
  },
  {
   "cell_type": "code",
   "execution_count": 3,
   "id": "48793620",
   "metadata": {},
   "outputs": [],
   "source": [
    "def downsample(features, target):\n",
    "      \n",
    "    features_zeros = features[target == 0]\n",
    "    features_ones = features[target == 1]\n",
    "    target_zeros = target[target == 0]\n",
    "    target_ones = target[target == 1]\n",
    "    \n",
    "    fraction = round(len(target_ones)/len(target_zeros),2)\n",
    "\n",
    "    features_downsampled = pd.concat(\n",
    "        [features_zeros.sample(frac=fraction, random_state=12345)] + [features_ones])\n",
    "    target_downsampled = pd.concat(\n",
    "        [target_zeros.sample(frac=fraction, random_state=12345)] + [target_ones])\n",
    "    \n",
    "    features_downsampled, target_downsampled = shuffle(\n",
    "        features_downsampled, target_downsampled, random_state=12345)\n",
    "    \n",
    "    return features_downsampled, target_downsampled"
   ]
  },
  {
   "cell_type": "markdown",
   "id": "44a4451f",
   "metadata": {},
   "source": [
    "## Обзор данных"
   ]
  },
  {
   "cell_type": "markdown",
   "id": "9dcb195c",
   "metadata": {},
   "source": [
    "**Признаки**\n",
    "- RowNumber — индекс строки в данных\n",
    "- CustomerId — уникальный идентификатор клиента\n",
    "- Surname — фамилия\n",
    "- CreditScore — кредитный рейтинг\n",
    "- Geography — страна проживания\n",
    "- Gender — пол\n",
    "- Age — возраст\n",
    "- Tenure — сколько лет человек является клиентом банка\n",
    "- Balance — баланс на счёте\n",
    "- NumOfProducts — количество продуктов банка, используемых клиентом\n",
    "- HasCrCard — наличие кредитной карты\n",
    "- IsActiveMember — активность клиента\n",
    "- EstimatedSalary — предполагаемая зарплата\n",
    "\n",
    "**Целевой признак**\n",
    "- Exited — факт ухода клиента"
   ]
  },
  {
   "cell_type": "code",
   "execution_count": 4,
   "id": "999a4eb3",
   "metadata": {},
   "outputs": [],
   "source": [
    "try:\n",
    "    df = pd.read_csv ('D:/Data for projects/Churn.csv')\n",
    "\n",
    "except: #метод try/except применяется для открытия блокнота по адресу Практикума\n",
    "    df = pd.read_csv ('/datasets/Churn.csv')"
   ]
  },
  {
   "cell_type": "code",
   "execution_count": 5,
   "id": "2a78c9d0",
   "metadata": {},
   "outputs": [
    {
     "name": "stdout",
     "output_type": "stream",
     "text": [
      "<class 'pandas.core.frame.DataFrame'>\n",
      "RangeIndex: 10000 entries, 0 to 9999\n",
      "Data columns (total 14 columns):\n",
      "RowNumber          10000 non-null int64\n",
      "CustomerId         10000 non-null int64\n",
      "Surname            10000 non-null object\n",
      "CreditScore        10000 non-null int64\n",
      "Geography          10000 non-null object\n",
      "Gender             10000 non-null object\n",
      "Age                10000 non-null int64\n",
      "Tenure             9091 non-null float64\n",
      "Balance            10000 non-null float64\n",
      "NumOfProducts      10000 non-null int64\n",
      "HasCrCard          10000 non-null int64\n",
      "IsActiveMember     10000 non-null int64\n",
      "EstimatedSalary    10000 non-null float64\n",
      "Exited             10000 non-null int64\n",
      "dtypes: float64(3), int64(8), object(3)\n",
      "memory usage: 1.1+ MB\n"
     ]
    }
   ],
   "source": [
    "df.info()"
   ]
  },
  {
   "cell_type": "code",
   "execution_count": 6,
   "id": "c67409f5",
   "metadata": {
    "scrolled": true
   },
   "outputs": [
    {
     "data": {
      "text/html": [
       "<div>\n",
       "<style scoped>\n",
       "    .dataframe tbody tr th:only-of-type {\n",
       "        vertical-align: middle;\n",
       "    }\n",
       "\n",
       "    .dataframe tbody tr th {\n",
       "        vertical-align: top;\n",
       "    }\n",
       "\n",
       "    .dataframe thead th {\n",
       "        text-align: right;\n",
       "    }\n",
       "</style>\n",
       "<table border=\"1\" class=\"dataframe\">\n",
       "  <thead>\n",
       "    <tr style=\"text-align: right;\">\n",
       "      <th></th>\n",
       "      <th>RowNumber</th>\n",
       "      <th>CustomerId</th>\n",
       "      <th>Surname</th>\n",
       "      <th>CreditScore</th>\n",
       "      <th>Geography</th>\n",
       "      <th>Gender</th>\n",
       "      <th>Age</th>\n",
       "      <th>Tenure</th>\n",
       "      <th>Balance</th>\n",
       "      <th>NumOfProducts</th>\n",
       "      <th>HasCrCard</th>\n",
       "      <th>IsActiveMember</th>\n",
       "      <th>EstimatedSalary</th>\n",
       "      <th>Exited</th>\n",
       "    </tr>\n",
       "  </thead>\n",
       "  <tbody>\n",
       "    <tr>\n",
       "      <td>0</td>\n",
       "      <td>1</td>\n",
       "      <td>15634602</td>\n",
       "      <td>Hargrave</td>\n",
       "      <td>619</td>\n",
       "      <td>France</td>\n",
       "      <td>Female</td>\n",
       "      <td>42</td>\n",
       "      <td>2.0</td>\n",
       "      <td>0.00</td>\n",
       "      <td>1</td>\n",
       "      <td>1</td>\n",
       "      <td>1</td>\n",
       "      <td>101348.88</td>\n",
       "      <td>1</td>\n",
       "    </tr>\n",
       "    <tr>\n",
       "      <td>1</td>\n",
       "      <td>2</td>\n",
       "      <td>15647311</td>\n",
       "      <td>Hill</td>\n",
       "      <td>608</td>\n",
       "      <td>Spain</td>\n",
       "      <td>Female</td>\n",
       "      <td>41</td>\n",
       "      <td>1.0</td>\n",
       "      <td>83807.86</td>\n",
       "      <td>1</td>\n",
       "      <td>0</td>\n",
       "      <td>1</td>\n",
       "      <td>112542.58</td>\n",
       "      <td>0</td>\n",
       "    </tr>\n",
       "    <tr>\n",
       "      <td>2</td>\n",
       "      <td>3</td>\n",
       "      <td>15619304</td>\n",
       "      <td>Onio</td>\n",
       "      <td>502</td>\n",
       "      <td>France</td>\n",
       "      <td>Female</td>\n",
       "      <td>42</td>\n",
       "      <td>8.0</td>\n",
       "      <td>159660.80</td>\n",
       "      <td>3</td>\n",
       "      <td>1</td>\n",
       "      <td>0</td>\n",
       "      <td>113931.57</td>\n",
       "      <td>1</td>\n",
       "    </tr>\n",
       "    <tr>\n",
       "      <td>3</td>\n",
       "      <td>4</td>\n",
       "      <td>15701354</td>\n",
       "      <td>Boni</td>\n",
       "      <td>699</td>\n",
       "      <td>France</td>\n",
       "      <td>Female</td>\n",
       "      <td>39</td>\n",
       "      <td>1.0</td>\n",
       "      <td>0.00</td>\n",
       "      <td>2</td>\n",
       "      <td>0</td>\n",
       "      <td>0</td>\n",
       "      <td>93826.63</td>\n",
       "      <td>0</td>\n",
       "    </tr>\n",
       "    <tr>\n",
       "      <td>4</td>\n",
       "      <td>5</td>\n",
       "      <td>15737888</td>\n",
       "      <td>Mitchell</td>\n",
       "      <td>850</td>\n",
       "      <td>Spain</td>\n",
       "      <td>Female</td>\n",
       "      <td>43</td>\n",
       "      <td>2.0</td>\n",
       "      <td>125510.82</td>\n",
       "      <td>1</td>\n",
       "      <td>1</td>\n",
       "      <td>1</td>\n",
       "      <td>79084.10</td>\n",
       "      <td>0</td>\n",
       "    </tr>\n",
       "  </tbody>\n",
       "</table>\n",
       "</div>"
      ],
      "text/plain": [
       "   RowNumber  CustomerId   Surname  CreditScore Geography  Gender  Age  \\\n",
       "0          1    15634602  Hargrave          619    France  Female   42   \n",
       "1          2    15647311      Hill          608     Spain  Female   41   \n",
       "2          3    15619304      Onio          502    France  Female   42   \n",
       "3          4    15701354      Boni          699    France  Female   39   \n",
       "4          5    15737888  Mitchell          850     Spain  Female   43   \n",
       "\n",
       "   Tenure    Balance  NumOfProducts  HasCrCard  IsActiveMember  \\\n",
       "0     2.0       0.00              1          1               1   \n",
       "1     1.0   83807.86              1          0               1   \n",
       "2     8.0  159660.80              3          1               0   \n",
       "3     1.0       0.00              2          0               0   \n",
       "4     2.0  125510.82              1          1               1   \n",
       "\n",
       "   EstimatedSalary  Exited  \n",
       "0        101348.88       1  \n",
       "1        112542.58       0  \n",
       "2        113931.57       1  \n",
       "3         93826.63       0  \n",
       "4         79084.10       0  "
      ]
     },
     "execution_count": 6,
     "metadata": {},
     "output_type": "execute_result"
    }
   ],
   "source": [
    "df.head()"
   ]
  },
  {
   "cell_type": "code",
   "execution_count": 7,
   "id": "8c9d0855",
   "metadata": {
    "scrolled": false
   },
   "outputs": [
    {
     "data": {
      "text/plain": [
       "RowNumber          10000\n",
       "CustomerId         10000\n",
       "Surname             2932\n",
       "CreditScore          460\n",
       "Geography              3\n",
       "Gender                 2\n",
       "Age                   70\n",
       "Tenure                11\n",
       "Balance             6382\n",
       "NumOfProducts          4\n",
       "HasCrCard              2\n",
       "IsActiveMember         2\n",
       "EstimatedSalary     9999\n",
       "Exited                 2\n",
       "dtype: int64"
      ]
     },
     "execution_count": 7,
     "metadata": {},
     "output_type": "execute_result"
    }
   ],
   "source": [
    "df.nunique()"
   ]
  },
  {
   "cell_type": "code",
   "execution_count": 8,
   "id": "d44703e2",
   "metadata": {
    "scrolled": true
   },
   "outputs": [
    {
     "data": {
      "text/plain": [
       "0    7963\n",
       "1    2037\n",
       "Name: Exited, dtype: int64"
      ]
     },
     "execution_count": 8,
     "metadata": {},
     "output_type": "execute_result"
    }
   ],
   "source": [
    "df['Exited'].value_counts() #оценим достаточность разнообразия целевого признака для обучения"
   ]
  },
  {
   "cell_type": "code",
   "execution_count": 9,
   "id": "f00a5871",
   "metadata": {
    "scrolled": true
   },
   "outputs": [
    {
     "data": {
      "text/plain": [
       "11.58"
      ]
     },
     "execution_count": 9,
     "metadata": {},
     "output_type": "execute_result"
    }
   ],
   "source": [
    "df['EstimatedSalary'].min()"
   ]
  },
  {
   "cell_type": "code",
   "execution_count": 10,
   "id": "11d01da4",
   "metadata": {},
   "outputs": [
    {
     "data": {
      "text/plain": [
       "Smith     32\n",
       "Scott     29\n",
       "Martin    29\n",
       "Walker    28\n",
       "Brown     26\n",
       "          ..\n",
       "Haddon     1\n",
       "Real       1\n",
       "Gomes      1\n",
       "Cran       1\n",
       "Persse     1\n",
       "Name: Surname, Length: 2932, dtype: int64"
      ]
     },
     "execution_count": 10,
     "metadata": {},
     "output_type": "execute_result"
    }
   ],
   "source": [
    "df['Surname'].value_counts()"
   ]
  },
  {
   "cell_type": "code",
   "execution_count": 11,
   "id": "0361621b",
   "metadata": {},
   "outputs": [
    {
     "data": {
      "text/plain": [
       "RowNumber            0\n",
       "CustomerId           0\n",
       "Surname              0\n",
       "CreditScore          0\n",
       "Geography            0\n",
       "Gender               0\n",
       "Age                  0\n",
       "Tenure             909\n",
       "Balance              0\n",
       "NumOfProducts        0\n",
       "HasCrCard            0\n",
       "IsActiveMember       0\n",
       "EstimatedSalary      0\n",
       "Exited               0\n",
       "dtype: int64"
      ]
     },
     "execution_count": 11,
     "metadata": {},
     "output_type": "execute_result"
    }
   ],
   "source": [
    "df.isna().sum()"
   ]
  },
  {
   "cell_type": "code",
   "execution_count": 12,
   "id": "e4ba16bf",
   "metadata": {
    "scrolled": true
   },
   "outputs": [
    {
     "data": {
      "text/plain": [
       "9.09"
      ]
     },
     "execution_count": 12,
     "metadata": {},
     "output_type": "execute_result"
    }
   ],
   "source": [
    "len(df[df['Tenure'].isna()]['Tenure'])*100/len(df['Tenure']) #расчет % данных с пропусками в столбце Tenure"
   ]
  },
  {
   "cell_type": "markdown",
   "id": "e2f39350",
   "metadata": {},
   "source": [
    "<div style=\"border:solid blue 2px; padding: 20px\">\n",
    "\n",
    "По результатам обзора данных выявлено:\n",
    "    \n",
    "    - не соответствие наименований признаков общепринятым\n",
    "    - дублирование индекса и индекса строки\n",
    "    - наличие подозрительно низких значений предполагаемой зарплаты (может быть связано с тем, что банк дла клиента не является основным, что может быть важным признаком)\n",
    "    - наличие данных не влияющих на целевой признак (фамилия клиента), при условии что данный признак не позволяет установить родственные связи между клиентами\n",
    "    - пропущенные значения в столбце Tenure"
   ]
  },
  {
   "cell_type": "markdown",
   "id": "8a1c2280",
   "metadata": {},
   "source": [
    "## Предобработка данных"
   ]
  },
  {
   "cell_type": "markdown",
   "id": "ac11bec3",
   "metadata": {},
   "source": [
    "### Наименования столбцов"
   ]
  },
  {
   "cell_type": "code",
   "execution_count": 13,
   "id": "04f66f0a",
   "metadata": {
    "scrolled": true
   },
   "outputs": [
    {
     "data": {
      "text/plain": [
       "Index(['row_number', 'customer_id', 'surname', 'credit_score', 'geography',\n",
       "       'gender', 'age', 'tenure', 'balance', 'num_of_products', 'has_cr_card',\n",
       "       'is_active_member', 'estimated_salary', 'exited'],\n",
       "      dtype='object')"
      ]
     },
     "execution_count": 13,
     "metadata": {},
     "output_type": "execute_result"
    }
   ],
   "source": [
    "df = df.rename(columns={'RowNumber': 'row_number', \n",
    "                        'CustomerId': 'customer_id', \n",
    "                        'Surname':'surname',\n",
    "                        'CreditScore': 'credit_score',\n",
    "                        'Geography':'geography',\n",
    "                        'Gender':'gender',\n",
    "                        'Age':'age',\n",
    "                        'Tenure':'tenure',\n",
    "                        'Balance':'balance',\n",
    "                        'NumOfProducts':'num_of_products',\n",
    "                        'HasCrCard':'has_cr_card',\n",
    "                        'IsActiveMember':'is_active_member',\n",
    "                        'EstimatedSalary':'estimated_salary',\n",
    "                        'Exited':'exited'\n",
    "                       })\n",
    "df.columns #проверка"
   ]
  },
  {
   "cell_type": "markdown",
   "id": "015276b7",
   "metadata": {},
   "source": [
    "### Дублирование индекса"
   ]
  },
  {
   "cell_type": "code",
   "execution_count": 14,
   "id": "f2006a45",
   "metadata": {},
   "outputs": [],
   "source": [
    "df = df.drop('row_number',axis=1) #уберем столбец row_number, т.к. он дублирует индекс df"
   ]
  },
  {
   "cell_type": "markdown",
   "id": "21e53c16",
   "metadata": {},
   "source": [
    "### Очистка данных"
   ]
  },
  {
   "cell_type": "code",
   "execution_count": 15,
   "id": "56d7294a",
   "metadata": {},
   "outputs": [],
   "source": [
    "df = df.drop(['surname','customer_id'],axis=1) #уберем столбцы surname и customer_id, т.к. содержащиеся в них данные не влияют на целевой признак"
   ]
  },
  {
   "cell_type": "code",
   "execution_count": 16,
   "id": "0d9fc197",
   "metadata": {
    "scrolled": false
   },
   "outputs": [
    {
     "data": {
      "text/html": [
       "<div>\n",
       "<style scoped>\n",
       "    .dataframe tbody tr th:only-of-type {\n",
       "        vertical-align: middle;\n",
       "    }\n",
       "\n",
       "    .dataframe tbody tr th {\n",
       "        vertical-align: top;\n",
       "    }\n",
       "\n",
       "    .dataframe thead th {\n",
       "        text-align: right;\n",
       "    }\n",
       "</style>\n",
       "<table border=\"1\" class=\"dataframe\">\n",
       "  <thead>\n",
       "    <tr style=\"text-align: right;\">\n",
       "      <th></th>\n",
       "      <th>credit_score</th>\n",
       "      <th>geography</th>\n",
       "      <th>gender</th>\n",
       "      <th>age</th>\n",
       "      <th>tenure</th>\n",
       "      <th>balance</th>\n",
       "      <th>num_of_products</th>\n",
       "      <th>has_cr_card</th>\n",
       "      <th>is_active_member</th>\n",
       "      <th>estimated_salary</th>\n",
       "      <th>exited</th>\n",
       "    </tr>\n",
       "  </thead>\n",
       "  <tbody>\n",
       "    <tr>\n",
       "      <td>0</td>\n",
       "      <td>619</td>\n",
       "      <td>France</td>\n",
       "      <td>Female</td>\n",
       "      <td>42</td>\n",
       "      <td>2.0</td>\n",
       "      <td>0.00</td>\n",
       "      <td>1</td>\n",
       "      <td>1</td>\n",
       "      <td>1</td>\n",
       "      <td>101348.88</td>\n",
       "      <td>1</td>\n",
       "    </tr>\n",
       "    <tr>\n",
       "      <td>1</td>\n",
       "      <td>608</td>\n",
       "      <td>Spain</td>\n",
       "      <td>Female</td>\n",
       "      <td>41</td>\n",
       "      <td>1.0</td>\n",
       "      <td>83807.86</td>\n",
       "      <td>1</td>\n",
       "      <td>0</td>\n",
       "      <td>1</td>\n",
       "      <td>112542.58</td>\n",
       "      <td>0</td>\n",
       "    </tr>\n",
       "    <tr>\n",
       "      <td>2</td>\n",
       "      <td>502</td>\n",
       "      <td>France</td>\n",
       "      <td>Female</td>\n",
       "      <td>42</td>\n",
       "      <td>8.0</td>\n",
       "      <td>159660.80</td>\n",
       "      <td>3</td>\n",
       "      <td>1</td>\n",
       "      <td>0</td>\n",
       "      <td>113931.57</td>\n",
       "      <td>1</td>\n",
       "    </tr>\n",
       "    <tr>\n",
       "      <td>3</td>\n",
       "      <td>699</td>\n",
       "      <td>France</td>\n",
       "      <td>Female</td>\n",
       "      <td>39</td>\n",
       "      <td>1.0</td>\n",
       "      <td>0.00</td>\n",
       "      <td>2</td>\n",
       "      <td>0</td>\n",
       "      <td>0</td>\n",
       "      <td>93826.63</td>\n",
       "      <td>0</td>\n",
       "    </tr>\n",
       "    <tr>\n",
       "      <td>4</td>\n",
       "      <td>850</td>\n",
       "      <td>Spain</td>\n",
       "      <td>Female</td>\n",
       "      <td>43</td>\n",
       "      <td>2.0</td>\n",
       "      <td>125510.82</td>\n",
       "      <td>1</td>\n",
       "      <td>1</td>\n",
       "      <td>1</td>\n",
       "      <td>79084.10</td>\n",
       "      <td>0</td>\n",
       "    </tr>\n",
       "  </tbody>\n",
       "</table>\n",
       "</div>"
      ],
      "text/plain": [
       "   credit_score geography  gender  age  tenure    balance  num_of_products  \\\n",
       "0           619    France  Female   42     2.0       0.00                1   \n",
       "1           608     Spain  Female   41     1.0   83807.86                1   \n",
       "2           502    France  Female   42     8.0  159660.80                3   \n",
       "3           699    France  Female   39     1.0       0.00                2   \n",
       "4           850     Spain  Female   43     2.0  125510.82                1   \n",
       "\n",
       "   has_cr_card  is_active_member  estimated_salary  exited  \n",
       "0            1                 1         101348.88       1  \n",
       "1            0                 1         112542.58       0  \n",
       "2            1                 0         113931.57       1  \n",
       "3            0                 0          93826.63       0  \n",
       "4            1                 1          79084.10       0  "
      ]
     },
     "execution_count": 16,
     "metadata": {},
     "output_type": "execute_result"
    }
   ],
   "source": [
    "df.head()"
   ]
  },
  {
   "cell_type": "markdown",
   "id": "fd025684",
   "metadata": {},
   "source": [
    "### Обработка пропусков"
   ]
  },
  {
   "cell_type": "markdown",
   "id": "87192870",
   "metadata": {},
   "source": [
    "При обзоре выявлены пропуски в ~ 9% признаков tenure, поскольку восстановить пропущенные данные не представляется возможным, а после их исключения остается достаточно данных для обучения, исключим их"
   ]
  },
  {
   "cell_type": "markdown",
   "id": "8b2cd2c9",
   "metadata": {},
   "source": [
    "df = df.dropna()"
   ]
  },
  {
   "cell_type": "code",
   "execution_count": 17,
   "id": "037c6aed",
   "metadata": {},
   "outputs": [],
   "source": [
    "df = df.fillna(-1)"
   ]
  },
  {
   "cell_type": "code",
   "execution_count": 18,
   "id": "d54a687b",
   "metadata": {},
   "outputs": [],
   "source": [
    "df['tenure'] = df['tenure'].astype(object)"
   ]
  },
  {
   "cell_type": "code",
   "execution_count": 19,
   "id": "7af9c80f",
   "metadata": {},
   "outputs": [
    {
     "data": {
      "text/plain": [
       "dtype('O')"
      ]
     },
     "execution_count": 19,
     "metadata": {},
     "output_type": "execute_result"
    }
   ],
   "source": [
    "df['tenure'].dtypes"
   ]
  },
  {
   "cell_type": "code",
   "execution_count": 20,
   "id": "dd667953",
   "metadata": {
    "scrolled": true
   },
   "outputs": [
    {
     "data": {
      "text/plain": [
       "0    7963\n",
       "1    2037\n",
       "Name: exited, dtype: int64"
      ]
     },
     "execution_count": 20,
     "metadata": {},
     "output_type": "execute_result"
    }
   ],
   "source": [
    "df['exited'].value_counts() #оценим достаточность разнообразия целевого признака для обучения после обработки пропусков"
   ]
  },
  {
   "cell_type": "markdown",
   "id": "2a65a8a2",
   "metadata": {},
   "source": [
    "### Преобразование категориальных признаков в численные"
   ]
  },
  {
   "cell_type": "markdown",
   "id": "ff502ccb",
   "metadata": {},
   "source": [
    "Воспользуемся порядковым кодированием (One-Hot Encoding) для того чтобы не сужать выбор возможных моделей (логистическая регрессия)"
   ]
  },
  {
   "cell_type": "code",
   "execution_count": 21,
   "id": "79055a32",
   "metadata": {},
   "outputs": [],
   "source": [
    "encoder = OrdinalEncoder() \n",
    "\n",
    "df = pd.DataFrame(encoder.fit_transform(df), columns=df.columns) "
   ]
  },
  {
   "cell_type": "markdown",
   "id": "e3c8cb23",
   "metadata": {},
   "source": [
    "### Масштабирование признаков"
   ]
  },
  {
   "cell_type": "markdown",
   "id": "587c8e33",
   "metadata": {},
   "source": [
    "df.columns"
   ]
  },
  {
   "cell_type": "markdown",
   "id": "9291aec9",
   "metadata": {},
   "source": [
    "numeric = ['credit_score', \n",
    "           'geography', \n",
    "           'gender', \n",
    "           'age', \n",
    "           'tenure', \n",
    "           'balance',\n",
    "           'num_of_products', \n",
    "           'has_cr_card', \n",
    "           'is_active_member',\n",
    "           'estimated_salary']\n",
    "\n",
    "scaler = StandardScaler()\n",
    "scaler.fit(df[numeric])\n",
    "df[numeric] = scaler.transform(df[numeric])"
   ]
  },
  {
   "cell_type": "markdown",
   "id": "82ddbce4",
   "metadata": {
    "scrolled": true
   },
   "source": [
    "df.head()"
   ]
  },
  {
   "cell_type": "markdown",
   "id": "82601f61",
   "metadata": {},
   "source": [
    "## Разделение исходных данные на обучающую, валидационную и тестовую выборки"
   ]
  },
  {
   "cell_type": "code",
   "execution_count": 22,
   "id": "e7a7586f",
   "metadata": {},
   "outputs": [],
   "source": [
    "features = df.drop('exited',axis=1) # признаки \n",
    "target = df['exited'] # целевой признак"
   ]
  },
  {
   "cell_type": "code",
   "execution_count": 23,
   "id": "bfd75c43",
   "metadata": {},
   "outputs": [],
   "source": [
    "features, features_test, target, target_test = train_test_split(\n",
    "    features, target, test_size=0.20, random_state=404) #выделение тестовой выборки"
   ]
  },
  {
   "cell_type": "code",
   "execution_count": 24,
   "id": "1c7bc335",
   "metadata": {},
   "outputs": [],
   "source": [
    "features_train, features_valid, target_train, target_valid = train_test_split(\n",
    "    features, target, test_size=0.25, random_state=404) #выделение обучающей и валидационной выборки"
   ]
  },
  {
   "cell_type": "code",
   "execution_count": 25,
   "id": "b829ff61",
   "metadata": {},
   "outputs": [
    {
     "name": "stdout",
     "output_type": "stream",
     "text": [
      "(6000, 10)\n",
      "(2000, 10)\n",
      "(2000, 10)\n",
      "(6000,)\n",
      "(2000,)\n",
      "(2000,)\n"
     ]
    }
   ],
   "source": [
    "print(features_train.shape)\n",
    "print(features_valid.shape)\n",
    "print(features_test.shape)\n",
    "print(target_train.shape)\n",
    "print(target_valid.shape)\n",
    "print(target_test.shape)"
   ]
  },
  {
   "cell_type": "markdown",
   "id": "494a1dc2",
   "metadata": {},
   "source": [
    "### Масштабирование признаков"
   ]
  },
  {
   "cell_type": "code",
   "execution_count": 26,
   "id": "76bcacad",
   "metadata": {},
   "outputs": [],
   "source": [
    "pd.options.mode.chained_assignment = None\n",
    "\n",
    "numeric = features_train.columns\n",
    "\n",
    "scaler = StandardScaler()\n",
    "scaler.fit(features_train[numeric])\n",
    "\n",
    "features_train[numeric] = scaler.transform(features_train[numeric])\n",
    "features_valid[numeric] = scaler.transform(features_valid[numeric])\n",
    "features_test[numeric] = scaler.transform(features_test[numeric])"
   ]
  },
  {
   "cell_type": "code",
   "execution_count": 27,
   "id": "12c816c7",
   "metadata": {
    "scrolled": true
   },
   "outputs": [
    {
     "data": {
      "text/html": [
       "<div>\n",
       "<style scoped>\n",
       "    .dataframe tbody tr th:only-of-type {\n",
       "        vertical-align: middle;\n",
       "    }\n",
       "\n",
       "    .dataframe tbody tr th {\n",
       "        vertical-align: top;\n",
       "    }\n",
       "\n",
       "    .dataframe thead th {\n",
       "        text-align: right;\n",
       "    }\n",
       "</style>\n",
       "<table border=\"1\" class=\"dataframe\">\n",
       "  <thead>\n",
       "    <tr style=\"text-align: right;\">\n",
       "      <th></th>\n",
       "      <th>credit_score</th>\n",
       "      <th>geography</th>\n",
       "      <th>gender</th>\n",
       "      <th>age</th>\n",
       "      <th>tenure</th>\n",
       "      <th>balance</th>\n",
       "      <th>num_of_products</th>\n",
       "      <th>has_cr_card</th>\n",
       "      <th>is_active_member</th>\n",
       "      <th>estimated_salary</th>\n",
       "    </tr>\n",
       "  </thead>\n",
       "  <tbody>\n",
       "    <tr>\n",
       "      <td>2241</td>\n",
       "      <td>0.311431</td>\n",
       "      <td>0.289572</td>\n",
       "      <td>0.909418</td>\n",
       "      <td>0.280981</td>\n",
       "      <td>-0.449406</td>\n",
       "      <td>0.480197</td>\n",
       "      <td>0.805841</td>\n",
       "      <td>0.640913</td>\n",
       "      <td>-1.037711</td>\n",
       "      <td>-1.574566</td>\n",
       "    </tr>\n",
       "    <tr>\n",
       "      <td>4316</td>\n",
       "      <td>2.066100</td>\n",
       "      <td>1.492780</td>\n",
       "      <td>0.909418</td>\n",
       "      <td>0.471509</td>\n",
       "      <td>0.776246</td>\n",
       "      <td>-0.507497</td>\n",
       "      <td>-0.924050</td>\n",
       "      <td>0.640913</td>\n",
       "      <td>-1.037711</td>\n",
       "      <td>0.080133</td>\n",
       "    </tr>\n",
       "    <tr>\n",
       "      <td>4826</td>\n",
       "      <td>1.484671</td>\n",
       "      <td>-0.913636</td>\n",
       "      <td>0.909418</td>\n",
       "      <td>-1.433771</td>\n",
       "      <td>1.695485</td>\n",
       "      <td>1.492325</td>\n",
       "      <td>-0.924050</td>\n",
       "      <td>0.640913</td>\n",
       "      <td>0.963660</td>\n",
       "      <td>-0.193101</td>\n",
       "    </tr>\n",
       "    <tr>\n",
       "      <td>8944</td>\n",
       "      <td>-1.038314</td>\n",
       "      <td>1.492780</td>\n",
       "      <td>0.909418</td>\n",
       "      <td>0.947830</td>\n",
       "      <td>-1.062231</td>\n",
       "      <td>1.604158</td>\n",
       "      <td>0.805841</td>\n",
       "      <td>0.640913</td>\n",
       "      <td>0.963660</td>\n",
       "      <td>0.627643</td>\n",
       "    </tr>\n",
       "    <tr>\n",
       "      <td>2362</td>\n",
       "      <td>0.602146</td>\n",
       "      <td>0.289572</td>\n",
       "      <td>0.909418</td>\n",
       "      <td>0.566773</td>\n",
       "      <td>-0.142993</td>\n",
       "      <td>0.671910</td>\n",
       "      <td>-0.924050</td>\n",
       "      <td>0.640913</td>\n",
       "      <td>0.963660</td>\n",
       "      <td>-1.739688</td>\n",
       "    </tr>\n",
       "  </tbody>\n",
       "</table>\n",
       "</div>"
      ],
      "text/plain": [
       "      credit_score  geography    gender       age    tenure   balance  \\\n",
       "2241      0.311431   0.289572  0.909418  0.280981 -0.449406  0.480197   \n",
       "4316      2.066100   1.492780  0.909418  0.471509  0.776246 -0.507497   \n",
       "4826      1.484671  -0.913636  0.909418 -1.433771  1.695485  1.492325   \n",
       "8944     -1.038314   1.492780  0.909418  0.947830 -1.062231  1.604158   \n",
       "2362      0.602146   0.289572  0.909418  0.566773 -0.142993  0.671910   \n",
       "\n",
       "      num_of_products  has_cr_card  is_active_member  estimated_salary  \n",
       "2241         0.805841     0.640913         -1.037711         -1.574566  \n",
       "4316        -0.924050     0.640913         -1.037711          0.080133  \n",
       "4826        -0.924050     0.640913          0.963660         -0.193101  \n",
       "8944         0.805841     0.640913          0.963660          0.627643  \n",
       "2362        -0.924050     0.640913          0.963660         -1.739688  "
      ]
     },
     "execution_count": 27,
     "metadata": {},
     "output_type": "execute_result"
    }
   ],
   "source": [
    "features_train.head()"
   ]
  },
  {
   "cell_type": "markdown",
   "id": "eb1d1a96",
   "metadata": {},
   "source": [
    "## Обучение модели"
   ]
  },
  {
   "cell_type": "markdown",
   "id": "b11eeb3a",
   "metadata": {},
   "source": [
    "### без учета дисбаланса"
   ]
  },
  {
   "cell_type": "code",
   "execution_count": 28,
   "id": "943323b6",
   "metadata": {},
   "outputs": [
    {
     "name": "stdout",
     "output_type": "stream",
     "text": [
      "F1-мера наилучшей модели : 0.5653, max_depth = 9\n"
     ]
    }
   ],
   "source": [
    "best_model_tree = None\n",
    "best_result_tree = 0\n",
    "depth = 0\n",
    "\n",
    "for _ in range(1, 22, 2):\n",
    "    model = DecisionTreeClassifier(random_state=404, max_depth=_)\n",
    "    model.fit(features_train, target_train) # обучение модели\n",
    "    predictions = model.predict(features_valid) \n",
    "    \n",
    "    score = f1_score(target_valid, predictions) # расчет качества модели\n",
    "    \n",
    "    if score > best_result_tree:\n",
    "        best_model_tree = model # сохранение наилучшей модели\n",
    "        best_result_tree = score #  сохранение наилучшего значения метрики accuracy\n",
    "        depth = _ # сохранение глубины лучшей модели\n",
    "\n",
    "print(f'F1-мера наилучшей модели : {round(best_result_tree,4)}, max_depth = {depth}')"
   ]
  },
  {
   "cell_type": "code",
   "execution_count": 29,
   "id": "09bf76e1",
   "metadata": {},
   "outputs": [
    {
     "name": "stdout",
     "output_type": "stream",
     "text": [
      "F1-мера наилучшей модели: 0.5964, кол-во деревьев: 300\n"
     ]
    }
   ],
   "source": [
    "best_model_forest = None\n",
    "best_result_forest = 0\n",
    "n_estimators = 0\n",
    "\n",
    "for _ in range(100, 1001, 100):\n",
    "    model = RandomForestClassifier(random_state=404, n_estimators=_) \n",
    "    model.fit(features_train,target_train) # обучение модели\n",
    "    predictions = model.predict(features_valid)\n",
    "    score = f1_score(predictions, target_valid) # расчет качества модели\n",
    "    \n",
    "    if score > best_result_forest:\n",
    "        best_model_forest = model # сохранение наилучшей модели\n",
    "        best_result_forest = score #  сохранение наилучшего значения метрики accuracy\n",
    "        n_estimators = _ # сохранение количества деревьев лучшей модели\n",
    "\n",
    "print(f'F1-мера наилучшей модели: {round(best_result_forest,4)}, кол-во деревьев: {n_estimators}')"
   ]
  },
  {
   "cell_type": "code",
   "execution_count": 30,
   "id": "b79a9a98",
   "metadata": {},
   "outputs": [
    {
     "name": "stdout",
     "output_type": "stream",
     "text": [
      "F1-мера наилучшей модели: 0.6012, кол-во деревьев: 43\n"
     ]
    }
   ],
   "source": [
    "best_model_forest = None\n",
    "best_result_forest = 0\n",
    "n_estimators = 0\n",
    "\n",
    "for _ in range(1, 50):\n",
    "    model = RandomForestClassifier(random_state=404, n_estimators=_) \n",
    "    model.fit(features_train,target_train) # обучение модели\n",
    "    predictions = model.predict(features_valid)\n",
    "    score = f1_score(predictions, target_valid) # расчет качества модели\n",
    "    \n",
    "    if score > best_result_forest:\n",
    "        best_model_forest = model # сохранение наилучшей модели\n",
    "        best_result_forest = score #  сохранение наилучшего значения метрики accuracy\n",
    "        n_estimators = _ # сохранение количества деревьев лучшей модели\n",
    "\n",
    "print(f'F1-мера наилучшей модели: {round(best_result_forest,4)}, кол-во деревьев: {n_estimators}')"
   ]
  },
  {
   "cell_type": "code",
   "execution_count": 31,
   "id": "e2c36f9a",
   "metadata": {},
   "outputs": [
    {
     "name": "stdout",
     "output_type": "stream",
     "text": [
      "F1-мера наилучшей модели: 0.2031, количество иттераций: 11\n"
     ]
    }
   ],
   "source": [
    "best_model_log_reg = None\n",
    "best_result_log_reg = 0\n",
    "max_iter_ = 0\n",
    "\n",
    "for _ in range(1,150,10):\n",
    "    model = LogisticRegression(random_state=404, solver='lbfgs', max_iter=_) \n",
    "    model.fit(features_train,target_train) # обучение модели\n",
    "    predictions = model.predict(features_valid)\n",
    "    score = f1_score(predictions, target_valid) # расчет качества модели\n",
    "    \n",
    "    if score > best_result_log_reg:\n",
    "        best_model_log_reg = model # сохранение наилучшей модели\n",
    "        best_result_log_reg = score #  сохранение наилучшего значения метрики accuracy\n",
    "        max_iter_ = _ # сохранение количества иттераций лучшей модели\n",
    "\n",
    "print(f'F1-мера наилучшей модели: {round(best_result_log_reg,4)}, количество иттераций: {max_iter_}')"
   ]
  },
  {
   "cell_type": "code",
   "execution_count": 32,
   "id": "d84bf844",
   "metadata": {},
   "outputs": [
    {
     "name": "stdout",
     "output_type": "stream",
     "text": [
      "F1-мера наилучшей модели: 0.5031, количество соседей: 1\n"
     ]
    }
   ],
   "source": [
    "best_model_neighbors = None\n",
    "best_result_neighbors = 0\n",
    "neighbors = 0\n",
    "\n",
    "for _ in range(1,10):\n",
    "    model = KNeighborsClassifier(n_neighbors=_) \n",
    "    model.fit(features_train,target_train) # обучение модели\n",
    "    predictions = model.predict(features_valid)\n",
    "    score = f1_score(predictions, target_valid) # расчет качества модели\n",
    "    \n",
    "    if score > best_result_neighbors:\n",
    "        best_model_neighbors = model # сохранение наилучшей модели\n",
    "        best_result_neighbors = score #  сохранение наилучшего значения метрики accuracy\n",
    "        neighbors = _ # сохранение количества иттераций лучшей модели\n",
    "\n",
    "print(f'F1-мера наилучшей модели: {round(best_result_neighbors,4)}, количество соседей: {neighbors}')"
   ]
  },
  {
   "cell_type": "code",
   "execution_count": 33,
   "id": "49bdf227",
   "metadata": {},
   "outputs": [
    {
     "name": "stdout",
     "output_type": "stream",
     "text": [
      "F1-мера наилучшей модели: 0.6012, max_depth: 7\n"
     ]
    }
   ],
   "source": [
    "best_model_GBC = None\n",
    "best_result_GBC = 0\n",
    "depth = 0\n",
    "\n",
    "for _ in range(1,10):\n",
    "    model = GradientBoostingClassifier(n_estimators=100, learning_rate=0.1, max_depth=_, random_state=404) \n",
    "    model.fit(features_train,target_train) # обучение модели\n",
    "    predictions = model.predict(features_valid)\n",
    "    score = f1_score(predictions, target_valid) # расчет качества модели\n",
    "    \n",
    "    if score > best_result_GBC:\n",
    "        best_model_GBC = model # сохранение наилучшей модели\n",
    "        best_result_GBC = score #  сохранение наилучшего значения метрики accuracy\n",
    "        depth = _ # сохранение количества иттераций лучшей модели\n",
    "\n",
    "print(f'F1-мера наилучшей модели: {round(best_result_GBC,4)}, max_depth: {depth}')"
   ]
  },
  {
   "cell_type": "code",
   "execution_count": 34,
   "id": "ea4156e2",
   "metadata": {},
   "outputs": [
    {
     "name": "stdout",
     "output_type": "stream",
     "text": [
      "F1-мера наилучшей модели: 0.574, max_iter: 301\n"
     ]
    }
   ],
   "source": [
    "best_model_MLP = None\n",
    "best_result_MLP = 0\n",
    "max_iter_ = 0\n",
    "\n",
    "for _ in range(1,400,100):\n",
    "    model =MLPClassifier(random_state=1, max_iter=_)\n",
    "    model.fit(features_train,target_train) # обучение модели\n",
    "    predictions = model.predict(features_valid)\n",
    "    score = f1_score(predictions, target_valid) # расчет качества модели\n",
    "    \n",
    "    if score > best_result_MLP:\n",
    "        best_model_MLP = model # сохранение наилучшей модели\n",
    "        best_result_MLP = score #  сохранение наилучшего значения метрики accuracy\n",
    "        max_iter_ = _ # сохранение количества иттераций лучшей модели\n",
    "\n",
    "print(f'F1-мера наилучшей модели: {round(best_result_MLP,4)}, max_iter: {max_iter_}')"
   ]
  },
  {
   "cell_type": "markdown",
   "id": "4ab8f471",
   "metadata": {},
   "source": [
    "### Устранение дисбаланса"
   ]
  },
  {
   "cell_type": "markdown",
   "id": "061a7db8",
   "metadata": {},
   "source": [
    "#### Увеличение выборки"
   ]
  },
  {
   "cell_type": "code",
   "execution_count": 35,
   "id": "9f46eaeb",
   "metadata": {
    "scrolled": true
   },
   "outputs": [],
   "source": [
    "features_upsampled, target_upsampled = upsample(features_train, target_train)"
   ]
  },
  {
   "cell_type": "code",
   "execution_count": 36,
   "id": "2cea0dfb",
   "metadata": {
    "scrolled": true
   },
   "outputs": [
    {
     "data": {
      "text/plain": [
       "0.0    4812\n",
       "1.0    4752\n",
       "Name: exited, dtype: int64"
      ]
     },
     "execution_count": 36,
     "metadata": {},
     "output_type": "execute_result"
    }
   ],
   "source": [
    "target_upsampled.value_counts()"
   ]
  },
  {
   "cell_type": "markdown",
   "id": "e485aadb",
   "metadata": {},
   "source": [
    "#### Уменьшение выборки"
   ]
  },
  {
   "cell_type": "code",
   "execution_count": 37,
   "id": "fad66666",
   "metadata": {},
   "outputs": [],
   "source": [
    "features_downsampled, target_downsampled = downsample(features_train, target_train)"
   ]
  },
  {
   "cell_type": "code",
   "execution_count": 38,
   "id": "e0601986",
   "metadata": {
    "scrolled": true
   },
   "outputs": [
    {
     "data": {
      "text/plain": [
       "0.0    1203\n",
       "1.0    1188\n",
       "Name: exited, dtype: int64"
      ]
     },
     "execution_count": 38,
     "metadata": {},
     "output_type": "execute_result"
    }
   ],
   "source": [
    "target_downsampled.value_counts()"
   ]
  },
  {
   "cell_type": "markdown",
   "id": "5e27e5a4",
   "metadata": {},
   "source": [
    "### с учетом дисбаланса"
   ]
  },
  {
   "cell_type": "markdown",
   "id": "cf8eb557",
   "metadata": {},
   "source": [
    "#### Для увеличиной выборки"
   ]
  },
  {
   "cell_type": "code",
   "execution_count": 39,
   "id": "30a06936",
   "metadata": {},
   "outputs": [
    {
     "name": "stdout",
     "output_type": "stream",
     "text": [
      "F1-мера наилучшей модели : 0.5797, max_depth = 5\n"
     ]
    }
   ],
   "source": [
    "best_model_tree_ups = None\n",
    "best_result_tree_ups = 0\n",
    "depth = 0\n",
    "\n",
    "for _ in range(1,30):\n",
    "    model = DecisionTreeClassifier(random_state=404, max_depth=_)\n",
    "    model.fit(features_upsampled, target_upsampled) # обучение модели\n",
    "    predictions = model.predict(features_valid) \n",
    "    \n",
    "    score = f1_score(target_valid, predictions) # расчет качества модели\n",
    "    \n",
    "    if score > best_result_tree_ups:\n",
    "        best_model_tree_ups = model # сохранение наилучшей модели\n",
    "        best_result_tree_ups = score #  сохранение наилучшего значения метрики accuracy\n",
    "        depth = _ # сохранение глубины лучшей модели\n",
    "\n",
    "print(f'F1-мера наилучшей модели : {round(best_result_tree_ups,4)}, max_depth = {depth}')"
   ]
  },
  {
   "cell_type": "code",
   "execution_count": 40,
   "id": "e088a418",
   "metadata": {},
   "outputs": [
    {
     "name": "stdout",
     "output_type": "stream",
     "text": [
      "F1-мера наилучшей модели: 0.6303, кол-во деревьев: 34\n"
     ]
    }
   ],
   "source": [
    "best_model_forest_ups = None\n",
    "best_result_forest_ups = 0\n",
    "n_estimators = 0\n",
    "\n",
    "for _ in range(1, 50):\n",
    "    model = RandomForestClassifier(random_state=404, n_estimators=_) \n",
    "    model.fit(features_upsampled, target_upsampled) # обучение модели\n",
    "    predictions = model.predict(features_valid)\n",
    "    score = f1_score(predictions, target_valid) # расчет качества модели\n",
    "    \n",
    "    if score > best_result_forest_ups:\n",
    "        best_model_forest_ups = model # сохранение наилучшей модели\n",
    "        best_result_forest_ups = score #  сохранение наилучшего значения метрики accuracy\n",
    "        n_estimators = _ # сохранение количества деревьев лучшей модели\n",
    "\n",
    "print(f'F1-мера наилучшей модели: {round(best_result_forest_ups,4)}, кол-во деревьев: {n_estimators}')"
   ]
  },
  {
   "cell_type": "code",
   "execution_count": 41,
   "id": "1fea2cd5",
   "metadata": {},
   "outputs": [
    {
     "name": "stdout",
     "output_type": "stream",
     "text": [
      "F1-мера наилучшей модели: 0.5026, количество иттераций: 11\n"
     ]
    }
   ],
   "source": [
    "best_model_log_reg_ups = None\n",
    "best_result_log_reg_ups = 0\n",
    "max_iter_ = 0\n",
    "\n",
    "for _ in range(1,150,10):\n",
    "    model = LogisticRegression(random_state=404, solver='lbfgs', max_iter=_) \n",
    "    model.fit(features_upsampled, target_upsampled) # обучение модели\n",
    "    predictions = model.predict(features_valid)\n",
    "    score = f1_score(predictions, target_valid) # расчет качества модели\n",
    "    \n",
    "    if score > best_result_log_reg_ups:\n",
    "        best_model_log_reg_ups = model # сохранение наилучшей модели\n",
    "        best_result_log_reg_ups = score #  сохранение наилучшего значения метрики accuracy\n",
    "        max_iter_ = _ # сохранение количества иттераций лучшей модели\n",
    "\n",
    "print(f'F1-мера наилучшей модели: {round(best_result_log_reg_ups,4)}, количество иттераций: {max_iter_}')"
   ]
  },
  {
   "cell_type": "code",
   "execution_count": 42,
   "id": "2a27e1bf",
   "metadata": {},
   "outputs": [
    {
     "name": "stdout",
     "output_type": "stream",
     "text": [
      "F1-мера наилучшей модели: 0.5502, количество соседей: 8\n"
     ]
    }
   ],
   "source": [
    "best_model_neighbors_ups = None\n",
    "best_result_neighbors_ups = 0\n",
    "neighbors = 0\n",
    "\n",
    "for _ in range(1,10):\n",
    "    model = KNeighborsClassifier(n_neighbors=_) \n",
    "    model.fit(features_upsampled, target_upsampled) # обучение модели\n",
    "    predictions = model.predict(features_valid)\n",
    "    score = f1_score(predictions, target_valid) # расчет качества модели\n",
    "    \n",
    "    if score > best_result_neighbors_ups:\n",
    "        best_model_neighbors_ups = model # сохранение наилучшей модели\n",
    "        best_result_neighbors_ups = score #  сохранение наилучшего значения метрики accuracy\n",
    "        neighbors = _ # сохранение количества иттераций лучшей модели\n",
    "\n",
    "print(f'F1-мера наилучшей модели: {round(best_result_neighbors_ups,4)}, количество соседей: {neighbors}')"
   ]
  },
  {
   "cell_type": "code",
   "execution_count": 43,
   "id": "42f7c302",
   "metadata": {},
   "outputs": [
    {
     "name": "stdout",
     "output_type": "stream",
     "text": [
      "F1-мера наилучшей модели: 0.6437, max_depth: 5\n"
     ]
    }
   ],
   "source": [
    "best_model_GBC_ups = None\n",
    "best_result_GBC_ups = 0\n",
    "depth = 0\n",
    "\n",
    "for _ in range(1,10):\n",
    "    model = GradientBoostingClassifier(n_estimators=100, learning_rate=0.1, max_depth=_, random_state=404) \n",
    "    model.fit(features_upsampled, target_upsampled) # обучение модели\n",
    "    predictions = model.predict(features_valid)\n",
    "    score = f1_score(predictions, target_valid) # расчет качества модели\n",
    "    \n",
    "    if score > best_result_GBC_ups:\n",
    "        best_model_GBC_ups = model # сохранение наилучшей модели\n",
    "        best_result_GBC_ups = score #  сохранение наилучшего значения метрики accuracy\n",
    "        depth = _ # сохранение количества иттераций лучшей модели\n",
    "\n",
    "print(f'F1-мера наилучшей модели: {round(best_result_GBC_ups,4)}, max_depth: {depth}')"
   ]
  },
  {
   "cell_type": "code",
   "execution_count": 44,
   "id": "127ef3e5",
   "metadata": {},
   "outputs": [
    {
     "name": "stdout",
     "output_type": "stream",
     "text": [
      "F1-мера наилучшей модели: 0.6154, max_iter: 101\n"
     ]
    }
   ],
   "source": [
    "best_model_MLP_ups = None\n",
    "best_result_MLP_ups = 0\n",
    "max_iter_ = 0\n",
    "\n",
    "for _ in range(1,400,100):\n",
    "    model =MLPClassifier(random_state=404, max_iter=_)\n",
    "    model.fit(features_upsampled, target_upsampled) # обучение модели\n",
    "    predictions = model.predict(features_valid)\n",
    "    score = f1_score(predictions, target_valid) # расчет качества модели\n",
    "    \n",
    "    if score > best_result_MLP_ups:\n",
    "        best_model_MLP_ups = model # сохранение наилучшей модели\n",
    "        best_result_MLP_ups = score #  сохранение наилучшего значения метрики accuracy\n",
    "        max_iter_ = _ # сохранение количества иттераций лучшей модели\n",
    "\n",
    "print(f'F1-мера наилучшей модели: {round(best_result_MLP_ups,4)}, max_iter: {max_iter_}')"
   ]
  },
  {
   "cell_type": "markdown",
   "id": "ff3ffa8a",
   "metadata": {},
   "source": [
    "#### Для уменьшеной выборки"
   ]
  },
  {
   "cell_type": "code",
   "execution_count": 45,
   "id": "f5ab6b5a",
   "metadata": {},
   "outputs": [
    {
     "name": "stdout",
     "output_type": "stream",
     "text": [
      "F1-мера наилучшей модели : 0.592, max_depth = 6\n"
     ]
    }
   ],
   "source": [
    "best_model_tree_dws = None\n",
    "best_result_tree_dws = 0\n",
    "depth = 0\n",
    "\n",
    "for _ in range(1,30):\n",
    "    model = DecisionTreeClassifier(random_state=404, max_depth=_)\n",
    "    model.fit(features_downsampled, target_downsampled) # обучение модели\n",
    "    predictions = model.predict(features_valid) \n",
    "    \n",
    "    score = f1_score(target_valid, predictions) # расчет качества модели\n",
    "    \n",
    "    if score > best_result_tree_dws:\n",
    "        best_model_tree_dws = model # сохранение наилучшей модели\n",
    "        best_result_tree_dws = score #  сохранение наилучшего значения метрики accuracy\n",
    "        depth = _ # сохранение глубины лучшей модели\n",
    "\n",
    "print(f'F1-мера наилучшей модели : {round(best_result_tree_dws,4)}, max_depth = {depth}')"
   ]
  },
  {
   "cell_type": "code",
   "execution_count": 46,
   "id": "896b39b6",
   "metadata": {},
   "outputs": [
    {
     "name": "stdout",
     "output_type": "stream",
     "text": [
      "F1-мера наилучшей модели: 0.5955, кол-во деревьев: 48\n"
     ]
    }
   ],
   "source": [
    "best_model_forest_dws = None\n",
    "best_result_forest_dws = 0\n",
    "n_estimators = 0\n",
    "\n",
    "for _ in range(1, 50):\n",
    "    model = RandomForestClassifier(random_state=404, n_estimators=_) \n",
    "    model.fit(features_downsampled, target_downsampled) # обучение модели\n",
    "    predictions = model.predict(features_valid)\n",
    "    score = f1_score(predictions, target_valid) # расчет качества модели\n",
    "    \n",
    "    if score > best_result_forest_dws:\n",
    "        best_model_forest_dws = model # сохранение наилучшей модели\n",
    "        best_result_forest_dws = score #  сохранение наилучшего значения метрики accuracy\n",
    "        n_estimators = _ # сохранение количества деревьев лучшей модели\n",
    "\n",
    "print(f'F1-мера наилучшей модели: {round(best_result_forest_dws,4)}, кол-во деревьев: {n_estimators}')"
   ]
  },
  {
   "cell_type": "code",
   "execution_count": 47,
   "id": "5eca52e9",
   "metadata": {},
   "outputs": [
    {
     "name": "stdout",
     "output_type": "stream",
     "text": [
      "F1-мера наилучшей модели: 0.5065, количество иттераций: 11\n"
     ]
    }
   ],
   "source": [
    "best_model_log_reg_dws = None\n",
    "best_result_log_reg_dws = 0\n",
    "max_iter_ = 0\n",
    "\n",
    "for _ in range(1,150,10):\n",
    "    model = LogisticRegression(random_state=404, solver='lbfgs', max_iter=_) \n",
    "    model.fit(features_downsampled, target_downsampled) # обучение модели\n",
    "    predictions = model.predict(features_valid)\n",
    "    score = f1_score(predictions, target_valid) # расчет качества модели\n",
    "    \n",
    "    if score > best_result_log_reg_dws:\n",
    "        best_model_log_reg_dws = model # сохранение наилучшей модели\n",
    "        best_result_log_reg_dws = score #  сохранение наилучшего значения метрики accuracy\n",
    "        max_iter_ = _ # сохранение количества иттераций лучшей модели\n",
    "\n",
    "print(f'F1-мера наилучшей модели: {round(best_result_log_reg_dws,4)}, количество иттераций: {max_iter_}')"
   ]
  },
  {
   "cell_type": "code",
   "execution_count": 48,
   "id": "dbd1c32f",
   "metadata": {},
   "outputs": [
    {
     "name": "stdout",
     "output_type": "stream",
     "text": [
      "F1-мера наилучшей модели: 0.555, количество соседей: 8\n"
     ]
    }
   ],
   "source": [
    "best_model_neighbors_dws = None\n",
    "best_result_neighbors_dws = 0\n",
    "neighbors = 0\n",
    "\n",
    "for _ in range(1,10):\n",
    "    model = KNeighborsClassifier(n_neighbors=_) \n",
    "    model.fit(features_downsampled, target_downsampled) # обучение модели\n",
    "    predictions = model.predict(features_valid)\n",
    "    score = f1_score(predictions, target_valid) # расчет качества модели\n",
    "    \n",
    "    if score > best_result_neighbors_dws:\n",
    "        best_model_neighbors_dws = model # сохранение наилучшей модели\n",
    "        best_result_neighbors_dws = score #  сохранение наилучшего значения метрики accuracy\n",
    "        neighbors = _ # сохранение количества иттераций лучшей модели\n",
    "\n",
    "print(f'F1-мера наилучшей модели: {round(best_result_neighbors_dws,4)}, количество соседей: {neighbors}')"
   ]
  },
  {
   "cell_type": "code",
   "execution_count": 49,
   "id": "1ad59f72",
   "metadata": {},
   "outputs": [
    {
     "name": "stdout",
     "output_type": "stream",
     "text": [
      "F1-мера наилучшей модели: 0.6121, max_depth: 2\n"
     ]
    }
   ],
   "source": [
    "best_model_GBC_dws = None\n",
    "best_result_GBC_dws = 0\n",
    "depth = 0\n",
    "\n",
    "for _ in range(1,10):\n",
    "    model = GradientBoostingClassifier(n_estimators=100, learning_rate=0.1, max_depth=_, random_state=404) \n",
    "    model.fit(features_downsampled, target_downsampled) # обучение модели\n",
    "    predictions = model.predict(features_valid)\n",
    "    score = f1_score(predictions, target_valid) # расчет качества модели\n",
    "    \n",
    "    if score > best_result_GBC_dws:\n",
    "        best_model_GBC_dws = model # сохранение наилучшей модели\n",
    "        best_result_GBC_dws = score #  сохранение наилучшего значения метрики accuracy\n",
    "        depth = _ # сохранение количества иттераций лучшей модели\n",
    "\n",
    "print(f'F1-мера наилучшей модели: {round(best_result_GBC_dws,4)}, max_depth: {depth}')"
   ]
  },
  {
   "cell_type": "code",
   "execution_count": 50,
   "id": "8c4f9e50",
   "metadata": {},
   "outputs": [
    {
     "name": "stdout",
     "output_type": "stream",
     "text": [
      "F1-мера наилучшей модели: 0.6007, max_iter: 201\n"
     ]
    }
   ],
   "source": [
    "best_model_MLP_dws = None\n",
    "best_result_MLP_dws = 0\n",
    "max_iter_ = 0\n",
    "\n",
    "for _ in range(1,400,100):\n",
    "    model =MLPClassifier(random_state=404, max_iter=_)\n",
    "    model.fit(features_downsampled, target_downsampled) # обучение модели\n",
    "    predictions = model.predict(features_valid)\n",
    "    score = f1_score(predictions, target_valid) # расчет качества модели\n",
    "    \n",
    "    if score > best_result_MLP_dws:\n",
    "        best_model_MLP_dws = model # сохранение наилучшей модели\n",
    "        best_result_MLP_dws = score #  сохранение наилучшего значения метрики accuracy\n",
    "        max_iter_ = _ # сохранение количества иттераций лучшей модели\n",
    "\n",
    "print(f'F1-мера наилучшей модели: {round(best_result_MLP_dws,4)}, max_iter: {max_iter_}')"
   ]
  },
  {
   "cell_type": "markdown",
   "id": "4ee97e39",
   "metadata": {},
   "source": [
    "### оптимизация гиперпараметров для моделей с лучшими показателями"
   ]
  },
  {
   "cell_type": "markdown",
   "id": "a6a086c8",
   "metadata": {},
   "source": [
    "Выберем модели с лучшими показателями метрики f1"
   ]
  },
  {
   "cell_type": "code",
   "execution_count": 51,
   "id": "d3d13e88",
   "metadata": {},
   "outputs": [
    {
     "name": "stdout",
     "output_type": "stream",
     "text": [
      "0.5653 \n",
      " 0.6012 \n",
      " 0.2031 \n",
      " 0.5031 \n",
      " 0.6012 \n",
      " 0.574\n"
     ]
    }
   ],
   "source": [
    "print(round(best_result_tree,4),'\\n',\n",
    "      round(best_result_forest,4),'\\n',\n",
    "      round(best_result_log_reg,4),'\\n',\n",
    "      round(best_result_neighbors,4),'\\n',\n",
    "      round(best_result_GBC,4),'\\n',\n",
    "      round(best_result_MLP,4))"
   ]
  },
  {
   "cell_type": "code",
   "execution_count": 52,
   "id": "a3c3770b",
   "metadata": {},
   "outputs": [
    {
     "name": "stdout",
     "output_type": "stream",
     "text": [
      "0.5797 \n",
      " 0.6303 \n",
      " 0.5026 \n",
      " 0.5502 \n",
      " 0.6437 \n",
      " 0.6154\n"
     ]
    }
   ],
   "source": [
    "print(round(best_result_tree_ups,4),'\\n',\n",
    "      round(best_result_forest_ups,4),'\\n',\n",
    "      round(best_result_log_reg_ups,4),'\\n',\n",
    "      round(best_result_neighbors_ups,4),'\\n',\n",
    "      round(best_result_GBC_ups,4),'\\n',\n",
    "      round(best_result_MLP_ups,4))"
   ]
  },
  {
   "cell_type": "code",
   "execution_count": 53,
   "id": "5c5a7dc0",
   "metadata": {},
   "outputs": [
    {
     "name": "stdout",
     "output_type": "stream",
     "text": [
      "0.592 \n",
      " 0.5955 \n",
      " 0.5065 \n",
      " 0.555 \n",
      " 0.6121 \n",
      " 0.6007\n"
     ]
    }
   ],
   "source": [
    "print(round(best_result_tree_dws,4),'\\n',\n",
    "      round(best_result_forest_dws,4),'\\n',\n",
    "      round(best_result_log_reg_dws,4),'\\n',\n",
    "      round(best_result_neighbors_dws,4),'\\n',\n",
    "      round(best_result_GBC_dws,4),'\\n',\n",
    "      round(best_result_MLP_dws,4))"
   ]
  },
  {
   "cell_type": "markdown",
   "id": "808fb0bb",
   "metadata": {},
   "source": [
    "Согласно условиям кейса минимально допустимое значение метрики F1 соответствует 0,59\n",
    "\n",
    "Данному условию удовлетворяют следующие модели:\n",
    "- RandomForestClassifier, обученная на не сбалансированной выборке (best_result_forest)\n",
    "- GradientBoostingClassifier, обученная на не сбалансированной выборке (best_result_GBC)\n",
    "\n",
    "- RandomForestClassifier, обученная на увеличенной выборке (best_result_forest_ups)\n",
    "- GradientBoostingClassifier, обученная на увеличенной выборке (best_result_GBC_ups)\n",
    "- MLPClassifier, обученная на увеличенной выборке (best_result_MLP_ups)\n",
    "\n",
    "- RandomForestClassifier, обученная на уменьшенной выборке (best_result_forest_dws)\n",
    "- GradientBoostingClassifier, обученная на уменьшенной выборке (best_result_GBC_dws)\n",
    "- MLPClassifier, обученная на уменьшенной выборке (best_result_MLP_dws)\n",
    "\n",
    "проведем для данных моделей оптимизацию гиперпараметров, расчитаем и сравним метрики (f1, AUC ROC), выберем модель с лучшими показателями"
   ]
  },
  {
   "cell_type": "markdown",
   "id": "0555cca9",
   "metadata": {},
   "source": [
    "#### RandomForestClassifier (увеличенная выборка)"
   ]
  },
  {
   "cell_type": "code",
   "execution_count": 69,
   "id": "5397528d",
   "metadata": {},
   "outputs": [
    {
     "name": "stdout",
     "output_type": "stream",
     "text": [
      " Results from Random Search \n",
      "\n",
      " The best estimator across ALL searched params:\n",
      " RandomForestClassifier(bootstrap=True, class_weight=None, criterion='gini',\n",
      "                       max_depth=12, max_features='log2', max_leaf_nodes=None,\n",
      "                       min_impurity_decrease=0.0, min_impurity_split=None,\n",
      "                       min_samples_leaf=12, min_samples_split=50,\n",
      "                       min_weight_fraction_leaf=0.0, n_estimators=400,\n",
      "                       n_jobs=None, oob_score=False, random_state=None,\n",
      "                       verbose=0, warm_start=False)\n",
      "\n",
      " The best score across ALL searched params:\n",
      " 0.8031263538779001\n",
      "\n",
      " The best parameters across ALL searched params:\n",
      " {'n_estimators': 400, 'min_samples_split': 50, 'min_samples_leaf': 12, 'max_features': 'log2', 'max_depth': 12, 'bootstrap': True}\n"
     ]
    }
   ],
   "source": [
    "model = RandomForestClassifier()\n",
    "\n",
    "n_estimators = [int(x) for x in np.linspace(start = 100, stop = 1000, num = 10)]\n",
    "max_features = ['log2', 'sqrt']\n",
    "max_depth = [int(x) for x in np.linspace(start = 1, stop = 15, num = 15)]\n",
    "min_samples_split = [int(x) for x in np.linspace(start = 2, stop = 50, num = 10)]\n",
    "min_samples_leaf = [int(x) for x in np.linspace(start = 2, stop = 50, num = 10)]\n",
    "bootstrap = [True, False]\n",
    "parameters = {'n_estimators': n_estimators,\n",
    "               'max_features': max_features,\n",
    "               'max_depth': max_depth,\n",
    "               'min_samples_split': min_samples_split,\n",
    "               'min_samples_leaf': min_samples_leaf,\n",
    "               'bootstrap': bootstrap}\n",
    "\n",
    "randm_src = RandomizedSearchCV(estimator=model, param_distributions = parameters,\n",
    "                               cv = 5, n_iter = 10, n_jobs=-1, scoring='f1')\n",
    "randm_src.fit(features_upsampled, target_upsampled)\n",
    "\n",
    "print(\" Results from Random Search \" )\n",
    "print(\"\\n The best estimator across ALL searched params:\\n\", randm_src.best_estimator_)\n",
    "print(\"\\n The best score across ALL searched params:\\n\", randm_src.best_score_)\n",
    "print(\"\\n The best parameters across ALL searched params:\\n\", randm_src.best_params_)"
   ]
  },
  {
   "cell_type": "code",
   "execution_count": 71,
   "id": "729ff009",
   "metadata": {},
   "outputs": [
    {
     "name": "stdout",
     "output_type": "stream",
     "text": [
      "метрика f1: 0.6287553648068669\n",
      "метрика AUC_ROC: 0.8699047312251313\n"
     ]
    }
   ],
   "source": [
    "model = RandomForestClassifier(bootstrap=True, class_weight=None, criterion='gini',\n",
    "                       max_depth=12, max_features='log2', max_leaf_nodes=None,\n",
    "                       min_impurity_decrease=0.0, min_impurity_split=None,\n",
    "                       min_samples_leaf=12, min_samples_split=50,\n",
    "                       min_weight_fraction_leaf=0.0, n_estimators=400,\n",
    "                       n_jobs=None, oob_score=False, random_state=None,\n",
    "                       verbose=0, warm_start=False) \n",
    "\n",
    "model.fit(features_upsampled, target_upsampled) # обучение модели\n",
    "\n",
    "predictions = model.predict(features_valid)\n",
    "\n",
    "print('метрика f1:',f1_score(predictions, target_valid)) \n",
    "\n",
    "probabilities_valid = model.predict_proba(features_valid)\n",
    "probabilities_one_valid = probabilities_valid[:, 1]\n",
    "\n",
    "print ('метрика AUC_ROC:',roc_auc_score(target_valid, probabilities_one_valid))"
   ]
  },
  {
   "cell_type": "code",
   "execution_count": 66,
   "id": "d2a9e9eb",
   "metadata": {},
   "outputs": [
    {
     "name": "stdout",
     "output_type": "stream",
     "text": [
      "метрика f1: 0.6303191489361702\n",
      "метрика AUC_ROC: 0.8530567138536428\n"
     ]
    }
   ],
   "source": [
    "model = RandomForestClassifier(random_state=404, n_estimators=34) \n",
    "\n",
    "model.fit(features_upsampled, target_upsampled) # обучение модели\n",
    "\n",
    "predictions = model.predict(features_valid)\n",
    "\n",
    "print('метрика f1:',f1_score(predictions, target_valid)) \n",
    "\n",
    "probabilities_valid = model.predict_proba(features_valid)\n",
    "probabilities_one_valid = probabilities_valid[:, 1]\n",
    "\n",
    "print ('метрика AUC_ROC:',roc_auc_score(target_valid, probabilities_one_valid))"
   ]
  },
  {
   "cell_type": "markdown",
   "id": "6afeee81",
   "metadata": {},
   "source": [
    "Оптимизация гиперпараметров с использованием RandomizedSearchCV не дала результатов"
   ]
  },
  {
   "cell_type": "markdown",
   "id": "68d674da",
   "metadata": {},
   "source": [
    "#### GradientBoostingClassifier (увеличенная выборка)"
   ]
  },
  {
   "cell_type": "code",
   "execution_count": 54,
   "id": "1d997016",
   "metadata": {},
   "outputs": [
    {
     "name": "stdout",
     "output_type": "stream",
     "text": [
      " Results from Random Search \n",
      "\n",
      " The best estimator across ALL searched params:\n",
      " GradientBoostingClassifier(criterion='friedman_mse', init=None,\n",
      "                           learning_rate=0.6230063036968986, loss='deviance',\n",
      "                           max_depth=9, max_features=None, max_leaf_nodes=None,\n",
      "                           min_impurity_decrease=0.0, min_impurity_split=None,\n",
      "                           min_samples_leaf=1, min_samples_split=2,\n",
      "                           min_weight_fraction_leaf=0.0, n_estimators=199,\n",
      "                           n_iter_no_change=None, presort='auto',\n",
      "                           random_state=None, subsample=0.6586929288265204,\n",
      "                           tol=0.0001, validation_fraction=0.1, verbose=0,\n",
      "                           warm_start=False)\n",
      "\n",
      " The best score across ALL searched params:\n",
      " 0.9561381118082813\n",
      "\n",
      " The best parameters across ALL searched params:\n",
      " {'learning_rate': 0.6230063036968986, 'max_depth': 9, 'n_estimators': 199, 'subsample': 0.6586929288265204}\n"
     ]
    }
   ],
   "source": [
    "model = GradientBoostingClassifier()\n",
    "\n",
    "parameters = {'learning_rate': sp_randFloat(),\n",
    "              'subsample'    : sp_randFloat(),\n",
    "              'n_estimators' : sp_randInt(100, 1000),\n",
    "              'max_depth'    : sp_randInt(1, 10)}\n",
    "\n",
    "randm_src = RandomizedSearchCV(estimator=model, param_distributions = parameters,\n",
    "                               cv = 5, n_iter = 10, n_jobs=-1, scoring='f1')\n",
    "randm_src.fit(features_upsampled, target_upsampled)\n",
    "\n",
    "print(\" Results from Random Search \" )\n",
    "print(\"\\n The best estimator across ALL searched params:\\n\", randm_src.best_estimator_)\n",
    "print(\"\\n The best score across ALL searched params:\\n\", randm_src.best_score_)\n",
    "print(\"\\n The best parameters across ALL searched params:\\n\", randm_src.best_params_)"
   ]
  },
  {
   "cell_type": "code",
   "execution_count": 55,
   "id": "dc250628",
   "metadata": {},
   "outputs": [
    {
     "name": "stdout",
     "output_type": "stream",
     "text": [
      "метрика f1: 0.5888738127544098\n",
      "метрика AUC_ROC: 0.8465901295106514\n"
     ]
    }
   ],
   "source": [
    "model = GradientBoostingClassifier (criterion='friedman_mse', init=None,\n",
    "                           learning_rate=0.35065398372363465, loss='deviance',\n",
    "                           max_depth=7, max_features=None, max_leaf_nodes=None,\n",
    "                           min_impurity_decrease=0.0, min_impurity_split=None,\n",
    "                           min_samples_leaf=1, min_samples_split=2,\n",
    "                           min_weight_fraction_leaf=0.0, n_estimators=267,\n",
    "                           n_iter_no_change=None, presort='auto',\n",
    "                           random_state=None, subsample=0.865160193889672,\n",
    "                           tol=0.0001, validation_fraction=0.1, verbose=0,\n",
    "                           warm_start=False) \n",
    "\n",
    "model.fit(features_upsampled, target_upsampled) # обучение модели\n",
    "\n",
    "predictions = model.predict(features_valid)\n",
    "\n",
    "print('метрика f1:',f1_score(predictions, target_valid)) \n",
    "\n",
    "probabilities_valid = model.predict_proba(features_valid)\n",
    "probabilities_one_valid = probabilities_valid[:, 1]\n",
    "\n",
    "print ('метрика AUC_ROC:',roc_auc_score(target_valid, probabilities_one_valid))"
   ]
  },
  {
   "cell_type": "code",
   "execution_count": 56,
   "id": "8c002934",
   "metadata": {},
   "outputs": [
    {
     "name": "stdout",
     "output_type": "stream",
     "text": [
      "метрика f1: 0.6360975609756098\n",
      "метрика AUC_ROC: 0.8783622957567516\n"
     ]
    }
   ],
   "source": [
    "model = GradientBoostingClassifier(n_estimators=100, \n",
    "                                   learning_rate=0.1, \n",
    "                                   max_depth=3, \n",
    "                                   random_state=404) \n",
    "\n",
    "model.fit(features_upsampled, target_upsampled) # обучение модели\n",
    "\n",
    "predictions = model.predict(features_valid)\n",
    "\n",
    "print('метрика f1:',f1_score(predictions, target_valid)) \n",
    "\n",
    "probabilities_valid = model.predict_proba(features_valid)\n",
    "probabilities_one_valid = probabilities_valid[:, 1]\n",
    "\n",
    "print ('метрика AUC_ROC:',roc_auc_score(target_valid, probabilities_one_valid))"
   ]
  },
  {
   "cell_type": "markdown",
   "id": "1e535161",
   "metadata": {},
   "source": [
    "<div style=\"border:solid blue 2px; padding: 20px\">\n",
    "\n",
    "Оптимизация гиперпараметров с использованием RandomizedSearchCV не дала результатов"
   ]
  },
  {
   "cell_type": "markdown",
   "id": "58a0cdca",
   "metadata": {},
   "source": [
    "#### GradientBoostingClassifier (уменьшенная выборка)"
   ]
  },
  {
   "cell_type": "code",
   "execution_count": 57,
   "id": "ef9ffb4c",
   "metadata": {},
   "outputs": [
    {
     "name": "stdout",
     "output_type": "stream",
     "text": [
      " Results from Random Search \n",
      "\n",
      " The best estimator across ALL searched params:\n",
      " GradientBoostingClassifier(criterion='friedman_mse', init=None,\n",
      "                           learning_rate=0.7653978532398514, loss='deviance',\n",
      "                           max_depth=1, max_features=None, max_leaf_nodes=None,\n",
      "                           min_impurity_decrease=0.0, min_impurity_split=None,\n",
      "                           min_samples_leaf=1, min_samples_split=2,\n",
      "                           min_weight_fraction_leaf=0.0, n_estimators=968,\n",
      "                           n_iter_no_change=None, presort='auto',\n",
      "                           random_state=None, subsample=0.7713839878881709,\n",
      "                           tol=0.0001, validation_fraction=0.1, verbose=0,\n",
      "                           warm_start=False)\n",
      "\n",
      " The best score across ALL searched params:\n",
      " 0.7406819417807075\n",
      "\n",
      " The best parameters across ALL searched params:\n",
      " {'learning_rate': 0.7653978532398514, 'max_depth': 1, 'n_estimators': 968, 'subsample': 0.7713839878881709}\n"
     ]
    }
   ],
   "source": [
    "model = GradientBoostingClassifier()\n",
    "\n",
    "parameters = {'learning_rate': sp_randFloat(),\n",
    "              'subsample'    : sp_randFloat(),\n",
    "              'n_estimators' : sp_randInt(100, 1000),\n",
    "              'max_depth'    : sp_randInt(1, 10)}\n",
    "\n",
    "randm_src = RandomizedSearchCV(estimator=model, param_distributions = parameters,\n",
    "                               cv = 5, n_iter = 10, n_jobs=-1, scoring='f1')\n",
    "randm_src.fit(features_downsampled, target_downsampled)\n",
    "\n",
    "print(\" Results from Random Search \" )\n",
    "print(\"\\n The best estimator across ALL searched params:\\n\", randm_src.best_estimator_)\n",
    "print(\"\\n The best score across ALL searched params:\\n\", randm_src.best_score_)\n",
    "print(\"\\n The best parameters across ALL searched params:\\n\", randm_src.best_params_)"
   ]
  },
  {
   "cell_type": "code",
   "execution_count": 58,
   "id": "2c343fdd",
   "metadata": {},
   "outputs": [
    {
     "name": "stdout",
     "output_type": "stream",
     "text": [
      "метрика f1: 0.6035283194057567\n",
      "метрика AUC_ROC: 0.8549850564633034\n"
     ]
    }
   ],
   "source": [
    "model = GradientBoostingClassifier(criterion='friedman_mse', init=None,\n",
    "                           learning_rate=0.03958702071337883, loss='deviance',\n",
    "                           max_depth=1, max_features=None, max_leaf_nodes=None,\n",
    "                           min_impurity_decrease=0.0, min_impurity_split=None,\n",
    "                           min_samples_leaf=1, min_samples_split=2,\n",
    "                           min_weight_fraction_leaf=0.0, n_estimators=728,\n",
    "                           n_iter_no_change=None, presort='auto',\n",
    "                           random_state=None, subsample=0.12149086794442532,\n",
    "                           tol=0.0001, validation_fraction=0.1, verbose=0,\n",
    "                           warm_start=False) \n",
    "\n",
    "model.fit(features_downsampled, target_downsampled) # обучение модели\n",
    "\n",
    "predictions = model.predict(features_valid)\n",
    "\n",
    "print('метрика f1:',f1_score(predictions, target_valid)) \n",
    "\n",
    "probabilities_valid = model.predict_proba(features_valid)\n",
    "probabilities_one_valid = probabilities_valid[:, 1]\n",
    "\n",
    "print ('метрика AUC_ROC:',roc_auc_score(target_valid, probabilities_one_valid))"
   ]
  },
  {
   "cell_type": "code",
   "execution_count": 59,
   "id": "466962ee",
   "metadata": {},
   "outputs": [
    {
     "name": "stdout",
     "output_type": "stream",
     "text": [
      "метрика f1: 0.6099815157116452\n",
      "метрика AUC_ROC: 0.8724549755116894\n"
     ]
    }
   ],
   "source": [
    "model = GradientBoostingClassifier(n_estimators=100, \n",
    "                                   learning_rate=0.1, \n",
    "                                   max_depth=3, \n",
    "                                   random_state=404) \n",
    "\n",
    "model.fit(features_downsampled, target_downsampled) # обучение модели\n",
    "\n",
    "predictions = model.predict(features_valid)\n",
    "\n",
    "print('метрика f1:',f1_score(predictions, target_valid)) \n",
    "\n",
    "probabilities_valid = model.predict_proba(features_valid)\n",
    "probabilities_one_valid = probabilities_valid[:, 1]\n",
    "\n",
    "print ('метрика AUC_ROC:',roc_auc_score(target_valid, probabilities_one_valid))"
   ]
  },
  {
   "cell_type": "markdown",
   "id": "bdc9acc4",
   "metadata": {},
   "source": [
    "<div style=\"border:solid blue 2px; padding: 20px\">\n",
    "\n",
    "Оптимизация гиперпараметров с использованием RandomizedSearchCV не дала результатов"
   ]
  },
  {
   "cell_type": "markdown",
   "id": "b14678c1",
   "metadata": {},
   "source": [
    "#### MLPClassifier (увеличенная выборка)"
   ]
  },
  {
   "cell_type": "code",
   "execution_count": 60,
   "id": "9c82a38a",
   "metadata": {},
   "outputs": [
    {
     "name": "stdout",
     "output_type": "stream",
     "text": [
      "Fitting 5 folds for each of 100 candidates, totalling 500 fits\n"
     ]
    },
    {
     "name": "stderr",
     "output_type": "stream",
     "text": [
      "[Parallel(n_jobs=-1)]: Using backend LokyBackend with 4 concurrent workers.\n",
      "[Parallel(n_jobs=-1)]: Done  24 tasks      | elapsed:    9.6s\n",
      "[Parallel(n_jobs=-1)]: Done 120 tasks      | elapsed:  1.2min\n",
      "[Parallel(n_jobs=-1)]: Done 280 tasks      | elapsed:  2.7min\n",
      "[Parallel(n_jobs=-1)]: Done 500 out of 500 | elapsed:  5.2min finished\n"
     ]
    },
    {
     "name": "stdout",
     "output_type": "stream",
     "text": [
      " Results from Random Search \n",
      "\n",
      " The best estimator across ALL searched params:\n",
      " MLPClassifier(activation='relu', alpha=10, batch_size='auto', beta_1=0.9,\n",
      "              beta_2=0.999, early_stopping=False, epsilon=1e-08,\n",
      "              hidden_layer_sizes=(100,), learning_rate='invscaling',\n",
      "              learning_rate_init=0.001, max_iter=200, momentum=0.9,\n",
      "              n_iter_no_change=10, nesterovs_momentum=True, power_t=0.5,\n",
      "              random_state=None, shuffle=True, solver='lbfgs', tol=0.0001,\n",
      "              validation_fraction=0.1, verbose=False, warm_start=False)\n",
      "\n",
      " The best score across ALL searched params:\n",
      " 0.7592437260991816\n",
      "\n",
      " The best parameters across ALL searched params:\n",
      " {'solver': 'lbfgs', 'learning_rate': 'invscaling', 'hidden_layer_sizes': (100,), 'alpha': 10, 'activation': 'relu'}\n"
     ]
    }
   ],
   "source": [
    "import scipy.stats\n",
    "import itertools\n",
    "from sklearn.metrics import fbeta_score, make_scorer\n",
    "from sklearn.metrics import precision_score\n",
    "from sklearn.model_selection import StratifiedKFold\n",
    "\n",
    "model = MLPClassifier()\n",
    "\n",
    "hidden_layer_sizes = ([x for x in itertools.product((10, 20, 30, 40, 50, 53, 73, 100), repeat=1)] + \\\n",
    "                       [x for x in itertools.product((10, 20, 30, 40, 50, 100), repeat=2)] )\n",
    "                       #[((len(clean_df.columns))+1,)] )]\n",
    "#print(hidden_layer_sizes)\n",
    "alpha = [0.01, 0.1, 1, 10, 100]\n",
    "activation = ['identity', 'logistic', 'tanh', 'relu']\n",
    "solver = ['lbfgs', 'sgd', 'adam']\n",
    "learning_rate = ['constant', 'invscaling', 'adaptive']\n",
    "\n",
    "parameters = {'hidden_layer_sizes': hidden_layer_sizes,\n",
    "               'alpha': alpha,\n",
    "              'activation' : activation,\n",
    "              'solver': solver,\n",
    "              'learning_rate': learning_rate}\n",
    "\n",
    "\n",
    "randm_src = RandomizedSearchCV(estimator=model, param_distributions = parameters,\n",
    "                               n_iter=100, cv=5, n_jobs=-1, verbose=3, scoring='f1')\n",
    "randm_src.fit(features_downsampled, target_downsampled)\n",
    "\n",
    "print(\" Results from Random Search \" )\n",
    "print(\"\\n The best estimator across ALL searched params:\\n\", randm_src.best_estimator_)\n",
    "print(\"\\n The best score across ALL searched params:\\n\", randm_src.best_score_)\n",
    "print(\"\\n The best parameters across ALL searched params:\\n\", randm_src.best_params_)"
   ]
  },
  {
   "cell_type": "code",
   "execution_count": 61,
   "id": "2cad28d3",
   "metadata": {},
   "outputs": [
    {
     "name": "stdout",
     "output_type": "stream",
     "text": [
      "метрика f1: 0.6190028222013171\n",
      "метрика AUC_ROC: 0.8635574565563648\n"
     ]
    }
   ],
   "source": [
    "model =MLPClassifier(activation='tanh', alpha=10, batch_size='auto', beta_1=0.9,\n",
    "              beta_2=0.999, early_stopping=False, epsilon=1e-08,\n",
    "              hidden_layer_sizes=(10, 30), learning_rate='constant',\n",
    "              learning_rate_init=0.001, max_iter=200, momentum=0.9,\n",
    "              n_iter_no_change=10, nesterovs_momentum=True, power_t=0.5,\n",
    "              random_state=None, shuffle=True, solver='lbfgs', tol=0.0001,\n",
    "              validation_fraction=0.1, verbose=False, warm_start=False)\n",
    "\n",
    "model.fit(features_upsampled, target_upsampled) # обучение модели\n",
    "\n",
    "predictions = model.predict(features_valid)\n",
    "\n",
    "print('метрика f1:',f1_score(predictions, target_valid)) \n",
    "\n",
    "probabilities_valid = model.predict_proba(features_valid)\n",
    "probabilities_one_valid = probabilities_valid[:, 1]\n",
    "\n",
    "print ('метрика AUC_ROC:',roc_auc_score(target_valid, probabilities_one_valid))"
   ]
  },
  {
   "cell_type": "code",
   "execution_count": 62,
   "id": "bcd92dbd",
   "metadata": {},
   "outputs": [
    {
     "name": "stdout",
     "output_type": "stream",
     "text": [
      "метрика f1: 0.6153846153846153\n",
      "метрика AUC_ROC: 0.8604121552696101\n"
     ]
    }
   ],
   "source": [
    "model =MLPClassifier(random_state=404, max_iter=101)\n",
    "\n",
    "model.fit(features_upsampled, target_upsampled) # обучение модели\n",
    "\n",
    "predictions = model.predict(features_valid)\n",
    "\n",
    "print('метрика f1:',f1_score(predictions, target_valid)) \n",
    "\n",
    "probabilities_valid = model.predict_proba(features_valid)\n",
    "probabilities_one_valid = probabilities_valid[:, 1]\n",
    "\n",
    "print ('метрика AUC_ROC:',roc_auc_score(target_valid, probabilities_one_valid))"
   ]
  },
  {
   "cell_type": "markdown",
   "id": "8dfbd960",
   "metadata": {},
   "source": [
    "<div style=\"border:solid blue 2px; padding: 20px\">\n",
    "\n",
    "Оптимизация гиперпараметров с использованием RandomizedSearchCV показала возможность увеличения качества модели"
   ]
  },
  {
   "cell_type": "markdown",
   "id": "cda1540b",
   "metadata": {},
   "source": [
    "## Финальное тестирование"
   ]
  },
  {
   "cell_type": "code",
   "execution_count": 72,
   "id": "af5558a9",
   "metadata": {},
   "outputs": [
    {
     "name": "stdout",
     "output_type": "stream",
     "text": [
      "метрика f1: 0.5855614973262031\n",
      "метрика AUC_ROC: 0.8454422392818757\n"
     ]
    }
   ],
   "source": [
    "predictions = best_model_forest_ups.predict(features_test)\n",
    "\n",
    "probabilities_valid =  best_model_forest_ups.predict_proba(features_test)\n",
    "probabilities_one_valid = probabilities_valid[:, 1]\n",
    "\n",
    "print('метрика f1:',f1_score(predictions, target_test)) \n",
    "print ('метрика AUC_ROC:',roc_auc_score(target_test, probabilities_one_valid))"
   ]
  },
  {
   "cell_type": "code",
   "execution_count": 63,
   "id": "8dbaac99",
   "metadata": {},
   "outputs": [
    {
     "name": "stdout",
     "output_type": "stream",
     "text": [
      "метрика f1: 0.5955284552845529\n",
      "метрика AUC_ROC: 0.863593230705577\n"
     ]
    }
   ],
   "source": [
    "predictions = best_model_GBC_ups.predict(features_test)\n",
    "\n",
    "probabilities_valid = best_model_GBC_ups.predict_proba(features_test)\n",
    "probabilities_one_valid = probabilities_valid[:, 1]\n",
    "\n",
    "print('метрика f1:',f1_score(predictions, target_test)) \n",
    "print ('метрика AUC_ROC:',roc_auc_score(target_test, probabilities_one_valid))"
   ]
  },
  {
   "cell_type": "code",
   "execution_count": 64,
   "id": "6daad2f9",
   "metadata": {},
   "outputs": [
    {
     "name": "stdout",
     "output_type": "stream",
     "text": [
      "метрика f1: 0.5941747572815534\n",
      "метрика AUC_ROC: 0.8534338923442932\n"
     ]
    }
   ],
   "source": [
    "predictions = best_model_GBC_dws.predict(features_test)\n",
    "\n",
    "probabilities_valid = best_model_GBC_dws.predict_proba(features_test)\n",
    "probabilities_one_valid = probabilities_valid[:, 1]\n",
    "\n",
    "print('метрика f1:',f1_score(predictions, target_test)) \n",
    "print ('метрика AUC_ROC:',roc_auc_score(target_test, probabilities_one_valid))"
   ]
  },
  {
   "cell_type": "code",
   "execution_count": 65,
   "id": "c48ed7f5",
   "metadata": {},
   "outputs": [
    {
     "name": "stdout",
     "output_type": "stream",
     "text": [
      "метрика f1: 0.5821596244131456\n",
      "метрика AUC_ROC: 0.8535133441567688\n"
     ]
    }
   ],
   "source": [
    "predictions = best_model_MLP_ups.predict(features_test)\n",
    "\n",
    "probabilities_valid = best_model_MLP_ups.predict_proba(features_test)\n",
    "probabilities_one_valid = probabilities_valid[:, 1]\n",
    "\n",
    "print('метрика f1:',f1_score(predictions, target_test)) \n",
    "print ('метрика AUC_ROC:',roc_auc_score(target_test, probabilities_one_valid))"
   ]
  },
  {
   "cell_type": "markdown",
   "id": "56a22537",
   "metadata": {},
   "source": [
    "<div style=\"border:solid blue 2px; padding: 20px\">\n",
    "\n",
    "**Лучшие значения метрик f1 и AUC_ROC показала модель GradientBoostingClassifier, обученная на увеличенной выборке**"
   ]
  },
  {
   "cell_type": "markdown",
   "id": "bbc04f04",
   "metadata": {},
   "source": [
    "## Заключение"
   ]
  },
  {
   "cell_type": "markdown",
   "id": "eaa22cbe",
   "metadata": {},
   "source": [
    "В рамках настоящего исследования:\n",
    "\n",
    "- проведена предобработка данных, включающая в том числе:\n",
    "    - преобразование категориальных переменных в численные\n",
    "    - масштабирование данных\n",
    "- проведено обучение ряда моделей: \n",
    "    - DecisionTreeClassifier\n",
    "    - RandomForestClassifier\n",
    "    - LogisticRegression\n",
    "    - KNeighborsClassifier\n",
    "    - GradientBoostingClassifier \n",
    "    - MLPClassifier\n",
    "- исследовано качество обученных моделей на метрике F1 для разных гиперпараметров, для:\n",
    "    - не сбалансированных данных\n",
    "    - сбалансированных данных (балансировка производилась как способом увеличения так и способом уменьшения выборки)\n",
    "- показатели выше минимально требуемых достигли следующие модели:\n",
    "    - RandomForestClassifier, обученная на не сбалансированной выборке (best_result_forest)\n",
    "    - GradientBoostingClassifier, обученная на не сбалансированной выборке (best_result_GBC)\n",
    "\n",
    "    - RandomForestClassifier, обученная на увеличенной выборке (best_result_forest_ups)\n",
    "    - GradientBoostingClassifier, обученная на увеличенной выборке (best_result_GBC_ups)\n",
    "    - MLPClassifier, обученная на увеличенной выборке (best_result_MLP_ups)\n",
    "\n",
    "    - RandomForestClassifier, обученная на уменьшенной выборке (best_result_forest_dws)\n",
    "    - GradientBoostingClassifier, обученная на уменьшенной выборке (best_result_GBC_dws)\n",
    "    - MLPClassifier, обученная на уменьшенной выборке (best_result_MLP_dws)\n",
    "- определны модели, показавшие наилучшие показатели по метрике F1, проведена попытка оптимизации гиперпараметров с помощью RandomizedSearchCV:\n",
    "    - RandomForestClassifier (увеличенная выборка), f1 = 0.630\n",
    "    - GradientBoostingClassifier (увеличенная выборка), f1 = 0.636\n",
    "    - GradientBoostingClassifier (уменьшенная выборка), f1 = 0.609\n",
    "    - MLPClassifier (увеличенная выборка), f1 = 0.619\n",
    "- расчитаны метрики F1 и AUC ROC для трех моделей, показавших наилучшие результаты\n",
    "- проведено финальное тестирование моделей"
   ]
  },
  {
   "cell_type": "code",
   "execution_count": null,
   "id": "473b62ae",
   "metadata": {},
   "outputs": [],
   "source": []
  }
 ],
 "metadata": {
  "ExecuteTimeLog": [
   {
    "duration": 123,
    "start_time": "2022-04-26T17:07:04.877Z"
   },
   {
    "duration": 1698,
    "start_time": "2022-04-26T17:07:09.288Z"
   },
   {
    "duration": 7,
    "start_time": "2022-04-26T17:07:10.988Z"
   },
   {
    "duration": 9,
    "start_time": "2022-04-26T17:07:10.998Z"
   },
   {
    "duration": 229,
    "start_time": "2022-04-26T17:07:11.009Z"
   },
   {
    "duration": 20,
    "start_time": "2022-04-26T17:07:11.242Z"
   },
   {
    "duration": 31,
    "start_time": "2022-04-26T17:07:11.265Z"
   },
   {
    "duration": 20,
    "start_time": "2022-04-26T17:07:11.298Z"
   },
   {
    "duration": 10,
    "start_time": "2022-04-26T17:07:11.320Z"
   },
   {
    "duration": 7,
    "start_time": "2022-04-26T17:07:11.332Z"
   },
   {
    "duration": 57,
    "start_time": "2022-04-26T17:07:11.341Z"
   },
   {
    "duration": 23,
    "start_time": "2022-04-26T17:07:11.401Z"
   },
   {
    "duration": 10,
    "start_time": "2022-04-26T17:07:11.427Z"
   },
   {
    "duration": 11,
    "start_time": "2022-04-26T17:07:11.439Z"
   },
   {
    "duration": 50,
    "start_time": "2022-04-26T17:07:11.453Z"
   },
   {
    "duration": 12,
    "start_time": "2022-04-26T17:07:11.507Z"
   },
   {
    "duration": 19,
    "start_time": "2022-04-26T17:07:11.521Z"
   },
   {
    "duration": 18,
    "start_time": "2022-04-26T17:07:11.542Z"
   },
   {
    "duration": 6,
    "start_time": "2022-04-26T17:07:11.562Z"
   },
   {
    "duration": 6,
    "start_time": "2022-04-26T17:09:13.810Z"
   },
   {
    "duration": 8,
    "start_time": "2022-04-26T17:09:14.487Z"
   },
   {
    "duration": 5,
    "start_time": "2022-04-26T17:09:53.622Z"
   },
   {
    "duration": 93,
    "start_time": "2022-04-26T17:10:13.839Z"
   },
   {
    "duration": 15,
    "start_time": "2022-04-26T17:12:54.568Z"
   },
   {
    "duration": 6,
    "start_time": "2022-04-26T17:13:02.041Z"
   },
   {
    "duration": 5,
    "start_time": "2022-04-26T17:13:09.884Z"
   },
   {
    "duration": 8,
    "start_time": "2022-04-26T17:13:20.920Z"
   },
   {
    "duration": 5,
    "start_time": "2022-04-26T17:13:34.619Z"
   },
   {
    "duration": 5,
    "start_time": "2022-04-26T17:13:35.006Z"
   },
   {
    "duration": 8,
    "start_time": "2022-04-26T17:13:35.562Z"
   },
   {
    "duration": 34,
    "start_time": "2022-04-26T17:13:39.999Z"
   },
   {
    "duration": 5,
    "start_time": "2022-04-26T17:15:52.009Z"
   },
   {
    "duration": 2290,
    "start_time": "2022-04-26T17:22:56.714Z"
   },
   {
    "duration": 12,
    "start_time": "2022-04-26T17:22:59.008Z"
   },
   {
    "duration": 10,
    "start_time": "2022-04-26T17:22:59.023Z"
   },
   {
    "duration": 152,
    "start_time": "2022-04-26T17:22:59.036Z"
   },
   {
    "duration": 25,
    "start_time": "2022-04-26T17:22:59.191Z"
   },
   {
    "duration": 31,
    "start_time": "2022-04-26T17:22:59.218Z"
   },
   {
    "duration": 61,
    "start_time": "2022-04-26T17:22:59.252Z"
   },
   {
    "duration": 8,
    "start_time": "2022-04-26T17:22:59.315Z"
   },
   {
    "duration": 7,
    "start_time": "2022-04-26T17:22:59.325Z"
   },
   {
    "duration": 12,
    "start_time": "2022-04-26T17:22:59.334Z"
   },
   {
    "duration": 52,
    "start_time": "2022-04-26T17:22:59.349Z"
   },
   {
    "duration": 13,
    "start_time": "2022-04-26T17:22:59.403Z"
   },
   {
    "duration": 12,
    "start_time": "2022-04-26T17:22:59.418Z"
   },
   {
    "duration": 7,
    "start_time": "2022-04-26T17:22:59.434Z"
   },
   {
    "duration": 8,
    "start_time": "2022-04-26T17:22:59.443Z"
   },
   {
    "duration": 60,
    "start_time": "2022-04-26T17:22:59.454Z"
   },
   {
    "duration": 13,
    "start_time": "2022-04-26T17:22:59.517Z"
   },
   {
    "duration": 7,
    "start_time": "2022-04-26T17:22:59.532Z"
   },
   {
    "duration": 11,
    "start_time": "2022-04-26T17:22:59.541Z"
   },
   {
    "duration": 10,
    "start_time": "2022-04-26T17:22:59.555Z"
   },
   {
    "duration": 70,
    "start_time": "2022-04-26T17:22:59.568Z"
   },
   {
    "duration": 5,
    "start_time": "2022-04-26T17:22:59.642Z"
   },
   {
    "duration": 10,
    "start_time": "2022-04-26T17:22:59.650Z"
   },
   {
    "duration": 11,
    "start_time": "2022-04-26T17:22:59.662Z"
   },
   {
    "duration": 33,
    "start_time": "2022-04-26T17:22:59.675Z"
   },
   {
    "duration": 10,
    "start_time": "2022-04-26T17:22:59.714Z"
   },
   {
    "duration": 36,
    "start_time": "2022-04-26T17:22:59.726Z"
   },
   {
    "duration": 53,
    "start_time": "2022-04-26T17:23:13.901Z"
   },
   {
    "duration": 29,
    "start_time": "2022-04-26T17:23:15.309Z"
   },
   {
    "duration": 197,
    "start_time": "2022-04-26T17:24:46.828Z"
   },
   {
    "duration": 43,
    "start_time": "2022-04-26T17:25:12.133Z"
   },
   {
    "duration": 37,
    "start_time": "2022-04-26T17:25:30.532Z"
   },
   {
    "duration": 31,
    "start_time": "2022-04-26T17:26:42.161Z"
   },
   {
    "duration": 20,
    "start_time": "2022-04-26T17:26:46.639Z"
   },
   {
    "duration": 22,
    "start_time": "2022-04-26T17:27:11.237Z"
   },
   {
    "duration": 32,
    "start_time": "2022-04-26T17:27:12.790Z"
   },
   {
    "duration": 10,
    "start_time": "2022-04-26T17:27:18.650Z"
   },
   {
    "duration": 26,
    "start_time": "2022-04-26T17:27:19.393Z"
   },
   {
    "duration": 1767,
    "start_time": "2022-04-26T17:27:28.426Z"
   },
   {
    "duration": 10,
    "start_time": "2022-04-26T17:27:30.197Z"
   },
   {
    "duration": 51,
    "start_time": "2022-04-26T17:27:30.210Z"
   },
   {
    "duration": 177,
    "start_time": "2022-04-26T17:27:30.265Z"
   },
   {
    "duration": 20,
    "start_time": "2022-04-26T17:27:30.444Z"
   },
   {
    "duration": 59,
    "start_time": "2022-04-26T17:27:30.466Z"
   },
   {
    "duration": 68,
    "start_time": "2022-04-26T17:27:30.528Z"
   },
   {
    "duration": 27,
    "start_time": "2022-04-26T17:27:30.604Z"
   },
   {
    "duration": 16,
    "start_time": "2022-04-26T17:27:30.633Z"
   },
   {
    "duration": 26,
    "start_time": "2022-04-26T17:27:30.655Z"
   },
   {
    "duration": 21,
    "start_time": "2022-04-26T17:27:30.683Z"
   },
   {
    "duration": 35,
    "start_time": "2022-04-26T17:27:30.707Z"
   },
   {
    "duration": 26,
    "start_time": "2022-04-26T17:27:30.745Z"
   },
   {
    "duration": 57,
    "start_time": "2022-04-26T17:27:30.773Z"
   },
   {
    "duration": 34,
    "start_time": "2022-04-26T17:27:30.833Z"
   },
   {
    "duration": 46,
    "start_time": "2022-04-26T17:27:30.870Z"
   },
   {
    "duration": 33,
    "start_time": "2022-04-26T17:27:30.919Z"
   },
   {
    "duration": 12,
    "start_time": "2022-04-26T17:27:30.956Z"
   },
   {
    "duration": 18,
    "start_time": "2022-04-26T17:27:30.972Z"
   },
   {
    "duration": 35,
    "start_time": "2022-04-26T17:27:30.995Z"
   },
   {
    "duration": 62,
    "start_time": "2022-04-26T17:27:31.033Z"
   },
   {
    "duration": 7,
    "start_time": "2022-04-26T17:27:31.097Z"
   },
   {
    "duration": 31,
    "start_time": "2022-04-26T17:27:31.106Z"
   },
   {
    "duration": 11,
    "start_time": "2022-04-26T17:27:31.140Z"
   },
   {
    "duration": 31,
    "start_time": "2022-04-26T17:27:31.154Z"
   },
   {
    "duration": 32,
    "start_time": "2022-04-26T17:27:31.187Z"
   },
   {
    "duration": 10,
    "start_time": "2022-04-26T17:27:34.340Z"
   },
   {
    "duration": 24,
    "start_time": "2022-04-26T17:27:35.278Z"
   },
   {
    "duration": 172,
    "start_time": "2022-04-26T17:27:54.980Z"
   },
   {
    "duration": 6,
    "start_time": "2022-04-26T17:28:07.480Z"
   },
   {
    "duration": 11,
    "start_time": "2022-04-26T17:28:59.442Z"
   },
   {
    "duration": 9,
    "start_time": "2022-04-26T17:28:59.919Z"
   },
   {
    "duration": 1570,
    "start_time": "2022-04-26T17:30:25.523Z"
   },
   {
    "duration": 10,
    "start_time": "2022-04-26T17:30:27.096Z"
   },
   {
    "duration": 12,
    "start_time": "2022-04-26T17:30:27.107Z"
   },
   {
    "duration": 133,
    "start_time": "2022-04-26T17:30:27.121Z"
   },
   {
    "duration": 20,
    "start_time": "2022-04-26T17:30:27.260Z"
   },
   {
    "duration": 37,
    "start_time": "2022-04-26T17:30:27.283Z"
   },
   {
    "duration": 21,
    "start_time": "2022-04-26T17:30:27.322Z"
   },
   {
    "duration": 9,
    "start_time": "2022-04-26T17:30:27.345Z"
   },
   {
    "duration": 38,
    "start_time": "2022-04-26T17:30:27.357Z"
   },
   {
    "duration": 18,
    "start_time": "2022-04-26T17:30:27.398Z"
   },
   {
    "duration": 13,
    "start_time": "2022-04-26T17:30:27.419Z"
   },
   {
    "duration": 7,
    "start_time": "2022-04-26T17:30:27.434Z"
   },
   {
    "duration": 30,
    "start_time": "2022-04-26T17:30:27.444Z"
   },
   {
    "duration": 7,
    "start_time": "2022-04-26T17:30:27.493Z"
   },
   {
    "duration": 11,
    "start_time": "2022-04-26T17:30:27.503Z"
   },
   {
    "duration": 26,
    "start_time": "2022-04-26T17:30:27.516Z"
   },
   {
    "duration": 29,
    "start_time": "2022-04-26T17:30:27.545Z"
   },
   {
    "duration": 16,
    "start_time": "2022-04-26T17:30:27.577Z"
   },
   {
    "duration": 9,
    "start_time": "2022-04-26T17:30:27.596Z"
   },
   {
    "duration": 9,
    "start_time": "2022-04-26T17:30:27.607Z"
   },
   {
    "duration": 34,
    "start_time": "2022-04-26T17:30:27.619Z"
   },
   {
    "duration": 5,
    "start_time": "2022-04-26T17:30:27.655Z"
   },
   {
    "duration": 9,
    "start_time": "2022-04-26T17:30:27.694Z"
   },
   {
    "duration": 8,
    "start_time": "2022-04-26T17:30:27.705Z"
   },
   {
    "duration": 9,
    "start_time": "2022-04-26T17:30:30.032Z"
   },
   {
    "duration": 7,
    "start_time": "2022-04-26T17:30:30.624Z"
   },
   {
    "duration": 35,
    "start_time": "2022-04-26T17:32:25.083Z"
   },
   {
    "duration": 17,
    "start_time": "2022-04-26T17:32:29.885Z"
   },
   {
    "duration": 6,
    "start_time": "2022-04-26T17:32:32.072Z"
   },
   {
    "duration": 154,
    "start_time": "2022-04-26T17:33:00.629Z"
   },
   {
    "duration": 1603,
    "start_time": "2022-04-26T17:33:12.695Z"
   },
   {
    "duration": 7,
    "start_time": "2022-04-26T17:33:14.301Z"
   },
   {
    "duration": 10,
    "start_time": "2022-04-26T17:33:14.310Z"
   },
   {
    "duration": 153,
    "start_time": "2022-04-26T17:33:14.322Z"
   },
   {
    "duration": 20,
    "start_time": "2022-04-26T17:33:14.479Z"
   },
   {
    "duration": 31,
    "start_time": "2022-04-26T17:33:14.501Z"
   },
   {
    "duration": 19,
    "start_time": "2022-04-26T17:33:14.535Z"
   },
   {
    "duration": 36,
    "start_time": "2022-04-26T17:33:14.556Z"
   },
   {
    "duration": 6,
    "start_time": "2022-04-26T17:33:14.595Z"
   },
   {
    "duration": 13,
    "start_time": "2022-04-26T17:33:14.603Z"
   },
   {
    "duration": 10,
    "start_time": "2022-04-26T17:33:14.618Z"
   },
   {
    "duration": 7,
    "start_time": "2022-04-26T17:33:14.630Z"
   },
   {
    "duration": 55,
    "start_time": "2022-04-26T17:33:14.639Z"
   },
   {
    "duration": 6,
    "start_time": "2022-04-26T17:33:14.698Z"
   },
   {
    "duration": 12,
    "start_time": "2022-04-26T17:33:14.707Z"
   },
   {
    "duration": 20,
    "start_time": "2022-04-26T17:33:14.721Z"
   },
   {
    "duration": 8,
    "start_time": "2022-04-26T17:33:14.743Z"
   },
   {
    "duration": 39,
    "start_time": "2022-04-26T17:33:14.754Z"
   },
   {
    "duration": 9,
    "start_time": "2022-04-26T17:33:14.796Z"
   },
   {
    "duration": 11,
    "start_time": "2022-04-26T17:33:14.807Z"
   },
   {
    "duration": 49,
    "start_time": "2022-04-26T17:33:14.821Z"
   },
   {
    "duration": 6,
    "start_time": "2022-04-26T17:33:14.893Z"
   },
   {
    "duration": 9,
    "start_time": "2022-04-26T17:33:14.902Z"
   },
   {
    "duration": 7,
    "start_time": "2022-04-26T17:33:14.913Z"
   },
   {
    "duration": 11,
    "start_time": "2022-04-26T17:33:14.922Z"
   },
   {
    "duration": 59,
    "start_time": "2022-04-26T17:33:14.935Z"
   },
   {
    "duration": 28,
    "start_time": "2022-04-26T17:33:18.399Z"
   },
   {
    "duration": 6,
    "start_time": "2022-04-26T17:33:19.210Z"
   },
   {
    "duration": 27,
    "start_time": "2022-04-26T17:34:05.378Z"
   },
   {
    "duration": 35,
    "start_time": "2022-04-26T17:34:11.233Z"
   },
   {
    "duration": 19,
    "start_time": "2022-04-26T17:34:22.772Z"
   },
   {
    "duration": 21,
    "start_time": "2022-04-26T17:34:41.486Z"
   },
   {
    "duration": 19,
    "start_time": "2022-04-26T17:34:42.281Z"
   },
   {
    "duration": 622,
    "start_time": "2022-04-26T17:40:13.972Z"
   },
   {
    "duration": 219,
    "start_time": "2022-04-26T17:51:32.076Z"
   },
   {
    "duration": 196,
    "start_time": "2022-04-26T17:51:46.025Z"
   },
   {
    "duration": 8,
    "start_time": "2022-04-26T17:52:23.423Z"
   },
   {
    "duration": 1936,
    "start_time": "2022-04-26T17:53:12.189Z"
   },
   {
    "duration": 8,
    "start_time": "2022-04-26T17:53:14.128Z"
   },
   {
    "duration": 10,
    "start_time": "2022-04-26T17:53:14.138Z"
   },
   {
    "duration": 162,
    "start_time": "2022-04-26T17:53:14.151Z"
   },
   {
    "duration": 26,
    "start_time": "2022-04-26T17:53:14.316Z"
   },
   {
    "duration": 66,
    "start_time": "2022-04-26T17:53:14.345Z"
   },
   {
    "duration": 21,
    "start_time": "2022-04-26T17:53:14.414Z"
   },
   {
    "duration": 8,
    "start_time": "2022-04-26T17:53:14.438Z"
   },
   {
    "duration": 43,
    "start_time": "2022-04-26T17:53:14.450Z"
   },
   {
    "duration": 11,
    "start_time": "2022-04-26T17:53:14.497Z"
   },
   {
    "duration": 11,
    "start_time": "2022-04-26T17:53:14.510Z"
   },
   {
    "duration": 9,
    "start_time": "2022-04-26T17:53:14.524Z"
   },
   {
    "duration": 10,
    "start_time": "2022-04-26T17:53:14.535Z"
   },
   {
    "duration": 48,
    "start_time": "2022-04-26T17:53:14.547Z"
   },
   {
    "duration": 9,
    "start_time": "2022-04-26T17:53:14.597Z"
   },
   {
    "duration": 18,
    "start_time": "2022-04-26T17:53:14.608Z"
   },
   {
    "duration": 8,
    "start_time": "2022-04-26T17:53:14.628Z"
   },
   {
    "duration": 6,
    "start_time": "2022-04-26T17:53:14.639Z"
   },
   {
    "duration": 47,
    "start_time": "2022-04-26T17:53:14.647Z"
   },
   {
    "duration": 8,
    "start_time": "2022-04-26T17:53:14.697Z"
   },
   {
    "duration": 49,
    "start_time": "2022-04-26T17:53:14.708Z"
   },
   {
    "duration": 34,
    "start_time": "2022-04-26T17:53:14.760Z"
   },
   {
    "duration": 9,
    "start_time": "2022-04-26T17:53:14.797Z"
   },
   {
    "duration": 7,
    "start_time": "2022-04-26T17:53:14.809Z"
   },
   {
    "duration": 10,
    "start_time": "2022-04-26T17:53:14.818Z"
   },
   {
    "duration": 63,
    "start_time": "2022-04-26T17:53:14.831Z"
   },
   {
    "duration": 20,
    "start_time": "2022-04-26T17:53:14.896Z"
   },
   {
    "duration": 1050,
    "start_time": "2022-04-26T17:53:14.924Z"
   },
   {
    "duration": 14624,
    "start_time": "2022-04-26T17:53:15.976Z"
   },
   {
    "duration": 1898,
    "start_time": "2022-04-26T17:53:30.602Z"
   },
   {
    "duration": 2618,
    "start_time": "2022-04-26T17:53:32.504Z"
   },
   {
    "duration": 14939,
    "start_time": "2022-04-26T17:53:35.124Z"
   },
   {
    "duration": 1608,
    "start_time": "2022-04-26T17:56:04.614Z"
   },
   {
    "duration": 8,
    "start_time": "2022-04-26T17:56:06.225Z"
   },
   {
    "duration": 10,
    "start_time": "2022-04-26T17:56:06.235Z"
   },
   {
    "duration": 142,
    "start_time": "2022-04-26T17:56:06.247Z"
   },
   {
    "duration": 20,
    "start_time": "2022-04-26T17:56:06.392Z"
   },
   {
    "duration": 29,
    "start_time": "2022-04-26T17:56:06.414Z"
   },
   {
    "duration": 21,
    "start_time": "2022-04-26T17:56:06.445Z"
   },
   {
    "duration": 8,
    "start_time": "2022-04-26T17:56:06.492Z"
   },
   {
    "duration": 10,
    "start_time": "2022-04-26T17:56:06.503Z"
   },
   {
    "duration": 14,
    "start_time": "2022-04-26T17:56:06.516Z"
   },
   {
    "duration": 11,
    "start_time": "2022-04-26T17:56:06.532Z"
   },
   {
    "duration": 7,
    "start_time": "2022-04-26T17:56:06.546Z"
   },
   {
    "duration": 9,
    "start_time": "2022-04-26T17:56:06.594Z"
   },
   {
    "duration": 11,
    "start_time": "2022-04-26T17:56:06.607Z"
   },
   {
    "duration": 9,
    "start_time": "2022-04-26T17:56:06.620Z"
   },
   {
    "duration": 19,
    "start_time": "2022-04-26T17:56:06.632Z"
   },
   {
    "duration": 39,
    "start_time": "2022-04-26T17:56:06.654Z"
   },
   {
    "duration": 11,
    "start_time": "2022-04-26T17:56:06.696Z"
   },
   {
    "duration": 12,
    "start_time": "2022-04-26T17:56:06.709Z"
   },
   {
    "duration": 10,
    "start_time": "2022-04-26T17:56:06.723Z"
   },
   {
    "duration": 59,
    "start_time": "2022-04-26T17:56:06.736Z"
   },
   {
    "duration": 6,
    "start_time": "2022-04-26T17:56:06.798Z"
   },
   {
    "duration": 12,
    "start_time": "2022-04-26T17:56:06.806Z"
   },
   {
    "duration": 7,
    "start_time": "2022-04-26T17:56:06.820Z"
   },
   {
    "duration": 11,
    "start_time": "2022-04-26T17:56:06.830Z"
   },
   {
    "duration": 59,
    "start_time": "2022-04-26T17:56:06.843Z"
   },
   {
    "duration": 19,
    "start_time": "2022-04-26T17:56:06.904Z"
   },
   {
    "duration": 1070,
    "start_time": "2022-04-26T17:56:06.925Z"
   },
   {
    "duration": 15876,
    "start_time": "2022-04-26T17:56:07.997Z"
   },
   {
    "duration": 2828,
    "start_time": "2022-04-26T17:56:23.875Z"
   },
   {
    "duration": 1920,
    "start_time": "2022-04-26T17:56:26.795Z"
   },
   {
    "duration": 15369,
    "start_time": "2022-04-26T17:56:28.717Z"
   },
   {
    "duration": 229300,
    "start_time": "2022-04-26T17:56:44.093Z"
   },
   {
    "duration": 96,
    "start_time": "2022-04-26T18:00:33.403Z"
   },
   {
    "duration": 8,
    "start_time": "2022-04-26T18:00:33.501Z"
   },
   {
    "duration": 19,
    "start_time": "2022-04-26T18:00:33.512Z"
   },
   {
    "duration": 9,
    "start_time": "2022-04-26T18:00:33.533Z"
   },
   {
    "duration": 1377,
    "start_time": "2022-04-26T18:00:33.544Z"
   },
   {
    "duration": 19430,
    "start_time": "2022-04-26T18:00:34.923Z"
   },
   {
    "duration": 2242,
    "start_time": "2022-04-26T18:00:54.361Z"
   },
   {
    "duration": 4086,
    "start_time": "2022-04-26T18:00:56.698Z"
   },
   {
    "duration": 23744,
    "start_time": "2022-04-26T18:01:00.794Z"
   },
   {
    "duration": 345853,
    "start_time": "2022-04-26T18:01:24.541Z"
   },
   {
    "duration": 599,
    "start_time": "2022-04-26T18:07:10.397Z"
   },
   {
    "duration": 6973,
    "start_time": "2022-04-26T18:07:10.999Z"
   },
   {
    "duration": 1221,
    "start_time": "2022-04-26T18:07:17.974Z"
   },
   {
    "duration": 1443,
    "start_time": "2022-04-26T18:07:19.199Z"
   },
   {
    "duration": 10975,
    "start_time": "2022-04-26T18:07:20.644Z"
   },
   {
    "duration": 61380,
    "start_time": "2022-04-26T18:07:31.622Z"
   },
   {
    "duration": 9,
    "start_time": "2022-04-26T18:10:02.042Z"
   },
   {
    "duration": 9,
    "start_time": "2022-04-26T18:10:37.321Z"
   },
   {
    "duration": 16,
    "start_time": "2022-04-26T18:10:41.622Z"
   },
   {
    "duration": 8,
    "start_time": "2022-04-26T18:10:45.711Z"
   },
   {
    "duration": 156,
    "start_time": "2022-04-26T18:11:36.146Z"
   },
   {
    "duration": 44,
    "start_time": "2022-04-26T18:12:29.317Z"
   },
   {
    "duration": 32,
    "start_time": "2022-04-26T18:12:30.601Z"
   },
   {
    "duration": 220,
    "start_time": "2022-04-26T18:12:31.684Z"
   },
   {
    "duration": 458,
    "start_time": "2022-04-26T18:15:16.574Z"
   },
   {
    "duration": 62065,
    "start_time": "2022-04-26T18:15:23.804Z"
   },
   {
    "duration": 14715,
    "start_time": "2022-04-26T18:17:37.328Z"
   }
  ],
  "kernelspec": {
   "display_name": "Python 3",
   "language": "python",
   "name": "python3"
  },
  "language_info": {
   "codemirror_mode": {
    "name": "ipython",
    "version": 3
   },
   "file_extension": ".py",
   "mimetype": "text/x-python",
   "name": "python",
   "nbconvert_exporter": "python",
   "pygments_lexer": "ipython3",
   "version": "3.7.12"
  },
  "toc": {
   "base_numbering": 1,
   "nav_menu": {},
   "number_sections": true,
   "sideBar": true,
   "skip_h1_title": true,
   "title_cell": "Содержание",
   "title_sidebar": "Содержание",
   "toc_cell": true,
   "toc_position": {
    "height": "calc(100% - 180px)",
    "left": "10px",
    "top": "150px",
    "width": "441.006px"
   },
   "toc_section_display": true,
   "toc_window_display": true
  }
 },
 "nbformat": 4,
 "nbformat_minor": 5
}
