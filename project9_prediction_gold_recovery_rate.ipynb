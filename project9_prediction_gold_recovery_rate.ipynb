{
 "cells": [
  {
   "cell_type": "markdown",
   "id": "2c8c63e9",
   "metadata": {
    "toc": true
   },
   "source": [
    "<h1>Содержание<span class=\"tocSkip\"></span></h1>\n",
    "<div class=\"toc\"><ul class=\"toc-item\"><li><span><a href=\"#Функции-и-библиотеки\" data-toc-modified-id=\"Функции-и-библиотеки-1\"><span class=\"toc-item-num\">1&nbsp;&nbsp;</span>Функции и библиотеки</a></span></li><li><span><a href=\"#Обзор-данных\" data-toc-modified-id=\"Обзор-данных-2\"><span class=\"toc-item-num\">2&nbsp;&nbsp;</span>Обзор данных</a></span><ul class=\"toc-item\"><li><span><a href=\"#Общий-обзор-данных\" data-toc-modified-id=\"Общий-обзор-данных-2.1\"><span class=\"toc-item-num\">2.1&nbsp;&nbsp;</span>Общий обзор данных</a></span></li><li><span><a href=\"#Описание-данных\" data-toc-modified-id=\"Описание-данных-2.2\"><span class=\"toc-item-num\">2.2&nbsp;&nbsp;</span>Описание данных</a></span></li></ul></li><li><span><a href=\"#Предобработка-данных\" data-toc-modified-id=\"Предобработка-данных-3\"><span class=\"toc-item-num\">3&nbsp;&nbsp;</span>Предобработка данных</a></span><ul class=\"toc-item\"><li><span><a href=\"#обработка-пропусков\" data-toc-modified-id=\"обработка-пропусков-3.1\"><span class=\"toc-item-num\">3.1&nbsp;&nbsp;</span>обработка пропусков</a></span></li><li><span><a href=\"#анализ-признаков-недоступных-в-тестовой-выборке\" data-toc-modified-id=\"анализ-признаков-недоступных-в-тестовой-выборке-3.2\"><span class=\"toc-item-num\">3.2&nbsp;&nbsp;</span>анализ признаков недоступных в тестовой выборке</a></span></li><li><span><a href=\"#расчет-дополнительных-параметров\" data-toc-modified-id=\"расчет-дополнительных-параметров-3.3\"><span class=\"toc-item-num\">3.3&nbsp;&nbsp;</span>расчет дополнительных параметров</a></span><ul class=\"toc-item\"><li><span><a href=\"#расчет-концентрации-элементов-в-исходном-сырье-для-исходной-выборки\" data-toc-modified-id=\"расчет-концентрации-элементов-в-исходном-сырье-для-исходной-выборки-3.3.1\"><span class=\"toc-item-num\">3.3.1&nbsp;&nbsp;</span>расчет концентрации элементов в исходном сырье для исходной выборки</a></span></li><li><span><a href=\"#расчет-концентрации-элементов-в-исходном-сырье-для-обучающей-выборки\" data-toc-modified-id=\"расчет-концентрации-элементов-в-исходном-сырье-для-обучающей-выборки-3.3.2\"><span class=\"toc-item-num\">3.3.2&nbsp;&nbsp;</span>расчет концентрации элементов в исходном сырье для обучающей выборки</a></span></li><li><span><a href=\"#расчет-концентрации-элементов-в-отвальных-хвостах-для-исходной-выборки\" data-toc-modified-id=\"расчет-концентрации-элементов-в-отвальных-хвостах-для-исходной-выборки-3.3.3\"><span class=\"toc-item-num\">3.3.3&nbsp;&nbsp;</span>расчет концентрации элементов в отвальных хвостах для исходной выборки</a></span></li><li><span><a href=\"#расчет-концентрации-элементов-в-отвальных-хвостах-для-обучающей-выборки\" data-toc-modified-id=\"расчет-концентрации-элементов-в-отвальных-хвостах-для-обучающей-выборки-3.3.4\"><span class=\"toc-item-num\">3.3.4&nbsp;&nbsp;</span>расчет концентрации элементов в отвальных хвостах для обучающей выборки</a></span></li><li><span><a href=\"#Описание-рассчитанных-данных\" data-toc-modified-id=\"Описание-рассчитанных-данных-3.3.5\"><span class=\"toc-item-num\">3.3.5&nbsp;&nbsp;</span>Описание рассчитанных данных</a></span></li></ul></li></ul></li><li><span><a href=\"#Проверка-данных\" data-toc-modified-id=\"Проверка-данных-4\"><span class=\"toc-item-num\">4&nbsp;&nbsp;</span>Проверка данных</a></span><ul class=\"toc-item\"><li><span><a href=\"#проверка-расчета-эффективности-обогащения\" data-toc-modified-id=\"проверка-расчета-эффективности-обогащения-4.1\"><span class=\"toc-item-num\">4.1&nbsp;&nbsp;</span>проверка расчета эффективности обогащения</a></span></li></ul></li><li><span><a href=\"#Анализ-данных\" data-toc-modified-id=\"Анализ-данных-5\"><span class=\"toc-item-num\">5&nbsp;&nbsp;</span>Анализ данных</a></span><ul class=\"toc-item\"><li><span><a href=\"#изменение-концентрации-металлов-на-различных-этапах-очистки\" data-toc-modified-id=\"изменение-концентрации-металлов-на-различных-этапах-очистки-5.1\"><span class=\"toc-item-num\">5.1&nbsp;&nbsp;</span>изменение концентрации металлов на различных этапах очистки</a></span></li><li><span><a href=\"#сравнение-распределения-размеров-гранул-сырья-для-обучающей-и-тестовой-выборок\" data-toc-modified-id=\"сравнение-распределения-размеров-гранул-сырья-для-обучающей-и-тестовой-выборок-5.2\"><span class=\"toc-item-num\">5.2&nbsp;&nbsp;</span>сравнение распределения размеров гранул сырья для обучающей и тестовой выборок</a></span></li><li><span><a href=\"#исследование-суммарной-концентрации-веществ-на-различных-стадиях\" data-toc-modified-id=\"исследование-суммарной-концентрации-веществ-на-различных-стадиях-5.3\"><span class=\"toc-item-num\">5.3&nbsp;&nbsp;</span>исследование суммарной концентрации веществ на различных стадиях</a></span></li></ul></li><li><span><a href=\"#Обучение-модели\" data-toc-modified-id=\"Обучение-модели-6\"><span class=\"toc-item-num\">6&nbsp;&nbsp;</span>Обучение модели</a></span><ul class=\"toc-item\"><li><span><a href=\"#подготовка-признаков\" data-toc-modified-id=\"подготовка-признаков-6.1\"><span class=\"toc-item-num\">6.1&nbsp;&nbsp;</span>подготовка признаков</a></span><ul class=\"toc-item\"><li><span><a href=\"#подготовка-целевых-признаков\" data-toc-modified-id=\"подготовка-целевых-признаков-6.1.1\"><span class=\"toc-item-num\">6.1.1&nbsp;&nbsp;</span>подготовка целевых признаков</a></span></li><li><span><a href=\"#подготовка-альтернативного-набора-признаков-для-этапа-флотации\" data-toc-modified-id=\"подготовка-альтернативного-набора-признаков-для-этапа-флотации-6.1.2\"><span class=\"toc-item-num\">6.1.2&nbsp;&nbsp;</span>подготовка альтернативного набора признаков для этапа флотации</a></span></li><li><span><a href=\"#масштабирование\" data-toc-modified-id=\"масштабирование-6.1.3\"><span class=\"toc-item-num\">6.1.3&nbsp;&nbsp;</span>масштабирование</a></span></li></ul></li><li><span><a href=\"#обучение-моделей\" data-toc-modified-id=\"обучение-моделей-6.2\"><span class=\"toc-item-num\">6.2&nbsp;&nbsp;</span>обучение моделей</a></span><ul class=\"toc-item\"><li><span><a href=\"#Scorer\" data-toc-modified-id=\"Scorer-6.2.1\"><span class=\"toc-item-num\">6.2.1&nbsp;&nbsp;</span>Scorer</a></span></li><li><span><a href=\"#RandomForestRegressor\" data-toc-modified-id=\"RandomForestRegressor-6.2.2\"><span class=\"toc-item-num\">6.2.2&nbsp;&nbsp;</span>RandomForestRegressor</a></span></li><li><span><a href=\"#GradientBoostingRegressor\" data-toc-modified-id=\"GradientBoostingRegressor-6.2.3\"><span class=\"toc-item-num\">6.2.3&nbsp;&nbsp;</span>GradientBoostingRegressor</a></span></li><li><span><a href=\"#LinearRegression\" data-toc-modified-id=\"LinearRegression-6.2.4\"><span class=\"toc-item-num\">6.2.4&nbsp;&nbsp;</span>LinearRegression</a></span></li></ul></li><li><span><a href=\"#оценка-качества-и-выбор-лучшей-модели\" data-toc-modified-id=\"оценка-качества-и-выбор-лучшей-модели-6.3\"><span class=\"toc-item-num\">6.3&nbsp;&nbsp;</span>оценка качества и выбор лучшей модели</a></span></li><li><span><a href=\"#Проверка-модели-на-тестовой-выборке\" data-toc-modified-id=\"Проверка-модели-на-тестовой-выборке-6.4\"><span class=\"toc-item-num\">6.4&nbsp;&nbsp;</span>Проверка модели на тестовой выборке</a></span></li></ul></li><li><span><a href=\"#Заключение\" data-toc-modified-id=\"Заключение-7\"><span class=\"toc-item-num\">7&nbsp;&nbsp;</span>Заключение</a></span></li></ul></div>"
   ]
  },
  {
   "cell_type": "markdown",
   "id": "0c5a0edf",
   "metadata": {},
   "source": [
    "# Подготовка прототипа модели машинного обучения для предсказания коэффициента восстановления золота из золотосодержащей руды"
   ]
  },
  {
   "cell_type": "markdown",
   "id": "d68daf46",
   "metadata": {},
   "source": [
    "**Входные данные** —  данные с параметрами добычи и очистки. \n",
    "\n",
    "**Дальнейшее использование результатов** — оптимизация производства, путем отказа от запуска предприятий с убыточными характеристиками.\n",
    "\n",
    "**Цели** \n",
    "- проверка корректности расчета эффективности обогащения, в т.ч.:\n",
    "    - расчет MAE (между результатами расчетов и значением признака)\n",
    "- анализ данных, в т.ч.:\n",
    "    - анализ изменения концентрации металлов (Au, Ag, Pb) на различных этапах очистки\n",
    "    - сравнение распределения размеров гранул сырья\n",
    "    - исследование суммарной концентрации всех веществ на разных стадиях: в сырье, в черновом и финальном концентратах\n",
    "- построение модели\n",
    "\n",
    "\n",
    "**Дополнительные условия**\n",
    "- Использование библиотек pandas, matplotlib и sklearn.\n",
    "- Используемая метрика для оценки качества модели - sMAPE"
   ]
  },
  {
   "cell_type": "markdown",
   "id": "326eac79",
   "metadata": {},
   "source": [
    "## Функции и библиотеки"
   ]
  },
  {
   "cell_type": "code",
   "execution_count": 1,
   "id": "993b679e",
   "metadata": {},
   "outputs": [],
   "source": [
    "import pandas as pd\n",
    "\n",
    "import numpy as np\n",
    "\n",
    "from sklearn.metrics import mean_absolute_error\n",
    "\n",
    "from scipy import stats as st\n",
    "\n",
    "from sklearn.preprocessing import StandardScaler \n",
    "\n",
    "from sklearn.ensemble import RandomForestRegressor\n",
    "\n",
    "from sklearn.ensemble import GradientBoostingRegressor\n",
    "\n",
    "from sklearn.model_selection import RandomizedSearchCV\n",
    "\n",
    "from sklearn.model_selection import train_test_split\n",
    "\n",
    "from sklearn.linear_model import LinearRegression\n",
    "\n",
    "from sklearn.model_selection import cross_val_score\n",
    "\n",
    "from sklearn.metrics import make_scorer \n",
    "\n",
    "from scipy.stats import uniform as sp_randFloat\n",
    "\n",
    "from scipy.stats import randint as sp_randInt\n",
    "\n",
    "from sklearn.dummy import DummyRegressor\n",
    "\n",
    "import warnings\n",
    "warnings.filterwarnings('ignore')"
   ]
  },
  {
   "cell_type": "code",
   "execution_count": 2,
   "id": "cdb6fb43",
   "metadata": {},
   "outputs": [],
   "source": [
    "# функция product_recovery\n",
    "#назначение:\n",
    "#    расчет эффективности обогащения \n",
    "#входные данные:\n",
    "#    output_concentrate - доля золота в концентрате после флотации/очистки\n",
    "#    input_concentrate - доля золота в сырье/концентрате до флотации/очистки\n",
    "#    output_concentrate_tail - доля золота в отвальных хвостах после флотации/очистки\n",
    "#выходные данные:\n",
    "#    result - коэфициент эффективности обогащения\n",
    "\n",
    "def product_recovery(output_concentrate, \n",
    "                     input_concentrate, \n",
    "                     output_concentrate_tail):\n",
    "    result =(output_concentrate*(input_concentrate - output_concentrate_tail)) / (input_concentrate*(output_concentrate - output_concentrate_tail))\n",
    "    return result"
   ]
  },
  {
   "cell_type": "code",
   "execution_count": 3,
   "id": "611e2132",
   "metadata": {},
   "outputs": [],
   "source": [
    "# функция smape\n",
    "#назначение:\n",
    "#    расчет метрики SMAPE\n",
    "#входные данные:\n",
    "#    прогнознае данные\n",
    "#    целевой признак\n",
    "\n",
    "def smape(prediction, target):\n",
    "    return 100/len(target) * np.sum(2 * np.abs(target - prediction) / (np.abs(target) + np.abs(prediction)+0.000000001))"
   ]
  },
  {
   "cell_type": "code",
   "execution_count": 4,
   "id": "022b5b54",
   "metadata": {},
   "outputs": [],
   "source": [
    "# функция smape_result\n",
    "#назначение:\n",
    "#    расчет итоговой метрики SMAPE\n",
    "#входные данные:\n",
    "#    значение метрики smape для этапа флотации\n",
    "#    значение метрики smape для финального этапа\n",
    "\n",
    "def smape_result(smape_rougher, smape_final):\n",
    "    return 0.25*smape_rougher + 0.75*smape_final"
   ]
  },
  {
   "cell_type": "markdown",
   "id": "5ef547de",
   "metadata": {},
   "source": [
    "## Обзор данных"
   ]
  },
  {
   "cell_type": "code",
   "execution_count": 5,
   "id": "a9034b11",
   "metadata": {},
   "outputs": [],
   "source": [
    "try:\n",
    "    df_train = pd.read_csv ('D:/Data for projects/gold_recovery_train_new.csv')\n",
    "    df_test = pd.read_csv ('D:/Data for projects/gold_recovery_test_new.csv')\n",
    "    df_original = pd.read_csv ('D:/Data for projects/gold_recovery_full_new.csv')\n",
    "\n",
    "except: \n",
    "    df_train = pd.read_csv ('/datasets/gold_recovery_train_new.csv')\n",
    "    df_test = pd.read_csv ('/datasets/gold_recovery_test_new.csv')\n",
    "    df_original = pd.read_csv ('/datasets/gold_recovery_full_new.csv')"
   ]
  },
  {
   "cell_type": "code",
   "execution_count": 6,
   "id": "41fe0e24",
   "metadata": {},
   "outputs": [],
   "source": [
    "datas = [df_train, df_test, df_original]"
   ]
  },
  {
   "cell_type": "markdown",
   "id": "e4c30434",
   "metadata": {},
   "source": [
    "### Общий обзор данных"
   ]
  },
  {
   "cell_type": "code",
   "execution_count": 7,
   "id": "42b72a78",
   "metadata": {},
   "outputs": [
    {
     "name": "stdout",
     "output_type": "stream",
     "text": [
      "<class 'pandas.core.frame.DataFrame'>\n",
      "RangeIndex: 14149 entries, 0 to 14148\n",
      "Data columns (total 87 columns):\n",
      "date                                                  14149 non-null object\n",
      "final.output.concentrate_ag                           14148 non-null float64\n",
      "final.output.concentrate_pb                           14148 non-null float64\n",
      "final.output.concentrate_sol                          13938 non-null float64\n",
      "final.output.concentrate_au                           14149 non-null float64\n",
      "final.output.recovery                                 14149 non-null float64\n",
      "final.output.tail_ag                                  14149 non-null float64\n",
      "final.output.tail_pb                                  14049 non-null float64\n",
      "final.output.tail_sol                                 14144 non-null float64\n",
      "final.output.tail_au                                  14149 non-null float64\n",
      "primary_cleaner.input.sulfate                         14129 non-null float64\n",
      "primary_cleaner.input.depressant                      14117 non-null float64\n",
      "primary_cleaner.input.feed_size                       14149 non-null float64\n",
      "primary_cleaner.input.xanthate                        14049 non-null float64\n",
      "primary_cleaner.output.concentrate_ag                 14149 non-null float64\n",
      "primary_cleaner.output.concentrate_pb                 14063 non-null float64\n",
      "primary_cleaner.output.concentrate_sol                13863 non-null float64\n",
      "primary_cleaner.output.concentrate_au                 14149 non-null float64\n",
      "primary_cleaner.output.tail_ag                        14148 non-null float64\n",
      "primary_cleaner.output.tail_pb                        14134 non-null float64\n",
      "primary_cleaner.output.tail_sol                       14103 non-null float64\n",
      "primary_cleaner.output.tail_au                        14149 non-null float64\n",
      "primary_cleaner.state.floatbank8_a_air                14145 non-null float64\n",
      "primary_cleaner.state.floatbank8_a_level              14148 non-null float64\n",
      "primary_cleaner.state.floatbank8_b_air                14145 non-null float64\n",
      "primary_cleaner.state.floatbank8_b_level              14148 non-null float64\n",
      "primary_cleaner.state.floatbank8_c_air                14147 non-null float64\n",
      "primary_cleaner.state.floatbank8_c_level              14148 non-null float64\n",
      "primary_cleaner.state.floatbank8_d_air                14146 non-null float64\n",
      "primary_cleaner.state.floatbank8_d_level              14148 non-null float64\n",
      "rougher.calculation.sulfate_to_au_concentrate         14148 non-null float64\n",
      "rougher.calculation.floatbank10_sulfate_to_au_feed    14148 non-null float64\n",
      "rougher.calculation.floatbank11_sulfate_to_au_feed    14148 non-null float64\n",
      "rougher.calculation.au_pb_ratio                       14149 non-null float64\n",
      "rougher.input.feed_ag                                 14149 non-null float64\n",
      "rougher.input.feed_pb                                 14049 non-null float64\n",
      "rougher.input.feed_rate                               14141 non-null float64\n",
      "rougher.input.feed_size                               14005 non-null float64\n",
      "rougher.input.feed_sol                                14071 non-null float64\n",
      "rougher.input.feed_au                                 14149 non-null float64\n",
      "rougher.input.floatbank10_sulfate                     14120 non-null float64\n",
      "rougher.input.floatbank10_xanthate                    14141 non-null float64\n",
      "rougher.input.floatbank11_sulfate                     14113 non-null float64\n",
      "rougher.input.floatbank11_xanthate                    13721 non-null float64\n",
      "rougher.output.concentrate_ag                         14149 non-null float64\n",
      "rougher.output.concentrate_pb                         14149 non-null float64\n",
      "rougher.output.concentrate_sol                        14127 non-null float64\n",
      "rougher.output.concentrate_au                         14149 non-null float64\n",
      "rougher.output.recovery                               14149 non-null float64\n",
      "rougher.output.tail_ag                                14148 non-null float64\n",
      "rougher.output.tail_pb                                14149 non-null float64\n",
      "rougher.output.tail_sol                               14149 non-null float64\n",
      "rougher.output.tail_au                                14149 non-null float64\n",
      "rougher.state.floatbank10_a_air                       14148 non-null float64\n",
      "rougher.state.floatbank10_a_level                     14148 non-null float64\n",
      "rougher.state.floatbank10_b_air                       14148 non-null float64\n",
      "rougher.state.floatbank10_b_level                     14148 non-null float64\n",
      "rougher.state.floatbank10_c_air                       14148 non-null float64\n",
      "rougher.state.floatbank10_c_level                     14148 non-null float64\n",
      "rougher.state.floatbank10_d_air                       14149 non-null float64\n",
      "rougher.state.floatbank10_d_level                     14149 non-null float64\n",
      "rougher.state.floatbank10_e_air                       13713 non-null float64\n",
      "rougher.state.floatbank10_e_level                     14149 non-null float64\n",
      "rougher.state.floatbank10_f_air                       14149 non-null float64\n",
      "rougher.state.floatbank10_f_level                     14149 non-null float64\n",
      "secondary_cleaner.output.tail_ag                      14147 non-null float64\n",
      "secondary_cleaner.output.tail_pb                      14139 non-null float64\n",
      "secondary_cleaner.output.tail_sol                     12544 non-null float64\n",
      "secondary_cleaner.output.tail_au                      14149 non-null float64\n",
      "secondary_cleaner.state.floatbank2_a_air              13932 non-null float64\n",
      "secondary_cleaner.state.floatbank2_a_level            14148 non-null float64\n",
      "secondary_cleaner.state.floatbank2_b_air              14128 non-null float64\n",
      "secondary_cleaner.state.floatbank2_b_level            14148 non-null float64\n",
      "secondary_cleaner.state.floatbank3_a_air              14145 non-null float64\n",
      "secondary_cleaner.state.floatbank3_a_level            14148 non-null float64\n",
      "secondary_cleaner.state.floatbank3_b_air              14148 non-null float64\n",
      "secondary_cleaner.state.floatbank3_b_level            14148 non-null float64\n",
      "secondary_cleaner.state.floatbank4_a_air              14143 non-null float64\n",
      "secondary_cleaner.state.floatbank4_a_level            14148 non-null float64\n",
      "secondary_cleaner.state.floatbank4_b_air              14148 non-null float64\n",
      "secondary_cleaner.state.floatbank4_b_level            14148 non-null float64\n",
      "secondary_cleaner.state.floatbank5_a_air              14148 non-null float64\n",
      "secondary_cleaner.state.floatbank5_a_level            14148 non-null float64\n",
      "secondary_cleaner.state.floatbank5_b_air              14148 non-null float64\n",
      "secondary_cleaner.state.floatbank5_b_level            14148 non-null float64\n",
      "secondary_cleaner.state.floatbank6_a_air              14147 non-null float64\n",
      "secondary_cleaner.state.floatbank6_a_level            14148 non-null float64\n",
      "dtypes: float64(86), object(1)\n",
      "memory usage: 9.4+ MB\n",
      "\n",
      "<class 'pandas.core.frame.DataFrame'>\n",
      "RangeIndex: 5290 entries, 0 to 5289\n",
      "Data columns (total 53 columns):\n",
      "date                                          5290 non-null object\n",
      "primary_cleaner.input.sulfate                 5286 non-null float64\n",
      "primary_cleaner.input.depressant              5285 non-null float64\n",
      "primary_cleaner.input.feed_size               5290 non-null float64\n",
      "primary_cleaner.input.xanthate                5286 non-null float64\n",
      "primary_cleaner.state.floatbank8_a_air        5290 non-null float64\n",
      "primary_cleaner.state.floatbank8_a_level      5290 non-null float64\n",
      "primary_cleaner.state.floatbank8_b_air        5290 non-null float64\n",
      "primary_cleaner.state.floatbank8_b_level      5290 non-null float64\n",
      "primary_cleaner.state.floatbank8_c_air        5290 non-null float64\n",
      "primary_cleaner.state.floatbank8_c_level      5290 non-null float64\n",
      "primary_cleaner.state.floatbank8_d_air        5290 non-null float64\n",
      "primary_cleaner.state.floatbank8_d_level      5290 non-null float64\n",
      "rougher.input.feed_ag                         5290 non-null float64\n",
      "rougher.input.feed_pb                         5290 non-null float64\n",
      "rougher.input.feed_rate                       5287 non-null float64\n",
      "rougher.input.feed_size                       5289 non-null float64\n",
      "rougher.input.feed_sol                        5269 non-null float64\n",
      "rougher.input.feed_au                         5290 non-null float64\n",
      "rougher.input.floatbank10_sulfate             5285 non-null float64\n",
      "rougher.input.floatbank10_xanthate            5290 non-null float64\n",
      "rougher.input.floatbank11_sulfate             5282 non-null float64\n",
      "rougher.input.floatbank11_xanthate            5265 non-null float64\n",
      "rougher.state.floatbank10_a_air               5290 non-null float64\n",
      "rougher.state.floatbank10_a_level             5290 non-null float64\n",
      "rougher.state.floatbank10_b_air               5290 non-null float64\n",
      "rougher.state.floatbank10_b_level             5290 non-null float64\n",
      "rougher.state.floatbank10_c_air               5290 non-null float64\n",
      "rougher.state.floatbank10_c_level             5290 non-null float64\n",
      "rougher.state.floatbank10_d_air               5290 non-null float64\n",
      "rougher.state.floatbank10_d_level             5290 non-null float64\n",
      "rougher.state.floatbank10_e_air               5290 non-null float64\n",
      "rougher.state.floatbank10_e_level             5290 non-null float64\n",
      "rougher.state.floatbank10_f_air               5290 non-null float64\n",
      "rougher.state.floatbank10_f_level             5290 non-null float64\n",
      "secondary_cleaner.state.floatbank2_a_air      5287 non-null float64\n",
      "secondary_cleaner.state.floatbank2_a_level    5290 non-null float64\n",
      "secondary_cleaner.state.floatbank2_b_air      5288 non-null float64\n",
      "secondary_cleaner.state.floatbank2_b_level    5290 non-null float64\n",
      "secondary_cleaner.state.floatbank3_a_air      5281 non-null float64\n",
      "secondary_cleaner.state.floatbank3_a_level    5290 non-null float64\n",
      "secondary_cleaner.state.floatbank3_b_air      5290 non-null float64\n",
      "secondary_cleaner.state.floatbank3_b_level    5290 non-null float64\n",
      "secondary_cleaner.state.floatbank4_a_air      5290 non-null float64\n",
      "secondary_cleaner.state.floatbank4_a_level    5290 non-null float64\n",
      "secondary_cleaner.state.floatbank4_b_air      5290 non-null float64\n",
      "secondary_cleaner.state.floatbank4_b_level    5290 non-null float64\n",
      "secondary_cleaner.state.floatbank5_a_air      5290 non-null float64\n",
      "secondary_cleaner.state.floatbank5_a_level    5290 non-null float64\n",
      "secondary_cleaner.state.floatbank5_b_air      5290 non-null float64\n",
      "secondary_cleaner.state.floatbank5_b_level    5290 non-null float64\n",
      "secondary_cleaner.state.floatbank6_a_air      5290 non-null float64\n",
      "secondary_cleaner.state.floatbank6_a_level    5290 non-null float64\n",
      "dtypes: float64(52), object(1)\n",
      "memory usage: 2.1+ MB\n",
      "\n",
      "<class 'pandas.core.frame.DataFrame'>\n",
      "RangeIndex: 19439 entries, 0 to 19438\n",
      "Data columns (total 87 columns):\n",
      "date                                                  19439 non-null object\n",
      "final.output.concentrate_ag                           19438 non-null float64\n",
      "final.output.concentrate_pb                           19438 non-null float64\n",
      "final.output.concentrate_sol                          19228 non-null float64\n",
      "final.output.concentrate_au                           19439 non-null float64\n",
      "final.output.recovery                                 19439 non-null float64\n",
      "final.output.tail_ag                                  19438 non-null float64\n",
      "final.output.tail_pb                                  19338 non-null float64\n",
      "final.output.tail_sol                                 19433 non-null float64\n",
      "final.output.tail_au                                  19439 non-null float64\n",
      "primary_cleaner.input.sulfate                         19415 non-null float64\n",
      "primary_cleaner.input.depressant                      19402 non-null float64\n",
      "primary_cleaner.input.feed_size                       19439 non-null float64\n",
      "primary_cleaner.input.xanthate                        19335 non-null float64\n",
      "primary_cleaner.output.concentrate_ag                 19439 non-null float64\n",
      "primary_cleaner.output.concentrate_pb                 19323 non-null float64\n",
      "primary_cleaner.output.concentrate_sol                19069 non-null float64\n",
      "primary_cleaner.output.concentrate_au                 19439 non-null float64\n",
      "primary_cleaner.output.tail_ag                        19435 non-null float64\n",
      "primary_cleaner.output.tail_pb                        19418 non-null float64\n",
      "primary_cleaner.output.tail_sol                       19377 non-null float64\n",
      "primary_cleaner.output.tail_au                        19439 non-null float64\n",
      "primary_cleaner.state.floatbank8_a_air                19435 non-null float64\n",
      "primary_cleaner.state.floatbank8_a_level              19438 non-null float64\n",
      "primary_cleaner.state.floatbank8_b_air                19435 non-null float64\n",
      "primary_cleaner.state.floatbank8_b_level              19438 non-null float64\n",
      "primary_cleaner.state.floatbank8_c_air                19437 non-null float64\n",
      "primary_cleaner.state.floatbank8_c_level              19438 non-null float64\n",
      "primary_cleaner.state.floatbank8_d_air                19436 non-null float64\n",
      "primary_cleaner.state.floatbank8_d_level              19438 non-null float64\n",
      "rougher.calculation.sulfate_to_au_concentrate         19437 non-null float64\n",
      "rougher.calculation.floatbank10_sulfate_to_au_feed    19437 non-null float64\n",
      "rougher.calculation.floatbank11_sulfate_to_au_feed    19437 non-null float64\n",
      "rougher.calculation.au_pb_ratio                       19439 non-null float64\n",
      "rougher.input.feed_ag                                 19439 non-null float64\n",
      "rougher.input.feed_pb                                 19339 non-null float64\n",
      "rougher.input.feed_rate                               19428 non-null float64\n",
      "rougher.input.feed_size                               19294 non-null float64\n",
      "rougher.input.feed_sol                                19340 non-null float64\n",
      "rougher.input.feed_au                                 19439 non-null float64\n",
      "rougher.input.floatbank10_sulfate                     19405 non-null float64\n",
      "rougher.input.floatbank10_xanthate                    19431 non-null float64\n",
      "rougher.input.floatbank11_sulfate                     19395 non-null float64\n",
      "rougher.input.floatbank11_xanthate                    18986 non-null float64\n",
      "rougher.output.concentrate_ag                         19439 non-null float64\n",
      "rougher.output.concentrate_pb                         19439 non-null float64\n",
      "rougher.output.concentrate_sol                        19416 non-null float64\n",
      "rougher.output.concentrate_au                         19439 non-null float64\n",
      "rougher.output.recovery                               19439 non-null float64\n",
      "rougher.output.tail_ag                                19438 non-null float64\n",
      "rougher.output.tail_pb                                19439 non-null float64\n",
      "rougher.output.tail_sol                               19439 non-null float64\n",
      "rougher.output.tail_au                                19439 non-null float64\n",
      "rougher.state.floatbank10_a_air                       19438 non-null float64\n",
      "rougher.state.floatbank10_a_level                     19438 non-null float64\n",
      "rougher.state.floatbank10_b_air                       19438 non-null float64\n",
      "rougher.state.floatbank10_b_level                     19438 non-null float64\n",
      "rougher.state.floatbank10_c_air                       19438 non-null float64\n",
      "rougher.state.floatbank10_c_level                     19438 non-null float64\n",
      "rougher.state.floatbank10_d_air                       19439 non-null float64\n",
      "rougher.state.floatbank10_d_level                     19439 non-null float64\n",
      "rougher.state.floatbank10_e_air                       19003 non-null float64\n",
      "rougher.state.floatbank10_e_level                     19439 non-null float64\n",
      "rougher.state.floatbank10_f_air                       19439 non-null float64\n",
      "rougher.state.floatbank10_f_level                     19439 non-null float64\n",
      "secondary_cleaner.output.tail_ag                      19437 non-null float64\n",
      "secondary_cleaner.output.tail_pb                      19427 non-null float64\n",
      "secondary_cleaner.output.tail_sol                     17691 non-null float64\n",
      "secondary_cleaner.output.tail_au                      19439 non-null float64\n",
      "secondary_cleaner.state.floatbank2_a_air              19219 non-null float64\n",
      "secondary_cleaner.state.floatbank2_a_level            19438 non-null float64\n",
      "secondary_cleaner.state.floatbank2_b_air              19416 non-null float64\n",
      "secondary_cleaner.state.floatbank2_b_level            19438 non-null float64\n",
      "secondary_cleaner.state.floatbank3_a_air              19426 non-null float64\n",
      "secondary_cleaner.state.floatbank3_a_level            19438 non-null float64\n",
      "secondary_cleaner.state.floatbank3_b_air              19438 non-null float64\n",
      "secondary_cleaner.state.floatbank3_b_level            19438 non-null float64\n",
      "secondary_cleaner.state.floatbank4_a_air              19433 non-null float64\n",
      "secondary_cleaner.state.floatbank4_a_level            19438 non-null float64\n",
      "secondary_cleaner.state.floatbank4_b_air              19438 non-null float64\n",
      "secondary_cleaner.state.floatbank4_b_level            19438 non-null float64\n",
      "secondary_cleaner.state.floatbank5_a_air              19438 non-null float64\n",
      "secondary_cleaner.state.floatbank5_a_level            19438 non-null float64\n",
      "secondary_cleaner.state.floatbank5_b_air              19438 non-null float64\n",
      "secondary_cleaner.state.floatbank5_b_level            19438 non-null float64\n",
      "secondary_cleaner.state.floatbank6_a_air              19437 non-null float64\n",
      "secondary_cleaner.state.floatbank6_a_level            19438 non-null float64\n",
      "dtypes: float64(86), object(1)\n",
      "memory usage: 12.9+ MB\n",
      "\n"
     ]
    }
   ],
   "source": [
    "for _ in datas:\n",
    "    _.info()\n",
    "    print()"
   ]
  },
  {
   "cell_type": "code",
   "execution_count": 8,
   "id": "28f61fbf",
   "metadata": {},
   "outputs": [
    {
     "name": "stdout",
     "output_type": "stream",
     "text": [
      "date                                          14149\n",
      "final.output.concentrate_ag                   14064\n",
      "final.output.concentrate_pb                   14050\n",
      "final.output.concentrate_sol                  13853\n",
      "final.output.concentrate_au                   14065\n",
      "                                              ...  \n",
      "secondary_cleaner.state.floatbank5_a_level    14148\n",
      "secondary_cleaner.state.floatbank5_b_air      14148\n",
      "secondary_cleaner.state.floatbank5_b_level    14148\n",
      "secondary_cleaner.state.floatbank6_a_air      14147\n",
      "secondary_cleaner.state.floatbank6_a_level    14148\n",
      "Length: 87, dtype: int64\n",
      "----------------------------------------\n",
      "date                                          5290\n",
      "primary_cleaner.input.sulfate                 5286\n",
      "primary_cleaner.input.depressant              5285\n",
      "primary_cleaner.input.feed_size               1537\n",
      "primary_cleaner.input.xanthate                5286\n",
      "primary_cleaner.state.floatbank8_a_air        5290\n",
      "primary_cleaner.state.floatbank8_a_level      5290\n",
      "primary_cleaner.state.floatbank8_b_air        5290\n",
      "primary_cleaner.state.floatbank8_b_level      5290\n",
      "primary_cleaner.state.floatbank8_c_air        5290\n",
      "primary_cleaner.state.floatbank8_c_level      5290\n",
      "primary_cleaner.state.floatbank8_d_air        5290\n",
      "primary_cleaner.state.floatbank8_d_level      5290\n",
      "rougher.input.feed_ag                         5283\n",
      "rougher.input.feed_pb                         5282\n",
      "rougher.input.feed_rate                       5287\n",
      "rougher.input.feed_size                       5289\n",
      "rougher.input.feed_sol                        5260\n",
      "rougher.input.feed_au                         5283\n",
      "rougher.input.floatbank10_sulfate             5285\n",
      "rougher.input.floatbank10_xanthate            5290\n",
      "rougher.input.floatbank11_sulfate             5282\n",
      "rougher.input.floatbank11_xanthate            5265\n",
      "rougher.state.floatbank10_a_air               5290\n",
      "rougher.state.floatbank10_a_level             5290\n",
      "rougher.state.floatbank10_b_air               5290\n",
      "rougher.state.floatbank10_b_level             5290\n",
      "rougher.state.floatbank10_c_air               5290\n",
      "rougher.state.floatbank10_c_level             5290\n",
      "rougher.state.floatbank10_d_air               5290\n",
      "rougher.state.floatbank10_d_level             5290\n",
      "rougher.state.floatbank10_e_air               5290\n",
      "rougher.state.floatbank10_e_level             5290\n",
      "rougher.state.floatbank10_f_air               5290\n",
      "rougher.state.floatbank10_f_level             5290\n",
      "secondary_cleaner.state.floatbank2_a_air      5287\n",
      "secondary_cleaner.state.floatbank2_a_level    5290\n",
      "secondary_cleaner.state.floatbank2_b_air      5288\n",
      "secondary_cleaner.state.floatbank2_b_level    5290\n",
      "secondary_cleaner.state.floatbank3_a_air      5212\n",
      "secondary_cleaner.state.floatbank3_a_level    5290\n",
      "secondary_cleaner.state.floatbank3_b_air      5173\n",
      "secondary_cleaner.state.floatbank3_b_level    5290\n",
      "secondary_cleaner.state.floatbank4_a_air      5280\n",
      "secondary_cleaner.state.floatbank4_a_level    5290\n",
      "secondary_cleaner.state.floatbank4_b_air      5270\n",
      "secondary_cleaner.state.floatbank4_b_level    5290\n",
      "secondary_cleaner.state.floatbank5_a_air      5290\n",
      "secondary_cleaner.state.floatbank5_a_level    5290\n",
      "secondary_cleaner.state.floatbank5_b_air      5290\n",
      "secondary_cleaner.state.floatbank5_b_level    5290\n",
      "secondary_cleaner.state.floatbank6_a_air      5290\n",
      "secondary_cleaner.state.floatbank6_a_level    5290\n",
      "dtype: int64\n",
      "----------------------------------------\n",
      "date                                          19439\n",
      "final.output.concentrate_ag                   19307\n",
      "final.output.concentrate_pb                   19276\n",
      "final.output.concentrate_sol                  19093\n",
      "final.output.concentrate_au                   19308\n",
      "                                              ...  \n",
      "secondary_cleaner.state.floatbank5_a_level    19438\n",
      "secondary_cleaner.state.floatbank5_b_air      19438\n",
      "secondary_cleaner.state.floatbank5_b_level    19438\n",
      "secondary_cleaner.state.floatbank6_a_air      19437\n",
      "secondary_cleaner.state.floatbank6_a_level    19438\n",
      "Length: 87, dtype: int64\n",
      "----------------------------------------\n"
     ]
    }
   ],
   "source": [
    "for _ in datas:\n",
    "    print (_.nunique())\n",
    "    print('----------------------------------------')"
   ]
  },
  {
   "cell_type": "code",
   "execution_count": 9,
   "id": "67ebe8e2",
   "metadata": {},
   "outputs": [
    {
     "name": "stdout",
     "output_type": "stream",
     "text": [
      "date                                            0\n",
      "final.output.concentrate_ag                     1\n",
      "final.output.concentrate_pb                     1\n",
      "final.output.concentrate_sol                  211\n",
      "final.output.concentrate_au                     0\n",
      "                                             ... \n",
      "secondary_cleaner.state.floatbank5_a_level      1\n",
      "secondary_cleaner.state.floatbank5_b_air        1\n",
      "secondary_cleaner.state.floatbank5_b_level      1\n",
      "secondary_cleaner.state.floatbank6_a_air        2\n",
      "secondary_cleaner.state.floatbank6_a_level      1\n",
      "Length: 87, dtype: int64\n",
      "--------------------------------------------------\n",
      "date                                           0\n",
      "primary_cleaner.input.sulfate                  4\n",
      "primary_cleaner.input.depressant               5\n",
      "primary_cleaner.input.feed_size                0\n",
      "primary_cleaner.input.xanthate                 4\n",
      "primary_cleaner.state.floatbank8_a_air         0\n",
      "primary_cleaner.state.floatbank8_a_level       0\n",
      "primary_cleaner.state.floatbank8_b_air         0\n",
      "primary_cleaner.state.floatbank8_b_level       0\n",
      "primary_cleaner.state.floatbank8_c_air         0\n",
      "primary_cleaner.state.floatbank8_c_level       0\n",
      "primary_cleaner.state.floatbank8_d_air         0\n",
      "primary_cleaner.state.floatbank8_d_level       0\n",
      "rougher.input.feed_ag                          0\n",
      "rougher.input.feed_pb                          0\n",
      "rougher.input.feed_rate                        3\n",
      "rougher.input.feed_size                        1\n",
      "rougher.input.feed_sol                        21\n",
      "rougher.input.feed_au                          0\n",
      "rougher.input.floatbank10_sulfate              5\n",
      "rougher.input.floatbank10_xanthate             0\n",
      "rougher.input.floatbank11_sulfate              8\n",
      "rougher.input.floatbank11_xanthate            25\n",
      "rougher.state.floatbank10_a_air                0\n",
      "rougher.state.floatbank10_a_level              0\n",
      "rougher.state.floatbank10_b_air                0\n",
      "rougher.state.floatbank10_b_level              0\n",
      "rougher.state.floatbank10_c_air                0\n",
      "rougher.state.floatbank10_c_level              0\n",
      "rougher.state.floatbank10_d_air                0\n",
      "rougher.state.floatbank10_d_level              0\n",
      "rougher.state.floatbank10_e_air                0\n",
      "rougher.state.floatbank10_e_level              0\n",
      "rougher.state.floatbank10_f_air                0\n",
      "rougher.state.floatbank10_f_level              0\n",
      "secondary_cleaner.state.floatbank2_a_air       3\n",
      "secondary_cleaner.state.floatbank2_a_level     0\n",
      "secondary_cleaner.state.floatbank2_b_air       2\n",
      "secondary_cleaner.state.floatbank2_b_level     0\n",
      "secondary_cleaner.state.floatbank3_a_air       9\n",
      "secondary_cleaner.state.floatbank3_a_level     0\n",
      "secondary_cleaner.state.floatbank3_b_air       0\n",
      "secondary_cleaner.state.floatbank3_b_level     0\n",
      "secondary_cleaner.state.floatbank4_a_air       0\n",
      "secondary_cleaner.state.floatbank4_a_level     0\n",
      "secondary_cleaner.state.floatbank4_b_air       0\n",
      "secondary_cleaner.state.floatbank4_b_level     0\n",
      "secondary_cleaner.state.floatbank5_a_air       0\n",
      "secondary_cleaner.state.floatbank5_a_level     0\n",
      "secondary_cleaner.state.floatbank5_b_air       0\n",
      "secondary_cleaner.state.floatbank5_b_level     0\n",
      "secondary_cleaner.state.floatbank6_a_air       0\n",
      "secondary_cleaner.state.floatbank6_a_level     0\n",
      "dtype: int64\n",
      "--------------------------------------------------\n",
      "date                                            0\n",
      "final.output.concentrate_ag                     1\n",
      "final.output.concentrate_pb                     1\n",
      "final.output.concentrate_sol                  211\n",
      "final.output.concentrate_au                     0\n",
      "                                             ... \n",
      "secondary_cleaner.state.floatbank5_a_level      1\n",
      "secondary_cleaner.state.floatbank5_b_air        1\n",
      "secondary_cleaner.state.floatbank5_b_level      1\n",
      "secondary_cleaner.state.floatbank6_a_air        2\n",
      "secondary_cleaner.state.floatbank6_a_level      1\n",
      "Length: 87, dtype: int64\n",
      "--------------------------------------------------\n"
     ]
    }
   ],
   "source": [
    "for _ in datas:\n",
    "    print (_.isna().sum())\n",
    "    print('--------------------------------------------------')"
   ]
  },
  {
   "cell_type": "code",
   "execution_count": 10,
   "id": "4cd4160a",
   "metadata": {},
   "outputs": [
    {
     "name": "stdout",
     "output_type": "stream",
     "text": [
      "0\n",
      "\n",
      "0\n",
      "\n",
      "0\n",
      "\n"
     ]
    }
   ],
   "source": [
    "for _ in datas:\n",
    "    print (_.duplicated().sum())\n",
    "    print()"
   ]
  },
  {
   "cell_type": "code",
   "execution_count": 11,
   "id": "92247004",
   "metadata": {},
   "outputs": [
    {
     "name": "stdout",
     "output_type": "stream",
     "text": [
      "Index(['date', 'final.output.concentrate_ag', 'final.output.concentrate_pb',\n",
      "       'final.output.concentrate_sol', 'final.output.concentrate_au',\n",
      "       'final.output.recovery', 'final.output.tail_ag', 'final.output.tail_pb',\n",
      "       'final.output.tail_sol', 'final.output.tail_au',\n",
      "       'primary_cleaner.input.sulfate', 'primary_cleaner.input.depressant',\n",
      "       'primary_cleaner.input.feed_size', 'primary_cleaner.input.xanthate',\n",
      "       'primary_cleaner.output.concentrate_ag',\n",
      "       'primary_cleaner.output.concentrate_pb',\n",
      "       'primary_cleaner.output.concentrate_sol',\n",
      "       'primary_cleaner.output.concentrate_au',\n",
      "       'primary_cleaner.output.tail_ag', 'primary_cleaner.output.tail_pb',\n",
      "       'primary_cleaner.output.tail_sol', 'primary_cleaner.output.tail_au',\n",
      "       'primary_cleaner.state.floatbank8_a_air',\n",
      "       'primary_cleaner.state.floatbank8_a_level',\n",
      "       'primary_cleaner.state.floatbank8_b_air',\n",
      "       'primary_cleaner.state.floatbank8_b_level',\n",
      "       'primary_cleaner.state.floatbank8_c_air',\n",
      "       'primary_cleaner.state.floatbank8_c_level',\n",
      "       'primary_cleaner.state.floatbank8_d_air',\n",
      "       'primary_cleaner.state.floatbank8_d_level',\n",
      "       'rougher.calculation.sulfate_to_au_concentrate',\n",
      "       'rougher.calculation.floatbank10_sulfate_to_au_feed',\n",
      "       'rougher.calculation.floatbank11_sulfate_to_au_feed',\n",
      "       'rougher.calculation.au_pb_ratio', 'rougher.input.feed_ag',\n",
      "       'rougher.input.feed_pb', 'rougher.input.feed_rate',\n",
      "       'rougher.input.feed_size', 'rougher.input.feed_sol',\n",
      "       'rougher.input.feed_au', 'rougher.input.floatbank10_sulfate',\n",
      "       'rougher.input.floatbank10_xanthate',\n",
      "       'rougher.input.floatbank11_sulfate',\n",
      "       'rougher.input.floatbank11_xanthate', 'rougher.output.concentrate_ag',\n",
      "       'rougher.output.concentrate_pb', 'rougher.output.concentrate_sol',\n",
      "       'rougher.output.concentrate_au', 'rougher.output.recovery',\n",
      "       'rougher.output.tail_ag', 'rougher.output.tail_pb',\n",
      "       'rougher.output.tail_sol', 'rougher.output.tail_au',\n",
      "       'rougher.state.floatbank10_a_air', 'rougher.state.floatbank10_a_level',\n",
      "       'rougher.state.floatbank10_b_air', 'rougher.state.floatbank10_b_level',\n",
      "       'rougher.state.floatbank10_c_air', 'rougher.state.floatbank10_c_level',\n",
      "       'rougher.state.floatbank10_d_air', 'rougher.state.floatbank10_d_level',\n",
      "       'rougher.state.floatbank10_e_air', 'rougher.state.floatbank10_e_level',\n",
      "       'rougher.state.floatbank10_f_air', 'rougher.state.floatbank10_f_level',\n",
      "       'secondary_cleaner.output.tail_ag', 'secondary_cleaner.output.tail_pb',\n",
      "       'secondary_cleaner.output.tail_sol', 'secondary_cleaner.output.tail_au',\n",
      "       'secondary_cleaner.state.floatbank2_a_air',\n",
      "       'secondary_cleaner.state.floatbank2_a_level',\n",
      "       'secondary_cleaner.state.floatbank2_b_air',\n",
      "       'secondary_cleaner.state.floatbank2_b_level',\n",
      "       'secondary_cleaner.state.floatbank3_a_air',\n",
      "       'secondary_cleaner.state.floatbank3_a_level',\n",
      "       'secondary_cleaner.state.floatbank3_b_air',\n",
      "       'secondary_cleaner.state.floatbank3_b_level',\n",
      "       'secondary_cleaner.state.floatbank4_a_air',\n",
      "       'secondary_cleaner.state.floatbank4_a_level',\n",
      "       'secondary_cleaner.state.floatbank4_b_air',\n",
      "       'secondary_cleaner.state.floatbank4_b_level',\n",
      "       'secondary_cleaner.state.floatbank5_a_air',\n",
      "       'secondary_cleaner.state.floatbank5_a_level',\n",
      "       'secondary_cleaner.state.floatbank5_b_air',\n",
      "       'secondary_cleaner.state.floatbank5_b_level',\n",
      "       'secondary_cleaner.state.floatbank6_a_air',\n",
      "       'secondary_cleaner.state.floatbank6_a_level'],\n",
      "      dtype='object')\n",
      "\n",
      "Index(['date', 'primary_cleaner.input.sulfate',\n",
      "       'primary_cleaner.input.depressant', 'primary_cleaner.input.feed_size',\n",
      "       'primary_cleaner.input.xanthate',\n",
      "       'primary_cleaner.state.floatbank8_a_air',\n",
      "       'primary_cleaner.state.floatbank8_a_level',\n",
      "       'primary_cleaner.state.floatbank8_b_air',\n",
      "       'primary_cleaner.state.floatbank8_b_level',\n",
      "       'primary_cleaner.state.floatbank8_c_air',\n",
      "       'primary_cleaner.state.floatbank8_c_level',\n",
      "       'primary_cleaner.state.floatbank8_d_air',\n",
      "       'primary_cleaner.state.floatbank8_d_level', 'rougher.input.feed_ag',\n",
      "       'rougher.input.feed_pb', 'rougher.input.feed_rate',\n",
      "       'rougher.input.feed_size', 'rougher.input.feed_sol',\n",
      "       'rougher.input.feed_au', 'rougher.input.floatbank10_sulfate',\n",
      "       'rougher.input.floatbank10_xanthate',\n",
      "       'rougher.input.floatbank11_sulfate',\n",
      "       'rougher.input.floatbank11_xanthate', 'rougher.state.floatbank10_a_air',\n",
      "       'rougher.state.floatbank10_a_level', 'rougher.state.floatbank10_b_air',\n",
      "       'rougher.state.floatbank10_b_level', 'rougher.state.floatbank10_c_air',\n",
      "       'rougher.state.floatbank10_c_level', 'rougher.state.floatbank10_d_air',\n",
      "       'rougher.state.floatbank10_d_level', 'rougher.state.floatbank10_e_air',\n",
      "       'rougher.state.floatbank10_e_level', 'rougher.state.floatbank10_f_air',\n",
      "       'rougher.state.floatbank10_f_level',\n",
      "       'secondary_cleaner.state.floatbank2_a_air',\n",
      "       'secondary_cleaner.state.floatbank2_a_level',\n",
      "       'secondary_cleaner.state.floatbank2_b_air',\n",
      "       'secondary_cleaner.state.floatbank2_b_level',\n",
      "       'secondary_cleaner.state.floatbank3_a_air',\n",
      "       'secondary_cleaner.state.floatbank3_a_level',\n",
      "       'secondary_cleaner.state.floatbank3_b_air',\n",
      "       'secondary_cleaner.state.floatbank3_b_level',\n",
      "       'secondary_cleaner.state.floatbank4_a_air',\n",
      "       'secondary_cleaner.state.floatbank4_a_level',\n",
      "       'secondary_cleaner.state.floatbank4_b_air',\n",
      "       'secondary_cleaner.state.floatbank4_b_level',\n",
      "       'secondary_cleaner.state.floatbank5_a_air',\n",
      "       'secondary_cleaner.state.floatbank5_a_level',\n",
      "       'secondary_cleaner.state.floatbank5_b_air',\n",
      "       'secondary_cleaner.state.floatbank5_b_level',\n",
      "       'secondary_cleaner.state.floatbank6_a_air',\n",
      "       'secondary_cleaner.state.floatbank6_a_level'],\n",
      "      dtype='object')\n",
      "\n",
      "Index(['date', 'final.output.concentrate_ag', 'final.output.concentrate_pb',\n",
      "       'final.output.concentrate_sol', 'final.output.concentrate_au',\n",
      "       'final.output.recovery', 'final.output.tail_ag', 'final.output.tail_pb',\n",
      "       'final.output.tail_sol', 'final.output.tail_au',\n",
      "       'primary_cleaner.input.sulfate', 'primary_cleaner.input.depressant',\n",
      "       'primary_cleaner.input.feed_size', 'primary_cleaner.input.xanthate',\n",
      "       'primary_cleaner.output.concentrate_ag',\n",
      "       'primary_cleaner.output.concentrate_pb',\n",
      "       'primary_cleaner.output.concentrate_sol',\n",
      "       'primary_cleaner.output.concentrate_au',\n",
      "       'primary_cleaner.output.tail_ag', 'primary_cleaner.output.tail_pb',\n",
      "       'primary_cleaner.output.tail_sol', 'primary_cleaner.output.tail_au',\n",
      "       'primary_cleaner.state.floatbank8_a_air',\n",
      "       'primary_cleaner.state.floatbank8_a_level',\n",
      "       'primary_cleaner.state.floatbank8_b_air',\n",
      "       'primary_cleaner.state.floatbank8_b_level',\n",
      "       'primary_cleaner.state.floatbank8_c_air',\n",
      "       'primary_cleaner.state.floatbank8_c_level',\n",
      "       'primary_cleaner.state.floatbank8_d_air',\n",
      "       'primary_cleaner.state.floatbank8_d_level',\n",
      "       'rougher.calculation.sulfate_to_au_concentrate',\n",
      "       'rougher.calculation.floatbank10_sulfate_to_au_feed',\n",
      "       'rougher.calculation.floatbank11_sulfate_to_au_feed',\n",
      "       'rougher.calculation.au_pb_ratio', 'rougher.input.feed_ag',\n",
      "       'rougher.input.feed_pb', 'rougher.input.feed_rate',\n",
      "       'rougher.input.feed_size', 'rougher.input.feed_sol',\n",
      "       'rougher.input.feed_au', 'rougher.input.floatbank10_sulfate',\n",
      "       'rougher.input.floatbank10_xanthate',\n",
      "       'rougher.input.floatbank11_sulfate',\n",
      "       'rougher.input.floatbank11_xanthate', 'rougher.output.concentrate_ag',\n",
      "       'rougher.output.concentrate_pb', 'rougher.output.concentrate_sol',\n",
      "       'rougher.output.concentrate_au', 'rougher.output.recovery',\n",
      "       'rougher.output.tail_ag', 'rougher.output.tail_pb',\n",
      "       'rougher.output.tail_sol', 'rougher.output.tail_au',\n",
      "       'rougher.state.floatbank10_a_air', 'rougher.state.floatbank10_a_level',\n",
      "       'rougher.state.floatbank10_b_air', 'rougher.state.floatbank10_b_level',\n",
      "       'rougher.state.floatbank10_c_air', 'rougher.state.floatbank10_c_level',\n",
      "       'rougher.state.floatbank10_d_air', 'rougher.state.floatbank10_d_level',\n",
      "       'rougher.state.floatbank10_e_air', 'rougher.state.floatbank10_e_level',\n",
      "       'rougher.state.floatbank10_f_air', 'rougher.state.floatbank10_f_level',\n",
      "       'secondary_cleaner.output.tail_ag', 'secondary_cleaner.output.tail_pb',\n",
      "       'secondary_cleaner.output.tail_sol', 'secondary_cleaner.output.tail_au',\n",
      "       'secondary_cleaner.state.floatbank2_a_air',\n",
      "       'secondary_cleaner.state.floatbank2_a_level',\n",
      "       'secondary_cleaner.state.floatbank2_b_air',\n",
      "       'secondary_cleaner.state.floatbank2_b_level',\n",
      "       'secondary_cleaner.state.floatbank3_a_air',\n",
      "       'secondary_cleaner.state.floatbank3_a_level',\n",
      "       'secondary_cleaner.state.floatbank3_b_air',\n",
      "       'secondary_cleaner.state.floatbank3_b_level',\n",
      "       'secondary_cleaner.state.floatbank4_a_air',\n",
      "       'secondary_cleaner.state.floatbank4_a_level',\n",
      "       'secondary_cleaner.state.floatbank4_b_air',\n",
      "       'secondary_cleaner.state.floatbank4_b_level',\n",
      "       'secondary_cleaner.state.floatbank5_a_air',\n",
      "       'secondary_cleaner.state.floatbank5_a_level',\n",
      "       'secondary_cleaner.state.floatbank5_b_air',\n",
      "       'secondary_cleaner.state.floatbank5_b_level',\n",
      "       'secondary_cleaner.state.floatbank6_a_air',\n",
      "       'secondary_cleaner.state.floatbank6_a_level'],\n",
      "      dtype='object')\n",
      "\n"
     ]
    }
   ],
   "source": [
    "for _ in datas:\n",
    "    print (_.columns)\n",
    "    print()"
   ]
  },
  {
   "cell_type": "markdown",
   "id": "c2aca28c",
   "metadata": {},
   "source": [
    "### Описание данных"
   ]
  },
  {
   "cell_type": "markdown",
   "id": "be0047c5",
   "metadata": {},
   "source": [
    "**Описание данных с обучающей и исходной выборкой**\n",
    "\n",
    "- date - дата и время получения информации\n",
    "- final.output - финальные характеристики (параметры продукта)\n",
    "    - concentrate_ag - концентрация серебра\n",
    "    - concentrate_pb - концентрация свинца\n",
    "    - concentrate_sol - концентрация солей\n",
    "    - concentrate_au - концентрация золота\n",
    "    - recovery - эффективность обогащения\n",
    "    - tail_ag - серебро в отвальных хвостах этапа\n",
    "    - tail_pb - свинец в отвальных хвостах этапа\n",
    "    - tail_sol - соли в отвальных хвостах этапа\n",
    "    - tail_au - золото в отвальных хвостах этапа\n",
    "- primary_cleaner.input - первичная очистка (параметры сырья)\n",
    "    - sulfate - сульфаты\n",
    "    - depressant - депрессант\n",
    "    - feed_size - размер гранул сырья\n",
    "    - xanthate - ксантогенат\n",
    "- primary_cleaner.output - первичная очистка (параметры продукта)\n",
    "    - concentrate_ag - концентрация серебра\n",
    "    - concentrate_pb - концентрация свинца\n",
    "    - concentrate_sol - концентрация солей\n",
    "    - concentrate_au - концентрация золота\n",
    "    - tail_ag - серебро в отвальных хвостах этапа\n",
    "    - tail_pb - свинец в отвальных хвостах этапа\n",
    "    - tail_sol - соли в отвальных хвостах этапа\n",
    "    - tail_au - золото в отвальных хвостах этапа\n",
    "- primary_cleaner.state - первичная очистка (параметры, характеризующие текущее состояние этапа)\n",
    "    - floatbank8_a_air - объём воздуха в  установке 8 \n",
    "    - floatbank8_a_level - уровень жидкости в  установке 8 \n",
    "    - floatbank8_b_air - объём воздуха в  установке 8\n",
    "    - floatbank8_b_level - уровень жидкости в  установке 8\n",
    "    - floatbank8_c_air - объём воздуха в  установке 8\n",
    "    - floatbank8_c_level - уровень жидкости в  установке 8\n",
    "    - floatbank8_d_air - объём воздуха в  установке 8\n",
    "    - floatbank8_d_level - уровень жидкости в  установке 8\n",
    "- rougher.calculation - флотация (расчётные характеристики)\n",
    "    - sulfate_to_au_concentrate\n",
    "    - floatbank10_sulfate_to_au_feed\n",
    "    - floatbank11_sulfate_to_au_feed\n",
    "    - au_pb_ratio\n",
    "- rougher.input - флотация (параметры сырья)\n",
    "    - feed_ag - серебро в исходном сырье\n",
    "    - feed_pb - свинец в исходном сырье\n",
    "    - feed_rate - скорость подачи\n",
    "    - feed_size - размер гранул сырья\n",
    "    - feed_sol - соли в иходном сырье\n",
    "    - feed_au - золото в исходном сырье\n",
    "    - floatbank10_sulfate\n",
    "    - floatbank10_xanthate\n",
    "    - floatbank11_sulfate\n",
    "    - floatbank11_xanthate\n",
    "- rougher.output - флотация (параметры продукта)\n",
    "    - concentrate_ag - концентрация серебра\n",
    "    - concentrate_pb - концентрация свинца\n",
    "    - concentrate_sol - концентрация солей\n",
    "    - concentrate_au - концентрация золота\n",
    "    - recovery - эффективность обогащения\n",
    "    - tail_ag - серебро в отвальных хвостах этапа\n",
    "    - tail_pb - свинец в отвальных хвостах этапа\n",
    "    - tail_sol - соли в отвальных хвостах этапа\n",
    "    - tail_au - золото в отвальных хвостах этапа\n",
    "- rougher.state - флотация (параметры, характеризующие текущее состояние этапа)\n",
    "    - floatbank10_a_air - объём воздуха в флотационной установке 10\n",
    "    - floatbank10_a_level - уровень жидкости в флотационной установке 10\n",
    "    - floatbank10_b_air - объём воздуха в флотационной установке 10\n",
    "    - floatbank10_b_level - уровень жидкости в флотационной установке 10\n",
    "    - floatbank10_c_air - объём воздуха в флотационной установке 10\n",
    "    - floatbank10_c_level - уровень жидкости в флотационной установке 10\n",
    "    - floatbank10_d_air - объём воздуха в флотационной установке 10\n",
    "    - floatbank10_d_level - уровень жидкости в флотационной установке 10\n",
    "    - floatbank10_e_air - объём воздуха в флотационной установке 10\n",
    "    - floatbank10_e_level - уровень жидкости в флотационной установке 10\n",
    "    - floatbank10_f_air - объём воздуха в флотационной установке 10\n",
    "    - floatbank10_f_level - уровень жидкости в флотационной установке 10\n",
    "- secondary_cleaner.output - вторичная очистка (параметры продукта)\n",
    "    - tail_ag - серебро в отвальных хвостах этапа\n",
    "    - tail_pb - свинец в отвальных хвостах этапа\n",
    "    - tail_sol - соли в отвальных хвостах этапа\n",
    "    - tail_au - золото в отвальных хвостах этапа\n",
    "- secondary_cleaner.state - вторичная очистка (параметры, характеризующие текущее состояние этапа)\n",
    "    - floatbank2_a_air - объём воздуха в установке 2\n",
    "    - floatbank2_a_level - уровень жидкости в установке 2\n",
    "    - floatbank2_b_air - объём воздуха в  установке 2\n",
    "    - floatbank2_b_level - уровень жидкости в установке 2\n",
    "    - floatbank3_a_air - объём воздуха в  установке 3\n",
    "    - floatbank3_a_level - уровень жидкости в установке 3\n",
    "    - floatbank3_b_air - объём воздуха в  установке 3\n",
    "    - floatbank3_b_level - уровень жидкости в установке 3\n",
    "    - floatbank4_a_air - объём воздуха в  установке 4\n",
    "    - floatbank4_a_level - уровень жидкости в установке 4\n",
    "    - floatbank4_b_air - объём воздуха в  установке 4\n",
    "    - floatbank4_b_level - уровень жидкости в установке 4\n",
    "    - floatbank5_a_air - объём воздуха в  установке 5\n",
    "    - floatbank5_a_level - уровень жидкости в установке 5\n",
    "    - floatbank5_b_air - объём воздуха в  установке 5\n",
    "    - floatbank5_b_level - уровень жидкости в установке 5\n",
    "    - floatbank6_a_air - объём воздуха в  установке 6\n",
    "    - floatbank6_a_level - уровень жидкости в установке 6"
   ]
  },
  {
   "cell_type": "markdown",
   "id": "cdf93d28",
   "metadata": {},
   "source": [
    "**Описание данных с тестовой выборкой**\n",
    "\n",
    "- date - дата и время получения информации\n",
    "- primary_cleaner.input - первичная очистка (параметры сырья)\n",
    "    - sulfate - сульфаты\n",
    "    - depressant - депрессант\n",
    "    - feed_size - размер гранул сырья\n",
    "    - xanthate - ксантогенат\n",
    "- primary_cleaner.state - первичная очистка (параметры, характеризующие текущее состояние этапа)\n",
    "    - floatbank8_a_air\n",
    "    - floatbank8_a_level\n",
    "    - floatbank8_b_air\n",
    "    - floatbank8_b_level\n",
    "    - floatbank8_c_air\n",
    "    - floatbank8_c_level\n",
    "    - floatbank8_d_air\n",
    "    - floatbank8_d_level\n",
    "- rougher.input - флотация (параметры сырья)\n",
    "    - feed_ag - серебро в исходном сырье\n",
    "    - feed_pb - свинец в исходном сырье\n",
    "    - feed_rate - скорость подачи\n",
    "    - feed_size - размер гранул сырья\n",
    "    - feed_sol - соли в иходном сырье\n",
    "    - feed_au - золото в исходном сырье\n",
    "    - floatbank10_sulfate\n",
    "    - floatbank10_xanthate\n",
    "    - floatbank11_sulfate\n",
    "    - floatbank11_xanthate\n",
    "- rougher.state - флотация (параметры, характеризующие текущее состояние этапа)\n",
    "    - floatbank10_a_air\n",
    "    - floatbank10_a_level\n",
    "    - floatbank10_b_air\n",
    "    - floatbank10_b_level\n",
    "    - floatbank10_c_air\n",
    "    - floatbank10_c_level\n",
    "    - floatbank10_d_air\n",
    "    - floatbank10_d_level\n",
    "    - floatbank10_e_air\n",
    "    - floatbank10_e_level\n",
    "    - floatbank10_f_air\n",
    "    - floatbank10_f_level\n",
    "- secondary_cleaner.state - вторичная очистка (параметры, характеризующие текущее состояние этапа)\n",
    "    - floatbank2_a_air\n",
    "    - floatbank2_a_level\n",
    "    - floatbank2_b_air\n",
    "    - floatbank2_b_level\n",
    "    - floatbank3_a_air\n",
    "    - floatbank3_a_level\n",
    "    - floatbank3_b_air\n",
    "    - floatbank3_b_level\n",
    "    - floatbank4_a_air\n",
    "    - floatbank4_a_level\n",
    "    - floatbank4_b_air\n",
    "    - floatbank4_b_level\n",
    "    - floatbank5_a_air\n",
    "    - floatbank5_a_level\n",
    "    - floatbank5_b_air\n",
    "    - floatbank5_b_level\n",
    "    - floatbank6_a_air\n",
    "    - floatbank6_a_level"
   ]
  },
  {
   "cell_type": "markdown",
   "id": "7d54708c",
   "metadata": {},
   "source": [
    "## Предобработка данных"
   ]
  },
  {
   "cell_type": "markdown",
   "id": "484dce45",
   "metadata": {},
   "source": [
    "### обработка пропусков"
   ]
  },
  {
   "cell_type": "markdown",
   "id": "84e58c08",
   "metadata": {},
   "source": [
    "Проверим наличие признаков потерянных при выделении тренировочной выборки, сравнив пропуски в исходной и тренировочной выборках и найдя их разницу "
   ]
  },
  {
   "cell_type": "code",
   "execution_count": 12,
   "id": "ac578ae8",
   "metadata": {},
   "outputs": [],
   "source": [
    "check = df_original.isna().sum() == df_train.isna().sum()"
   ]
  },
  {
   "cell_type": "code",
   "execution_count": 13,
   "id": "d46d46ce",
   "metadata": {},
   "outputs": [
    {
     "data": {
      "text/plain": [
       "final.output.tail_ag                                  False\n",
       "final.output.tail_pb                                  False\n",
       "final.output.tail_sol                                 False\n",
       "primary_cleaner.input.sulfate                         False\n",
       "primary_cleaner.input.depressant                      False\n",
       "primary_cleaner.input.xanthate                        False\n",
       "primary_cleaner.output.concentrate_pb                 False\n",
       "primary_cleaner.output.concentrate_sol                False\n",
       "primary_cleaner.output.tail_ag                        False\n",
       "primary_cleaner.output.tail_pb                        False\n",
       "primary_cleaner.output.tail_sol                       False\n",
       "rougher.calculation.sulfate_to_au_concentrate         False\n",
       "rougher.calculation.floatbank10_sulfate_to_au_feed    False\n",
       "rougher.calculation.floatbank11_sulfate_to_au_feed    False\n",
       "rougher.input.feed_rate                               False\n",
       "rougher.input.feed_size                               False\n",
       "rougher.input.feed_sol                                False\n",
       "rougher.input.floatbank10_sulfate                     False\n",
       "rougher.input.floatbank11_sulfate                     False\n",
       "rougher.input.floatbank11_xanthate                    False\n",
       "rougher.output.concentrate_sol                        False\n",
       "secondary_cleaner.output.tail_pb                      False\n",
       "secondary_cleaner.output.tail_sol                     False\n",
       "secondary_cleaner.state.floatbank2_a_air              False\n",
       "secondary_cleaner.state.floatbank2_b_air              False\n",
       "secondary_cleaner.state.floatbank3_a_air              False\n",
       "dtype: bool"
      ]
     },
     "execution_count": 13,
     "metadata": {},
     "output_type": "execute_result"
    }
   ],
   "source": [
    "check[check == False]"
   ]
  },
  {
   "cell_type": "code",
   "execution_count": 14,
   "id": "e1c6168c",
   "metadata": {},
   "outputs": [
    {
     "data": {
      "text/plain": [
       "final.output.tail_ag                                    1\n",
       "final.output.tail_pb                                    1\n",
       "final.output.tail_sol                                   1\n",
       "primary_cleaner.input.sulfate                           4\n",
       "primary_cleaner.input.depressant                        5\n",
       "primary_cleaner.input.xanthate                          4\n",
       "primary_cleaner.output.concentrate_pb                  30\n",
       "primary_cleaner.output.concentrate_sol                 84\n",
       "primary_cleaner.output.tail_ag                          3\n",
       "primary_cleaner.output.tail_pb                          6\n",
       "primary_cleaner.output.tail_sol                        16\n",
       "rougher.calculation.sulfate_to_au_concentrate           1\n",
       "rougher.calculation.floatbank10_sulfate_to_au_feed      1\n",
       "rougher.calculation.floatbank11_sulfate_to_au_feed      1\n",
       "rougher.input.feed_rate                                 3\n",
       "rougher.input.feed_size                                 1\n",
       "rougher.input.feed_sol                                 21\n",
       "rougher.input.floatbank10_sulfate                       5\n",
       "rougher.input.floatbank11_sulfate                       8\n",
       "rougher.input.floatbank11_xanthate                     25\n",
       "rougher.output.concentrate_sol                          1\n",
       "secondary_cleaner.output.tail_pb                        2\n",
       "secondary_cleaner.output.tail_sol                     143\n",
       "secondary_cleaner.state.floatbank2_a_air                3\n",
       "secondary_cleaner.state.floatbank2_b_air                2\n",
       "secondary_cleaner.state.floatbank3_a_air                9\n",
       "dtype: int64"
      ]
     },
     "execution_count": 14,
     "metadata": {},
     "output_type": "execute_result"
    }
   ],
   "source": [
    "df_original.loc[:,check[check == False].index].isna().sum() - df_train.loc[:,check[check == False].index].isna().sum()"
   ]
  },
  {
   "cell_type": "markdown",
   "id": "12c66d00",
   "metadata": {},
   "source": [
    "разница статистически не значима"
   ]
  },
  {
   "cell_type": "markdown",
   "id": "0d3f4da3",
   "metadata": {},
   "source": [
    "оценим долю пропусков от общего объема данных"
   ]
  },
  {
   "cell_type": "code",
   "execution_count": 15,
   "id": "b5f2a9be",
   "metadata": {},
   "outputs": [
    {
     "name": "stdout",
     "output_type": "stream",
     "text": [
      "0.27 %\n"
     ]
    }
   ],
   "source": [
    "print (round(df_original.isna().sum().sum()/df_original.count().sum()*100,2),'%')"
   ]
  },
  {
   "cell_type": "code",
   "execution_count": 16,
   "id": "a4fd86e4",
   "metadata": {},
   "outputs": [
    {
     "name": "stdout",
     "output_type": "stream",
     "text": [
      "0.33 %\n"
     ]
    }
   ],
   "source": [
    "print (round(df_train.isna().sum().sum()/df_train.count().sum()*100,2),'%')"
   ]
  },
  {
   "cell_type": "code",
   "execution_count": 17,
   "id": "7a3214c8",
   "metadata": {},
   "outputs": [
    {
     "name": "stdout",
     "output_type": "stream",
     "text": [
      "0.03 %\n"
     ]
    }
   ],
   "source": [
    "print (round(df_test.isna().sum().sum()/df_test.count().sum()*100,2),'%')"
   ]
  },
  {
   "cell_type": "markdown",
   "id": "cbcff235",
   "metadata": {},
   "source": [
    "общий объем пропусков так же статистически не значим и может быть как исключен, так и заполнен схожими значениями"
   ]
  },
  {
   "cell_type": "code",
   "execution_count": 18,
   "id": "8836a4e1",
   "metadata": {},
   "outputs": [],
   "source": [
    "df_original = df_original.fillna(method='ffill')"
   ]
  },
  {
   "cell_type": "code",
   "execution_count": 19,
   "id": "284b2d88",
   "metadata": {},
   "outputs": [],
   "source": [
    "df_train = df_train.fillna(method='ffill')"
   ]
  },
  {
   "cell_type": "code",
   "execution_count": 20,
   "id": "39137283",
   "metadata": {},
   "outputs": [],
   "source": [
    "df_test = df_test.fillna(method='ffill')"
   ]
  },
  {
   "cell_type": "markdown",
   "id": "026c78aa",
   "metadata": {},
   "source": [
    "### анализ признаков недоступных в тестовой выборке"
   ]
  },
  {
   "cell_type": "markdown",
   "id": "8e7dd7e3",
   "metadata": {},
   "source": [
    "тестовая выборка содержит признаки, относящиеся к следующим этапам и типам параметров:\n",
    "\n",
    "- date - дата и время получения информации\n",
    "- primary_cleaner.input - первичная очистка (параметры сырья)\n",
    "- primary_cleaner.state - первичная очистка (параметры, характеризующие текущее состояние этапа)\n",
    "- rougher.input - флотация (параметры сырья)\n",
    "- rougher.state - флотация (параметры, характеризующие текущее состояние этапа)\n",
    "- secondary_cleaner.state - вторичная очистка (параметры, характеризующие текущее состояние этапа)\n",
    "\n",
    "этапы и типы параметров не включенные в тестовую выборку:\n",
    "\n",
    "- final.output - финальные характеристики (параметры продукта)\n",
    "- primary_cleaner.output - первичная очистка (параметры продукта)\n",
    "- rougher.calculation - флотация (расчётные характеристики)\n",
    "- rougher.output - флотация (параметры продукта)\n",
    "- secondary_cleaner.output - вторичная очистка (параметры продукта)"
   ]
  },
  {
   "cell_type": "markdown",
   "id": "bde0bd56",
   "metadata": {},
   "source": [
    "### расчет дополнительных параметров"
   ]
  },
  {
   "cell_type": "markdown",
   "id": "a8c37404",
   "metadata": {},
   "source": [
    "#### расчет концентрации элементов в исходном сырье для исходной выборки"
   ]
  },
  {
   "cell_type": "code",
   "execution_count": 21,
   "id": "086c71cf",
   "metadata": {},
   "outputs": [],
   "source": [
    "total_elements_original = df_original['rougher.input.feed_ag'] + df_original['rougher.input.feed_pb'] + df_original['rougher.input.feed_sol'] + df_original['rougher.input.feed_au'] "
   ]
  },
  {
   "cell_type": "code",
   "execution_count": 22,
   "id": "6d1a1e00",
   "metadata": {},
   "outputs": [],
   "source": [
    "df_original['rougher.input.concentrate_au'] = df_original['rougher.input.feed_au']*100/total_elements_original\n",
    "df_original['rougher.input.concentrate_ag'] = df_original['rougher.input.feed_ag']*100/total_elements_original\n",
    "df_original['rougher.input.concentrate_pb'] = df_original['rougher.input.feed_pb']*100/total_elements_original\n",
    "df_original['rougher.input.concentrate_sol'] = df_original['rougher.input.feed_sol']*100/total_elements_original"
   ]
  },
  {
   "cell_type": "markdown",
   "id": "fce051a9",
   "metadata": {},
   "source": [
    "#### расчет концентрации элементов в исходном сырье для обучающей выборки"
   ]
  },
  {
   "cell_type": "code",
   "execution_count": 23,
   "id": "d385db8f",
   "metadata": {},
   "outputs": [],
   "source": [
    "total_elements_train = df_train['rougher.input.feed_ag'] + df_train['rougher.input.feed_pb'] + df_train['rougher.input.feed_sol'] + df_train['rougher.input.feed_au'] "
   ]
  },
  {
   "cell_type": "code",
   "execution_count": 24,
   "id": "76ecacc8",
   "metadata": {},
   "outputs": [],
   "source": [
    "df_train['rougher.input.concentrate_au'] = df_train['rougher.input.feed_au']*100/total_elements_train\n",
    "df_train['rougher.input.concentrate_ag'] = df_train['rougher.input.feed_ag']*100/total_elements_train\n",
    "df_train['rougher.input.concentrate_pb'] = df_train['rougher.input.feed_pb']*100/total_elements_train\n",
    "df_train['rougher.input.concentrate_sol'] = df_train['rougher.input.feed_sol']*100/total_elements_train"
   ]
  },
  {
   "cell_type": "markdown",
   "id": "630cd206",
   "metadata": {},
   "source": [
    "#### расчет концентрации элементов в отвальных хвостах для исходной выборки"
   ]
  },
  {
   "cell_type": "code",
   "execution_count": 25,
   "id": "47c2d94b",
   "metadata": {},
   "outputs": [],
   "source": [
    "total_tail_rougher_original = df_original['rougher.output.tail_ag'] + df_original['rougher.output.tail_pb'] + df_original['rougher.output.tail_sol'] + df_original['rougher.output.tail_au'] "
   ]
  },
  {
   "cell_type": "code",
   "execution_count": 26,
   "id": "d510266e",
   "metadata": {},
   "outputs": [],
   "source": [
    "df_original['rougher.output.concentrate_tail_au'] = df_original['rougher.output.tail_au']*100/total_tail_rougher_original\n",
    "df_original['rougher.output.concentrate_tail_ag'] = df_original['rougher.output.tail_ag']*100/total_tail_rougher_original\n",
    "df_original['rougher.output.concentrate_tail_pb'] = df_original['rougher.output.tail_pb']*100/total_tail_rougher_original\n",
    "df_original['rougher.output.concentrate_tail_sol'] = df_original['rougher.output.tail_sol']*100/total_tail_rougher_original\n"
   ]
  },
  {
   "cell_type": "markdown",
   "id": "a29a8ede",
   "metadata": {},
   "source": [
    "#### расчет концентрации элементов в отвальных хвостах для обучающей выборки"
   ]
  },
  {
   "cell_type": "code",
   "execution_count": 27,
   "id": "98555208",
   "metadata": {},
   "outputs": [],
   "source": [
    "total_tail_rougher_train = df_train['rougher.output.tail_ag'] + df_train['rougher.output.tail_pb'] + df_train['rougher.output.tail_sol'] + df_train['rougher.output.tail_au'] "
   ]
  },
  {
   "cell_type": "code",
   "execution_count": 28,
   "id": "1004f7ce",
   "metadata": {},
   "outputs": [],
   "source": [
    "df_train['rougher.output.concentrate_tail_au'] = df_train['rougher.output.tail_au']*100/total_tail_rougher_train\n",
    "df_train['rougher.output.concentrate_tail_ag'] = df_train['rougher.output.tail_ag']*100/total_tail_rougher_train\n",
    "df_train['rougher.output.concentrate_tail_pb'] = df_train['rougher.output.tail_pb']*100/total_tail_rougher_train\n",
    "df_train['rougher.output.concentrate_tail_sol'] = df_train['rougher.output.tail_sol']*100/total_tail_rougher_train"
   ]
  },
  {
   "cell_type": "markdown",
   "id": "63e37a20",
   "metadata": {},
   "source": [
    "#### Описание рассчитанных данных"
   ]
  },
  {
   "cell_type": "markdown",
   "id": "032a2d1a",
   "metadata": {},
   "source": [
    "**Описание рассчитанных данных для обучающей и исходной выборок**\n",
    "\n",
    "- rougher.input - флотация (параметры сырья)\n",
    "    - concentrate_ag - концентрация серебра\n",
    "    - concentrate_pb - концентрация свинца\n",
    "    - concentrate_sol - концентрация солей\n",
    "    - concentrate_au - концентрация золота\n",
    "- rougher.output\n",
    "    - concentrate_tail_au - концентрация золота в отвальных хвостах этапа\n",
    "    - concentrate_tail_ag - концентрация серебра в отвальных хвостах этапа\n",
    "    - concentrate_tail_pb - концентрация свинца в отвальных хвостах этапа\n",
    "    - concentrate_tail_sol - концентрация солей в отвальных хвостах этапа"
   ]
  },
  {
   "cell_type": "markdown",
   "id": "7233d477",
   "metadata": {},
   "source": [
    "**Описание рассчитанных данных для тестовой выборки**\n",
    "\n",
    "- rougher.input - флотация (параметры сырья)\n",
    "    - concentrate_ag - концентрация серебра\n",
    "    - concentrate_pb - концентрация свинца\n",
    "    - concentrate_sol - концентрация солей\n",
    "    - concentrate_au - концентрация золота"
   ]
  },
  {
   "cell_type": "markdown",
   "id": "23737ef3",
   "metadata": {},
   "source": [
    "## Проверка данных"
   ]
  },
  {
   "cell_type": "markdown",
   "id": "d411505d",
   "metadata": {},
   "source": [
    "### проверка расчета эффективности обогащения"
   ]
  },
  {
   "cell_type": "code",
   "execution_count": 29,
   "id": "89aa426e",
   "metadata": {},
   "outputs": [],
   "source": [
    "df_train['rougher.output.recovery_calc'] = product_recovery(df_train['rougher.output.concentrate_au'],\n",
    "                                                            df_train['rougher.input.concentrate_au'],\n",
    "                                                            df_train['rougher.output.concentrate_tail_au'])*100"
   ]
  },
  {
   "cell_type": "code",
   "execution_count": 30,
   "id": "86f017da",
   "metadata": {},
   "outputs": [
    {
     "data": {
      "text/plain": [
       "14.844299671559325"
      ]
     },
     "execution_count": 30,
     "metadata": {},
     "output_type": "execute_result"
    }
   ],
   "source": [
    "mean_absolute_error(df_train['rougher.output.recovery_calc'], df_train['rougher.output.recovery'])"
   ]
  },
  {
   "cell_type": "markdown",
   "id": "c8182032",
   "metadata": {},
   "source": [
    "<div style=\"border:solid blue 2px; padding: 20px\">\n",
    "\n",
    "Выявлено отличие между результатами расчета и значением признака "
   ]
  },
  {
   "cell_type": "code",
   "execution_count": 31,
   "id": "450bbb80",
   "metadata": {},
   "outputs": [
    {
     "data": {
      "text/plain": [
       "81.8774566290479"
      ]
     },
     "execution_count": 31,
     "metadata": {},
     "output_type": "execute_result"
    }
   ],
   "source": [
    "mean_absolute_error(product_recovery(df_train['rougher.output.concentrate_au'],\n",
    "                                     df_train['rougher.input.feed_au'],\n",
    "                                     df_train['rougher.output.tail_au']), \n",
    "                    df_train['rougher.output.recovery'])"
   ]
  },
  {
   "cell_type": "markdown",
   "id": "35cb3358",
   "metadata": {},
   "source": [
    "## Анализ данных"
   ]
  },
  {
   "cell_type": "markdown",
   "id": "91b061b5",
   "metadata": {},
   "source": [
    "### изменение концентрации металлов на различных этапах очистки"
   ]
  },
  {
   "cell_type": "code",
   "execution_count": 32,
   "id": "30e2e87c",
   "metadata": {},
   "outputs": [],
   "source": [
    "data_change_con_ag = df_original.loc[:,['rougher.input.concentrate_ag',\n",
    "                              'rougher.output.concentrate_ag',\n",
    "                              'primary_cleaner.output.concentrate_ag',\n",
    "                              'final.output.concentrate_ag']\n",
    "                             ]\n",
    "data_change_con_pb = df_original.loc[:,[\n",
    "                              'rougher.input.concentrate_pb',\n",
    "                              'rougher.output.concentrate_pb',\n",
    "                              'primary_cleaner.output.concentrate_pb',\n",
    "                              'final.output.concentrate_pb']\n",
    "                             ]\n",
    "data_change_con_sol = df_original.loc[:,[\n",
    "                              'rougher.input.concentrate_sol',\n",
    "                              'rougher.output.concentrate_sol',\n",
    "                              'primary_cleaner.output.concentrate_sol',\n",
    "                              'final.output.concentrate_sol'\n",
    "                             ]\n",
    "                             ]\n",
    "data_change_con_au = df_original.loc[:,[\n",
    "                              'rougher.input.concentrate_au',\n",
    "                               'rougher.output.concentrate_au',\n",
    "                               'primary_cleaner.output.concentrate_au',\n",
    "                               'final.output.concentrate_au']\n",
    "                             ]"
   ]
  },
  {
   "cell_type": "code",
   "execution_count": 33,
   "id": "fd3e5d3d",
   "metadata": {},
   "outputs": [
    {
     "data": {
      "text/plain": [
       "<matplotlib.axes._subplots.AxesSubplot at 0x20d79d86d88>"
      ]
     },
     "execution_count": 33,
     "metadata": {},
     "output_type": "execute_result"
    },
    {
     "data": {
      "image/png": "[encoded data removed]",
      "text/plain": [
       "<Figure size 1080x720 with 1 Axes>"
      ]
     },
     "metadata": {
      "needs_background": "light"
     },
     "output_type": "display_data"
    }
   ],
   "source": [
    "data_change_con_ag.mean().plot(\n",
    "                               style='o-', \n",
    "                               figsize=(15,10), \n",
    "                               grid=True,\n",
    "                               label='ag',\n",
    "                               legend=True,\n",
    "                               title='Изменение концентрации металлов на различных этапах очистки').set_ylabel('concentrate')\n",
    "data_change_con_pb.mean().plot(\n",
    "                               style='o-', \n",
    "                               figsize=(15,10), \n",
    "                               label='pb',\n",
    "                               legend=True,\n",
    "                               grid=True)\n",
    "data_change_con_sol.mean().plot(\n",
    "                                style='o-', \n",
    "                                figsize=(15,10), \n",
    "                                label='sol',\n",
    "                                legend=True,\n",
    "                                grid=True)\n",
    "data_change_con_au.mean().plot(\n",
    "                               style='o-', \n",
    "                               figsize=(15,10), \n",
    "                               label='au',\n",
    "                               legend=True,\n",
    "                               grid=True)\n"
   ]
  },
  {
   "cell_type": "markdown",
   "id": "fbee7a5f",
   "metadata": {},
   "source": [
    "<div style=\"border:solid blue 2px; padding: 20px\">\n",
    "\n",
    "На графике виден рост концентрации золота при каждом последующем этапе очистки на фоне снижения концентрации солей металлов и серебра, концентрация свинца при этом так же показывает рост"
   ]
  },
  {
   "cell_type": "code",
   "execution_count": 34,
   "id": "4fbe1f4c",
   "metadata": {},
   "outputs": [],
   "source": [
    "data_change_con_ag = df_original.loc[:,['rougher.input.feed_ag',\n",
    "                              'rougher.output.concentrate_ag',\n",
    "                              'primary_cleaner.output.concentrate_ag',\n",
    "                              'final.output.concentrate_ag']\n",
    "                             ]\n",
    "data_change_con_pb = df_original.loc[:,[\n",
    "                              'rougher.input.feed_pb',\n",
    "                              'rougher.output.concentrate_pb',\n",
    "                              'primary_cleaner.output.concentrate_pb',\n",
    "                              'final.output.concentrate_pb']\n",
    "                             ]\n",
    "data_change_con_sol = df_original.loc[:,[\n",
    "                              'rougher.input.feed_sol',\n",
    "                              'rougher.output.concentrate_sol',\n",
    "                              'primary_cleaner.output.concentrate_sol',\n",
    "                              'final.output.concentrate_sol'\n",
    "                             ]\n",
    "                             ]\n",
    "data_change_con_au = df_original.loc[:,[\n",
    "                              'rougher.input.feed_au',\n",
    "                               'rougher.output.concentrate_au',\n",
    "                               'primary_cleaner.output.concentrate_au',\n",
    "                               'final.output.concentrate_au']\n",
    "                             ]"
   ]
  },
  {
   "cell_type": "code",
   "execution_count": 35,
   "id": "3d042676",
   "metadata": {},
   "outputs": [
    {
     "data": {
      "text/plain": [
       "<matplotlib.axes._subplots.AxesSubplot at 0x20d04d96c08>"
      ]
     },
     "execution_count": 35,
     "metadata": {},
     "output_type": "execute_result"
    },
    {
     "data": {
      "image/png": "[encoded data removed]",
      "text/plain": [
       "<Figure size 1080x720 with 1 Axes>"
      ]
     },
     "metadata": {
      "needs_background": "light"
     },
     "output_type": "display_data"
    }
   ],
   "source": [
    "data_change_con_ag.mean().plot(\n",
    "                               style='o-', \n",
    "                               figsize=(15,10), \n",
    "                               grid=True,\n",
    "                               label='ag',\n",
    "                               legend=True,\n",
    "                               title='Изменение концентрации металлов на различных этапах очистки').set_ylabel('concentrate')\n",
    "data_change_con_pb.mean().plot(\n",
    "                               style='o-', \n",
    "                               figsize=(15,10), \n",
    "                               label='pb',\n",
    "                               legend=True,\n",
    "                               grid=True)\n",
    "data_change_con_sol.mean().plot(\n",
    "                                style='o-', \n",
    "                                figsize=(15,10), \n",
    "                                label='sol',\n",
    "                                legend=True,\n",
    "                                grid=True)\n",
    "data_change_con_au.mean().plot(\n",
    "                               style='o-', \n",
    "                               figsize=(15,10), \n",
    "                               label='au',\n",
    "                               legend=True,\n",
    "                               grid=True)"
   ]
  },
  {
   "cell_type": "markdown",
   "id": "66702b59",
   "metadata": {},
   "source": [
    "### сравнение распределения размеров гранул сырья для обучающей и тестовой выборок"
   ]
  },
  {
   "cell_type": "markdown",
   "id": "89b0449d",
   "metadata": {},
   "source": [
    "Проверим гипотезу \n",
    "\n",
    "- H0: среднее распределение размеров гранул сырья для обучающей и тестовой выборок на этапе флотации отличается не существенно (Уровень значимости - 5%)\n",
    "- H1: среднее распределение размеров гранул сырья для обучающей и тестовой выборок на этапе флотации существенно отличаются (Уровень значимости - 5%)"
   ]
  },
  {
   "cell_type": "code",
   "execution_count": 36,
   "id": "56548dcb",
   "metadata": {},
   "outputs": [
    {
     "name": "stdout",
     "output_type": "stream",
     "text": [
      "p-значение:  1.6081245670847274e-33\n",
      "Отвергаем нулевую гипотезу\n"
     ]
    }
   ],
   "source": [
    "data_train_rougher_feed_size = df_train.loc[:,'rougher.input.feed_size']\n",
    "data_test_rougher_feed_size = df_test.loc[:,'rougher.input.feed_size']\n",
    "\n",
    "alpha = 0.05 # критический уровень статистической значимости\n",
    "\n",
    "results = st.ttest_ind(\n",
    "    data_train_rougher_feed_size, \n",
    "    data_test_rougher_feed_size)\n",
    "\n",
    "print('p-значение: ', results.pvalue)\n",
    "\n",
    "if results.pvalue < alpha:\n",
    "    print(\"Отвергаем нулевую гипотезу\")\n",
    "else:\n",
    "    print(\"Не получилось отвергнуть нулевую гипотезу\") "
   ]
  },
  {
   "cell_type": "code",
   "execution_count": 37,
   "id": "dcfd6524",
   "metadata": {},
   "outputs": [
    {
     "name": "stdout",
     "output_type": "stream",
     "text": [
      "Средний размер гранул сырья на этапе флотации в обучающей выборке: 60.23985599255732\n",
      "Средний размер гранул сырья на этапе флотации в тестовой выборке: 55.95275402889513\n"
     ]
    }
   ],
   "source": [
    "print('Средний размер гранул сырья на этапе флотации в обучающей выборке:',data_train_rougher_feed_size.mean())\n",
    "print('Средний размер гранул сырья на этапе флотации в тестовой выборке:',data_test_rougher_feed_size.mean())"
   ]
  },
  {
   "cell_type": "code",
   "execution_count": 38,
   "id": "925d87a9",
   "metadata": {},
   "outputs": [
    {
     "data": {
      "text/plain": [
       "<matplotlib.axes._subplots.AxesSubplot at 0x20d0200bc08>"
      ]
     },
     "execution_count": 38,
     "metadata": {},
     "output_type": "execute_result"
    },
    {
     "data": {
      "image/png": "[encoded data removed]",
      "text/plain": [
       "<Figure size 1080x720 with 1 Axes>"
      ]
     },
     "metadata": {
      "needs_background": "light"
     },
     "output_type": "display_data"
    }
   ],
   "source": [
    "data_train_rougher_feed_size.plot(\n",
    "                                kind='hist', \n",
    "                                bins=50,\n",
    "                                range=(10,110),\n",
    "                                alpha=0.7,\n",
    "                                figsize=(15,10), \n",
    "                                label='train',\n",
    "                                legend=True,\n",
    "                                grid=True,\n",
    "                                title='Распределение размеров гранул сырья для обучающей и тестовой выборок на этапе флотации'\n",
    "                                )\n",
    "data_test_rougher_feed_size.plot(\n",
    "                               kind='hist', \n",
    "                               bins=50,\n",
    "                               range=(10,110),\n",
    "                               alpha=0.5,\n",
    "                               figsize=(15,10), \n",
    "                               label='test',\n",
    "                               legend=True,\n",
    "                               grid=True)"
   ]
  },
  {
   "cell_type": "markdown",
   "id": "8a25e579",
   "metadata": {},
   "source": [
    "Проверим гипотезу \n",
    "\n",
    "- H0: среднее распределение размеров гранул сырья для обучающей и тестовой выборок на этапе первичной очистки отличается не существенно (Уровень значимости - 5%)\n",
    "- H1: среднее распределение размеров гранул сырья для обучающей и тестовой выборок на этапе первичной очистки существенно отличаются (Уровень значимости - 5%)\n"
   ]
  },
  {
   "cell_type": "code",
   "execution_count": 39,
   "id": "0742f33e",
   "metadata": {},
   "outputs": [
    {
     "name": "stdout",
     "output_type": "stream",
     "text": [
      "p-значение:  1.4864182925957636e-08\n",
      "Отвергаем нулевую гипотезу\n"
     ]
    }
   ],
   "source": [
    "data_train_primary_cleaner_feed_size = df_train.loc[:,'primary_cleaner.input.feed_size']\n",
    "data_test_primary_cleaner_feed_size = df_test.loc[:,'primary_cleaner.input.feed_size']\n",
    "\n",
    "alpha = 0.05 # критический уровень статистической значимости\n",
    "\n",
    "results = st.ttest_ind(\n",
    "    data_train_primary_cleaner_feed_size, data_test_primary_cleaner_feed_size)\n",
    "\n",
    "print('p-значение: ', results.pvalue)\n",
    "\n",
    "if results.pvalue < alpha:\n",
    "    print(\"Отвергаем нулевую гипотезу\")\n",
    "else:\n",
    "    print(\"Не получилось отвергнуть нулевую гипотезу\")"
   ]
  },
  {
   "cell_type": "code",
   "execution_count": 40,
   "id": "c1c07d87",
   "metadata": {},
   "outputs": [
    {
     "name": "stdout",
     "output_type": "stream",
     "text": [
      "Средний размер гранул сырья на этапе первичной очистки в обучающей выборке: 7.322309906901314\n",
      "Средний размер гранул сырья на этапе первичной очистки в тестовой выборке: 7.266339191270906\n"
     ]
    }
   ],
   "source": [
    "print('Средний размер гранул сырья на этапе первичной очистки в обучающей выборке:',data_train_primary_cleaner_feed_size.mean())\n",
    "print('Средний размер гранул сырья на этапе первичной очистки в тестовой выборке:',data_test_primary_cleaner_feed_size.mean())"
   ]
  },
  {
   "cell_type": "code",
   "execution_count": 41,
   "id": "5b619e04",
   "metadata": {},
   "outputs": [
    {
     "data": {
      "text/plain": [
       "<matplotlib.axes._subplots.AxesSubplot at 0x20d026b1d08>"
      ]
     },
     "execution_count": 41,
     "metadata": {},
     "output_type": "execute_result"
    },
    {
     "data": {
      "image/png": "[encoded data removed]",
      "text/plain": [
       "<Figure size 1080x720 with 1 Axes>"
      ]
     },
     "metadata": {
      "needs_background": "light"
     },
     "output_type": "display_data"
    }
   ],
   "source": [
    "data_train_primary_cleaner_feed_size.plot(\n",
    "                                kind='hist', \n",
    "                                bins=50,\n",
    "                                range=(5,10),\n",
    "                                alpha=0.7,\n",
    "                                figsize=(15,10), \n",
    "                                label='train',\n",
    "                                legend=True,\n",
    "                                title='Распределение размеров гранул сырья для обучающей и тестовой выборок на этапе первичной очистки',\n",
    "                                grid=True)\n",
    "data_test_primary_cleaner_feed_size.plot(\n",
    "                               kind='hist', \n",
    "                               bins=50,\n",
    "                               range=(5,10),\n",
    "                               alpha=0.5,\n",
    "                               figsize=(15,10), \n",
    "                               label='test',\n",
    "                               legend=True,\n",
    "                               grid=True)"
   ]
  },
  {
   "cell_type": "markdown",
   "id": "f2c676bd",
   "metadata": {},
   "source": [
    "<div style=\"border:solid blue 2px; padding: 20px\">\n",
    "\n",
    "Не смотря на результаты спроверки гипотез, на основании графиков можно сделать вывод о том что средние размеры гранул сырья в обучающей и тестовой выборках отличаются не существенно"
   ]
  },
  {
   "cell_type": "markdown",
   "id": "37fada09",
   "metadata": {},
   "source": [
    "### исследование суммарной концентрации веществ на различных стадиях"
   ]
  },
  {
   "cell_type": "code",
   "execution_count": 42,
   "id": "a3dd0317",
   "metadata": {},
   "outputs": [],
   "source": [
    "data_change_con_rougher = df_original['rougher.input.concentrate_ag'] + df_original['rougher.input.concentrate_pb'] +  df_original['rougher.input.concentrate_sol'] + df_original['rougher.input.concentrate_au'] \n",
    "\n",
    "                             \n",
    "data_change_con_primary_cleaner = df_original['rougher.output.concentrate_ag'] + df_original['rougher.output.concentrate_sol'] + df_original['rougher.output.concentrate_pb'] + df_original['rougher.output.concentrate_au']\n",
    "\n",
    "\n",
    "data_change_con_secondary_cleaner = df_original['primary_cleaner.output.concentrate_ag'] + df_original['primary_cleaner.output.concentrate_pb'] + df_original['primary_cleaner.output.concentrate_sol'] + df_original['primary_cleaner.output.concentrate_au']\n",
    "\n",
    "\n",
    "data_change_con_final = df_original['final.output.concentrate_ag'] + df_original['final.output.concentrate_pb'] + df_original['final.output.concentrate_sol'] + df_original['final.output.concentrate_au']\n"
   ]
  },
  {
   "cell_type": "code",
   "execution_count": 43,
   "id": "3b200b7a",
   "metadata": {
    "scrolled": false
   },
   "outputs": [
    {
     "data": {
      "text/plain": [
       "<matplotlib.axes._subplots.AxesSubplot at 0x20d02827848>"
      ]
     },
     "execution_count": 43,
     "metadata": {},
     "output_type": "execute_result"
    },
    {
     "data": {
      "image/png": "[encoded data removed]",
      "text/plain": [
       "<Figure size 1080x720 with 1 Axes>"
      ]
     },
     "metadata": {
      "needs_background": "light"
     },
     "output_type": "display_data"
    }
   ],
   "source": [
    "data_change_con_rougher.plot(\n",
    "                                kind='hist', \n",
    "                                bins=50,\n",
    "                                range=(0,101),\n",
    "                                ylim=(0,3700),\n",
    "                                alpha=0.7,\n",
    "                                figsize=(15,10), \n",
    "                                label='rougher',\n",
    "                                legend=True,\n",
    "                                grid=True,\n",
    "                                title='Распределение суммарной концентрации веществ на различных стадиях очистки')\n",
    "data_change_con_primary_cleaner.plot(\n",
    "                               kind='hist', \n",
    "                               bins=50,\n",
    "                               range=(0,101),\n",
    "                               alpha=0.5,\n",
    "                               figsize=(15,10), \n",
    "                               label='primary_cleaner',\n",
    "                               legend=True,\n",
    "                               grid=True)\n",
    "data_change_con_secondary_cleaner.plot(\n",
    "                                kind='hist', \n",
    "                                bins=50,\n",
    "                                range=(0,101),\n",
    "                                alpha=0.7,\n",
    "                                figsize=(15,10), \n",
    "                                label='secondary_cleaner',\n",
    "                                legend=True,\n",
    "                                grid=True)\n",
    "data_change_con_final.plot(\n",
    "                               kind='hist', \n",
    "                               bins=50,\n",
    "                               range=(0,101),\n",
    "                               alpha=0.5,\n",
    "                               figsize=(15,10), \n",
    "                               label='final',\n",
    "                               legend=True,\n",
    "                               grid=True)"
   ]
  },
  {
   "cell_type": "code",
   "execution_count": 44,
   "id": "e42847ec",
   "metadata": {},
   "outputs": [],
   "source": [
    "data_change_con_rougher = df_original['rougher.input.feed_ag'] + df_original['rougher.input.feed_pb'] +  df_original['rougher.input.feed_sol'] + df_original['rougher.input.feed_au'] \n",
    "\n",
    "                             \n",
    "data_change_con_primary_cleaner = df_original['rougher.output.concentrate_ag'] + df_original['rougher.output.concentrate_sol'] + df_original['rougher.output.concentrate_pb'] + df_original['rougher.output.concentrate_au']\n",
    "\n",
    "\n",
    "data_change_con_secondary_cleaner = df_original['primary_cleaner.output.concentrate_ag'] + df_original['primary_cleaner.output.concentrate_pb'] + df_original['primary_cleaner.output.concentrate_sol'] + df_original['primary_cleaner.output.concentrate_au']\n",
    "\n",
    "\n",
    "data_change_con_final = df_original['final.output.concentrate_ag'] + df_original['final.output.concentrate_pb'] + df_original['final.output.concentrate_sol'] + df_original['final.output.concentrate_au']\n"
   ]
  },
  {
   "cell_type": "code",
   "execution_count": 45,
   "id": "5886c7bc",
   "metadata": {},
   "outputs": [
    {
     "data": {
      "text/plain": [
       "<matplotlib.axes._subplots.AxesSubplot at 0x20d02d779c8>"
      ]
     },
     "execution_count": 45,
     "metadata": {},
     "output_type": "execute_result"
    },
    {
     "data": {
      "image/png": "[encoded data removed]",
      "text/plain": [
       "<Figure size 1080x720 with 1 Axes>"
      ]
     },
     "metadata": {
      "needs_background": "light"
     },
     "output_type": "display_data"
    }
   ],
   "source": [
    "data_change_con_rougher.plot(\n",
    "                                kind='hist', \n",
    "                                bins=100,\n",
    "                                range=(0,101),\n",
    "                                ylim=(0,2000),\n",
    "                                alpha=0.7,\n",
    "                                figsize=(15,10), \n",
    "                                label='rougher',\n",
    "                                legend=True,\n",
    "                                grid=True,\n",
    "                                title='Распределение суммарной концентрации веществ на различных стадиях очистки')\n",
    "data_change_con_primary_cleaner.plot(\n",
    "                               kind='hist', \n",
    "                               bins=100,\n",
    "                               range=(0,101),\n",
    "                               alpha=0.5,\n",
    "                               figsize=(15,10), \n",
    "                               label='primary_cleaner',\n",
    "                               legend=True,\n",
    "                               grid=True)\n",
    "data_change_con_secondary_cleaner.plot(\n",
    "                                kind='hist', \n",
    "                                bins=100,\n",
    "                                range=(0,101),\n",
    "                                alpha=0.7,\n",
    "                                figsize=(15,10), \n",
    "                                label='secondary_cleaner',\n",
    "                                legend=True,\n",
    "                                grid=True)\n",
    "data_change_con_final.plot(\n",
    "                               kind='hist', \n",
    "                               bins=100,\n",
    "                               range=(0,101),\n",
    "                               alpha=0.5,\n",
    "                               figsize=(15,10), \n",
    "                               label='final',\n",
    "                               legend=True,\n",
    "                               grid=True)"
   ]
  },
  {
   "cell_type": "markdown",
   "id": "06539f46",
   "metadata": {},
   "source": [
    "исключим аномалии из тренировочной выборки"
   ]
  },
  {
   "cell_type": "code",
   "execution_count": 46,
   "id": "a5ec6028",
   "metadata": {},
   "outputs": [],
   "source": [
    "df_train['rougher.input.feed_ag'] = df_train[df_train['rougher.input.feed_ag'] > 1]['rougher.input.feed_ag']\n",
    "df_train['rougher.input.feed_pb'] = df_train[df_train['rougher.input.feed_pb'] > 1]['rougher.input.feed_pb']\n",
    "df_train['rougher.input.feed_sol'] = df_train[df_train['rougher.input.feed_sol'] > 1]['rougher.input.feed_sol']\n",
    "df_train['rougher.input.feed_au'] = df_train[df_train['rougher.input.feed_au'] > 1]['rougher.input.feed_au']"
   ]
  },
  {
   "cell_type": "code",
   "execution_count": 47,
   "id": "c1bb6889",
   "metadata": {},
   "outputs": [],
   "source": [
    "df_train['rougher.output.concentrate_ag'] = df_train[df_train['rougher.output.concentrate_ag'] > 1]['rougher.output.concentrate_ag']\n",
    "df_train['rougher.output.concentrate_sol'] = df_train[df_train['rougher.output.concentrate_sol'] > 1]['rougher.output.concentrate_sol']\n",
    "df_train['rougher.output.concentrate_pb'] = df_train[df_train['rougher.output.concentrate_pb'] > 1]['rougher.output.concentrate_pb']\n",
    "df_train['rougher.output.concentrate_au'] = df_train[df_train['rougher.output.concentrate_au'] > 1]['rougher.output.concentrate_au']"
   ]
  },
  {
   "cell_type": "code",
   "execution_count": 48,
   "id": "f64a635f",
   "metadata": {},
   "outputs": [],
   "source": [
    "df_train['primary_cleaner.output.concentrate_ag'] = df_train[df_train['primary_cleaner.output.concentrate_ag'] > 1]['primary_cleaner.output.concentrate_ag']\n",
    "df_train['primary_cleaner.output.concentrate_pb'] = df_train[df_train['primary_cleaner.output.concentrate_pb'] > 1]['primary_cleaner.output.concentrate_pb']\n",
    "df_train['primary_cleaner.output.concentrate_sol'] = df_train[df_train['primary_cleaner.output.concentrate_sol'] > 1]['primary_cleaner.output.concentrate_sol']\n",
    "df_train['primary_cleaner.output.concentrate_au'] = df_train[df_train['primary_cleaner.output.concentrate_au'] > 1]['primary_cleaner.output.concentrate_au']"
   ]
  },
  {
   "cell_type": "code",
   "execution_count": 49,
   "id": "05da79c2",
   "metadata": {},
   "outputs": [],
   "source": [
    "df_train['final.output.concentrate_ag'] = df_train[df_train['final.output.concentrate_ag'] > 1]['final.output.concentrate_ag']\n",
    "df_train['final.output.concentrate_pb'] = df_train[df_train['final.output.concentrate_pb'] > 1]['final.output.concentrate_pb']\n",
    "df_train['final.output.concentrate_sol'] = df_train[df_train['final.output.concentrate_sol'] > 1]['final.output.concentrate_sol']\n",
    "df_train['final.output.concentrate_au'] = df_train[df_train['final.output.concentrate_au'] > 1]['final.output.concentrate_au']"
   ]
  },
  {
   "cell_type": "code",
   "execution_count": 50,
   "id": "d161e749",
   "metadata": {},
   "outputs": [],
   "source": [
    "data_change_con_rougher = df_train['rougher.input.feed_ag'] + df_train['rougher.input.feed_pb'] +  df_train['rougher.input.feed_sol'] + df_train['rougher.input.feed_au'] \n",
    "\n",
    "                             \n",
    "data_change_con_primary_cleaner = df_train['rougher.output.concentrate_ag'] + df_train['rougher.output.concentrate_sol'] + df_train['rougher.output.concentrate_pb'] + df_train['rougher.output.concentrate_au']\n",
    "\n",
    "\n",
    "data_change_con_secondary_cleaner = df_train['primary_cleaner.output.concentrate_ag'] + df_train['primary_cleaner.output.concentrate_pb'] + df_train['primary_cleaner.output.concentrate_sol'] + df_train['primary_cleaner.output.concentrate_au']\n",
    "\n",
    "\n",
    "data_change_con_final = df_train['final.output.concentrate_ag'] + df_train['final.output.concentrate_pb'] + df_train['final.output.concentrate_sol'] + df_train['final.output.concentrate_au']\n"
   ]
  },
  {
   "cell_type": "code",
   "execution_count": 51,
   "id": "0723d085",
   "metadata": {},
   "outputs": [
    {
     "data": {
      "text/plain": [
       "<matplotlib.axes._subplots.AxesSubplot at 0x20d036e0588>"
      ]
     },
     "execution_count": 51,
     "metadata": {},
     "output_type": "execute_result"
    },
    {
     "data": {
      "image/png": "[encoded data removed]",
      "text/plain": [
       "<Figure size 1080x720 with 1 Axes>"
      ]
     },
     "metadata": {
      "needs_background": "light"
     },
     "output_type": "display_data"
    }
   ],
   "source": [
    "data_change_con_rougher.plot(\n",
    "                                kind='hist', \n",
    "                                bins=100,\n",
    "                                range=(0,101),\n",
    "                                ylim=(0,2000),\n",
    "                                alpha=0.7,\n",
    "                                figsize=(15,10), \n",
    "                                label='rougher',\n",
    "                                legend=True,\n",
    "                                grid=True,\n",
    "                                title='Распределение суммарной концентрации веществ на различных стадиях очистки в обучающей выборке')\n",
    "data_change_con_primary_cleaner.plot(\n",
    "                               kind='hist', \n",
    "                               bins=100,\n",
    "                               range=(0,101),\n",
    "                               alpha=0.5,\n",
    "                               figsize=(15,10), \n",
    "                               label='primary_cleaner',\n",
    "                               legend=True,\n",
    "                               grid=True)\n",
    "data_change_con_secondary_cleaner.plot(\n",
    "                                kind='hist', \n",
    "                                bins=100,\n",
    "                                range=(0,101),\n",
    "                                alpha=0.7,\n",
    "                                figsize=(15,10), \n",
    "                                label='secondary_cleaner',\n",
    "                                legend=True,\n",
    "                                grid=True)\n",
    "data_change_con_final.plot(\n",
    "                               kind='hist', \n",
    "                               bins=100,\n",
    "                               range=(0,101),\n",
    "                               alpha=0.5,\n",
    "                               figsize=(15,10), \n",
    "                               label='final',\n",
    "                               legend=True,\n",
    "                               grid=True)"
   ]
  },
  {
   "cell_type": "markdown",
   "id": "c3460151",
   "metadata": {},
   "source": [
    "## Обучение модели"
   ]
  },
  {
   "cell_type": "markdown",
   "id": "d35ce160",
   "metadata": {},
   "source": [
    "В рамках исследование требуется обучить модель, предсказывающую следующие целевые признаки:\n",
    "\n",
    "- эффективность обогащения чернового концентрата (rougher.output.recovery)\n",
    "- эффективность обогащения финального концентрата (final.output.recovery)"
   ]
  },
  {
   "cell_type": "markdown",
   "id": "e1e559f4",
   "metadata": {},
   "source": [
    "### подготовка признаков"
   ]
  },
  {
   "cell_type": "markdown",
   "id": "0330fc2c",
   "metadata": {},
   "source": [
    "#### подготовка целевых признаков"
   ]
  },
  {
   "cell_type": "code",
   "execution_count": 52,
   "id": "42147296",
   "metadata": {},
   "outputs": [],
   "source": [
    "df_test = df_test.set_index('date')\n",
    "df_train = df_train.set_index('date')\n",
    "df_original = df_original.set_index('date')"
   ]
  },
  {
   "cell_type": "code",
   "execution_count": 53,
   "id": "94b90746",
   "metadata": {},
   "outputs": [],
   "source": [
    "features_train = df_train.loc[:,df_test.columns] # признаки \n",
    "features_test = df_test\n",
    "\n",
    "target_train_rougher = df_original.loc[df_train.index,'rougher.output.recovery'] # целевой признак\n",
    "target_train_final = df_original.loc[df_train.index,'final.output.recovery'] # целевой признак\n",
    "\n",
    "target_test_rougher = df_original.loc[df_test.index,'rougher.output.recovery'] # целевой признак\n",
    "target_test_final = df_original.loc[df_test.index,'final.output.recovery'] # целевой признак"
   ]
  },
  {
   "cell_type": "markdown",
   "id": "b9bffc19",
   "metadata": {},
   "source": [
    "#### подготовка альтернативного набора признаков для этапа флотации"
   ]
  },
  {
   "cell_type": "markdown",
   "id": "4264fc0d",
   "metadata": {},
   "source": [
    "подготовим альтернативную обучающую и валидационную выборку для этапа флотации, учитывающую только признаки, относящиеся к данному этапу"
   ]
  },
  {
   "cell_type": "code",
   "execution_count": 54,
   "id": "e220575d",
   "metadata": {},
   "outputs": [],
   "source": [
    "rougher_columns = ['rougher.input.feed_ag',\n",
    "                   'rougher.input.feed_pb',\n",
    "                   'rougher.input.feed_rate',\n",
    "                   'rougher.input.feed_size',\n",
    "                   'rougher.input.feed_sol',\n",
    "                   'rougher.input.feed_au',\n",
    "                   'rougher.input.floatbank10_sulfate',\n",
    "                   'rougher.input.floatbank10_xanthate',\n",
    "                   'rougher.input.floatbank11_sulfate',\n",
    "                   'rougher.input.floatbank11_xanthate',\n",
    "                   'rougher.state.floatbank10_a_air',\n",
    "                   'rougher.state.floatbank10_a_level',\n",
    "                   'rougher.state.floatbank10_b_air',\n",
    "                   'rougher.state.floatbank10_b_level',\n",
    "                   'rougher.state.floatbank10_c_air',\n",
    "                   'rougher.state.floatbank10_c_level',\n",
    "                   'rougher.state.floatbank10_d_air',\n",
    "                   'rougher.state.floatbank10_d_level',\n",
    "                   'rougher.state.floatbank10_e_air',\n",
    "                   'rougher.state.floatbank10_e_level',\n",
    "                   'rougher.state.floatbank10_f_air',\n",
    "                   'rougher.state.floatbank10_f_level']\n",
    "\n",
    "\n",
    "features_train_cut = df_train.loc[:,rougher_columns]"
   ]
  },
  {
   "cell_type": "code",
   "execution_count": 55,
   "id": "70599650",
   "metadata": {},
   "outputs": [
    {
     "name": "stdout",
     "output_type": "stream",
     "text": [
      "(14149, 52)\n",
      "(14149, 22)\n",
      "(14149,)\n",
      "(14149,)\n"
     ]
    }
   ],
   "source": [
    "print(features_train.shape)\n",
    "\n",
    "\n",
    "print(features_train_cut.shape)\n",
    "\n",
    "\n",
    "print(target_train_rougher.shape)\n",
    "\n",
    "\n",
    "print(target_train_final.shape)\n"
   ]
  },
  {
   "cell_type": "markdown",
   "id": "052d6796",
   "metadata": {},
   "source": [
    "#### масштабирование"
   ]
  },
  {
   "cell_type": "code",
   "execution_count": 56,
   "id": "b76ecc1a",
   "metadata": {},
   "outputs": [],
   "source": [
    "pd.options.mode.chained_assignment = None\n",
    "\n",
    "scaler = StandardScaler()\n",
    "scaler.fit(features_train)\n",
    "\n",
    "features_train = scaler.transform(features_train)\n",
    "features_test = scaler.transform(features_test)"
   ]
  },
  {
   "cell_type": "code",
   "execution_count": 57,
   "id": "e1c5400e",
   "metadata": {},
   "outputs": [],
   "source": [
    "pd.options.mode.chained_assignment = None\n",
    "\n",
    "scaler = StandardScaler()\n",
    "scaler.fit(features_train_cut)\n",
    "\n",
    "features_train_cut = scaler.transform(features_train_cut)"
   ]
  },
  {
   "cell_type": "markdown",
   "id": "ec6a1c6f",
   "metadata": {},
   "source": [
    "### обучение моделей"
   ]
  },
  {
   "cell_type": "markdown",
   "id": "c6ca1b16",
   "metadata": {},
   "source": [
    "#### Scorer"
   ]
  },
  {
   "cell_type": "code",
   "execution_count": 58,
   "id": "65314a12",
   "metadata": {},
   "outputs": [],
   "source": [
    "smape_scorer = make_scorer(smape, greater_is_better=False)"
   ]
  },
  {
   "cell_type": "markdown",
   "id": "efa56edb",
   "metadata": {},
   "source": [
    "#### RandomForestRegressor"
   ]
  },
  {
   "cell_type": "markdown",
   "id": "22a6df33",
   "metadata": {},
   "source": [
    "подберем гиперпараметры для модей"
   ]
  },
  {
   "cell_type": "code",
   "execution_count": 61,
   "id": "d19f88d1",
   "metadata": {},
   "outputs": [
    {
     "ename": "AttributeError",
     "evalue": "'numpy.ndarray' object has no attribute 'isna'",
     "output_type": "error",
     "traceback": [
      "\u001b[1;31m---------------------------------------------------------------------------\u001b[0m",
      "\u001b[1;31mAttributeError\u001b[0m                            Traceback (most recent call last)",
      "\u001b[1;32m<ipython-input-61-eefa05b068fa>\u001b[0m in \u001b[0;36m<module>\u001b[1;34m\u001b[0m\n\u001b[1;32m----> 1\u001b[1;33m \u001b[0mfeatures_train\u001b[0m\u001b[1;33m.\u001b[0m\u001b[0misna\u001b[0m\u001b[1;33m(\u001b[0m\u001b[1;33m)\u001b[0m\u001b[1;33m.\u001b[0m\u001b[0msum\u001b[0m\u001b[1;33m(\u001b[0m\u001b[1;33m)\u001b[0m\u001b[1;33m\u001b[0m\u001b[1;33m\u001b[0m\u001b[0m\n\u001b[0m\u001b[0;32m      2\u001b[0m \u001b[1;31m#,target_train_rougher\u001b[0m\u001b[1;33m\u001b[0m\u001b[1;33m\u001b[0m\u001b[1;33m\u001b[0m\u001b[0m\n",
      "\u001b[1;31mAttributeError\u001b[0m: 'numpy.ndarray' object has no attribute 'isna'"
     ]
    }
   ],
   "source": [
    "features_train.isna().sum()\n",
    "#,target_train_rougher"
   ]
  },
  {
   "cell_type": "code",
   "execution_count": 60,
   "id": "f429ddda",
   "metadata": {},
   "outputs": [
    {
     "ename": "ValueError",
     "evalue": "Input contains NaN, infinity or a value too large for dtype('float32').",
     "output_type": "error",
     "traceback": [
      "\u001b[1;31m---------------------------------------------------------------------------\u001b[0m",
      "\u001b[1;31m_RemoteTraceback\u001b[0m                          Traceback (most recent call last)",
      "\u001b[1;31m_RemoteTraceback\u001b[0m: \n\"\"\"\nTraceback (most recent call last):\n  File \"D:\\Anaconda\\envs\\praktikum_env\\lib\\site-packages\\joblib\\externals\\loky\\process_executor.py\", line 436, in _process_worker\n    r = call_item()\n  File \"D:\\Anaconda\\envs\\praktikum_env\\lib\\site-packages\\joblib\\externals\\loky\\process_executor.py\", line 288, in __call__\n    return self.fn(*self.args, **self.kwargs)\n  File \"D:\\Anaconda\\envs\\praktikum_env\\lib\\site-packages\\joblib\\_parallel_backends.py\", line 595, in __call__\n    return self.func(*args, **kwargs)\n  File \"D:\\Anaconda\\envs\\praktikum_env\\lib\\site-packages\\joblib\\parallel.py\", line 263, in __call__\n    for func, args, kwargs in self.items]\n  File \"D:\\Anaconda\\envs\\praktikum_env\\lib\\site-packages\\joblib\\parallel.py\", line 263, in <listcomp>\n    for func, args, kwargs in self.items]\n  File \"D:\\Anaconda\\envs\\praktikum_env\\lib\\site-packages\\sklearn\\model_selection\\_validation.py\", line 514, in _fit_and_score\n    estimator.fit(X_train, y_train, **fit_params)\n  File \"D:\\Anaconda\\envs\\praktikum_env\\lib\\site-packages\\sklearn\\ensemble\\forest.py\", line 249, in fit\n    X = check_array(X, accept_sparse=\"csc\", dtype=DTYPE)\n  File \"D:\\Anaconda\\envs\\praktikum_env\\lib\\site-packages\\sklearn\\utils\\validation.py\", line 542, in check_array\n    allow_nan=force_all_finite == 'allow-nan')\n  File \"D:\\Anaconda\\envs\\praktikum_env\\lib\\site-packages\\sklearn\\utils\\validation.py\", line 56, in _assert_all_finite\n    raise ValueError(msg_err.format(type_err, X.dtype))\nValueError: Input contains NaN, infinity or a value too large for dtype('float32').\n\"\"\"",
      "\nThe above exception was the direct cause of the following exception:\n",
      "\u001b[1;31mValueError\u001b[0m                                Traceback (most recent call last)",
      "\u001b[1;32m<ipython-input-60-62ba54ddadaa>\u001b[0m in \u001b[0;36m<module>\u001b[1;34m\u001b[0m\n\u001b[0;32m     10\u001b[0m randm_src = RandomizedSearchCV(estimator=model, param_distributions = parameters,\n\u001b[0;32m     11\u001b[0m                                cv = 5, n_iter = 10, n_jobs=-1, scoring=smape_scorer)\n\u001b[1;32m---> 12\u001b[1;33m \u001b[0mrandm_src\u001b[0m\u001b[1;33m.\u001b[0m\u001b[0mfit\u001b[0m\u001b[1;33m(\u001b[0m\u001b[0mfeatures_train\u001b[0m\u001b[1;33m,\u001b[0m\u001b[0mtarget_train_rougher\u001b[0m\u001b[1;33m)\u001b[0m\u001b[1;33m\u001b[0m\u001b[1;33m\u001b[0m\u001b[0m\n\u001b[0m\u001b[0;32m     13\u001b[0m \u001b[1;33m\u001b[0m\u001b[0m\n\u001b[0;32m     14\u001b[0m \u001b[0mprint\u001b[0m\u001b[1;33m(\u001b[0m\u001b[1;34m\" Results from Random Search \"\u001b[0m \u001b[1;33m)\u001b[0m\u001b[1;33m\u001b[0m\u001b[1;33m\u001b[0m\u001b[0m\n",
      "\u001b[1;32mD:\\Anaconda\\envs\\praktikum_env\\lib\\site-packages\\sklearn\\model_selection\\_search.py\u001b[0m in \u001b[0;36mfit\u001b[1;34m(self, X, y, groups, **fit_params)\u001b[0m\n\u001b[0;32m    685\u001b[0m                 \u001b[1;32mreturn\u001b[0m \u001b[0mresults\u001b[0m\u001b[1;33m\u001b[0m\u001b[1;33m\u001b[0m\u001b[0m\n\u001b[0;32m    686\u001b[0m \u001b[1;33m\u001b[0m\u001b[0m\n\u001b[1;32m--> 687\u001b[1;33m             \u001b[0mself\u001b[0m\u001b[1;33m.\u001b[0m\u001b[0m_run_search\u001b[0m\u001b[1;33m(\u001b[0m\u001b[0mevaluate_candidates\u001b[0m\u001b[1;33m)\u001b[0m\u001b[1;33m\u001b[0m\u001b[1;33m\u001b[0m\u001b[0m\n\u001b[0m\u001b[0;32m    688\u001b[0m \u001b[1;33m\u001b[0m\u001b[0m\n\u001b[0;32m    689\u001b[0m         \u001b[1;31m# For multi-metric evaluation, store the best_index_, best_params_ and\u001b[0m\u001b[1;33m\u001b[0m\u001b[1;33m\u001b[0m\u001b[1;33m\u001b[0m\u001b[0m\n",
      "\u001b[1;32mD:\\Anaconda\\envs\\praktikum_env\\lib\\site-packages\\sklearn\\model_selection\\_search.py\u001b[0m in \u001b[0;36m_run_search\u001b[1;34m(self, evaluate_candidates)\u001b[0m\n\u001b[0;32m   1466\u001b[0m         evaluate_candidates(ParameterSampler(\n\u001b[0;32m   1467\u001b[0m             \u001b[0mself\u001b[0m\u001b[1;33m.\u001b[0m\u001b[0mparam_distributions\u001b[0m\u001b[1;33m,\u001b[0m \u001b[0mself\u001b[0m\u001b[1;33m.\u001b[0m\u001b[0mn_iter\u001b[0m\u001b[1;33m,\u001b[0m\u001b[1;33m\u001b[0m\u001b[1;33m\u001b[0m\u001b[0m\n\u001b[1;32m-> 1468\u001b[1;33m             random_state=self.random_state))\n\u001b[0m",
      "\u001b[1;32mD:\\Anaconda\\envs\\praktikum_env\\lib\\site-packages\\sklearn\\model_selection\\_search.py\u001b[0m in \u001b[0;36mevaluate_candidates\u001b[1;34m(candidate_params)\u001b[0m\n\u001b[0;32m    664\u001b[0m                                \u001b[1;32mfor\u001b[0m \u001b[0mparameters\u001b[0m\u001b[1;33m,\u001b[0m \u001b[1;33m(\u001b[0m\u001b[0mtrain\u001b[0m\u001b[1;33m,\u001b[0m \u001b[0mtest\u001b[0m\u001b[1;33m)\u001b[0m\u001b[1;33m\u001b[0m\u001b[1;33m\u001b[0m\u001b[0m\n\u001b[0;32m    665\u001b[0m                                in product(candidate_params,\n\u001b[1;32m--> 666\u001b[1;33m                                           cv.split(X, y, groups)))\n\u001b[0m\u001b[0;32m    667\u001b[0m \u001b[1;33m\u001b[0m\u001b[0m\n\u001b[0;32m    668\u001b[0m                 \u001b[1;32mif\u001b[0m \u001b[0mlen\u001b[0m\u001b[1;33m(\u001b[0m\u001b[0mout\u001b[0m\u001b[1;33m)\u001b[0m \u001b[1;33m<\u001b[0m \u001b[1;36m1\u001b[0m\u001b[1;33m:\u001b[0m\u001b[1;33m\u001b[0m\u001b[1;33m\u001b[0m\u001b[0m\n",
      "\u001b[1;32mD:\\Anaconda\\envs\\praktikum_env\\lib\\site-packages\\joblib\\parallel.py\u001b[0m in \u001b[0;36m__call__\u001b[1;34m(self, iterable)\u001b[0m\n\u001b[0;32m   1054\u001b[0m \u001b[1;33m\u001b[0m\u001b[0m\n\u001b[0;32m   1055\u001b[0m             \u001b[1;32mwith\u001b[0m \u001b[0mself\u001b[0m\u001b[1;33m.\u001b[0m\u001b[0m_backend\u001b[0m\u001b[1;33m.\u001b[0m\u001b[0mretrieval_context\u001b[0m\u001b[1;33m(\u001b[0m\u001b[1;33m)\u001b[0m\u001b[1;33m:\u001b[0m\u001b[1;33m\u001b[0m\u001b[1;33m\u001b[0m\u001b[0m\n\u001b[1;32m-> 1056\u001b[1;33m                 \u001b[0mself\u001b[0m\u001b[1;33m.\u001b[0m\u001b[0mretrieve\u001b[0m\u001b[1;33m(\u001b[0m\u001b[1;33m)\u001b[0m\u001b[1;33m\u001b[0m\u001b[1;33m\u001b[0m\u001b[0m\n\u001b[0m\u001b[0;32m   1057\u001b[0m             \u001b[1;31m# Make sure that we get a last message telling us we are done\u001b[0m\u001b[1;33m\u001b[0m\u001b[1;33m\u001b[0m\u001b[1;33m\u001b[0m\u001b[0m\n\u001b[0;32m   1058\u001b[0m             \u001b[0melapsed_time\u001b[0m \u001b[1;33m=\u001b[0m \u001b[0mtime\u001b[0m\u001b[1;33m.\u001b[0m\u001b[0mtime\u001b[0m\u001b[1;33m(\u001b[0m\u001b[1;33m)\u001b[0m \u001b[1;33m-\u001b[0m \u001b[0mself\u001b[0m\u001b[1;33m.\u001b[0m\u001b[0m_start_time\u001b[0m\u001b[1;33m\u001b[0m\u001b[1;33m\u001b[0m\u001b[0m\n",
      "\u001b[1;32mD:\\Anaconda\\envs\\praktikum_env\\lib\\site-packages\\joblib\\parallel.py\u001b[0m in \u001b[0;36mretrieve\u001b[1;34m(self)\u001b[0m\n\u001b[0;32m    933\u001b[0m             \u001b[1;32mtry\u001b[0m\u001b[1;33m:\u001b[0m\u001b[1;33m\u001b[0m\u001b[1;33m\u001b[0m\u001b[0m\n\u001b[0;32m    934\u001b[0m                 \u001b[1;32mif\u001b[0m \u001b[0mgetattr\u001b[0m\u001b[1;33m(\u001b[0m\u001b[0mself\u001b[0m\u001b[1;33m.\u001b[0m\u001b[0m_backend\u001b[0m\u001b[1;33m,\u001b[0m \u001b[1;34m'supports_timeout'\u001b[0m\u001b[1;33m,\u001b[0m \u001b[1;32mFalse\u001b[0m\u001b[1;33m)\u001b[0m\u001b[1;33m:\u001b[0m\u001b[1;33m\u001b[0m\u001b[1;33m\u001b[0m\u001b[0m\n\u001b[1;32m--> 935\u001b[1;33m                     \u001b[0mself\u001b[0m\u001b[1;33m.\u001b[0m\u001b[0m_output\u001b[0m\u001b[1;33m.\u001b[0m\u001b[0mextend\u001b[0m\u001b[1;33m(\u001b[0m\u001b[0mjob\u001b[0m\u001b[1;33m.\u001b[0m\u001b[0mget\u001b[0m\u001b[1;33m(\u001b[0m\u001b[0mtimeout\u001b[0m\u001b[1;33m=\u001b[0m\u001b[0mself\u001b[0m\u001b[1;33m.\u001b[0m\u001b[0mtimeout\u001b[0m\u001b[1;33m)\u001b[0m\u001b[1;33m)\u001b[0m\u001b[1;33m\u001b[0m\u001b[1;33m\u001b[0m\u001b[0m\n\u001b[0m\u001b[0;32m    936\u001b[0m                 \u001b[1;32melse\u001b[0m\u001b[1;33m:\u001b[0m\u001b[1;33m\u001b[0m\u001b[1;33m\u001b[0m\u001b[0m\n\u001b[0;32m    937\u001b[0m                     \u001b[0mself\u001b[0m\u001b[1;33m.\u001b[0m\u001b[0m_output\u001b[0m\u001b[1;33m.\u001b[0m\u001b[0mextend\u001b[0m\u001b[1;33m(\u001b[0m\u001b[0mjob\u001b[0m\u001b[1;33m.\u001b[0m\u001b[0mget\u001b[0m\u001b[1;33m(\u001b[0m\u001b[1;33m)\u001b[0m\u001b[1;33m)\u001b[0m\u001b[1;33m\u001b[0m\u001b[1;33m\u001b[0m\u001b[0m\n",
      "\u001b[1;32mD:\\Anaconda\\envs\\praktikum_env\\lib\\site-packages\\joblib\\_parallel_backends.py\u001b[0m in \u001b[0;36mwrap_future_result\u001b[1;34m(future, timeout)\u001b[0m\n\u001b[0;32m    540\u001b[0m         AsyncResults.get from multiprocessing.\"\"\"\n\u001b[0;32m    541\u001b[0m         \u001b[1;32mtry\u001b[0m\u001b[1;33m:\u001b[0m\u001b[1;33m\u001b[0m\u001b[1;33m\u001b[0m\u001b[0m\n\u001b[1;32m--> 542\u001b[1;33m             \u001b[1;32mreturn\u001b[0m \u001b[0mfuture\u001b[0m\u001b[1;33m.\u001b[0m\u001b[0mresult\u001b[0m\u001b[1;33m(\u001b[0m\u001b[0mtimeout\u001b[0m\u001b[1;33m=\u001b[0m\u001b[0mtimeout\u001b[0m\u001b[1;33m)\u001b[0m\u001b[1;33m\u001b[0m\u001b[1;33m\u001b[0m\u001b[0m\n\u001b[0m\u001b[0;32m    543\u001b[0m         \u001b[1;32mexcept\u001b[0m \u001b[0mCfTimeoutError\u001b[0m \u001b[1;32mas\u001b[0m \u001b[0me\u001b[0m\u001b[1;33m:\u001b[0m\u001b[1;33m\u001b[0m\u001b[1;33m\u001b[0m\u001b[0m\n\u001b[0;32m    544\u001b[0m             \u001b[1;32mraise\u001b[0m \u001b[0mTimeoutError\u001b[0m \u001b[1;32mfrom\u001b[0m \u001b[0me\u001b[0m\u001b[1;33m\u001b[0m\u001b[1;33m\u001b[0m\u001b[0m\n",
      "\u001b[1;32mD:\\Anaconda\\envs\\praktikum_env\\lib\\concurrent\\futures\\_base.py\u001b[0m in \u001b[0;36mresult\u001b[1;34m(self, timeout)\u001b[0m\n\u001b[0;32m    433\u001b[0m                 \u001b[1;32mraise\u001b[0m \u001b[0mCancelledError\u001b[0m\u001b[1;33m(\u001b[0m\u001b[1;33m)\u001b[0m\u001b[1;33m\u001b[0m\u001b[1;33m\u001b[0m\u001b[0m\n\u001b[0;32m    434\u001b[0m             \u001b[1;32melif\u001b[0m \u001b[0mself\u001b[0m\u001b[1;33m.\u001b[0m\u001b[0m_state\u001b[0m \u001b[1;33m==\u001b[0m \u001b[0mFINISHED\u001b[0m\u001b[1;33m:\u001b[0m\u001b[1;33m\u001b[0m\u001b[1;33m\u001b[0m\u001b[0m\n\u001b[1;32m--> 435\u001b[1;33m                 \u001b[1;32mreturn\u001b[0m \u001b[0mself\u001b[0m\u001b[1;33m.\u001b[0m\u001b[0m__get_result\u001b[0m\u001b[1;33m(\u001b[0m\u001b[1;33m)\u001b[0m\u001b[1;33m\u001b[0m\u001b[1;33m\u001b[0m\u001b[0m\n\u001b[0m\u001b[0;32m    436\u001b[0m             \u001b[1;32melse\u001b[0m\u001b[1;33m:\u001b[0m\u001b[1;33m\u001b[0m\u001b[1;33m\u001b[0m\u001b[0m\n\u001b[0;32m    437\u001b[0m                 \u001b[1;32mraise\u001b[0m \u001b[0mTimeoutError\u001b[0m\u001b[1;33m(\u001b[0m\u001b[1;33m)\u001b[0m\u001b[1;33m\u001b[0m\u001b[1;33m\u001b[0m\u001b[0m\n",
      "\u001b[1;32mD:\\Anaconda\\envs\\praktikum_env\\lib\\concurrent\\futures\\_base.py\u001b[0m in \u001b[0;36m__get_result\u001b[1;34m(self)\u001b[0m\n\u001b[0;32m    382\u001b[0m     \u001b[1;32mdef\u001b[0m \u001b[0m__get_result\u001b[0m\u001b[1;33m(\u001b[0m\u001b[0mself\u001b[0m\u001b[1;33m)\u001b[0m\u001b[1;33m:\u001b[0m\u001b[1;33m\u001b[0m\u001b[1;33m\u001b[0m\u001b[0m\n\u001b[0;32m    383\u001b[0m         \u001b[1;32mif\u001b[0m \u001b[0mself\u001b[0m\u001b[1;33m.\u001b[0m\u001b[0m_exception\u001b[0m\u001b[1;33m:\u001b[0m\u001b[1;33m\u001b[0m\u001b[1;33m\u001b[0m\u001b[0m\n\u001b[1;32m--> 384\u001b[1;33m             \u001b[1;32mraise\u001b[0m \u001b[0mself\u001b[0m\u001b[1;33m.\u001b[0m\u001b[0m_exception\u001b[0m\u001b[1;33m\u001b[0m\u001b[1;33m\u001b[0m\u001b[0m\n\u001b[0m\u001b[0;32m    385\u001b[0m         \u001b[1;32melse\u001b[0m\u001b[1;33m:\u001b[0m\u001b[1;33m\u001b[0m\u001b[1;33m\u001b[0m\u001b[0m\n\u001b[0;32m    386\u001b[0m             \u001b[1;32mreturn\u001b[0m \u001b[0mself\u001b[0m\u001b[1;33m.\u001b[0m\u001b[0m_result\u001b[0m\u001b[1;33m\u001b[0m\u001b[1;33m\u001b[0m\u001b[0m\n",
      "\u001b[1;31mValueError\u001b[0m: Input contains NaN, infinity or a value too large for dtype('float32')."
     ]
    }
   ],
   "source": [
    "model = RandomForestRegressor()\n",
    "\n",
    "n_estimators = [int(x) for x in np.linspace(start = 100, stop = 800, num = 10)]\n",
    "\n",
    "max_depth = [int(x) for x in np.linspace(start = 1, stop = 15, num = 15)]\n",
    "\n",
    "parameters = {'n_estimators': n_estimators,\n",
    "               'max_depth': max_depth}\n",
    "\n",
    "randm_src = RandomizedSearchCV(estimator=model, param_distributions = parameters,\n",
    "                               cv = 5, n_iter = 10, n_jobs=-1, scoring=smape_scorer)\n",
    "randm_src.fit(features_train,target_train_rougher)\n",
    "\n",
    "print(\" Results from Random Search \" )\n",
    "print(\"\\n The best estimator across ALL searched params:\\n\", randm_src.best_estimator_)\n",
    "print(\"\\n The best score across ALL searched params:\\n\", randm_src.best_score_)\n",
    "print(\"\\n The best parameters across ALL searched params:\\n\", randm_src.best_params_)"
   ]
  },
  {
   "cell_type": "code",
   "execution_count": 133,
   "id": "87d5e435",
   "metadata": {},
   "outputs": [
    {
     "ename": "NotFittedError",
     "evalue": "All estimators failed to fit",
     "output_type": "error",
     "traceback": [
      "\u001b[0;31m---------------------------------------------------------------------------\u001b[0m",
      "\u001b[0;31mNotFittedError\u001b[0m                            Traceback (most recent call last)",
      "\u001b[0;32m/tmp/ipykernel_88/738161765.py\u001b[0m in \u001b[0;36m<module>\u001b[0;34m\u001b[0m\n\u001b[1;32m     16\u001b[0m randm_src = RandomizedSearchCV(estimator=model, param_distributions = parameters,\n\u001b[1;32m     17\u001b[0m                                cv = 5, n_iter = 10, n_jobs=-1, scoring=smape_scorer)\n\u001b[0;32m---> 18\u001b[0;31m \u001b[0mrandm_src\u001b[0m\u001b[0;34m.\u001b[0m\u001b[0mfit\u001b[0m\u001b[0;34m(\u001b[0m\u001b[0mfeatures_train\u001b[0m\u001b[0;34m,\u001b[0m\u001b[0mtarget_train_final\u001b[0m\u001b[0;34m)\u001b[0m\u001b[0;34m\u001b[0m\u001b[0;34m\u001b[0m\u001b[0m\n\u001b[0m\u001b[1;32m     19\u001b[0m \u001b[0;34m\u001b[0m\u001b[0m\n\u001b[1;32m     20\u001b[0m \u001b[0mprint\u001b[0m\u001b[0;34m(\u001b[0m\u001b[0;34m\" Results from Random Search \"\u001b[0m \u001b[0;34m)\u001b[0m\u001b[0;34m\u001b[0m\u001b[0;34m\u001b[0m\u001b[0m\n",
      "\u001b[0;32m/opt/conda/lib/python3.9/site-packages/sklearn/utils/validation.py\u001b[0m in \u001b[0;36minner_f\u001b[0;34m(*args, **kwargs)\u001b[0m\n\u001b[1;32m     61\u001b[0m             \u001b[0mextra_args\u001b[0m \u001b[0;34m=\u001b[0m \u001b[0mlen\u001b[0m\u001b[0;34m(\u001b[0m\u001b[0margs\u001b[0m\u001b[0;34m)\u001b[0m \u001b[0;34m-\u001b[0m \u001b[0mlen\u001b[0m\u001b[0;34m(\u001b[0m\u001b[0mall_args\u001b[0m\u001b[0;34m)\u001b[0m\u001b[0;34m\u001b[0m\u001b[0;34m\u001b[0m\u001b[0m\n\u001b[1;32m     62\u001b[0m             \u001b[0;32mif\u001b[0m \u001b[0mextra_args\u001b[0m \u001b[0;34m<=\u001b[0m \u001b[0;36m0\u001b[0m\u001b[0;34m:\u001b[0m\u001b[0;34m\u001b[0m\u001b[0;34m\u001b[0m\u001b[0m\n\u001b[0;32m---> 63\u001b[0;31m                 \u001b[0;32mreturn\u001b[0m \u001b[0mf\u001b[0m\u001b[0;34m(\u001b[0m\u001b[0;34m*\u001b[0m\u001b[0margs\u001b[0m\u001b[0;34m,\u001b[0m \u001b[0;34m**\u001b[0m\u001b[0mkwargs\u001b[0m\u001b[0;34m)\u001b[0m\u001b[0;34m\u001b[0m\u001b[0;34m\u001b[0m\u001b[0m\n\u001b[0m\u001b[1;32m     64\u001b[0m \u001b[0;34m\u001b[0m\u001b[0m\n\u001b[1;32m     65\u001b[0m             \u001b[0;31m# extra_args > 0\u001b[0m\u001b[0;34m\u001b[0m\u001b[0;34m\u001b[0m\u001b[0m\n",
      "\u001b[0;32m/opt/conda/lib/python3.9/site-packages/sklearn/model_selection/_search.py\u001b[0m in \u001b[0;36mfit\u001b[0;34m(self, X, y, groups, **fit_params)\u001b[0m\n\u001b[1;32m    839\u001b[0m                 \u001b[0;32mreturn\u001b[0m \u001b[0mresults\u001b[0m\u001b[0;34m\u001b[0m\u001b[0;34m\u001b[0m\u001b[0m\n\u001b[1;32m    840\u001b[0m \u001b[0;34m\u001b[0m\u001b[0m\n\u001b[0;32m--> 841\u001b[0;31m             \u001b[0mself\u001b[0m\u001b[0;34m.\u001b[0m\u001b[0m_run_search\u001b[0m\u001b[0;34m(\u001b[0m\u001b[0mevaluate_candidates\u001b[0m\u001b[0;34m)\u001b[0m\u001b[0;34m\u001b[0m\u001b[0;34m\u001b[0m\u001b[0m\n\u001b[0m\u001b[1;32m    842\u001b[0m \u001b[0;34m\u001b[0m\u001b[0m\n\u001b[1;32m    843\u001b[0m             \u001b[0;31m# multimetric is determined here because in the case of a callable\u001b[0m\u001b[0;34m\u001b[0m\u001b[0;34m\u001b[0m\u001b[0m\n",
      "\u001b[0;32m/opt/conda/lib/python3.9/site-packages/sklearn/model_selection/_search.py\u001b[0m in \u001b[0;36m_run_search\u001b[0;34m(self, evaluate_candidates)\u001b[0m\n\u001b[1;32m   1617\u001b[0m     \u001b[0;32mdef\u001b[0m \u001b[0m_run_search\u001b[0m\u001b[0;34m(\u001b[0m\u001b[0mself\u001b[0m\u001b[0;34m,\u001b[0m \u001b[0mevaluate_candidates\u001b[0m\u001b[0;34m)\u001b[0m\u001b[0;34m:\u001b[0m\u001b[0;34m\u001b[0m\u001b[0;34m\u001b[0m\u001b[0m\n\u001b[1;32m   1618\u001b[0m         \u001b[0;34m\"\"\"Search n_iter candidates from param_distributions\"\"\"\u001b[0m\u001b[0;34m\u001b[0m\u001b[0;34m\u001b[0m\u001b[0m\n\u001b[0;32m-> 1619\u001b[0;31m         evaluate_candidates(ParameterSampler(\n\u001b[0m\u001b[1;32m   1620\u001b[0m             \u001b[0mself\u001b[0m\u001b[0;34m.\u001b[0m\u001b[0mparam_distributions\u001b[0m\u001b[0;34m,\u001b[0m \u001b[0mself\u001b[0m\u001b[0;34m.\u001b[0m\u001b[0mn_iter\u001b[0m\u001b[0;34m,\u001b[0m\u001b[0;34m\u001b[0m\u001b[0;34m\u001b[0m\u001b[0m\n\u001b[1;32m   1621\u001b[0m             random_state=self.random_state))\n",
      "\u001b[0;32m/opt/conda/lib/python3.9/site-packages/sklearn/model_selection/_search.py\u001b[0m in \u001b[0;36mevaluate_candidates\u001b[0;34m(candidate_params, cv, more_results)\u001b[0m\n\u001b[1;32m    825\u001b[0m                 \u001b[0;31m# of out will be done in `_insert_error_scores`.\u001b[0m\u001b[0;34m\u001b[0m\u001b[0;34m\u001b[0m\u001b[0m\n\u001b[1;32m    826\u001b[0m                 \u001b[0;32mif\u001b[0m \u001b[0mcallable\u001b[0m\u001b[0;34m(\u001b[0m\u001b[0mself\u001b[0m\u001b[0;34m.\u001b[0m\u001b[0mscoring\u001b[0m\u001b[0;34m)\u001b[0m\u001b[0;34m:\u001b[0m\u001b[0;34m\u001b[0m\u001b[0;34m\u001b[0m\u001b[0m\n\u001b[0;32m--> 827\u001b[0;31m                     \u001b[0m_insert_error_scores\u001b[0m\u001b[0;34m(\u001b[0m\u001b[0mout\u001b[0m\u001b[0;34m,\u001b[0m \u001b[0mself\u001b[0m\u001b[0;34m.\u001b[0m\u001b[0merror_score\u001b[0m\u001b[0;34m)\u001b[0m\u001b[0;34m\u001b[0m\u001b[0;34m\u001b[0m\u001b[0m\n\u001b[0m\u001b[1;32m    828\u001b[0m                 \u001b[0mall_candidate_params\u001b[0m\u001b[0;34m.\u001b[0m\u001b[0mextend\u001b[0m\u001b[0;34m(\u001b[0m\u001b[0mcandidate_params\u001b[0m\u001b[0;34m)\u001b[0m\u001b[0;34m\u001b[0m\u001b[0;34m\u001b[0m\u001b[0m\n\u001b[1;32m    829\u001b[0m                 \u001b[0mall_out\u001b[0m\u001b[0;34m.\u001b[0m\u001b[0mextend\u001b[0m\u001b[0;34m(\u001b[0m\u001b[0mout\u001b[0m\u001b[0;34m)\u001b[0m\u001b[0;34m\u001b[0m\u001b[0;34m\u001b[0m\u001b[0m\n",
      "\u001b[0;32m/opt/conda/lib/python3.9/site-packages/sklearn/model_selection/_validation.py\u001b[0m in \u001b[0;36m_insert_error_scores\u001b[0;34m(results, error_score)\u001b[0m\n\u001b[1;32m    295\u001b[0m \u001b[0;34m\u001b[0m\u001b[0m\n\u001b[1;32m    296\u001b[0m     \u001b[0;32mif\u001b[0m \u001b[0msuccessful_score\u001b[0m \u001b[0;32mis\u001b[0m \u001b[0;32mNone\u001b[0m\u001b[0;34m:\u001b[0m\u001b[0;34m\u001b[0m\u001b[0;34m\u001b[0m\u001b[0m\n\u001b[0;32m--> 297\u001b[0;31m         \u001b[0;32mraise\u001b[0m \u001b[0mNotFittedError\u001b[0m\u001b[0;34m(\u001b[0m\u001b[0;34m\"All estimators failed to fit\"\u001b[0m\u001b[0;34m)\u001b[0m\u001b[0;34m\u001b[0m\u001b[0;34m\u001b[0m\u001b[0m\n\u001b[0m\u001b[1;32m    298\u001b[0m \u001b[0;34m\u001b[0m\u001b[0m\n\u001b[1;32m    299\u001b[0m     \u001b[0;32mif\u001b[0m \u001b[0misinstance\u001b[0m\u001b[0;34m(\u001b[0m\u001b[0msuccessful_score\u001b[0m\u001b[0;34m,\u001b[0m \u001b[0mdict\u001b[0m\u001b[0;34m)\u001b[0m\u001b[0;34m:\u001b[0m\u001b[0;34m\u001b[0m\u001b[0;34m\u001b[0m\u001b[0m\n",
      "\u001b[0;31mNotFittedError\u001b[0m: All estimators failed to fit"
     ]
    }
   ],
   "source": [
    "model = RandomForestRegressor()\n",
    "\n",
    "n_estimators = [int(x) for x in np.linspace(start = 200, stop = 400, num = 10)]\n",
    "max_features = ['sqrt']\n",
    "max_depth = [int(x) for x in np.linspace(start = 1, stop = 15, num = 1)]\n",
    "min_samples_split = [int(x) for x in np.linspace(start = 2, stop = 50, num = 10)]\n",
    "min_samples_leaf = [int(x) for x in np.linspace(start = 2, stop = 50, num = 10)]\n",
    "bootstrap = [True, False]\n",
    "parameters = {'n_estimators': n_estimators,\n",
    "               'max_features': max_features,\n",
    "               'max_depth': max_depth,\n",
    "               'min_samples_split': min_samples_split,\n",
    "               'min_samples_leaf': min_samples_leaf,\n",
    "               'bootstrap': bootstrap}\n",
    "\n",
    "randm_src = RandomizedSearchCV(estimator=model, param_distributions = parameters,\n",
    "                               cv = 5, n_iter = 10, n_jobs=-1, scoring=smape_scorer)\n",
    "randm_src.fit(features_train,target_train_final)\n",
    "\n",
    "print(\" Results from Random Search \" )\n",
    "print(\"\\n The best estimator across ALL searched params:\\n\", randm_src.best_estimator_)\n",
    "print(\"\\n The best score across ALL searched params:\\n\", randm_src.best_score_)\n",
    "print(\"\\n The best parameters across ALL searched params:\\n\", randm_src.best_params_)"
   ]
  },
  {
   "cell_type": "markdown",
   "id": "4a4002f2",
   "metadata": {},
   "source": [
    "обучим модели"
   ]
  },
  {
   "cell_type": "code",
   "execution_count": null,
   "id": "e43be828",
   "metadata": {},
   "outputs": [],
   "source": [
    "model_forest_rougher =  RandomForestRegressor(\n",
    "                                random_state=404,\n",
    "                                n_estimators=644, \n",
    "                                min_samples_split=44, \n",
    "                                min_samples_leaf=23, \n",
    "                                max_features='log2', \n",
    "                                max_depth=12, \n",
    "                                bootstrap=False\n",
    "                                           ) \n",
    "model_forest_rougher.fit(features_train,target_train_rougher) # обучение модели\n",
    "\n",
    "scores_forest_rougher = cross_val_score(model_forest_rougher, features_train, target_train_rougher, cv=5,scoring=smape_scorer) \n",
    "\n",
    "print(scores_forest_rougher) # расчет качества модели"
   ]
  },
  {
   "cell_type": "code",
   "execution_count": null,
   "id": "e4f79186",
   "metadata": {},
   "outputs": [],
   "source": [
    "model_forest_rougher_cut =  RandomForestRegressor(\n",
    "                                random_state=404,\n",
    "                                n_estimators=644, \n",
    "                                min_samples_split=44, \n",
    "                                min_samples_leaf=23, \n",
    "                                max_features='log2', \n",
    "                                max_depth=12, \n",
    "                                bootstrap=False\n",
    "                                           ) \n",
    "model_forest_rougher_cut.fit(features_train_cut,target_train_rougher) # обучение модели\n",
    "\n",
    "scores_forest_rougher_cut = cross_val_score(model_forest_rougher_cut, features_train_cut, target_train_rougher, cv=5,scoring=smape_scorer) \n",
    "\n",
    "print(scores_forest_rougher_cut) # расчет качества модели"
   ]
  },
  {
   "cell_type": "code",
   "execution_count": null,
   "id": "954b8374",
   "metadata": {},
   "outputs": [],
   "source": [
    "model_forest_final =  RandomForestRegressor(\n",
    "                                bootstrap=False, \n",
    "                                criterion='mse', \n",
    "                                max_depth=1,\n",
    "                                max_features='sqrt', \n",
    "                                max_leaf_nodes=None,\n",
    "                                min_impurity_decrease=0.0, \n",
    "                                min_impurity_split=None,\n",
    "                                min_samples_leaf=34, \n",
    "                                min_samples_split=44,\n",
    "                                min_weight_fraction_leaf=0.0, \n",
    "                                n_estimators=300,\n",
    "                                n_jobs=-1, \n",
    "                                oob_score=False, \n",
    "                                random_state=404,\n",
    "                                verbose=0, \n",
    "                                warm_start=False\n",
    "                              ) \n",
    "model_forest_final.fit(features_train,target_train_final) # обучение модели\n",
    "\n",
    "scores_forest_final = cross_val_score(model_forest_final, features_train, target_train_final, cv=5,scoring=smape_scorer) \n",
    "\n",
    "print(scores_forest_final) # расчет качества модели"
   ]
  },
  {
   "cell_type": "markdown",
   "id": "32e35737",
   "metadata": {},
   "source": [
    "#### GradientBoostingRegressor"
   ]
  },
  {
   "cell_type": "markdown",
   "id": "1e31c3f5",
   "metadata": {},
   "source": [
    "подберем гиперпараметры для моделей"
   ]
  },
  {
   "cell_type": "code",
   "execution_count": null,
   "id": "547cc2da",
   "metadata": {},
   "outputs": [],
   "source": [
    "model = GradientBoostingRegressor()\n",
    "\n",
    "parameters = {'n_estimators' : sp_randInt(100, 160),\n",
    "              'max_depth'    : sp_randInt(1, 3)}\n",
    "\n",
    "randm_src = RandomizedSearchCV(estimator=model, param_distributions = parameters,\n",
    "                               cv = 5, n_iter = 10, n_jobs=-1, scoring=smape_scorer)\n",
    "randm_src.fit(features_train,target_train_rougher)\n",
    "\n",
    "print(\" Results from Random Search \" )\n",
    "print(\"\\n The best estimator across ALL searched params:\\n\", randm_src.best_estimator_)\n",
    "print(\"\\n The best score across ALL searched params:\\n\", randm_src.best_score_)\n",
    "print(\"\\n The best parameters across ALL searched params:\\n\", randm_src.best_params_)"
   ]
  },
  {
   "cell_type": "code",
   "execution_count": null,
   "id": "5ff133f2",
   "metadata": {},
   "outputs": [],
   "source": [
    "model = GradientBoostingRegressor()\n",
    "\n",
    "parameters = {'n_estimators' : sp_randInt(200, 300),\n",
    "              'max_depth'    : sp_randInt(6, 10)}\n",
    "\n",
    "randm_src = RandomizedSearchCV(estimator=model, param_distributions = parameters,\n",
    "                               cv = 5, n_iter = 10, n_jobs=-1, scoring=smape_scorer)\n",
    "randm_src.fit(features_train,target_train_final)\n",
    "\n",
    "print(\" Results from Random Search \" )\n",
    "print(\"\\n The best estimator across ALL searched params:\\n\", randm_src.best_estimator_)\n",
    "print(\"\\n The best score across ALL searched params:\\n\", randm_src.best_score_)\n",
    "print(\"\\n The best parameters across ALL searched params:\\n\", randm_src.best_params_)"
   ]
  },
  {
   "cell_type": "markdown",
   "id": "c8682d20",
   "metadata": {},
   "source": [
    "обучим модели"
   ]
  },
  {
   "cell_type": "code",
   "execution_count": null,
   "id": "2e451c5e",
   "metadata": {},
   "outputs": [],
   "source": [
    "model_GBR_rougher = GradientBoostingRegressor(\n",
    "                         learning_rate=0.05006047227122323,\n",
    "                         max_depth=2, \n",
    "                         n_estimators=154, \n",
    "                         subsample=0.16625339668571915,\n",
    "                         random_state=404\n",
    "                                             ) \n",
    "model_GBR_rougher.fit(features_train,target_train_rougher) # обучение модели\n",
    "    \n",
    "scores_GBR_rougher = cross_val_score(model_GBR_rougher, features_train,target_train_rougher, cv=5,scoring=smape_scorer) \n",
    "\n",
    "print(scores_GBR_rougher) # расчет качества модели"
   ]
  },
  {
   "cell_type": "code",
   "execution_count": null,
   "id": "d52d2f87",
   "metadata": {},
   "outputs": [],
   "source": [
    "model_GBR_rougher_cut = GradientBoostingRegressor(\n",
    "                         learning_rate=0.05006047227122323,\n",
    "                         max_depth=2, \n",
    "                         n_estimators=154, \n",
    "                         subsample=0.16625339668571915,\n",
    "                         random_state=404\n",
    "                                             ) \n",
    "model_GBR_rougher_cut.fit(features_train_cut,target_train_rougher) # обучение модели\n",
    "    \n",
    "scores_GBR_rougher_cut = cross_val_score(model_GBR_rougher_cut, features_train_cut,target_train_rougher, cv=5,scoring=smape_scorer) \n",
    "\n",
    "print(scores_GBR_rougher_cut) # расчет качества модели"
   ]
  },
  {
   "cell_type": "code",
   "execution_count": null,
   "id": "a8650904",
   "metadata": {},
   "outputs": [],
   "source": [
    "model_GBR_final = GradientBoostingRegressor(\n",
    "                         learning_rate=0.05066617350257885,\n",
    "                         max_depth=8, \n",
    "                         n_estimators=298, \n",
    "                         subsample=0.04999378458115544,\n",
    "                         random_state=404\n",
    "                                             ) \n",
    "model_GBR_final.fit(features_train,target_train_final) # обучение модели\n",
    "    \n",
    "scores_GBR_final = cross_val_score(model_GBR_final, features_train,target_train_final, cv=5,scoring=smape_scorer) \n",
    "\n",
    "print(scores_GBR_final) # расчет качества модели"
   ]
  },
  {
   "cell_type": "markdown",
   "id": "a59b0176",
   "metadata": {},
   "source": [
    "#### LinearRegression"
   ]
  },
  {
   "cell_type": "code",
   "execution_count": null,
   "id": "7d8b98db",
   "metadata": {},
   "outputs": [],
   "source": [
    "model_lin_reg_rougher = LinearRegression() \n",
    "model_lin_reg_rougher.fit(features_train, target_train_rougher) # обучение\n",
    "\n",
    "scores_lin_reg_rougher = cross_val_score(model_lin_reg_rougher, features_train,target_train_rougher, cv=5,scoring=smape_scorer) \n",
    "\n",
    "print(scores_lin_reg_rougher) # расчет качества модели"
   ]
  },
  {
   "cell_type": "code",
   "execution_count": null,
   "id": "bb829e45",
   "metadata": {},
   "outputs": [],
   "source": [
    "model_lin_reg_final = LinearRegression() \n",
    "model_lin_reg_final.fit(features_train, target_train_final) # обучение\n",
    "\n",
    "scores_lin_reg_final = cross_val_score(model_lin_reg_final, features_train,target_train_final, cv=5,scoring=smape_scorer) \n",
    "\n",
    "print(scores_lin_reg_final) # расчет качества модели"
   ]
  },
  {
   "cell_type": "code",
   "execution_count": null,
   "id": "70096ea4",
   "metadata": {},
   "outputs": [],
   "source": [
    "model_lin_reg_rougher_cut = LinearRegression() \n",
    "model_lin_reg_rougher_cut.fit(features_train_cut, target_train_rougher) # обучение\n",
    "\n",
    "scores_lin_reg_rougher_cut = cross_val_score(model_lin_reg_rougher_cut, features_train_cut,target_train_rougher, cv=5,scoring=smape_scorer) \n",
    "\n",
    "print(scores_lin_reg_rougher_cut) # расчет качества модели"
   ]
  },
  {
   "cell_type": "markdown",
   "id": "5932fb91",
   "metadata": {},
   "source": [
    "### оценка качества и выбор лучшей модели"
   ]
  },
  {
   "cell_type": "markdown",
   "id": "2177b3d7",
   "metadata": {},
   "source": [
    "Оценим качество работы моделей на валидационных выборках"
   ]
  },
  {
   "cell_type": "code",
   "execution_count": null,
   "id": "ff833312",
   "metadata": {},
   "outputs": [],
   "source": [
    "print(scores_forest_rougher.mean())\n",
    "print(scores_forest_rougher_cut.mean())\n",
    "print(scores_forest_final.mean())\n",
    "print()\n",
    "print(scores_GBR_rougher.mean())\n",
    "print(scores_GBR_rougher_cut.mean())\n",
    "print(scores_GBR_final.mean())\n",
    "print()\n",
    "print(scores_lin_reg_rougher.mean())\n",
    "print(scores_lin_reg_rougher_cut.mean())\n",
    "print(scores_lin_reg_final.mean())"
   ]
  },
  {
   "cell_type": "markdown",
   "id": "52990a91",
   "metadata": {},
   "source": [
    "Расчитаем итоговое SMAPE для каждой из моделей"
   ]
  },
  {
   "cell_type": "code",
   "execution_count": null,
   "id": "83fae0b7",
   "metadata": {},
   "outputs": [],
   "source": [
    "print(f'итоговое SMAPE RandomForestRegressor: {smape_result(scores_forest_rougher.mean(), scores_forest_final.mean())}')\n",
    "\n",
    "print(f'итоговое SMAPE GradientBoostingRegressor: {smape_result(scores_GBR_rougher_cut.mean(), scores_GBR_final.mean())}')\n",
    "\n",
    "print(f'итоговое SMAPE LinearRegression: {smape_result(scores_lin_reg_rougher_cut.mean(), scores_lin_reg_final.mean())}')"
   ]
  },
  {
   "cell_type": "markdown",
   "id": "a45cc2d1",
   "metadata": {},
   "source": [
    "### Проверка модели на тестовой выборке"
   ]
  },
  {
   "cell_type": "code",
   "execution_count": null,
   "id": "455e46cd",
   "metadata": {},
   "outputs": [],
   "source": [
    "smape(model_forest_rougher.predict(features_test),target_test_rougher)"
   ]
  },
  {
   "cell_type": "code",
   "execution_count": null,
   "id": "04689d11",
   "metadata": {},
   "outputs": [],
   "source": [
    "smape(model_forest_final.predict(features_test),target_test_final)"
   ]
  },
  {
   "cell_type": "code",
   "execution_count": null,
   "id": "f9565a3c",
   "metadata": {},
   "outputs": [],
   "source": [
    "print(f'итоговое SMAPE RandomForestRegressor: {smape_result(smape(model_forest_rougher.predict(features_test),target_test_rougher), smape(model_forest_final.predict(features_test),target_test_final))}')"
   ]
  },
  {
   "cell_type": "code",
   "execution_count": null,
   "id": "a98d6b96",
   "metadata": {},
   "outputs": [],
   "source": [
    "dummy_regr = DummyRegressor(strategy=\"mean\")\n",
    "dummy_regr.fit(features_train, target_train_rougher)\n",
    "\n",
    "predict = dummy_regr.predict(features_test)\n",
    "\n",
    "smape_rougher_dummy = smape(predict, target_test_rougher)\n",
    "smape_rougher_dummy"
   ]
  },
  {
   "cell_type": "code",
   "execution_count": null,
   "id": "2849ddff",
   "metadata": {},
   "outputs": [],
   "source": [
    "dummy_regr = DummyRegressor(strategy=\"mean\")\n",
    "dummy_regr.fit(features_train, target_train_final)\n",
    "\n",
    "predict = dummy_regr.predict(features_test)\n",
    "\n",
    "smape_final_dummy = smape(predict, target_test_final)\n",
    "smape_final_dummy"
   ]
  },
  {
   "cell_type": "code",
   "execution_count": null,
   "id": "7924a474",
   "metadata": {},
   "outputs": [],
   "source": [
    "print(f'итоговое SMAPE DummyRegressor: {smape_result(smape_rougher_dummy, smape_final_dummy)}')"
   ]
  },
  {
   "cell_type": "markdown",
   "id": "d212b18c",
   "metadata": {},
   "source": [
    "## Заключение"
   ]
  },
  {
   "cell_type": "markdown",
   "id": "2567cf42",
   "metadata": {},
   "source": [
    "В рамках настоящего исследования\n",
    "\n",
    "- проведено исследование и описание входных данных\n",
    "- проведена предобработка данных\n",
    "- расчитаны дополнительные параметры, необходимые для проведения исследования, в частности:\n",
    "    - расчет концентрации элементов в исходном сырье для исходной выборки\n",
    "    - расчет концентрации элементов в исходном сырье для обучающей выборки\n",
    "    - расчет концентрации au в исходном сырье для тестовой выборки\n",
    "    - расчет концентрации элементов в отвальных хвостах для исходной выборки\n",
    "    - расчет концентрации элементов в отвальных хвостах для обучающей выборки\n",
    "- проведена проверка расчета эффективности обогащения, выявлено отличие между результатами расчета и значением признака:\n",
    "    - mean_absolute_error между расчитанными и исходными данными составляет: 81.97\n",
    "- проведен анализ данных, так:\n",
    "    - для изменения концентрации металлов на различных этапах очистки выявлено:\n",
    "        - рост концентрации золота при каждом последующем этапе очистки на фоне снижения концентрации солей металлов и серебра, концентрация свинца при этом так же показывает рост\n",
    "    - для сравнения распределения размеров гранул сырья для обучающей и тестовой выборок выявлено:\n",
    "        - средние размеры гранул сырья в обучающей и тестовой выборках отличаются не существенно\n",
    "    - построена гистограмма суммарной концентрации веществ на различных стадиях:\n",
    "- подготовлены признаки и обучены следующие модели:\n",
    "    - RandomForestRegressor\n",
    "    - GradientBoostingRegressor\n",
    "    - LinearRegression\n",
    "- сформирована метрика и произведен выбор лучших моделей\n",
    "- проведена проверка лучших моделей на тестовой выборке:\n",
    "    - итоговое SMAPE: 9.5155\n",
    "    - итоговое SMAPE DummyRegressor: 10.2896"
   ]
  }
 ],
 "metadata": {
  "ExecuteTimeLog": [
   {
    "duration": 982,
    "start_time": "2022-05-21T11:17:49.970Z"
   },
   {
    "duration": 4,
    "start_time": "2022-05-21T11:17:50.954Z"
   },
   {
    "duration": 8,
    "start_time": "2022-05-21T11:17:50.960Z"
   },
   {
    "duration": 603,
    "start_time": "2022-05-21T11:17:50.969Z"
   },
   {
    "duration": 3,
    "start_time": "2022-05-21T11:17:51.574Z"
   },
   {
    "duration": 46,
    "start_time": "2022-05-21T11:17:51.578Z"
   },
   {
    "duration": 231,
    "start_time": "2022-05-21T11:17:51.626Z"
   },
   {
    "duration": 15,
    "start_time": "2022-05-21T11:17:51.858Z"
   },
   {
    "duration": 239,
    "start_time": "2022-05-21T11:17:51.875Z"
   },
   {
    "duration": 6,
    "start_time": "2022-05-21T11:17:52.116Z"
   },
   {
    "duration": 28,
    "start_time": "2022-05-21T11:17:52.124Z"
   },
   {
    "duration": 11,
    "start_time": "2022-05-21T11:17:52.155Z"
   },
   {
    "duration": 16,
    "start_time": "2022-05-21T11:17:52.168Z"
   },
   {
    "duration": 14,
    "start_time": "2022-05-21T11:17:52.188Z"
   },
   {
    "duration": 11,
    "start_time": "2022-05-21T11:17:52.203Z"
   },
   {
    "duration": 37,
    "start_time": "2022-05-21T11:17:52.216Z"
   },
   {
    "duration": 14,
    "start_time": "2022-05-21T11:17:52.254Z"
   },
   {
    "duration": 10,
    "start_time": "2022-05-21T11:17:52.269Z"
   },
   {
    "duration": 3,
    "start_time": "2022-05-21T11:17:52.281Z"
   },
   {
    "duration": 6,
    "start_time": "2022-05-21T11:17:52.286Z"
   },
   {
    "duration": 9,
    "start_time": "2022-05-21T11:17:52.293Z"
   },
   {
    "duration": 8,
    "start_time": "2022-05-21T11:17:52.303Z"
   },
   {
    "duration": 40,
    "start_time": "2022-05-21T11:17:52.312Z"
   },
   {
    "duration": 5,
    "start_time": "2022-05-21T11:17:52.353Z"
   },
   {
    "duration": 13,
    "start_time": "2022-05-21T11:17:52.362Z"
   },
   {
    "duration": 29,
    "start_time": "2022-05-21T11:17:52.376Z"
   },
   {
    "duration": 15,
    "start_time": "2022-05-21T11:17:52.407Z"
   },
   {
    "duration": 9,
    "start_time": "2022-05-21T11:17:52.424Z"
   },
   {
    "duration": 11,
    "start_time": "2022-05-21T11:17:52.435Z"
   },
   {
    "duration": 7,
    "start_time": "2022-05-21T11:17:52.448Z"
   },
   {
    "duration": 14,
    "start_time": "2022-05-21T11:17:52.456Z"
   },
   {
    "duration": 24,
    "start_time": "2022-05-21T11:17:52.472Z"
   },
   {
    "duration": 974,
    "start_time": "2022-05-21T11:17:52.499Z"
   },
   {
    "duration": 6,
    "start_time": "2022-05-21T11:17:53.474Z"
   },
   {
    "duration": 17,
    "start_time": "2022-05-21T11:17:53.482Z"
   },
   {
    "duration": 783,
    "start_time": "2022-05-21T11:17:53.501Z"
   },
   {
    "duration": 6,
    "start_time": "2022-05-21T11:17:54.286Z"
   },
   {
    "duration": 60,
    "start_time": "2022-05-21T11:17:54.293Z"
   },
   {
    "duration": 464,
    "start_time": "2022-05-21T11:17:54.355Z"
   },
   {
    "duration": 12,
    "start_time": "2022-05-21T11:17:54.821Z"
   },
   {
    "duration": 673,
    "start_time": "2022-05-21T11:17:54.839Z"
   },
   {
    "duration": 18,
    "start_time": "2022-05-21T11:17:55.514Z"
   },
   {
    "duration": 43,
    "start_time": "2022-05-21T11:17:55.534Z"
   },
   {
    "duration": 4,
    "start_time": "2022-05-21T11:17:55.579Z"
   },
   {
    "duration": 16,
    "start_time": "2022-05-21T11:17:55.584Z"
   },
   {
    "duration": 5,
    "start_time": "2022-05-21T11:17:55.602Z"
   },
   {
    "duration": 48,
    "start_time": "2022-05-21T11:17:55.608Z"
   },
   {
    "duration": 13,
    "start_time": "2022-05-21T11:17:55.657Z"
   },
   {
    "duration": 2,
    "start_time": "2022-05-21T11:17:55.672Z"
   },
   {
    "duration": 610078,
    "start_time": "2022-05-21T11:17:55.677Z"
   },
   {
    "duration": 143154,
    "start_time": "2022-05-21T11:28:05.757Z"
   },
   {
    "duration": 2132,
    "start_time": "2022-05-21T11:30:28.913Z"
   },
   {
    "duration": 5547,
    "start_time": "2022-05-21T11:30:31.046Z"
   },
   {
    "duration": 8825,
    "start_time": "2022-05-21T11:30:36.595Z"
   },
   {
    "duration": 4312693,
    "start_time": "2022-05-21T11:30:45.423Z"
   },
   {
    "duration": 3084043,
    "start_time": "2022-05-21T12:42:38.118Z"
   },
   {
    "duration": 211820,
    "start_time": "2022-05-21T13:34:02.163Z"
   },
   {
    "duration": 90589,
    "start_time": "2022-05-21T13:37:33.984Z"
   },
   {
    "duration": 67184,
    "start_time": "2022-05-21T13:39:04.575Z"
   },
   {
    "duration": 1705,
    "start_time": "2022-05-21T13:40:11.760Z"
   },
   {
    "duration": 1494,
    "start_time": "2022-05-21T13:40:13.467Z"
   },
   {
    "duration": 596,
    "start_time": "2022-05-21T13:40:14.963Z"
   },
   {
    "duration": 86,
    "start_time": "2022-05-21T13:40:15.569Z"
   },
   {
    "duration": 15,
    "start_time": "2022-05-21T13:40:15.660Z"
   },
   {
    "duration": 10,
    "start_time": "2022-05-21T13:40:15.676Z"
   },
   {
    "duration": 213,
    "start_time": "2022-05-21T13:40:15.688Z"
   },
   {
    "duration": 161,
    "start_time": "2022-05-21T13:40:15.903Z"
   },
   {
    "duration": 1550,
    "start_time": "2022-05-22T18:11:15.754Z"
   },
   {
    "duration": 2,
    "start_time": "2022-05-22T18:11:17.306Z"
   },
   {
    "duration": 7,
    "start_time": "2022-05-22T18:11:17.310Z"
   },
   {
    "duration": 8,
    "start_time": "2022-05-22T18:11:17.319Z"
   },
   {
    "duration": 1376,
    "start_time": "2022-05-22T18:11:17.329Z"
   },
   {
    "duration": 3,
    "start_time": "2022-05-22T18:11:18.706Z"
   },
   {
    "duration": 103,
    "start_time": "2022-05-22T18:11:18.710Z"
   },
   {
    "duration": 479,
    "start_time": "2022-05-22T18:11:18.815Z"
   },
   {
    "duration": 22,
    "start_time": "2022-05-22T18:11:19.297Z"
   },
   {
    "duration": 479,
    "start_time": "2022-05-22T18:11:19.323Z"
   },
   {
    "duration": 4,
    "start_time": "2022-05-22T18:11:19.804Z"
   },
   {
    "duration": 15,
    "start_time": "2022-05-22T18:11:19.809Z"
   },
   {
    "duration": 8,
    "start_time": "2022-05-22T18:11:19.826Z"
   },
   {
    "duration": 16,
    "start_time": "2022-05-22T18:11:19.895Z"
   },
   {
    "duration": 14,
    "start_time": "2022-05-22T18:11:19.913Z"
   },
   {
    "duration": 71,
    "start_time": "2022-05-22T18:11:19.928Z"
   },
   {
    "duration": 12,
    "start_time": "2022-05-22T18:11:20.001Z"
   },
   {
    "duration": 19,
    "start_time": "2022-05-22T18:11:20.014Z"
   },
   {
    "duration": 12,
    "start_time": "2022-05-22T18:11:20.093Z"
   },
   {
    "duration": 16,
    "start_time": "2022-05-22T18:11:20.107Z"
   },
   {
    "duration": 6,
    "start_time": "2022-05-22T18:11:20.125Z"
   },
   {
    "duration": 65,
    "start_time": "2022-05-22T18:11:20.133Z"
   },
   {
    "duration": 5,
    "start_time": "2022-05-22T18:11:20.201Z"
   },
   {
    "duration": 12,
    "start_time": "2022-05-22T18:11:20.207Z"
   },
   {
    "duration": 9,
    "start_time": "2022-05-22T18:11:20.221Z"
   },
   {
    "duration": 62,
    "start_time": "2022-05-22T18:11:20.232Z"
   },
   {
    "duration": 5,
    "start_time": "2022-05-22T18:11:20.296Z"
   },
   {
    "duration": 7,
    "start_time": "2022-05-22T18:11:20.306Z"
   },
   {
    "duration": 7,
    "start_time": "2022-05-22T18:11:20.315Z"
   },
   {
    "duration": 10,
    "start_time": "2022-05-22T18:11:20.323Z"
   },
   {
    "duration": 21,
    "start_time": "2022-05-22T18:11:20.394Z"
   },
   {
    "duration": 1081,
    "start_time": "2022-05-22T18:11:20.417Z"
   },
   {
    "duration": 7,
    "start_time": "2022-05-22T18:11:21.500Z"
   },
   {
    "duration": 7,
    "start_time": "2022-05-22T18:11:21.508Z"
   },
   {
    "duration": 688,
    "start_time": "2022-05-22T18:11:21.517Z"
   },
   {
    "duration": 5,
    "start_time": "2022-05-22T18:11:22.207Z"
   },
   {
    "duration": 6,
    "start_time": "2022-05-22T18:11:22.214Z"
   },
   {
    "duration": 687,
    "start_time": "2022-05-22T18:11:22.221Z"
   },
   {
    "duration": 9,
    "start_time": "2022-05-22T18:11:22.910Z"
   },
   {
    "duration": 4179,
    "start_time": "2022-05-22T18:11:22.921Z"
   },
   {
    "duration": 302,
    "start_time": "2022-05-22T18:11:27.193Z"
   },
   {
    "duration": 398,
    "start_time": "2022-05-22T18:11:27.497Z"
   },
   {
    "duration": 100,
    "start_time": "2022-05-22T18:11:27.898Z"
   },
   {
    "duration": 102,
    "start_time": "2022-05-22T18:11:28.001Z"
   },
   {
    "duration": 303,
    "start_time": "2022-05-22T18:11:28.106Z"
   },
   {
    "duration": 183,
    "start_time": "2022-05-22T18:11:28.411Z"
   },
   {
    "duration": 297,
    "start_time": "2022-05-22T18:11:28.597Z"
   },
   {
    "duration": 1609907,
    "start_time": "2022-05-22T18:11:28.897Z"
   },
   {
    "duration": 369514,
    "start_time": "2022-05-22T18:38:18.806Z"
   },
   {
    "duration": 246180,
    "start_time": "2022-05-22T18:44:28.322Z"
   },
   {
    "duration": 159183,
    "start_time": "2022-05-22T18:48:34.504Z"
   },
   {
    "duration": 15802,
    "start_time": "2022-05-22T18:51:13.688Z"
   },
   {
    "duration": 2168456,
    "start_time": "2022-05-22T18:51:29.493Z"
   },
   {
    "duration": 5408268,
    "start_time": "2022-05-22T19:27:37.950Z"
   },
   {
    "duration": 33511,
    "start_time": "2022-05-22T20:57:46.220Z"
   },
   {
    "duration": 15565,
    "start_time": "2022-05-22T20:58:19.733Z"
   },
   {
    "duration": 65528,
    "start_time": "2022-05-22T20:58:35.300Z"
   },
   {
    "duration": 1965,
    "start_time": "2022-05-22T20:59:40.829Z"
   },
   {
    "duration": 1607,
    "start_time": "2022-05-22T20:59:42.796Z"
   },
   {
    "duration": 904,
    "start_time": "2022-05-22T20:59:44.495Z"
   },
   {
    "duration": 95,
    "start_time": "2022-05-22T20:59:45.401Z"
   },
   {
    "duration": 6,
    "start_time": "2022-05-22T20:59:45.498Z"
   },
   {
    "duration": 501,
    "start_time": "2022-05-22T20:59:45.506Z"
   },
   {
    "duration": 92,
    "start_time": "2022-05-22T20:59:46.008Z"
   },
   {
    "duration": 493,
    "start_time": "2022-05-22T20:59:46.101Z"
   },
   {
    "duration": 7,
    "start_time": "2022-05-22T20:59:46.596Z"
   },
   {
    "duration": 6,
    "start_time": "2022-05-22T20:59:46.605Z"
   },
   {
    "duration": 5,
    "start_time": "2022-05-22T20:59:46.612Z"
   },
   {
    "duration": 74,
    "start_time": "2022-05-23T07:04:43.698Z"
   },
   {
    "duration": 1366,
    "start_time": "2022-05-23T07:04:49.919Z"
   },
   {
    "duration": 3,
    "start_time": "2022-05-23T07:04:51.288Z"
   },
   {
    "duration": 37,
    "start_time": "2022-05-23T07:04:51.293Z"
   },
   {
    "duration": 59,
    "start_time": "2022-05-23T07:04:51.334Z"
   },
   {
    "duration": 3485,
    "start_time": "2022-05-23T07:04:51.395Z"
   },
   {
    "duration": 3,
    "start_time": "2022-05-23T07:04:54.882Z"
   },
   {
    "duration": 78,
    "start_time": "2022-05-23T07:04:54.886Z"
   },
   {
    "duration": 281,
    "start_time": "2022-05-23T07:04:54.965Z"
   },
   {
    "duration": 25,
    "start_time": "2022-05-23T07:04:55.248Z"
   },
   {
    "duration": 346,
    "start_time": "2022-05-23T07:04:55.277Z"
   },
   {
    "duration": 9,
    "start_time": "2022-05-23T07:04:55.625Z"
   },
   {
    "duration": 36,
    "start_time": "2022-05-23T07:04:55.636Z"
   },
   {
    "duration": 14,
    "start_time": "2022-05-23T07:04:55.675Z"
   },
   {
    "duration": 56,
    "start_time": "2022-05-23T07:04:55.691Z"
   },
   {
    "duration": 25,
    "start_time": "2022-05-23T07:04:55.749Z"
   },
   {
    "duration": 15,
    "start_time": "2022-05-23T07:04:55.776Z"
   },
   {
    "duration": 26,
    "start_time": "2022-05-23T07:04:55.793Z"
   },
   {
    "duration": 35,
    "start_time": "2022-05-23T07:04:55.828Z"
   },
   {
    "duration": 14,
    "start_time": "2022-05-23T07:04:55.865Z"
   },
   {
    "duration": 5,
    "start_time": "2022-05-23T07:04:55.881Z"
   },
   {
    "duration": 63,
    "start_time": "2022-05-23T07:04:55.888Z"
   },
   {
    "duration": 20,
    "start_time": "2022-05-23T07:04:55.956Z"
   },
   {
    "duration": 15,
    "start_time": "2022-05-23T07:04:55.978Z"
   },
   {
    "duration": 41,
    "start_time": "2022-05-23T07:04:55.995Z"
   },
   {
    "duration": 28,
    "start_time": "2022-05-23T07:04:56.039Z"
   },
   {
    "duration": 24,
    "start_time": "2022-05-23T07:04:56.069Z"
   },
   {
    "duration": 40,
    "start_time": "2022-05-23T07:04:56.095Z"
   },
   {
    "duration": 29,
    "start_time": "2022-05-23T07:04:56.140Z"
   },
   {
    "duration": 22,
    "start_time": "2022-05-23T07:04:56.170Z"
   },
   {
    "duration": 10,
    "start_time": "2022-05-23T07:04:56.194Z"
   },
   {
    "duration": 38,
    "start_time": "2022-05-23T07:04:56.217Z"
   },
   {
    "duration": 6,
    "start_time": "2022-05-23T07:05:23.849Z"
   },
   {
    "duration": 6,
    "start_time": "2022-05-23T07:06:24.696Z"
   },
   {
    "duration": 21,
    "start_time": "2022-05-23T07:44:50.249Z"
   },
   {
    "duration": 809,
    "start_time": "2022-05-23T07:44:51.226Z"
   },
   {
    "duration": 11,
    "start_time": "2022-05-23T07:53:31.196Z"
   },
   {
    "duration": 653,
    "start_time": "2022-05-23T07:53:31.725Z"
   },
   {
    "duration": 1141,
    "start_time": "2022-05-23T07:58:40.400Z"
   },
   {
    "duration": 993,
    "start_time": "2022-05-23T07:59:06.260Z"
   },
   {
    "duration": 7000,
    "start_time": "2022-05-23T09:17:50.434Z"
   },
   {
    "duration": 5,
    "start_time": "2022-05-23T09:17:57.529Z"
   },
   {
    "duration": 96,
    "start_time": "2022-05-23T09:17:57.626Z"
   },
   {
    "duration": 203,
    "start_time": "2022-05-23T09:17:57.724Z"
   },
   {
    "duration": 7695,
    "start_time": "2022-05-23T09:17:57.928Z"
   },
   {
    "duration": 3,
    "start_time": "2022-05-23T09:18:05.625Z"
   },
   {
    "duration": 403,
    "start_time": "2022-05-23T09:18:05.630Z"
   },
   {
    "duration": 2495,
    "start_time": "2022-05-23T09:18:06.036Z"
   },
   {
    "duration": 111,
    "start_time": "2022-05-23T09:18:08.624Z"
   },
   {
    "duration": 2309,
    "start_time": "2022-05-23T09:18:08.824Z"
   },
   {
    "duration": 95,
    "start_time": "2022-05-23T09:18:11.136Z"
   },
   {
    "duration": 95,
    "start_time": "2022-05-23T09:18:11.238Z"
   },
   {
    "duration": 104,
    "start_time": "2022-05-23T09:18:11.426Z"
   },
   {
    "duration": 302,
    "start_time": "2022-05-23T09:18:11.532Z"
   },
   {
    "duration": 398,
    "start_time": "2022-05-23T09:18:11.924Z"
   },
   {
    "duration": 106,
    "start_time": "2022-05-23T09:18:12.424Z"
   },
   {
    "duration": 197,
    "start_time": "2022-05-23T09:18:12.534Z"
   },
   {
    "duration": 103,
    "start_time": "2022-05-23T09:18:12.734Z"
   },
   {
    "duration": 95,
    "start_time": "2022-05-23T09:18:12.935Z"
   },
   {
    "duration": 295,
    "start_time": "2022-05-23T09:18:13.032Z"
   },
   {
    "duration": 213,
    "start_time": "2022-05-23T09:18:13.328Z"
   },
   {
    "duration": 87,
    "start_time": "2022-05-23T09:18:13.543Z"
   },
   {
    "duration": 20,
    "start_time": "2022-05-23T09:18:13.631Z"
   },
   {
    "duration": 78,
    "start_time": "2022-05-23T09:18:13.652Z"
   },
   {
    "duration": 4,
    "start_time": "2022-05-23T09:18:13.732Z"
   },
   {
    "duration": 94,
    "start_time": "2022-05-23T09:18:13.741Z"
   },
   {
    "duration": 291,
    "start_time": "2022-05-23T09:18:13.935Z"
   },
   {
    "duration": 295,
    "start_time": "2022-05-23T09:18:14.228Z"
   },
   {
    "duration": 299,
    "start_time": "2022-05-23T09:18:14.525Z"
   },
   {
    "duration": 301,
    "start_time": "2022-05-23T09:18:14.826Z"
   },
   {
    "duration": 100,
    "start_time": "2022-05-23T09:18:15.129Z"
   },
   {
    "duration": 194,
    "start_time": "2022-05-23T09:18:15.233Z"
   },
   {
    "duration": 5606,
    "start_time": "2022-05-23T09:18:15.430Z"
   },
   {
    "duration": 200,
    "start_time": "2022-05-23T09:18:21.123Z"
   },
   {
    "duration": 2000,
    "start_time": "2022-05-23T09:18:21.325Z"
   },
   {
    "duration": 203,
    "start_time": "2022-05-23T09:18:23.331Z"
   },
   {
    "duration": 5,
    "start_time": "2022-05-23T09:18:23.624Z"
   },
   {
    "duration": 4000,
    "start_time": "2022-05-23T09:18:23.630Z"
   },
   {
    "duration": 99,
    "start_time": "2022-05-23T09:18:27.634Z"
   },
   {
    "duration": 100,
    "start_time": "2022-05-23T09:18:27.824Z"
   },
   {
    "duration": 3801,
    "start_time": "2022-05-23T09:18:27.929Z"
   },
   {
    "duration": 99,
    "start_time": "2022-05-23T09:18:31.732Z"
   },
   {
    "duration": 5599,
    "start_time": "2022-05-23T09:18:31.836Z"
   },
   {
    "duration": 98,
    "start_time": "2022-05-23T09:18:37.528Z"
   },
   {
    "duration": 9192,
    "start_time": "2022-05-23T09:18:37.631Z"
   },
   {
    "duration": 205,
    "start_time": "2022-05-23T09:18:46.825Z"
   },
   {
    "duration": 405,
    "start_time": "2022-05-23T09:18:47.032Z"
   },
   {
    "duration": 9,
    "start_time": "2022-05-23T09:18:47.525Z"
   },
   {
    "duration": 390,
    "start_time": "2022-05-23T09:18:47.538Z"
   },
   {
    "duration": 200,
    "start_time": "2022-05-23T09:18:47.929Z"
   },
   {
    "duration": 95,
    "start_time": "2022-05-23T09:18:48.133Z"
   },
   {
    "duration": 396,
    "start_time": "2022-05-23T09:18:48.230Z"
   },
   {
    "duration": 3962795,
    "start_time": "2022-05-23T09:18:48.627Z"
   },
   {
    "duration": 1113805,
    "start_time": "2022-05-23T10:24:51.429Z"
   },
   {
    "duration": 1663193,
    "start_time": "2022-05-23T10:43:25.236Z"
   },
   {
    "duration": 934859,
    "start_time": "2022-05-23T11:11:08.431Z"
   },
   {
    "duration": 17644,
    "start_time": "2022-05-23T11:26:43.291Z"
   },
   {
    "duration": 60,
    "start_time": "2022-05-23T14:04:46.946Z"
   },
   {
    "duration": 1036,
    "start_time": "2022-05-23T14:05:00.947Z"
   },
   {
    "duration": 4,
    "start_time": "2022-05-23T14:05:01.985Z"
   },
   {
    "duration": 16,
    "start_time": "2022-05-23T14:05:01.990Z"
   },
   {
    "duration": 28,
    "start_time": "2022-05-23T14:05:02.007Z"
   },
   {
    "duration": 1408,
    "start_time": "2022-05-23T14:05:02.038Z"
   },
   {
    "duration": 3,
    "start_time": "2022-05-23T14:05:03.448Z"
   },
   {
    "duration": 44,
    "start_time": "2022-05-23T14:05:03.453Z"
   },
   {
    "duration": 226,
    "start_time": "2022-05-23T14:05:03.499Z"
   },
   {
    "duration": 14,
    "start_time": "2022-05-23T14:05:03.726Z"
   },
   {
    "duration": 234,
    "start_time": "2022-05-23T14:05:03.751Z"
   },
   {
    "duration": 5,
    "start_time": "2022-05-23T14:05:03.986Z"
   },
   {
    "duration": 39,
    "start_time": "2022-05-23T14:05:03.993Z"
   },
   {
    "duration": 9,
    "start_time": "2022-05-23T14:05:04.034Z"
   },
   {
    "duration": 13,
    "start_time": "2022-05-23T14:05:04.046Z"
   },
   {
    "duration": 14,
    "start_time": "2022-05-23T14:05:04.061Z"
   },
   {
    "duration": 13,
    "start_time": "2022-05-23T14:05:04.076Z"
   },
   {
    "duration": 9,
    "start_time": "2022-05-23T14:05:04.090Z"
   },
   {
    "duration": 17,
    "start_time": "2022-05-23T14:05:04.101Z"
   },
   {
    "duration": 37,
    "start_time": "2022-05-23T14:05:04.120Z"
   },
   {
    "duration": 5,
    "start_time": "2022-05-23T14:05:04.159Z"
   },
   {
    "duration": 6,
    "start_time": "2022-05-23T14:05:04.166Z"
   },
   {
    "duration": 8,
    "start_time": "2022-05-23T14:05:04.174Z"
   },
   {
    "duration": 19,
    "start_time": "2022-05-23T14:05:04.184Z"
   },
   {
    "duration": 15,
    "start_time": "2022-05-23T14:05:04.204Z"
   },
   {
    "duration": 7,
    "start_time": "2022-05-23T14:05:04.220Z"
   },
   {
    "duration": 25,
    "start_time": "2022-05-23T14:05:04.229Z"
   },
   {
    "duration": 8,
    "start_time": "2022-05-23T14:05:04.256Z"
   },
   {
    "duration": 9,
    "start_time": "2022-05-23T14:05:04.265Z"
   },
   {
    "duration": 5,
    "start_time": "2022-05-23T14:05:04.275Z"
   },
   {
    "duration": 6,
    "start_time": "2022-05-23T14:05:04.282Z"
   },
   {
    "duration": 8,
    "start_time": "2022-05-23T14:05:04.289Z"
   },
   {
    "duration": 21,
    "start_time": "2022-05-23T14:05:04.299Z"
   },
   {
    "duration": 737,
    "start_time": "2022-05-23T14:05:04.322Z"
   },
   {
    "duration": 8,
    "start_time": "2022-05-23T14:05:05.060Z"
   },
   {
    "duration": 343,
    "start_time": "2022-05-23T14:05:05.069Z"
   },
   {
    "duration": 7,
    "start_time": "2022-05-23T14:05:05.414Z"
   },
   {
    "duration": 11,
    "start_time": "2022-05-23T14:05:05.423Z"
   },
   {
    "duration": 374,
    "start_time": "2022-05-23T14:05:05.435Z"
   },
   {
    "duration": 8,
    "start_time": "2022-05-23T14:05:05.811Z"
   },
   {
    "duration": 13,
    "start_time": "2022-05-23T14:05:05.821Z"
   },
   {
    "duration": 390,
    "start_time": "2022-05-23T14:05:05.855Z"
   },
   {
    "duration": 9,
    "start_time": "2022-05-23T14:05:06.252Z"
   },
   {
    "duration": 559,
    "start_time": "2022-05-23T14:05:06.262Z"
   },
   {
    "duration": 7,
    "start_time": "2022-05-23T14:05:06.823Z"
   },
   {
    "duration": 956,
    "start_time": "2022-05-23T14:05:06.832Z"
   },
   {
    "duration": 19,
    "start_time": "2022-05-23T14:05:07.789Z"
   },
   {
    "duration": 42,
    "start_time": "2022-05-23T14:05:07.810Z"
   },
   {
    "duration": 4,
    "start_time": "2022-05-23T14:05:07.854Z"
   },
   {
    "duration": 11,
    "start_time": "2022-05-23T14:05:07.860Z"
   },
   {
    "duration": 24,
    "start_time": "2022-05-23T14:05:07.873Z"
   },
   {
    "duration": 11,
    "start_time": "2022-05-23T14:05:07.899Z"
   },
   {
    "duration": 3,
    "start_time": "2022-05-23T14:05:07.912Z"
   },
   {
    "duration": 2192760,
    "start_time": "2022-05-23T14:05:07.917Z"
   },
   {
    "duration": 672678,
    "start_time": "2022-05-23T14:41:40.679Z"
   },
   {
    "duration": 641317,
    "start_time": "2022-05-23T14:52:53.358Z"
   },
   {
    "duration": 523602,
    "start_time": "2022-05-23T15:03:34.676Z"
   },
   {
    "duration": 54208,
    "start_time": "2022-05-23T15:12:18.352Z"
   },
   {
    "duration": 8510798,
    "start_time": "2022-05-23T15:13:12.562Z"
   },
   {
    "duration": 0,
    "start_time": "2022-05-23T17:35:03.362Z"
   },
   {
    "duration": 0,
    "start_time": "2022-05-23T17:35:03.363Z"
   },
   {
    "duration": 0,
    "start_time": "2022-05-23T17:35:03.363Z"
   },
   {
    "duration": 0,
    "start_time": "2022-05-23T17:35:03.364Z"
   },
   {
    "duration": 0,
    "start_time": "2022-05-23T17:35:03.364Z"
   },
   {
    "duration": 0,
    "start_time": "2022-05-23T17:35:03.365Z"
   },
   {
    "duration": 0,
    "start_time": "2022-05-23T17:35:03.365Z"
   },
   {
    "duration": 0,
    "start_time": "2022-05-23T17:35:03.366Z"
   },
   {
    "duration": 0,
    "start_time": "2022-05-23T17:35:03.366Z"
   },
   {
    "duration": 0,
    "start_time": "2022-05-23T17:35:03.367Z"
   },
   {
    "duration": 0,
    "start_time": "2022-05-23T17:35:03.367Z"
   },
   {
    "duration": 0,
    "start_time": "2022-05-23T17:35:03.367Z"
   },
   {
    "duration": 0,
    "start_time": "2022-05-23T17:35:03.368Z"
   },
   {
    "duration": 0,
    "start_time": "2022-05-23T17:35:03.368Z"
   },
   {
    "duration": 0,
    "start_time": "2022-05-23T17:35:03.369Z"
   },
   {
    "duration": 0,
    "start_time": "2022-05-23T17:35:03.553Z"
   },
   {
    "duration": 6,
    "start_time": "2022-05-23T17:39:48.153Z"
   },
   {
    "duration": 8,
    "start_time": "2022-05-23T17:40:10.953Z"
   },
   {
    "duration": 6,
    "start_time": "2022-05-23T17:40:11.353Z"
   },
   {
    "duration": 6,
    "start_time": "2022-05-23T17:41:23.752Z"
   },
   {
    "duration": 194,
    "start_time": "2022-05-23T17:41:23.760Z"
   },
   {
    "duration": 297,
    "start_time": "2022-05-23T17:41:23.955Z"
   },
   {
    "duration": 8,
    "start_time": "2022-05-23T17:41:24.253Z"
   },
   {
    "duration": 5990,
    "start_time": "2022-05-23T17:41:24.263Z"
   },
   {
    "duration": 5,
    "start_time": "2022-05-23T17:41:30.255Z"
   },
   {
    "duration": 595,
    "start_time": "2022-05-23T17:41:30.261Z"
   },
   {
    "duration": 1603,
    "start_time": "2022-05-23T17:41:30.861Z"
   },
   {
    "duration": 111,
    "start_time": "2022-05-23T17:41:32.559Z"
   },
   {
    "duration": 1801,
    "start_time": "2022-05-23T17:41:32.756Z"
   },
   {
    "duration": 93,
    "start_time": "2022-05-23T17:41:34.560Z"
   },
   {
    "duration": 14,
    "start_time": "2022-05-23T17:41:34.654Z"
   },
   {
    "duration": 188,
    "start_time": "2022-05-23T17:41:34.669Z"
   },
   {
    "duration": 393,
    "start_time": "2022-05-23T17:41:34.860Z"
   },
   {
    "duration": 207,
    "start_time": "2022-05-23T17:41:35.260Z"
   },
   {
    "duration": 89,
    "start_time": "2022-05-23T17:41:35.471Z"
   },
   {
    "duration": 289,
    "start_time": "2022-05-23T17:41:35.563Z"
   },
   {
    "duration": 304,
    "start_time": "2022-05-23T17:41:35.855Z"
   },
   {
    "duration": 194,
    "start_time": "2022-05-23T17:41:36.166Z"
   },
   {
    "duration": 94,
    "start_time": "2022-05-23T17:41:36.362Z"
   },
   {
    "duration": 193,
    "start_time": "2022-05-23T17:41:36.462Z"
   },
   {
    "duration": 501,
    "start_time": "2022-05-23T17:41:36.657Z"
   },
   {
    "duration": 93,
    "start_time": "2022-05-23T17:41:37.159Z"
   },
   {
    "duration": 10,
    "start_time": "2022-05-23T17:41:37.254Z"
   },
   {
    "duration": 295,
    "start_time": "2022-05-23T17:41:37.266Z"
   },
   {
    "duration": 297,
    "start_time": "2022-05-23T17:41:37.563Z"
   },
   {
    "duration": 192,
    "start_time": "2022-05-23T17:41:37.863Z"
   },
   {
    "duration": 404,
    "start_time": "2022-05-23T17:41:38.057Z"
   },
   {
    "duration": 23,
    "start_time": "2022-05-23T17:41:38.468Z"
   },
   {
    "duration": 199,
    "start_time": "2022-05-23T17:41:38.559Z"
   },
   {
    "duration": 8,
    "start_time": "2022-05-23T17:41:43.053Z"
   },
   {
    "duration": 60,
    "start_time": "2022-05-24T07:53:50.607Z"
   },
   {
    "duration": 1532,
    "start_time": "2022-05-24T07:54:01.638Z"
   },
   {
    "duration": 3,
    "start_time": "2022-05-24T07:54:03.172Z"
   },
   {
    "duration": 7,
    "start_time": "2022-05-24T07:54:03.176Z"
   },
   {
    "duration": 6,
    "start_time": "2022-05-24T07:54:03.184Z"
   },
   {
    "duration": 3475,
    "start_time": "2022-05-24T07:54:03.193Z"
   },
   {
    "duration": 3,
    "start_time": "2022-05-24T07:54:06.670Z"
   },
   {
    "duration": 51,
    "start_time": "2022-05-24T07:54:06.674Z"
   },
   {
    "duration": 219,
    "start_time": "2022-05-24T07:54:06.727Z"
   },
   {
    "duration": 15,
    "start_time": "2022-05-24T07:54:06.951Z"
   },
   {
    "duration": 245,
    "start_time": "2022-05-24T07:54:06.967Z"
   },
   {
    "duration": 6,
    "start_time": "2022-05-24T07:54:07.213Z"
   },
   {
    "duration": 23,
    "start_time": "2022-05-24T07:54:07.220Z"
   },
   {
    "duration": 24,
    "start_time": "2022-05-24T07:54:07.244Z"
   },
   {
    "duration": 23,
    "start_time": "2022-05-24T07:54:07.271Z"
   },
   {
    "duration": 42,
    "start_time": "2022-05-24T07:54:07.295Z"
   },
   {
    "duration": 11,
    "start_time": "2022-05-24T07:54:07.339Z"
   },
   {
    "duration": 7,
    "start_time": "2022-05-24T07:54:07.351Z"
   },
   {
    "duration": 13,
    "start_time": "2022-05-24T07:54:07.360Z"
   },
   {
    "duration": 9,
    "start_time": "2022-05-24T07:54:07.375Z"
   },
   {
    "duration": 4,
    "start_time": "2022-05-24T07:54:07.386Z"
   },
   {
    "duration": 20,
    "start_time": "2022-05-24T07:54:07.391Z"
   },
   {
    "duration": 15,
    "start_time": "2022-05-24T07:54:07.413Z"
   },
   {
    "duration": 4,
    "start_time": "2022-05-24T07:54:07.430Z"
   },
   {
    "duration": 21,
    "start_time": "2022-05-24T07:54:07.436Z"
   },
   {
    "duration": 4,
    "start_time": "2022-05-24T07:54:07.459Z"
   },
   {
    "duration": 11,
    "start_time": "2022-05-24T07:54:07.465Z"
   },
   {
    "duration": 4,
    "start_time": "2022-05-24T07:54:07.477Z"
   },
   {
    "duration": 10,
    "start_time": "2022-05-24T07:54:07.482Z"
   },
   {
    "duration": 4,
    "start_time": "2022-05-24T07:54:07.494Z"
   },
   {
    "duration": 8,
    "start_time": "2022-05-24T07:54:07.500Z"
   },
   {
    "duration": 8,
    "start_time": "2022-05-24T07:54:07.509Z"
   },
   {
    "duration": 46,
    "start_time": "2022-05-24T07:54:07.518Z"
   },
   {
    "duration": 709,
    "start_time": "2022-05-24T07:54:07.566Z"
   },
   {
    "duration": 8,
    "start_time": "2022-05-24T07:54:08.277Z"
   },
   {
    "duration": 267,
    "start_time": "2022-05-24T07:54:08.287Z"
   },
   {
    "duration": 5,
    "start_time": "2022-05-24T07:54:08.556Z"
   },
   {
    "duration": 7,
    "start_time": "2022-05-24T07:54:08.563Z"
   },
   {
    "duration": 362,
    "start_time": "2022-05-24T07:54:08.572Z"
   },
   {
    "duration": 6,
    "start_time": "2022-05-24T07:54:08.935Z"
   },
   {
    "duration": 4,
    "start_time": "2022-05-24T07:54:08.951Z"
   },
   {
    "duration": 376,
    "start_time": "2022-05-24T07:54:08.958Z"
   },
   {
    "duration": 8,
    "start_time": "2022-05-24T07:54:09.336Z"
   },
   {
    "duration": 671,
    "start_time": "2022-05-24T07:54:09.352Z"
   },
   {
    "duration": 7,
    "start_time": "2022-05-24T07:54:10.025Z"
   },
   {
    "duration": 895,
    "start_time": "2022-05-24T07:54:13.548Z"
   },
   {
    "duration": 989,
    "start_time": "2022-05-24T08:59:59.921Z"
   },
   {
    "duration": 880,
    "start_time": "2022-05-24T09:00:15.810Z"
   },
   {
    "duration": 1135,
    "start_time": "2022-05-24T09:00:30.491Z"
   },
   {
    "duration": 930,
    "start_time": "2022-05-24T09:01:41.770Z"
   },
   {
    "duration": 1101,
    "start_time": "2022-05-24T10:27:25.049Z"
   },
   {
    "duration": 3,
    "start_time": "2022-05-24T10:27:26.152Z"
   },
   {
    "duration": 15,
    "start_time": "2022-05-24T10:27:26.157Z"
   },
   {
    "duration": 40,
    "start_time": "2022-05-24T10:27:26.174Z"
   },
   {
    "duration": 2201,
    "start_time": "2022-05-24T10:27:26.216Z"
   },
   {
    "duration": 3,
    "start_time": "2022-05-24T10:27:28.419Z"
   },
   {
    "duration": 46,
    "start_time": "2022-05-24T10:27:28.424Z"
   },
   {
    "duration": 222,
    "start_time": "2022-05-24T10:27:28.472Z"
   },
   {
    "duration": 17,
    "start_time": "2022-05-24T10:27:28.696Z"
   },
   {
    "duration": 249,
    "start_time": "2022-05-24T10:27:28.715Z"
   },
   {
    "duration": 6,
    "start_time": "2022-05-24T10:27:28.966Z"
   },
   {
    "duration": 81,
    "start_time": "2022-05-24T10:27:28.974Z"
   },
   {
    "duration": 51,
    "start_time": "2022-05-24T10:27:29.056Z"
   },
   {
    "duration": 87,
    "start_time": "2022-05-24T10:27:29.111Z"
   },
   {
    "duration": 95,
    "start_time": "2022-05-24T10:27:29.200Z"
   },
   {
    "duration": 22,
    "start_time": "2022-05-24T10:27:29.298Z"
   },
   {
    "duration": 16,
    "start_time": "2022-05-24T10:27:29.322Z"
   },
   {
    "duration": 70,
    "start_time": "2022-05-24T10:27:29.340Z"
   },
   {
    "duration": 12,
    "start_time": "2022-05-24T10:27:29.413Z"
   },
   {
    "duration": 17,
    "start_time": "2022-05-24T10:27:29.427Z"
   },
   {
    "duration": 67,
    "start_time": "2022-05-24T10:27:29.446Z"
   },
   {
    "duration": 20,
    "start_time": "2022-05-24T10:27:29.515Z"
   },
   {
    "duration": 5,
    "start_time": "2022-05-24T10:27:29.538Z"
   },
   {
    "duration": 55,
    "start_time": "2022-05-24T10:27:29.545Z"
   },
   {
    "duration": 4,
    "start_time": "2022-05-24T10:27:29.602Z"
   },
   {
    "duration": 28,
    "start_time": "2022-05-24T10:27:29.608Z"
   },
   {
    "duration": 13,
    "start_time": "2022-05-24T10:27:29.638Z"
   },
   {
    "duration": 9,
    "start_time": "2022-05-24T10:27:29.695Z"
   },
   {
    "duration": 14,
    "start_time": "2022-05-24T10:27:29.706Z"
   },
   {
    "duration": 14,
    "start_time": "2022-05-24T10:27:29.721Z"
   },
   {
    "duration": 62,
    "start_time": "2022-05-24T10:27:29.737Z"
   },
   {
    "duration": 25,
    "start_time": "2022-05-24T10:27:29.801Z"
   },
   {
    "duration": 1629,
    "start_time": "2022-05-24T10:27:29.829Z"
   },
   {
    "duration": 11,
    "start_time": "2022-05-24T10:27:31.460Z"
   },
   {
    "duration": 366,
    "start_time": "2022-05-24T10:27:31.474Z"
   },
   {
    "duration": 8,
    "start_time": "2022-05-24T10:27:31.842Z"
   },
   {
    "duration": 29,
    "start_time": "2022-05-24T10:27:31.853Z"
   },
   {
    "duration": 443,
    "start_time": "2022-05-24T10:27:31.884Z"
   },
   {
    "duration": 6,
    "start_time": "2022-05-24T10:27:32.329Z"
   },
   {
    "duration": 42,
    "start_time": "2022-05-24T10:27:32.337Z"
   },
   {
    "duration": 413,
    "start_time": "2022-05-24T10:27:32.384Z"
   },
   {
    "duration": 10,
    "start_time": "2022-05-24T10:27:32.798Z"
   },
   {
    "duration": 657,
    "start_time": "2022-05-24T10:27:32.810Z"
   },
   {
    "duration": 135,
    "start_time": "2022-05-24T10:27:33.469Z"
   },
   {
    "duration": 8,
    "start_time": "2022-05-24T10:27:58.649Z"
   },
   {
    "duration": 707,
    "start_time": "2022-05-24T10:27:59.291Z"
   },
   {
    "duration": 586,
    "start_time": "2022-05-24T10:28:20.692Z"
   },
   {
    "duration": 270,
    "start_time": "2022-05-24T10:31:15.425Z"
   },
   {
    "duration": 266,
    "start_time": "2022-05-24T10:31:37.784Z"
   },
   {
    "duration": 910,
    "start_time": "2022-05-24T10:31:38.713Z"
   },
   {
    "duration": 28,
    "start_time": "2022-05-24T10:33:42.513Z"
   },
   {
    "duration": 1018,
    "start_time": "2022-05-24T10:33:43.315Z"
   },
   {
    "duration": 29,
    "start_time": "2022-05-24T10:34:26.329Z"
   },
   {
    "duration": 1132,
    "start_time": "2022-05-24T10:35:05.094Z"
   },
   {
    "duration": 4,
    "start_time": "2022-05-24T10:35:06.229Z"
   },
   {
    "duration": 9,
    "start_time": "2022-05-24T10:35:06.235Z"
   },
   {
    "duration": 9,
    "start_time": "2022-05-24T10:35:06.245Z"
   },
   {
    "duration": 750,
    "start_time": "2022-05-24T10:35:06.256Z"
   },
   {
    "duration": 2,
    "start_time": "2022-05-24T10:35:07.008Z"
   },
   {
    "duration": 52,
    "start_time": "2022-05-24T10:35:07.013Z"
   },
   {
    "duration": 280,
    "start_time": "2022-05-24T10:35:07.067Z"
   },
   {
    "duration": 25,
    "start_time": "2022-05-24T10:35:07.350Z"
   },
   {
    "duration": 288,
    "start_time": "2022-05-24T10:35:07.378Z"
   },
   {
    "duration": 6,
    "start_time": "2022-05-24T10:35:07.668Z"
   },
   {
    "duration": 27,
    "start_time": "2022-05-24T10:35:07.676Z"
   },
   {
    "duration": 11,
    "start_time": "2022-05-24T10:35:07.705Z"
   },
   {
    "duration": 19,
    "start_time": "2022-05-24T10:35:07.721Z"
   },
   {
    "duration": 21,
    "start_time": "2022-05-24T10:35:07.743Z"
   },
   {
    "duration": 19,
    "start_time": "2022-05-24T10:35:07.794Z"
   },
   {
    "duration": 12,
    "start_time": "2022-05-24T10:35:07.815Z"
   },
   {
    "duration": 19,
    "start_time": "2022-05-24T10:35:07.829Z"
   },
   {
    "duration": 44,
    "start_time": "2022-05-24T10:35:07.851Z"
   },
   {
    "duration": 4,
    "start_time": "2022-05-24T10:35:07.897Z"
   },
   {
    "duration": 7,
    "start_time": "2022-05-24T10:35:07.903Z"
   },
   {
    "duration": 10,
    "start_time": "2022-05-24T10:35:07.911Z"
   },
   {
    "duration": 8,
    "start_time": "2022-05-24T10:35:07.923Z"
   },
   {
    "duration": 9,
    "start_time": "2022-05-24T10:35:07.933Z"
   },
   {
    "duration": 5,
    "start_time": "2022-05-24T10:35:07.943Z"
   },
   {
    "duration": 46,
    "start_time": "2022-05-24T10:35:07.949Z"
   },
   {
    "duration": 4,
    "start_time": "2022-05-24T10:35:07.997Z"
   },
   {
    "duration": 11,
    "start_time": "2022-05-24T10:35:08.003Z"
   },
   {
    "duration": 6,
    "start_time": "2022-05-24T10:35:08.015Z"
   },
   {
    "duration": 6,
    "start_time": "2022-05-24T10:35:08.023Z"
   },
   {
    "duration": 10,
    "start_time": "2022-05-24T10:35:08.031Z"
   },
   {
    "duration": 59,
    "start_time": "2022-05-24T10:35:08.043Z"
   },
   {
    "duration": 641,
    "start_time": "2022-05-24T10:35:08.105Z"
   },
   {
    "duration": 8,
    "start_time": "2022-05-24T10:35:08.748Z"
   },
   {
    "duration": 309,
    "start_time": "2022-05-24T10:35:08.758Z"
   },
   {
    "duration": 6,
    "start_time": "2022-05-24T10:35:09.069Z"
   },
   {
    "duration": 20,
    "start_time": "2022-05-24T10:35:09.078Z"
   },
   {
    "duration": 401,
    "start_time": "2022-05-24T10:35:09.100Z"
   },
   {
    "duration": 8,
    "start_time": "2022-05-24T10:35:09.503Z"
   },
   {
    "duration": 16,
    "start_time": "2022-05-24T10:35:09.513Z"
   },
   {
    "duration": 405,
    "start_time": "2022-05-24T10:35:09.534Z"
   },
   {
    "duration": 9,
    "start_time": "2022-05-24T10:35:09.941Z"
   },
   {
    "duration": 609,
    "start_time": "2022-05-24T10:35:09.952Z"
   },
   {
    "duration": 5,
    "start_time": "2022-05-24T10:35:10.563Z"
   },
   {
    "duration": 5,
    "start_time": "2022-05-24T10:35:37.054Z"
   },
   {
    "duration": 10,
    "start_time": "2022-05-24T10:36:07.980Z"
   },
   {
    "duration": 1037,
    "start_time": "2022-05-24T10:36:08.864Z"
   },
   {
    "duration": 45,
    "start_time": "2022-05-24T10:44:12.828Z"
   },
   {
    "duration": 13,
    "start_time": "2022-05-24T10:44:40.620Z"
   },
   {
    "duration": 14,
    "start_time": "2022-05-24T10:44:47.963Z"
   },
   {
    "duration": 13,
    "start_time": "2022-05-24T10:44:59.820Z"
   },
   {
    "duration": 29,
    "start_time": "2022-05-24T10:46:14.220Z"
   },
   {
    "duration": 21,
    "start_time": "2022-05-24T10:48:15.956Z"
   },
   {
    "duration": 21,
    "start_time": "2022-05-24T10:50:12.323Z"
   },
   {
    "duration": 20,
    "start_time": "2022-05-24T10:51:11.803Z"
   },
   {
    "duration": 11,
    "start_time": "2022-05-24T10:58:26.293Z"
   },
   {
    "duration": 875,
    "start_time": "2022-05-24T10:58:43.853Z"
   },
   {
    "duration": 1061,
    "start_time": "2022-05-24T10:59:08.245Z"
   },
   {
    "duration": 7,
    "start_time": "2022-05-24T11:09:28.067Z"
   },
   {
    "duration": 15,
    "start_time": "2022-05-24T11:09:28.077Z"
   },
   {
    "duration": 11,
    "start_time": "2022-05-24T11:09:28.095Z"
   },
   {
    "duration": 5,
    "start_time": "2022-05-24T11:09:28.108Z"
   },
   {
    "duration": 733,
    "start_time": "2022-05-24T11:09:28.114Z"
   },
   {
    "duration": 3,
    "start_time": "2022-05-24T11:09:28.849Z"
   },
   {
    "duration": 55,
    "start_time": "2022-05-24T11:09:28.854Z"
   },
   {
    "duration": 263,
    "start_time": "2022-05-24T11:09:28.911Z"
   },
   {
    "duration": 34,
    "start_time": "2022-05-24T11:09:29.176Z"
   },
   {
    "duration": 265,
    "start_time": "2022-05-24T11:09:29.214Z"
   },
   {
    "duration": 14,
    "start_time": "2022-05-24T11:09:29.481Z"
   },
   {
    "duration": 28,
    "start_time": "2022-05-24T11:09:29.498Z"
   },
   {
    "duration": 8,
    "start_time": "2022-05-24T11:09:29.528Z"
   },
   {
    "duration": 22,
    "start_time": "2022-05-24T11:09:29.539Z"
   },
   {
    "duration": 19,
    "start_time": "2022-05-24T11:09:29.563Z"
   },
   {
    "duration": 24,
    "start_time": "2022-05-24T11:09:29.584Z"
   },
   {
    "duration": 26,
    "start_time": "2022-05-24T11:09:29.609Z"
   },
   {
    "duration": 23,
    "start_time": "2022-05-24T11:09:29.637Z"
   },
   {
    "duration": 16,
    "start_time": "2022-05-24T11:09:29.662Z"
   },
   {
    "duration": 26,
    "start_time": "2022-05-24T11:09:29.680Z"
   },
   {
    "duration": 23,
    "start_time": "2022-05-24T11:09:29.709Z"
   },
   {
    "duration": 33,
    "start_time": "2022-05-24T11:09:29.735Z"
   },
   {
    "duration": 17,
    "start_time": "2022-05-24T11:09:29.770Z"
   },
   {
    "duration": 27,
    "start_time": "2022-05-24T11:09:29.789Z"
   },
   {
    "duration": 18,
    "start_time": "2022-05-24T11:09:29.819Z"
   },
   {
    "duration": 19,
    "start_time": "2022-05-24T11:09:29.840Z"
   },
   {
    "duration": 18,
    "start_time": "2022-05-24T11:09:29.861Z"
   },
   {
    "duration": 28,
    "start_time": "2022-05-24T11:09:29.886Z"
   },
   {
    "duration": 9,
    "start_time": "2022-05-24T11:09:29.916Z"
   },
   {
    "duration": 31,
    "start_time": "2022-05-24T11:09:29.928Z"
   },
   {
    "duration": 21,
    "start_time": "2022-05-24T11:09:29.961Z"
   },
   {
    "duration": 40,
    "start_time": "2022-05-24T11:09:29.984Z"
   },
   {
    "duration": 268,
    "start_time": "2022-05-24T11:09:30.026Z"
   },
   {
    "duration": 9,
    "start_time": "2022-05-24T11:09:30.296Z"
   },
   {
    "duration": 328,
    "start_time": "2022-05-24T11:09:30.307Z"
   },
   {
    "duration": 6,
    "start_time": "2022-05-24T11:09:30.637Z"
   },
   {
    "duration": 19,
    "start_time": "2022-05-24T11:09:30.645Z"
   },
   {
    "duration": 398,
    "start_time": "2022-05-24T11:09:30.666Z"
   },
   {
    "duration": 7,
    "start_time": "2022-05-24T11:09:31.065Z"
   },
   {
    "duration": 23,
    "start_time": "2022-05-24T11:09:31.074Z"
   },
   {
    "duration": 531,
    "start_time": "2022-05-24T11:09:31.099Z"
   },
   {
    "duration": 9,
    "start_time": "2022-05-24T11:09:31.632Z"
   },
   {
    "duration": 633,
    "start_time": "2022-05-24T11:09:31.643Z"
   },
   {
    "duration": 15,
    "start_time": "2022-05-24T11:09:32.279Z"
   },
   {
    "duration": 881,
    "start_time": "2022-05-24T11:09:32.296Z"
   },
   {
    "duration": 47,
    "start_time": "2022-05-24T11:09:33.179Z"
   },
   {
    "duration": 0,
    "start_time": "2022-05-24T11:09:33.228Z"
   },
   {
    "duration": 0,
    "start_time": "2022-05-24T11:09:33.230Z"
   },
   {
    "duration": 0,
    "start_time": "2022-05-24T11:09:33.231Z"
   },
   {
    "duration": 0,
    "start_time": "2022-05-24T11:09:33.232Z"
   },
   {
    "duration": 0,
    "start_time": "2022-05-24T11:09:33.234Z"
   },
   {
    "duration": 1,
    "start_time": "2022-05-24T11:09:33.235Z"
   },
   {
    "duration": 0,
    "start_time": "2022-05-24T11:09:33.237Z"
   },
   {
    "duration": 0,
    "start_time": "2022-05-24T11:09:33.239Z"
   },
   {
    "duration": 0,
    "start_time": "2022-05-24T11:09:33.240Z"
   },
   {
    "duration": 0,
    "start_time": "2022-05-24T11:09:33.241Z"
   },
   {
    "duration": 0,
    "start_time": "2022-05-24T11:09:33.243Z"
   },
   {
    "duration": 0,
    "start_time": "2022-05-24T11:09:33.244Z"
   },
   {
    "duration": 0,
    "start_time": "2022-05-24T11:09:33.245Z"
   },
   {
    "duration": 0,
    "start_time": "2022-05-24T11:09:33.246Z"
   },
   {
    "duration": 0,
    "start_time": "2022-05-24T11:09:33.247Z"
   },
   {
    "duration": 0,
    "start_time": "2022-05-24T11:09:33.248Z"
   },
   {
    "duration": 0,
    "start_time": "2022-05-24T11:09:33.250Z"
   },
   {
    "duration": 0,
    "start_time": "2022-05-24T11:09:33.251Z"
   },
   {
    "duration": 0,
    "start_time": "2022-05-24T11:09:33.252Z"
   },
   {
    "duration": 0,
    "start_time": "2022-05-24T11:09:33.253Z"
   },
   {
    "duration": 0,
    "start_time": "2022-05-24T11:09:33.255Z"
   },
   {
    "duration": 0,
    "start_time": "2022-05-24T11:09:33.256Z"
   },
   {
    "duration": 0,
    "start_time": "2022-05-24T11:09:33.257Z"
   },
   {
    "duration": 0,
    "start_time": "2022-05-24T11:09:33.259Z"
   },
   {
    "duration": 0,
    "start_time": "2022-05-24T11:09:33.260Z"
   },
   {
    "duration": 0,
    "start_time": "2022-05-24T11:09:33.261Z"
   },
   {
    "duration": 0,
    "start_time": "2022-05-24T11:09:33.262Z"
   },
   {
    "duration": 0,
    "start_time": "2022-05-24T11:09:33.263Z"
   },
   {
    "duration": 0,
    "start_time": "2022-05-24T11:09:33.264Z"
   },
   {
    "duration": 0,
    "start_time": "2022-05-24T11:09:33.500Z"
   },
   {
    "duration": 0,
    "start_time": "2022-05-24T11:09:33.502Z"
   },
   {
    "duration": 0,
    "start_time": "2022-05-24T11:09:33.503Z"
   },
   {
    "duration": 0,
    "start_time": "2022-05-24T11:09:33.504Z"
   },
   {
    "duration": 969,
    "start_time": "2022-05-24T11:11:24.351Z"
   },
   {
    "duration": 4,
    "start_time": "2022-05-24T11:11:25.322Z"
   },
   {
    "duration": 10,
    "start_time": "2022-05-24T11:11:25.328Z"
   },
   {
    "duration": 5,
    "start_time": "2022-05-24T11:11:25.342Z"
   },
   {
    "duration": 778,
    "start_time": "2022-05-24T11:11:25.349Z"
   },
   {
    "duration": 3,
    "start_time": "2022-05-24T11:11:26.129Z"
   },
   {
    "duration": 48,
    "start_time": "2022-05-24T11:11:26.134Z"
   },
   {
    "duration": 249,
    "start_time": "2022-05-24T11:11:26.183Z"
   },
   {
    "duration": 16,
    "start_time": "2022-05-24T11:11:26.434Z"
   },
   {
    "duration": 269,
    "start_time": "2022-05-24T11:11:26.452Z"
   },
   {
    "duration": 5,
    "start_time": "2022-05-24T11:11:26.722Z"
   },
   {
    "duration": 16,
    "start_time": "2022-05-24T11:11:26.729Z"
   },
   {
    "duration": 11,
    "start_time": "2022-05-24T11:11:26.746Z"
   },
   {
    "duration": 37,
    "start_time": "2022-05-24T11:11:26.760Z"
   },
   {
    "duration": 15,
    "start_time": "2022-05-24T11:11:26.798Z"
   },
   {
    "duration": 13,
    "start_time": "2022-05-24T11:11:26.815Z"
   },
   {
    "duration": 8,
    "start_time": "2022-05-24T11:11:26.830Z"
   },
   {
    "duration": 17,
    "start_time": "2022-05-24T11:11:26.839Z"
   },
   {
    "duration": 40,
    "start_time": "2022-05-24T11:11:26.858Z"
   },
   {
    "duration": 7,
    "start_time": "2022-05-24T11:11:26.900Z"
   },
   {
    "duration": 6,
    "start_time": "2022-05-24T11:11:26.909Z"
   },
   {
    "duration": 19,
    "start_time": "2022-05-24T11:11:26.917Z"
   },
   {
    "duration": 11,
    "start_time": "2022-05-24T11:11:26.938Z"
   },
   {
    "duration": 10,
    "start_time": "2022-05-24T11:11:26.952Z"
   },
   {
    "duration": 6,
    "start_time": "2022-05-24T11:11:26.964Z"
   },
   {
    "duration": 11,
    "start_time": "2022-05-24T11:11:26.995Z"
   },
   {
    "duration": 5,
    "start_time": "2022-05-24T11:11:27.008Z"
   },
   {
    "duration": 15,
    "start_time": "2022-05-24T11:11:27.016Z"
   },
   {
    "duration": 8,
    "start_time": "2022-05-24T11:11:27.033Z"
   },
   {
    "duration": 12,
    "start_time": "2022-05-24T11:11:27.043Z"
   },
   {
    "duration": 41,
    "start_time": "2022-05-24T11:11:27.057Z"
   },
   {
    "duration": 22,
    "start_time": "2022-05-24T11:11:27.100Z"
   },
   {
    "duration": 665,
    "start_time": "2022-05-24T11:11:27.124Z"
   },
   {
    "duration": 10,
    "start_time": "2022-05-24T11:11:27.790Z"
   },
   {
    "duration": 290,
    "start_time": "2022-05-24T11:11:27.802Z"
   },
   {
    "duration": 6,
    "start_time": "2022-05-24T11:11:28.093Z"
   },
   {
    "duration": 8,
    "start_time": "2022-05-24T11:11:28.101Z"
   },
   {
    "duration": 395,
    "start_time": "2022-05-24T11:11:28.111Z"
   },
   {
    "duration": 6,
    "start_time": "2022-05-24T11:11:28.507Z"
   },
   {
    "duration": 9,
    "start_time": "2022-05-24T11:11:28.515Z"
   },
   {
    "duration": 386,
    "start_time": "2022-05-24T11:11:28.528Z"
   },
   {
    "duration": 8,
    "start_time": "2022-05-24T11:11:28.916Z"
   },
   {
    "duration": 589,
    "start_time": "2022-05-24T11:11:28.926Z"
   },
   {
    "duration": 9,
    "start_time": "2022-05-24T11:11:29.518Z"
   },
   {
    "duration": 1022,
    "start_time": "2022-05-24T11:11:29.529Z"
   },
   {
    "duration": 42,
    "start_time": "2022-05-24T11:11:30.553Z"
   },
   {
    "duration": 21,
    "start_time": "2022-05-24T11:11:30.597Z"
   },
   {
    "duration": 22,
    "start_time": "2022-05-24T11:11:30.620Z"
   },
   {
    "duration": 22,
    "start_time": "2022-05-24T11:11:30.643Z"
   },
   {
    "duration": 32,
    "start_time": "2022-05-24T11:11:30.667Z"
   },
   {
    "duration": 1604,
    "start_time": "2022-05-24T11:11:30.701Z"
   },
   {
    "duration": 17,
    "start_time": "2022-05-24T11:11:32.307Z"
   },
   {
    "duration": 86,
    "start_time": "2022-05-24T11:11:32.326Z"
   },
   {
    "duration": 8,
    "start_time": "2022-05-24T11:11:32.414Z"
   },
   {
    "duration": 8,
    "start_time": "2022-05-24T11:11:32.425Z"
   },
   {
    "duration": 87,
    "start_time": "2022-05-24T11:11:32.435Z"
   },
   {
    "duration": 13,
    "start_time": "2022-05-24T11:11:32.524Z"
   },
   {
    "duration": 64,
    "start_time": "2022-05-24T11:11:32.539Z"
   },
   {
    "duration": 842,
    "start_time": "2022-05-24T11:11:32.606Z"
   },
   {
    "duration": 0,
    "start_time": "2022-05-24T11:11:33.450Z"
   },
   {
    "duration": 0,
    "start_time": "2022-05-24T11:11:33.452Z"
   },
   {
    "duration": 0,
    "start_time": "2022-05-24T11:11:33.453Z"
   },
   {
    "duration": 0,
    "start_time": "2022-05-24T11:11:33.454Z"
   },
   {
    "duration": 0,
    "start_time": "2022-05-24T11:11:33.455Z"
   },
   {
    "duration": 0,
    "start_time": "2022-05-24T11:11:33.456Z"
   },
   {
    "duration": 0,
    "start_time": "2022-05-24T11:11:33.457Z"
   },
   {
    "duration": 0,
    "start_time": "2022-05-24T11:11:33.458Z"
   },
   {
    "duration": 0,
    "start_time": "2022-05-24T11:11:33.458Z"
   },
   {
    "duration": 0,
    "start_time": "2022-05-24T11:11:33.459Z"
   },
   {
    "duration": 0,
    "start_time": "2022-05-24T11:11:33.460Z"
   },
   {
    "duration": 0,
    "start_time": "2022-05-24T11:11:33.461Z"
   },
   {
    "duration": 0,
    "start_time": "2022-05-24T11:11:33.462Z"
   },
   {
    "duration": 0,
    "start_time": "2022-05-24T11:11:33.463Z"
   },
   {
    "duration": 0,
    "start_time": "2022-05-24T11:11:33.465Z"
   },
   {
    "duration": 0,
    "start_time": "2022-05-24T11:11:33.495Z"
   },
   {
    "duration": 0,
    "start_time": "2022-05-24T11:11:33.496Z"
   },
   {
    "duration": 0,
    "start_time": "2022-05-24T11:11:33.497Z"
   },
   {
    "duration": 0,
    "start_time": "2022-05-24T11:11:33.498Z"
   },
   {
    "duration": 0,
    "start_time": "2022-05-24T11:11:33.498Z"
   },
   {
    "duration": 261,
    "start_time": "2022-05-24T11:18:08.861Z"
   },
   {
    "duration": 291,
    "start_time": "2022-05-24T11:19:21.509Z"
   },
   {
    "duration": 258,
    "start_time": "2022-05-24T11:19:28.308Z"
   },
   {
    "duration": 279,
    "start_time": "2022-05-24T11:26:54.097Z"
   },
   {
    "duration": 277,
    "start_time": "2022-05-24T11:27:02.104Z"
   },
   {
    "duration": 245,
    "start_time": "2022-05-24T11:27:10.215Z"
   },
   {
    "duration": 287,
    "start_time": "2022-05-24T11:27:39.678Z"
   },
   {
    "duration": 5,
    "start_time": "2022-05-24T11:27:51.217Z"
   },
   {
    "duration": 280,
    "start_time": "2022-05-24T11:27:54.329Z"
   },
   {
    "duration": 3,
    "start_time": "2022-05-24T11:28:04.891Z"
   },
   {
    "duration": 292,
    "start_time": "2022-05-24T11:28:08.138Z"
   },
   {
    "duration": 266,
    "start_time": "2022-05-24T11:28:51.677Z"
   },
   {
    "duration": 277,
    "start_time": "2022-05-24T11:29:33.363Z"
   },
   {
    "duration": 369,
    "start_time": "2022-05-24T11:29:52.052Z"
   },
   {
    "duration": 5,
    "start_time": "2022-05-24T11:30:36.977Z"
   },
   {
    "duration": 8,
    "start_time": "2022-05-24T11:30:36.984Z"
   },
   {
    "duration": 8,
    "start_time": "2022-05-24T11:30:36.994Z"
   },
   {
    "duration": 6,
    "start_time": "2022-05-24T11:30:37.004Z"
   },
   {
    "duration": 794,
    "start_time": "2022-05-24T11:30:37.013Z"
   },
   {
    "duration": 4,
    "start_time": "2022-05-24T11:30:37.809Z"
   },
   {
    "duration": 87,
    "start_time": "2022-05-24T11:30:37.815Z"
   },
   {
    "duration": 234,
    "start_time": "2022-05-24T11:30:37.904Z"
   },
   {
    "duration": 19,
    "start_time": "2022-05-24T11:30:38.140Z"
   },
   {
    "duration": 255,
    "start_time": "2022-05-24T11:30:38.161Z"
   },
   {
    "duration": 6,
    "start_time": "2022-05-24T11:30:38.418Z"
   },
   {
    "duration": 33,
    "start_time": "2022-05-24T11:30:38.426Z"
   },
   {
    "duration": 6,
    "start_time": "2022-05-24T11:30:38.461Z"
   },
   {
    "duration": 36,
    "start_time": "2022-05-24T11:30:38.469Z"
   },
   {
    "duration": 21,
    "start_time": "2022-05-24T11:30:38.507Z"
   },
   {
    "duration": 23,
    "start_time": "2022-05-24T11:30:38.530Z"
   },
   {
    "duration": 11,
    "start_time": "2022-05-24T11:30:38.555Z"
   },
   {
    "duration": 30,
    "start_time": "2022-05-24T11:30:38.568Z"
   },
   {
    "duration": 8,
    "start_time": "2022-05-24T11:30:38.600Z"
   },
   {
    "duration": 9,
    "start_time": "2022-05-24T11:30:38.611Z"
   },
   {
    "duration": 8,
    "start_time": "2022-05-24T11:30:38.622Z"
   },
   {
    "duration": 14,
    "start_time": "2022-05-24T11:30:38.631Z"
   },
   {
    "duration": 8,
    "start_time": "2022-05-24T11:30:38.646Z"
   },
   {
    "duration": 9,
    "start_time": "2022-05-24T11:30:38.656Z"
   },
   {
    "duration": 5,
    "start_time": "2022-05-24T11:30:38.667Z"
   },
   {
    "duration": 10,
    "start_time": "2022-05-24T11:30:38.695Z"
   },
   {
    "duration": 6,
    "start_time": "2022-05-24T11:30:38.706Z"
   },
   {
    "duration": 31,
    "start_time": "2022-05-24T11:30:38.713Z"
   },
   {
    "duration": 13,
    "start_time": "2022-05-24T11:30:38.746Z"
   },
   {
    "duration": 14,
    "start_time": "2022-05-24T11:30:38.761Z"
   },
   {
    "duration": 8,
    "start_time": "2022-05-24T11:30:38.777Z"
   },
   {
    "duration": 19,
    "start_time": "2022-05-24T11:30:38.794Z"
   },
   {
    "duration": 291,
    "start_time": "2022-05-24T11:30:38.815Z"
   },
   {
    "duration": 7,
    "start_time": "2022-05-24T11:30:39.108Z"
   },
   {
    "duration": 308,
    "start_time": "2022-05-24T11:30:39.117Z"
   },
   {
    "duration": 7,
    "start_time": "2022-05-24T11:30:39.426Z"
   },
   {
    "duration": 21,
    "start_time": "2022-05-24T11:30:39.434Z"
   },
   {
    "duration": 382,
    "start_time": "2022-05-24T11:30:39.457Z"
   },
   {
    "duration": 6,
    "start_time": "2022-05-24T11:30:39.841Z"
   },
   {
    "duration": 26,
    "start_time": "2022-05-24T11:30:39.848Z"
   },
   {
    "duration": 437,
    "start_time": "2022-05-24T11:30:39.876Z"
   },
   {
    "duration": 9,
    "start_time": "2022-05-24T11:30:40.315Z"
   },
   {
    "duration": 605,
    "start_time": "2022-05-24T11:30:40.326Z"
   },
   {
    "duration": 10,
    "start_time": "2022-05-24T11:30:40.934Z"
   },
   {
    "duration": 1064,
    "start_time": "2022-05-24T11:30:40.946Z"
   },
   {
    "duration": 29,
    "start_time": "2022-05-24T11:30:42.013Z"
   },
   {
    "duration": 23,
    "start_time": "2022-05-24T11:30:42.044Z"
   },
   {
    "duration": 42,
    "start_time": "2022-05-24T11:30:42.069Z"
   },
   {
    "duration": 21,
    "start_time": "2022-05-24T11:30:42.113Z"
   },
   {
    "duration": 10,
    "start_time": "2022-05-24T11:30:42.136Z"
   },
   {
    "duration": 936,
    "start_time": "2022-05-24T11:30:42.148Z"
   },
   {
    "duration": 19,
    "start_time": "2022-05-24T11:30:43.086Z"
   },
   {
    "duration": 24,
    "start_time": "2022-05-24T11:30:43.109Z"
   },
   {
    "duration": 6,
    "start_time": "2022-05-24T11:30:43.135Z"
   },
   {
    "duration": 7,
    "start_time": "2022-05-24T11:30:43.143Z"
   },
   {
    "duration": 51,
    "start_time": "2022-05-24T11:30:43.152Z"
   },
   {
    "duration": 11,
    "start_time": "2022-05-24T11:30:43.205Z"
   },
   {
    "duration": 3,
    "start_time": "2022-05-24T11:30:43.218Z"
   },
   {
    "duration": 503,
    "start_time": "2022-05-24T11:30:43.223Z"
   },
   {
    "duration": 0,
    "start_time": "2022-05-24T11:30:43.728Z"
   },
   {
    "duration": 0,
    "start_time": "2022-05-24T11:30:43.729Z"
   },
   {
    "duration": 0,
    "start_time": "2022-05-24T11:30:43.730Z"
   },
   {
    "duration": 0,
    "start_time": "2022-05-24T11:30:43.731Z"
   },
   {
    "duration": 0,
    "start_time": "2022-05-24T11:30:43.733Z"
   },
   {
    "duration": 0,
    "start_time": "2022-05-24T11:30:43.734Z"
   },
   {
    "duration": 0,
    "start_time": "2022-05-24T11:30:43.735Z"
   },
   {
    "duration": 0,
    "start_time": "2022-05-24T11:30:43.736Z"
   },
   {
    "duration": 0,
    "start_time": "2022-05-24T11:30:43.737Z"
   },
   {
    "duration": 0,
    "start_time": "2022-05-24T11:30:43.737Z"
   },
   {
    "duration": 0,
    "start_time": "2022-05-24T11:30:43.738Z"
   },
   {
    "duration": 0,
    "start_time": "2022-05-24T11:30:43.739Z"
   },
   {
    "duration": 0,
    "start_time": "2022-05-24T11:30:43.741Z"
   },
   {
    "duration": 0,
    "start_time": "2022-05-24T11:30:43.742Z"
   },
   {
    "duration": 0,
    "start_time": "2022-05-24T11:30:43.742Z"
   },
   {
    "duration": 0,
    "start_time": "2022-05-24T11:30:43.743Z"
   },
   {
    "duration": 0,
    "start_time": "2022-05-24T11:30:43.744Z"
   },
   {
    "duration": 0,
    "start_time": "2022-05-24T11:30:43.745Z"
   },
   {
    "duration": 0,
    "start_time": "2022-05-24T11:30:43.746Z"
   },
   {
    "duration": 0,
    "start_time": "2022-05-24T11:30:43.747Z"
   },
   {
    "duration": 288,
    "start_time": "2022-05-24T11:31:13.225Z"
   }
  ],
  "kernelspec": {
   "display_name": "Python 3",
   "language": "python",
   "name": "python3"
  },
  "language_info": {
   "codemirror_mode": {
    "name": "ipython",
    "version": 3
   },
   "file_extension": ".py",
   "mimetype": "text/x-python",
   "name": "python",
   "nbconvert_exporter": "python",
   "pygments_lexer": "ipython3",
   "version": "3.7.12"
  },
  "toc": {
   "base_numbering": 1,
   "nav_menu": {},
   "number_sections": true,
   "sideBar": true,
   "skip_h1_title": true,
   "title_cell": "Содержание",
   "title_sidebar": "Содержание",
   "toc_cell": true,
   "toc_position": {
    "height": "996.25px",
    "left": "68.9648px",
    "top": "111.074px",
    "width": "360px"
   },
   "toc_section_display": true,
   "toc_window_display": true
  }
 },
 "nbformat": 4,
 "nbformat_minor": 5
}
