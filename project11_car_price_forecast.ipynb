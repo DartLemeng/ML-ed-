{
 "cells": [
  {
   "cell_type": "markdown",
   "metadata": {},
   "source": [
    "# Определение стоимости автомобилей"
   ]
  },
  {
   "cell_type": "markdown",
   "metadata": {},
   "source": [
    "Сервис по продаже автомобилей с пробегом «Не бит, не крашен» разрабатывает приложение для привлечения новых клиентов. В нём можно быстро узнать рыночную стоимость своего автомобиля. В вашем распоряжении исторические данные: технические характеристики, комплектации и цены автомобилей. Вам нужно построить модель для определения стоимости. \n",
    "\n",
    "Заказчику важны:\n",
    "\n",
    "- качество предсказания;\n",
    "- скорость предсказания;\n",
    "- время обучения."
   ]
  },
  {
   "cell_type": "markdown",
   "metadata": {},
   "source": [
    "## Функции и библиотеки"
   ]
  },
  {
   "cell_type": "code",
   "execution_count": 78,
   "metadata": {},
   "outputs": [
    {
     "name": "stdout",
     "output_type": "stream",
     "text": [
      "Requirement already satisfied: lightgbm in d:\\anaconda\\envs\\praktikum_env\\lib\\site-packages (3.3.2)\n",
      "Requirement already satisfied: wheel in d:\\anaconda\\envs\\praktikum_env\\lib\\site-packages (from lightgbm) (0.37.1)\n",
      "Requirement already satisfied: numpy in d:\\anaconda\\envs\\praktikum_env\\lib\\site-packages (from lightgbm) (1.18.3)\n",
      "Requirement already satisfied: scikit-learn!=0.22.0 in d:\\anaconda\\envs\\praktikum_env\\lib\\site-packages (from lightgbm) (0.21.2)\n",
      "Requirement already satisfied: scipy in d:\\anaconda\\envs\\praktikum_env\\lib\\site-packages (from lightgbm) (1.4.1)\n",
      "Requirement already satisfied: joblib>=0.11 in d:\\anaconda\\envs\\praktikum_env\\lib\\site-packages (from scikit-learn!=0.22.0->lightgbm) (1.1.0)\n"
     ]
    }
   ],
   "source": [
    "!pip install lightgbm -U"
   ]
  },
  {
   "cell_type": "code",
   "execution_count": 167,
   "metadata": {},
   "outputs": [
    {
     "name": "stdout",
     "output_type": "stream",
     "text": [
      "Requirement already satisfied: catboost in d:\\anaconda\\envs\\praktikum_env\\lib\\site-packages (1.0.6)\n",
      "Requirement already satisfied: graphviz in d:\\anaconda\\envs\\praktikum_env\\lib\\site-packages (from catboost) (0.20)\n",
      "Requirement already satisfied: matplotlib in d:\\anaconda\\envs\\praktikum_env\\lib\\site-packages (from catboost) (3.1.0)\n",
      "Requirement already satisfied: scipy in d:\\anaconda\\envs\\praktikum_env\\lib\\site-packages (from catboost) (1.4.1)\n",
      "Requirement already satisfied: plotly in d:\\anaconda\\envs\\praktikum_env\\lib\\site-packages (from catboost) (4.1.0)\n",
      "Requirement already satisfied: numpy>=1.16.0 in d:\\anaconda\\envs\\praktikum_env\\lib\\site-packages (from catboost) (1.18.3)\n",
      "Requirement already satisfied: six in d:\\anaconda\\envs\\praktikum_env\\lib\\site-packages (from catboost) (1.16.0)\n",
      "Requirement already satisfied: pandas>=0.24.0 in d:\\anaconda\\envs\\praktikum_env\\lib\\site-packages (from catboost) (0.25.1)\n",
      "Requirement already satisfied: python-dateutil>=2.6.1 in d:\\anaconda\\envs\\praktikum_env\\lib\\site-packages (from pandas>=0.24.0->catboost) (2.8.2)\n",
      "Requirement already satisfied: pytz>=2017.2 in d:\\anaconda\\envs\\praktikum_env\\lib\\site-packages (from pandas>=0.24.0->catboost) (2021.3)\n",
      "Requirement already satisfied: pyparsing!=2.0.4,!=2.1.2,!=2.1.6,>=2.0.1 in d:\\anaconda\\envs\\praktikum_env\\lib\\site-packages (from matplotlib->catboost) (3.0.6)\n",
      "Requirement already satisfied: kiwisolver>=1.0.1 in d:\\anaconda\\envs\\praktikum_env\\lib\\site-packages (from matplotlib->catboost) (1.3.2)\n",
      "Requirement already satisfied: cycler>=0.10 in d:\\anaconda\\envs\\praktikum_env\\lib\\site-packages (from matplotlib->catboost) (0.11.0)\n",
      "Requirement already satisfied: retrying>=1.3.3 in d:\\anaconda\\envs\\praktikum_env\\lib\\site-packages (from plotly->catboost) (1.3.3)\n"
     ]
    }
   ],
   "source": [
    "!pip install catboost"
   ]
  },
  {
   "cell_type": "code",
   "execution_count": 169,
   "metadata": {},
   "outputs": [],
   "source": [
    "import pandas as pd\n",
    "\n",
    "import numpy as np\n",
    "\n",
    "from sklearn.preprocessing import OrdinalEncoder \n",
    "\n",
    "from sklearn.metrics import mean_squared_error\n",
    "\n",
    "from sklearn.preprocessing import StandardScaler \n",
    "\n",
    "import time\n",
    "\n",
    "from sklearn.ensemble import RandomForestRegressor\n",
    "\n",
    "import lightgbm as lgb\n",
    "\n",
    "from catboost import CatBoostRegressor\n",
    "\n",
    "from sklearn.model_selection import RandomizedSearchCV\n",
    "\n",
    "from sklearn.model_selection import train_test_split\n",
    "\n",
    "from sklearn.linear_model import LinearRegression\n",
    "\n",
    "from sklearn.model_selection import cross_val_score\n",
    "\n",
    "from sklearn.metrics import make_scorer \n",
    "\n",
    "from sklearn.dummy import DummyRegressor\n",
    "\n",
    "import warnings\n",
    "warnings.filterwarnings('ignore')"
   ]
  },
  {
   "cell_type": "markdown",
   "metadata": {},
   "source": [
    "## Обзор данных"
   ]
  },
  {
   "cell_type": "markdown",
   "metadata": {},
   "source": [
    "**Признаки**\n",
    "\n",
    "- DateCrawled — дата скачивания анкеты из базы\n",
    "- VehicleType — тип автомобильного кузова\n",
    "- RegistrationYear — год регистрации автомобиля\n",
    "- Gearbox — тип коробки передач\n",
    "- Power — мощность (л. с.)\n",
    "- Model — модель автомобиля\n",
    "- Kilometer — пробег (км)\n",
    "- RegistrationMonth — месяц регистрации автомобиля\n",
    "- FuelType — тип топлива\n",
    "- Brand — марка автомобиля\n",
    "- NotRepaired — была машина в ремонте или нет\n",
    "- DateCreated — дата создания анкеты\n",
    "- NumberOfPictures — количество фотографий автомобиля\n",
    "- PostalCode — почтовый индекс владельца анкеты (пользователя)\n",
    "- LastSeen — дата последней активности пользователя\n",
    "\n",
    "**Целевой признак**\n",
    "\n",
    "- Price — цена (евро)"
   ]
  },
  {
   "cell_type": "code",
   "execution_count": 80,
   "metadata": {},
   "outputs": [],
   "source": [
    "try:\n",
    "    df = pd.read_csv ('D:/Data for projects/autos.csv')\n",
    "\n",
    "except: \n",
    "    df = pd.read_csv ('/datasets/autos.csv')"
   ]
  },
  {
   "cell_type": "code",
   "execution_count": 81,
   "metadata": {},
   "outputs": [
    {
     "name": "stdout",
     "output_type": "stream",
     "text": [
      "<class 'pandas.core.frame.DataFrame'>\n",
      "RangeIndex: 354369 entries, 0 to 354368\n",
      "Data columns (total 16 columns):\n",
      "DateCrawled          354369 non-null object\n",
      "Price                354369 non-null int64\n",
      "VehicleType          316879 non-null object\n",
      "RegistrationYear     354369 non-null int64\n",
      "Gearbox              334536 non-null object\n",
      "Power                354369 non-null int64\n",
      "Model                334664 non-null object\n",
      "Kilometer            354369 non-null int64\n",
      "RegistrationMonth    354369 non-null int64\n",
      "FuelType             321474 non-null object\n",
      "Brand                354369 non-null object\n",
      "NotRepaired          283215 non-null object\n",
      "DateCreated          354369 non-null object\n",
      "NumberOfPictures     354369 non-null int64\n",
      "PostalCode           354369 non-null int64\n",
      "LastSeen             354369 non-null object\n",
      "dtypes: int64(7), object(9)\n",
      "memory usage: 43.3+ MB\n"
     ]
    }
   ],
   "source": [
    "df.info()"
   ]
  },
  {
   "cell_type": "code",
   "execution_count": 82,
   "metadata": {},
   "outputs": [
    {
     "data": {
      "text/plain": [
       "DateCrawled          271174\n",
       "Price                  3731\n",
       "VehicleType               8\n",
       "RegistrationYear        151\n",
       "Gearbox                   2\n",
       "Power                   712\n",
       "Model                   250\n",
       "Kilometer                13\n",
       "RegistrationMonth        13\n",
       "FuelType                  7\n",
       "Brand                    40\n",
       "NotRepaired               2\n",
       "DateCreated             109\n",
       "NumberOfPictures          1\n",
       "PostalCode             8143\n",
       "LastSeen             179150\n",
       "dtype: int64"
      ]
     },
     "execution_count": 82,
     "metadata": {},
     "output_type": "execute_result"
    }
   ],
   "source": [
    "df.nunique()"
   ]
  },
  {
   "cell_type": "markdown",
   "metadata": {},
   "source": [
    "проведем обзор уникальных значений в столбце RegistrationYear (год регистрации автомобиля)"
   ]
  },
  {
   "cell_type": "code",
   "execution_count": 83,
   "metadata": {
    "scrolled": true
   },
   "outputs": [
    {
     "data": {
      "text/plain": [
       "1000    37\n",
       "1001     1\n",
       "1039     1\n",
       "1111     3\n",
       "1200     1\n",
       "        ..\n",
       "9000     3\n",
       "9229     1\n",
       "9450     1\n",
       "9996     1\n",
       "9999    26\n",
       "Name: RegistrationYear, Length: 151, dtype: int64"
      ]
     },
     "execution_count": 83,
     "metadata": {},
     "output_type": "execute_result"
    }
   ],
   "source": [
    "df['RegistrationYear'].value_counts().sort_index()"
   ]
  },
  {
   "cell_type": "markdown",
   "metadata": {},
   "source": [
    "проведем обзор уникальных значений месяцев регистрации автомобиля"
   ]
  },
  {
   "cell_type": "code",
   "execution_count": 84,
   "metadata": {
    "scrolled": true
   },
   "outputs": [
    {
     "data": {
      "text/plain": [
       "0     37352\n",
       "1     23219\n",
       "2     21267\n",
       "3     34373\n",
       "4     29270\n",
       "5     29153\n",
       "6     31508\n",
       "7     27213\n",
       "8     22627\n",
       "9     23813\n",
       "10    26099\n",
       "11    24186\n",
       "12    24289\n",
       "Name: RegistrationMonth, dtype: int64"
      ]
     },
     "execution_count": 84,
     "metadata": {},
     "output_type": "execute_result"
    }
   ],
   "source": [
    "df['RegistrationMonth'].value_counts().sort_index()"
   ]
  },
  {
   "cell_type": "markdown",
   "metadata": {},
   "source": [
    "проведем обзор уникальных значений мощностей автомобилей"
   ]
  },
  {
   "cell_type": "code",
   "execution_count": 85,
   "metadata": {
    "scrolled": true
   },
   "outputs": [
    {
     "data": {
      "text/plain": [
       "0        40225\n",
       "1           34\n",
       "2           10\n",
       "3            9\n",
       "4           30\n",
       "         ...  \n",
       "17932        1\n",
       "19208        1\n",
       "19211        1\n",
       "19312        1\n",
       "20000        1\n",
       "Name: Power, Length: 712, dtype: int64"
      ]
     },
     "execution_count": 85,
     "metadata": {},
     "output_type": "execute_result"
    }
   ],
   "source": [
    "df['Power'].value_counts().sort_index()"
   ]
  },
  {
   "cell_type": "markdown",
   "metadata": {},
   "source": [
    "проведем обзор дат создания анкет"
   ]
  },
  {
   "cell_type": "code",
   "execution_count": 86,
   "metadata": {
    "scrolled": true
   },
   "outputs": [
    {
     "data": {
      "text/plain": [
       "2014-03-10 00:00:00        1\n",
       "2015-03-20 00:00:00        1\n",
       "2015-06-18 00:00:00        1\n",
       "2015-08-07 00:00:00        1\n",
       "2015-08-10 00:00:00        1\n",
       "                       ...  \n",
       "2016-04-03 00:00:00    13719\n",
       "2016-04-04 00:00:00    13317\n",
       "2016-04-05 00:00:00     4104\n",
       "2016-04-06 00:00:00     1105\n",
       "2016-04-07 00:00:00      549\n",
       "Name: DateCreated, Length: 109, dtype: int64"
      ]
     },
     "execution_count": 86,
     "metadata": {},
     "output_type": "execute_result"
    }
   ],
   "source": [
    "df['DateCreated'].value_counts().sort_index()"
   ]
  },
  {
   "cell_type": "code",
   "execution_count": 87,
   "metadata": {
    "scrolled": false
   },
   "outputs": [
    {
     "data": {
      "text/plain": [
       "DateCrawled              0\n",
       "Price                    0\n",
       "VehicleType          37490\n",
       "RegistrationYear         0\n",
       "Gearbox              19833\n",
       "Power                    0\n",
       "Model                19705\n",
       "Kilometer                0\n",
       "RegistrationMonth        0\n",
       "FuelType             32895\n",
       "Brand                    0\n",
       "NotRepaired          71154\n",
       "DateCreated              0\n",
       "NumberOfPictures         0\n",
       "PostalCode               0\n",
       "LastSeen                 0\n",
       "dtype: int64"
      ]
     },
     "execution_count": 87,
     "metadata": {},
     "output_type": "execute_result"
    }
   ],
   "source": [
    "df.isna().sum()"
   ]
  },
  {
   "cell_type": "code",
   "execution_count": 88,
   "metadata": {},
   "outputs": [
    {
     "data": {
      "text/html": [
       "<div>\n",
       "<style scoped>\n",
       "    .dataframe tbody tr th:only-of-type {\n",
       "        vertical-align: middle;\n",
       "    }\n",
       "\n",
       "    .dataframe tbody tr th {\n",
       "        vertical-align: top;\n",
       "    }\n",
       "\n",
       "    .dataframe thead th {\n",
       "        text-align: right;\n",
       "    }\n",
       "</style>\n",
       "<table border=\"1\" class=\"dataframe\">\n",
       "  <thead>\n",
       "    <tr style=\"text-align: right;\">\n",
       "      <th></th>\n",
       "      <th>DateCrawled</th>\n",
       "      <th>Price</th>\n",
       "      <th>VehicleType</th>\n",
       "      <th>RegistrationYear</th>\n",
       "      <th>Gearbox</th>\n",
       "      <th>Power</th>\n",
       "      <th>Model</th>\n",
       "      <th>Kilometer</th>\n",
       "      <th>RegistrationMonth</th>\n",
       "      <th>FuelType</th>\n",
       "      <th>Brand</th>\n",
       "      <th>NotRepaired</th>\n",
       "      <th>DateCreated</th>\n",
       "      <th>NumberOfPictures</th>\n",
       "      <th>PostalCode</th>\n",
       "      <th>LastSeen</th>\n",
       "    </tr>\n",
       "  </thead>\n",
       "  <tbody>\n",
       "    <tr>\n",
       "      <td>0</td>\n",
       "      <td>2016-03-24 11:52:17</td>\n",
       "      <td>480</td>\n",
       "      <td>NaN</td>\n",
       "      <td>1993</td>\n",
       "      <td>manual</td>\n",
       "      <td>0</td>\n",
       "      <td>golf</td>\n",
       "      <td>150000</td>\n",
       "      <td>0</td>\n",
       "      <td>petrol</td>\n",
       "      <td>volkswagen</td>\n",
       "      <td>NaN</td>\n",
       "      <td>2016-03-24 00:00:00</td>\n",
       "      <td>0</td>\n",
       "      <td>70435</td>\n",
       "      <td>2016-04-07 03:16:57</td>\n",
       "    </tr>\n",
       "    <tr>\n",
       "      <td>1</td>\n",
       "      <td>2016-03-24 10:58:45</td>\n",
       "      <td>18300</td>\n",
       "      <td>coupe</td>\n",
       "      <td>2011</td>\n",
       "      <td>manual</td>\n",
       "      <td>190</td>\n",
       "      <td>NaN</td>\n",
       "      <td>125000</td>\n",
       "      <td>5</td>\n",
       "      <td>gasoline</td>\n",
       "      <td>audi</td>\n",
       "      <td>yes</td>\n",
       "      <td>2016-03-24 00:00:00</td>\n",
       "      <td>0</td>\n",
       "      <td>66954</td>\n",
       "      <td>2016-04-07 01:46:50</td>\n",
       "    </tr>\n",
       "    <tr>\n",
       "      <td>2</td>\n",
       "      <td>2016-03-14 12:52:21</td>\n",
       "      <td>9800</td>\n",
       "      <td>suv</td>\n",
       "      <td>2004</td>\n",
       "      <td>auto</td>\n",
       "      <td>163</td>\n",
       "      <td>grand</td>\n",
       "      <td>125000</td>\n",
       "      <td>8</td>\n",
       "      <td>gasoline</td>\n",
       "      <td>jeep</td>\n",
       "      <td>NaN</td>\n",
       "      <td>2016-03-14 00:00:00</td>\n",
       "      <td>0</td>\n",
       "      <td>90480</td>\n",
       "      <td>2016-04-05 12:47:46</td>\n",
       "    </tr>\n",
       "    <tr>\n",
       "      <td>3</td>\n",
       "      <td>2016-03-17 16:54:04</td>\n",
       "      <td>1500</td>\n",
       "      <td>small</td>\n",
       "      <td>2001</td>\n",
       "      <td>manual</td>\n",
       "      <td>75</td>\n",
       "      <td>golf</td>\n",
       "      <td>150000</td>\n",
       "      <td>6</td>\n",
       "      <td>petrol</td>\n",
       "      <td>volkswagen</td>\n",
       "      <td>no</td>\n",
       "      <td>2016-03-17 00:00:00</td>\n",
       "      <td>0</td>\n",
       "      <td>91074</td>\n",
       "      <td>2016-03-17 17:40:17</td>\n",
       "    </tr>\n",
       "    <tr>\n",
       "      <td>4</td>\n",
       "      <td>2016-03-31 17:25:20</td>\n",
       "      <td>3600</td>\n",
       "      <td>small</td>\n",
       "      <td>2008</td>\n",
       "      <td>manual</td>\n",
       "      <td>69</td>\n",
       "      <td>fabia</td>\n",
       "      <td>90000</td>\n",
       "      <td>7</td>\n",
       "      <td>gasoline</td>\n",
       "      <td>skoda</td>\n",
       "      <td>no</td>\n",
       "      <td>2016-03-31 00:00:00</td>\n",
       "      <td>0</td>\n",
       "      <td>60437</td>\n",
       "      <td>2016-04-06 10:17:21</td>\n",
       "    </tr>\n",
       "  </tbody>\n",
       "</table>\n",
       "</div>"
      ],
      "text/plain": [
       "           DateCrawled  Price VehicleType  RegistrationYear Gearbox  Power  \\\n",
       "0  2016-03-24 11:52:17    480         NaN              1993  manual      0   \n",
       "1  2016-03-24 10:58:45  18300       coupe              2011  manual    190   \n",
       "2  2016-03-14 12:52:21   9800         suv              2004    auto    163   \n",
       "3  2016-03-17 16:54:04   1500       small              2001  manual     75   \n",
       "4  2016-03-31 17:25:20   3600       small              2008  manual     69   \n",
       "\n",
       "   Model  Kilometer  RegistrationMonth  FuelType       Brand NotRepaired  \\\n",
       "0   golf     150000                  0    petrol  volkswagen         NaN   \n",
       "1    NaN     125000                  5  gasoline        audi         yes   \n",
       "2  grand     125000                  8  gasoline        jeep         NaN   \n",
       "3   golf     150000                  6    petrol  volkswagen          no   \n",
       "4  fabia      90000                  7  gasoline       skoda          no   \n",
       "\n",
       "           DateCreated  NumberOfPictures  PostalCode             LastSeen  \n",
       "0  2016-03-24 00:00:00                 0       70435  2016-04-07 03:16:57  \n",
       "1  2016-03-24 00:00:00                 0       66954  2016-04-07 01:46:50  \n",
       "2  2016-03-14 00:00:00                 0       90480  2016-04-05 12:47:46  \n",
       "3  2016-03-17 00:00:00                 0       91074  2016-03-17 17:40:17  \n",
       "4  2016-03-31 00:00:00                 0       60437  2016-04-06 10:17:21  "
      ]
     },
     "execution_count": 88,
     "metadata": {},
     "output_type": "execute_result"
    }
   ],
   "source": [
    "df.head()"
   ]
  },
  {
   "cell_type": "markdown",
   "metadata": {},
   "source": [
    "<div style=\"border:solid blue 2px; padding: 20px\">\n",
    "\n",
    "**По результатам обзора данных выявлено**:\n",
    "    \n",
    "    - не соответствие наименований признаков общепринятым\n",
    "    - наличие пропусков в данных (столбцы VehicleType, Gearbox, Model, FuelType, NotRepaired)\n",
    "    - в столбцах DateCrawled, LastSeen тип данных object а не datetime\n",
    "    - в столбцах RegistrationYear, RegistrationMonth, Power имеются не реалистичные значения параметров\n",
    "    - наличие параметров, характеризующих объявление/его привлекательность для покупателя, а не характеристики объекта продажи (DateCrawled, DateCreated, NumberOfPictures, LastSeen)\n",
    "    "
   ]
  },
  {
   "cell_type": "markdown",
   "metadata": {},
   "source": [
    "## Предобработка данных"
   ]
  },
  {
   "cell_type": "markdown",
   "metadata": {},
   "source": [
    "### обработка наименования параметров"
   ]
  },
  {
   "cell_type": "code",
   "execution_count": 89,
   "metadata": {},
   "outputs": [
    {
     "data": {
      "text/plain": [
       "Index(['date_crawled', 'price', 'vehicle_type', 'registration_year', 'gearbox',\n",
       "       'power', 'model', 'kilometer', 'registration_month', 'fuel_type',\n",
       "       'brand', 'not_repaired', 'date_created', 'number_of_pictures',\n",
       "       'postal_code', 'last_seen'],\n",
       "      dtype='object')"
      ]
     },
     "execution_count": 89,
     "metadata": {},
     "output_type": "execute_result"
    }
   ],
   "source": [
    "df = df.rename(columns={'DateCrawled': 'date_crawled', \n",
    "                        'Price': 'price', \n",
    "                        'VehicleType':'vehicle_type',\n",
    "                        'RegistrationYear': 'registration_year',\n",
    "                        'Gearbox':'gearbox',\n",
    "                        'Power':'power',\n",
    "                        'Model':'model',\n",
    "                        'Kilometer':'kilometer',\n",
    "                        'RegistrationMonth':'registration_month',\n",
    "                        'FuelType':'fuel_type',\n",
    "                        'Brand':'brand',\n",
    "                        'NotRepaired':'not_repaired',\n",
    "                        'DateCreated':'date_created',\n",
    "                        'NumberOfPictures':'number_of_pictures',\n",
    "                        'PostalCode':'postal_code',\n",
    "                        'LastSeen':'last_seen'\n",
    "                       })\n",
    "df.columns"
   ]
  },
  {
   "cell_type": "markdown",
   "metadata": {},
   "source": [
    "### очистка данных "
   ]
  },
  {
   "cell_type": "markdown",
   "metadata": {},
   "source": [
    "В ходе обзора данных выявлено наличие признаков относящихся не к характеристикам автомобиля, определяющим его стоимость, а к качеству подготовки объявлений, столбцы DateCrawled, DateCreated, NumberOfPictures, LastSeen\n",
    "\n",
    "**признаки в столбце postal_code могли бы использоваться для обучения если с помощью них обогатить исходные данные информацией о регионах продажи, однако в условях кейса они так же не отражают стоимостные характеристики автомобилей**\n",
    "\n",
    "устраним избыточные не значащие данные"
   ]
  },
  {
   "cell_type": "code",
   "execution_count": 90,
   "metadata": {},
   "outputs": [],
   "source": [
    "df = df.drop(['date_crawled','date_created', 'number_of_pictures', 'last_seen', 'postal_code'],axis=1) "
   ]
  },
  {
   "cell_type": "markdown",
   "metadata": {},
   "source": [
    "### обработка не качественных данных"
   ]
  },
  {
   "cell_type": "markdown",
   "metadata": {},
   "source": [
    "#### registration_year"
   ]
  },
  {
   "cell_type": "markdown",
   "metadata": {},
   "source": [
    "количество авто для которых registration_year лежит в диапазоне (1900,2017) "
   ]
  },
  {
   "cell_type": "code",
   "execution_count": 91,
   "metadata": {},
   "outputs": [
    {
     "data": {
      "text/plain": [
       "339773"
      ]
     },
     "execution_count": 91,
     "metadata": {},
     "output_type": "execute_result"
    }
   ],
   "source": [
    "_ = df.query('(registration_year > 1900) & (registration_year < 2017)')['registration_year'].value_counts().sum()\n",
    "_"
   ]
  },
  {
   "cell_type": "markdown",
   "metadata": {},
   "source": [
    "% не качественных данных"
   ]
  },
  {
   "cell_type": "code",
   "execution_count": 92,
   "metadata": {},
   "outputs": [
    {
     "data": {
      "text/plain": [
       "4.12"
      ]
     },
     "execution_count": 92,
     "metadata": {},
     "output_type": "execute_result"
    }
   ],
   "source": [
    "round((len(df['registration_year']) - _)*100/len(df['registration_year']),2)"
   ]
  },
  {
   "cell_type": "markdown",
   "metadata": {},
   "source": [
    "% данных не существенен, исключим не качественные данные"
   ]
  },
  {
   "cell_type": "code",
   "execution_count": 93,
   "metadata": {},
   "outputs": [],
   "source": [
    "index= df.query('(registration_year > 1900) & (registration_year < 2017)').index\n",
    "\n",
    "df = df.loc[index]"
   ]
  },
  {
   "cell_type": "markdown",
   "metadata": {},
   "source": [
    "#### registration_month"
   ]
  },
  {
   "cell_type": "markdown",
   "metadata": {},
   "source": [
    "количество авто для которых registration_month не равно 0"
   ]
  },
  {
   "cell_type": "code",
   "execution_count": 94,
   "metadata": {},
   "outputs": [
    {
     "data": {
      "text/plain": [
       "306157"
      ]
     },
     "execution_count": 94,
     "metadata": {},
     "output_type": "execute_result"
    }
   ],
   "source": [
    "_ = df.query('registration_month != 0')['registration_month'].value_counts().sum()\n",
    "_"
   ]
  },
  {
   "cell_type": "markdown",
   "metadata": {},
   "source": [
    "% не качественных данных"
   ]
  },
  {
   "cell_type": "code",
   "execution_count": 95,
   "metadata": {},
   "outputs": [
    {
     "data": {
      "text/plain": [
       "9.89"
      ]
     },
     "execution_count": 95,
     "metadata": {},
     "output_type": "execute_result"
    }
   ],
   "source": [
    "round((len(df['registration_month']) - _)*100/len(df['registration_month']),2)"
   ]
  },
  {
   "cell_type": "markdown",
   "metadata": {},
   "source": [
    "% данных более существенен, однако оставшихся данных достаточно для обучения моделей, по этому исключим не качественные данные"
   ]
  },
  {
   "cell_type": "code",
   "execution_count": 96,
   "metadata": {},
   "outputs": [],
   "source": [
    "index= df.query('registration_month != 0').index\n",
    "\n",
    "df = df.loc[index]"
   ]
  },
  {
   "cell_type": "markdown",
   "metadata": {},
   "source": [
    "#### power"
   ]
  },
  {
   "cell_type": "code",
   "execution_count": 97,
   "metadata": {},
   "outputs": [
    {
     "data": {
      "text/plain": [
       "0        22658\n",
       "1           25\n",
       "2            8\n",
       "3            8\n",
       "4           28\n",
       "         ...  \n",
       "17700        1\n",
       "17932        1\n",
       "19208        1\n",
       "19312        1\n",
       "20000        1\n",
       "Name: power, Length: 665, dtype: int64"
      ]
     },
     "execution_count": 97,
     "metadata": {},
     "output_type": "execute_result"
    }
   ],
   "source": [
    "df['power'].value_counts().sort_index()"
   ]
  },
  {
   "cell_type": "markdown",
   "metadata": {},
   "source": [
    "Согласно книге рекордов Гиннеса минимальная зафиксированная мощность авто = 4 л.с., максимальная мощность при этом может составлять 1600 л.с."
   ]
  },
  {
   "cell_type": "markdown",
   "metadata": {},
   "source": [
    "количество авто для которых power лежит в диапазоне (4,1600)"
   ]
  },
  {
   "cell_type": "code",
   "execution_count": 98,
   "metadata": {},
   "outputs": [
    {
     "data": {
      "text/plain": [
       "283287"
      ]
     },
     "execution_count": 98,
     "metadata": {},
     "output_type": "execute_result"
    }
   ],
   "source": [
    "_ = df.query('(power > 4) & (power < 1601)')['power'].value_counts().sum()\n",
    "_"
   ]
  },
  {
   "cell_type": "markdown",
   "metadata": {},
   "source": [
    "% не качественных данных"
   ]
  },
  {
   "cell_type": "code",
   "execution_count": 99,
   "metadata": {},
   "outputs": [
    {
     "data": {
      "text/plain": [
       "7.47"
      ]
     },
     "execution_count": 99,
     "metadata": {},
     "output_type": "execute_result"
    }
   ],
   "source": [
    "round((len(df['power']) - _)*100/len(df['power']),2)"
   ]
  },
  {
   "cell_type": "markdown",
   "metadata": {},
   "source": [
    "% данных существенен, однако оставшихся данных достаточно для обучения моделей, по этому исключим не качественные данные"
   ]
  },
  {
   "cell_type": "code",
   "execution_count": 100,
   "metadata": {},
   "outputs": [],
   "source": [
    "index= df.query('(power > 4) & (power < 1601)').index\n",
    "\n",
    "df = df.loc[index]"
   ]
  },
  {
   "cell_type": "markdown",
   "metadata": {},
   "source": [
    "### обработка пропусков"
   ]
  },
  {
   "cell_type": "markdown",
   "metadata": {},
   "source": [
    "#### model"
   ]
  },
  {
   "cell_type": "markdown",
   "metadata": {},
   "source": [
    "оценим количество данных с пропусками в признаке model (**обученая без этих признаков модель будет предсказывать стоимость типа транспортного средства и марки, а не стоимость конкретного авто**)"
   ]
  },
  {
   "cell_type": "code",
   "execution_count": 101,
   "metadata": {},
   "outputs": [
    {
     "data": {
      "text/plain": [
       "9504"
      ]
     },
     "execution_count": 101,
     "metadata": {},
     "output_type": "execute_result"
    }
   ],
   "source": [
    "df['model'].isna().sum()"
   ]
  },
  {
   "cell_type": "markdown",
   "metadata": {},
   "source": [
    "% пропусков"
   ]
  },
  {
   "cell_type": "code",
   "execution_count": 102,
   "metadata": {},
   "outputs": [
    {
     "data": {
      "text/plain": [
       "3.35"
      ]
     },
     "execution_count": 102,
     "metadata": {},
     "output_type": "execute_result"
    }
   ],
   "source": [
    "round(df['model'].isna().sum()*100/len(df['model']),2)"
   ]
  },
  {
   "cell_type": "markdown",
   "metadata": {},
   "source": [
    "% пропусков не существенен, исключим их"
   ]
  },
  {
   "cell_type": "code",
   "execution_count": 103,
   "metadata": {},
   "outputs": [],
   "source": [
    "df = df.dropna(axis=0,subset=['model'])"
   ]
  },
  {
   "cell_type": "markdown",
   "metadata": {},
   "source": [
    "#### vehicle_type,  gearbox, fuel_type, not_repaired"
   ]
  },
  {
   "cell_type": "markdown",
   "metadata": {},
   "source": [
    "признаки vehicle_type, gearbox, fuel_type, not_repaired являются категориальными их возможно как исключить так и заполнить признаками \"not defined\", поскольку после исключения данных достаточно для обучения исключим пропуски"
   ]
  },
  {
   "cell_type": "code",
   "execution_count": 104,
   "metadata": {},
   "outputs": [],
   "source": [
    "df = df.dropna(axis=0,subset=['vehicle_type', 'gearbox', 'fuel_type', 'not_repaired'])"
   ]
  },
  {
   "cell_type": "code",
   "execution_count": 105,
   "metadata": {},
   "outputs": [],
   "source": [
    "df = df.reset_index(drop=True)"
   ]
  },
  {
   "cell_type": "markdown",
   "metadata": {},
   "source": [
    "### кодирование признаков"
   ]
  },
  {
   "cell_type": "code",
   "execution_count": 106,
   "metadata": {},
   "outputs": [],
   "source": [
    "encoder = OrdinalEncoder() \n",
    "\n",
    "columns_categorial = ['vehicle_type', 'gearbox', 'model', 'fuel_type', 'brand', 'not_repaired']\n",
    "df_cod = df.copy()\n",
    "\n",
    "encoder.fit(df[columns_categorial]) \n",
    "df_cod[columns_categorial] = pd.DataFrame(encoder.transform(df_cod[columns_categorial]), columns=columns_categorial) "
   ]
  },
  {
   "cell_type": "markdown",
   "metadata": {},
   "source": [
    "## Подбор моделей"
   ]
  },
  {
   "cell_type": "markdown",
   "metadata": {},
   "source": [
    "Рассмотрим данные для определения наиболее подходящих моделей\n",
    "\n",
    "Признаки можно разделить на несколько групп\n",
    "\n",
    "- отражающие характеристики автомобиля\n",
    "    - VehicleType — тип автомобильного кузова\n",
    "    - Brand — марка автомобиля\n",
    "    - Model — модель автомобиля\n",
    "    - Power — мощность (л. с.)\n",
    "    - FuelType — тип топлива\n",
    "    - Gearbox — тип коробки передач\n",
    "- отражающие состояние автомобиля\n",
    "    - RegistrationYear — год регистрации автомобиля\n",
    "    - RegistrationMonth — месяц регистрации автомобиля\n",
    "    - Kilometer — пробег (км)\n",
    "    - NotRepaired — была машина в ремонте или нет\n",
    "- отражающие характеристики объявления/владельца и т.д.\n",
    "    - DateCrawled — дата скачивания анкеты из базы\n",
    "    - DateCreated — дата создания анкеты\n",
    "    - NumberOfPictures — количество фотографий автомобиля\n",
    "    - PostalCode — почтовый индекс владельца анкеты (пользователя)\n",
    "    - LastSeen — дата последней активности пользователя\n",
    "\n",
    "Последняя группа признаков исключена на этапе предобработки данных\n",
    "\n",
    "Учитывая постановку задачи (модель предполагается использовать для оценки автомобилей) разница в данных признаках заключается в том, что первая группа признаков формирует дипазон стоимости, а вторая определяет конкретное значение стоимости из данного диапазона.\n",
    "\n",
    "при этом \"ухудшение\" параметров соответствует снижению стоимости в рамках дипазона (**можно предположить что снижение монотонно**)\n",
    "\n"
   ]
  },
  {
   "cell_type": "markdown",
   "metadata": {},
   "source": [
    "выберем для обучения следующие модели:\n",
    "\n",
    "- GradientBoostingRegressor (по условиям кейса)\n",
    "- LightGBM (по условиям кейса)\n",
    "- RandomForestRegressor \n",
    "- LinearRegression (высокая скорость)"
   ]
  },
  {
   "cell_type": "markdown",
   "metadata": {},
   "source": [
    "## Обучение моделей"
   ]
  },
  {
   "cell_type": "markdown",
   "metadata": {},
   "source": [
    "### подготовка признаков"
   ]
  },
  {
   "cell_type": "code",
   "execution_count": 107,
   "metadata": {},
   "outputs": [],
   "source": [
    "features = df.drop('price',axis=1) # признаки \n",
    "target = df['price'] # целевой признак"
   ]
  },
  {
   "cell_type": "code",
   "execution_count": 108,
   "metadata": {},
   "outputs": [],
   "source": [
    "features_cod = df_cod.drop('price',axis=1) # признаки \n",
    "target_cod = df_cod['price'] # целевой признак"
   ]
  },
  {
   "cell_type": "code",
   "execution_count": 109,
   "metadata": {},
   "outputs": [],
   "source": [
    "features, features_test, target, target_test = train_test_split(\n",
    "    features, target, test_size=0.25, random_state=404) #выделение тестовой выборки"
   ]
  },
  {
   "cell_type": "code",
   "execution_count": 110,
   "metadata": {},
   "outputs": [],
   "source": [
    "features_cod, features_cod_test, target_cod, target_cod_test = train_test_split(\n",
    "    features_cod, target_cod, test_size=0.25, random_state=404) #выделение тестовой выборки"
   ]
  },
  {
   "cell_type": "code",
   "execution_count": 111,
   "metadata": {},
   "outputs": [
    {
     "name": "stdout",
     "output_type": "stream",
     "text": [
      "(172503, 10) (57501, 10) (172503,) (57501,)\n"
     ]
    }
   ],
   "source": [
    "print (features.shape,\n",
    "features_test.shape,\n",
    "target.shape,\n",
    "target_test.shape)"
   ]
  },
  {
   "cell_type": "code",
   "execution_count": 112,
   "metadata": {},
   "outputs": [
    {
     "name": "stdout",
     "output_type": "stream",
     "text": [
      "(172503, 10) (57501, 10) (172503,) (57501,)\n"
     ]
    }
   ],
   "source": [
    "print (features_cod.shape,\n",
    "features_cod_test.shape,\n",
    "target_cod.shape,\n",
    "target_cod_test.shape)"
   ]
  },
  {
   "cell_type": "code",
   "execution_count": 113,
   "metadata": {},
   "outputs": [],
   "source": [
    "features[columns_categorial] = features[columns_categorial].astype(\"category\")\n",
    "features_test[columns_categorial] = features_test[columns_categorial].astype(\"category\")"
   ]
  },
  {
   "cell_type": "markdown",
   "metadata": {},
   "source": [
    "### обучение моделей"
   ]
  },
  {
   "cell_type": "markdown",
   "metadata": {},
   "source": [
    "#### Catboost"
   ]
  },
  {
   "cell_type": "code",
   "execution_count": 185,
   "metadata": {},
   "outputs": [
    {
     "name": "stdout",
     "output_type": "stream",
     "text": [
      "Learning rate set to 0.5\n",
      "0:\tlearn: 3106.4619703\ttotal: 623ms\tremaining: 36.7s\n",
      "10:\tlearn: 1625.7566604\ttotal: 6.09s\tremaining: 27.1s\n",
      "20:\tlearn: 1516.7942166\ttotal: 11.1s\tremaining: 20.5s\n",
      "30:\tlearn: 1430.2838128\ttotal: 16.1s\tremaining: 15s\n",
      "40:\tlearn: 1368.0363283\ttotal: 21.2s\tremaining: 9.82s\n",
      "50:\tlearn: 1324.1702139\ttotal: 26s\tremaining: 4.58s\n",
      "59:\tlearn: 1292.4305633\ttotal: 30.3s\tremaining: 0us\n",
      "Learning rate set to 0.5\n",
      "0:\tlearn: 3059.2506956\ttotal: 504ms\tremaining: 29.7s\n",
      "1:\tlearn: 2336.1935658\ttotal: 1.01s\tremaining: 29.2s\n",
      "2:\tlearn: 2006.9218740\ttotal: 1.51s\tremaining: 28.7s\n",
      "3:\tlearn: 1861.8339547\ttotal: 1.99s\tremaining: 27.8s\n",
      "4:\tlearn: 1777.8051076\ttotal: 2.52s\tremaining: 27.7s\n",
      "5:\tlearn: 1730.6048785\ttotal: 3.01s\tremaining: 27.1s\n",
      "6:\tlearn: 1695.3737736\ttotal: 3.63s\tremaining: 27.5s\n",
      "7:\tlearn: 1664.7515536\ttotal: 4.27s\tremaining: 27.8s\n",
      "8:\tlearn: 1645.6611357\ttotal: 4.87s\tremaining: 27.6s\n",
      "9:\tlearn: 1633.9565983\ttotal: 5.38s\tremaining: 26.9s\n",
      "10:\tlearn: 1613.0135250\ttotal: 5.98s\tremaining: 26.6s\n",
      "11:\tlearn: 1597.9033877\ttotal: 6.47s\tremaining: 25.9s\n",
      "12:\tlearn: 1587.0935394\ttotal: 6.97s\tremaining: 25.2s\n",
      "13:\tlearn: 1572.8301440\ttotal: 7.45s\tremaining: 24.5s\n",
      "14:\tlearn: 1558.0492171\ttotal: 7.94s\tremaining: 23.8s\n",
      "15:\tlearn: 1548.4683244\ttotal: 8.42s\tremaining: 23.1s\n",
      "16:\tlearn: 1531.1839285\ttotal: 8.92s\tremaining: 22.6s\n",
      "17:\tlearn: 1518.9611555\ttotal: 9.4s\tremaining: 21.9s\n",
      "18:\tlearn: 1510.8461729\ttotal: 9.9s\tremaining: 21.4s\n",
      "19:\tlearn: 1506.1299946\ttotal: 10.4s\tremaining: 20.8s\n",
      "20:\tlearn: 1495.4282167\ttotal: 10.9s\tremaining: 20.2s\n",
      "21:\tlearn: 1486.5651876\ttotal: 11.4s\tremaining: 19.6s\n",
      "22:\tlearn: 1478.0322950\ttotal: 11.9s\tremaining: 19.1s\n",
      "23:\tlearn: 1466.6387211\ttotal: 12.4s\tremaining: 18.6s\n",
      "24:\tlearn: 1460.0983790\ttotal: 12.9s\tremaining: 18.1s\n",
      "25:\tlearn: 1450.7663004\ttotal: 13.4s\tremaining: 17.5s\n",
      "26:\tlearn: 1444.1276005\ttotal: 13.9s\tremaining: 17s\n",
      "27:\tlearn: 1434.5935824\ttotal: 14.4s\tremaining: 16.4s\n",
      "28:\tlearn: 1428.8982903\ttotal: 14.9s\tremaining: 15.9s\n",
      "29:\tlearn: 1423.6137054\ttotal: 15.4s\tremaining: 15.4s\n",
      "30:\tlearn: 1415.6625637\ttotal: 15.8s\tremaining: 14.8s\n",
      "31:\tlearn: 1409.3537202\ttotal: 16.4s\tremaining: 14.3s\n",
      "32:\tlearn: 1398.5242152\ttotal: 16.8s\tremaining: 13.8s\n",
      "33:\tlearn: 1394.5129433\ttotal: 17.3s\tremaining: 13.3s\n",
      "34:\tlearn: 1386.2901630\ttotal: 17.8s\tremaining: 12.7s\n",
      "35:\tlearn: 1379.6668759\ttotal: 18.3s\tremaining: 12.2s\n",
      "36:\tlearn: 1370.5312178\ttotal: 18.8s\tremaining: 11.7s\n",
      "37:\tlearn: 1365.9642007\ttotal: 19.3s\tremaining: 11.2s\n",
      "38:\tlearn: 1364.5448823\ttotal: 19.8s\tremaining: 10.7s\n",
      "39:\tlearn: 1358.1513955\ttotal: 20.3s\tremaining: 10.2s\n",
      "40:\tlearn: 1354.4862017\ttotal: 20.8s\tremaining: 9.63s\n",
      "41:\tlearn: 1349.7915581\ttotal: 21.3s\tremaining: 9.11s\n",
      "42:\tlearn: 1343.9999549\ttotal: 21.8s\tremaining: 8.6s\n",
      "43:\tlearn: 1337.0843696\ttotal: 22.3s\tremaining: 8.09s\n",
      "44:\tlearn: 1330.1854800\ttotal: 22.7s\tremaining: 7.58s\n",
      "45:\tlearn: 1322.7073382\ttotal: 23.3s\tremaining: 7.08s\n",
      "46:\tlearn: 1319.1991178\ttotal: 23.7s\tremaining: 6.57s\n",
      "47:\tlearn: 1315.6035751\ttotal: 24.2s\tremaining: 6.06s\n",
      "48:\tlearn: 1310.9287491\ttotal: 24.8s\tremaining: 5.56s\n",
      "49:\tlearn: 1307.5243715\ttotal: 25.3s\tremaining: 5.06s\n",
      "50:\tlearn: 1304.8772538\ttotal: 25.8s\tremaining: 4.55s\n",
      "51:\tlearn: 1299.7561204\ttotal: 26.3s\tremaining: 4.05s\n",
      "52:\tlearn: 1295.7070258\ttotal: 26.8s\tremaining: 3.54s\n",
      "53:\tlearn: 1292.1384161\ttotal: 27.4s\tremaining: 3.04s\n",
      "54:\tlearn: 1285.5783973\ttotal: 27.8s\tremaining: 2.53s\n",
      "55:\tlearn: 1282.2951988\ttotal: 28.4s\tremaining: 2.02s\n",
      "56:\tlearn: 1279.4559085\ttotal: 28.8s\tremaining: 1.52s\n",
      "57:\tlearn: 1274.5483102\ttotal: 29.4s\tremaining: 1.01s\n",
      "58:\tlearn: 1270.8817388\ttotal: 29.8s\tremaining: 506ms\n",
      "59:\tlearn: 1266.1884559\ttotal: 30.4s\tremaining: 0us\n",
      "Learning rate set to 0.5\n",
      "0:\tlearn: 3073.0580088\ttotal: 580ms\tremaining: 34.2s\n",
      "1:\tlearn: 2347.6233281\ttotal: 1.08s\tremaining: 31.4s\n",
      "2:\tlearn: 2015.0654018\ttotal: 1.58s\tremaining: 30s\n",
      "3:\tlearn: 1864.8380503\ttotal: 2.08s\tremaining: 29.1s\n",
      "4:\tlearn: 1787.9244243\ttotal: 2.58s\tremaining: 28.4s\n",
      "5:\tlearn: 1748.5994249\ttotal: 3.07s\tremaining: 27.7s\n",
      "6:\tlearn: 1714.4782560\ttotal: 3.57s\tremaining: 27.1s\n",
      "7:\tlearn: 1689.4045371\ttotal: 4.07s\tremaining: 26.4s\n",
      "8:\tlearn: 1670.2338785\ttotal: 4.57s\tremaining: 25.9s\n",
      "9:\tlearn: 1650.4990783\ttotal: 5.08s\tremaining: 25.4s\n",
      "10:\tlearn: 1638.5839279\ttotal: 5.59s\tremaining: 24.9s\n",
      "11:\tlearn: 1620.8048589\ttotal: 6.09s\tremaining: 24.4s\n",
      "12:\tlearn: 1604.2129212\ttotal: 6.59s\tremaining: 23.8s\n",
      "13:\tlearn: 1585.1694350\ttotal: 7.1s\tremaining: 23.3s\n",
      "14:\tlearn: 1572.2335119\ttotal: 7.6s\tremaining: 22.8s\n",
      "15:\tlearn: 1558.5507344\ttotal: 8.1s\tremaining: 22.3s\n",
      "16:\tlearn: 1549.3958018\ttotal: 8.6s\tremaining: 21.8s\n",
      "17:\tlearn: 1536.0378229\ttotal: 9.11s\tremaining: 21.3s\n",
      "18:\tlearn: 1529.8346030\ttotal: 9.61s\tremaining: 20.7s\n",
      "19:\tlearn: 1521.1152707\ttotal: 10.1s\tremaining: 20.2s\n",
      "20:\tlearn: 1511.1887274\ttotal: 10.6s\tremaining: 19.7s\n",
      "21:\tlearn: 1502.9559878\ttotal: 11.1s\tremaining: 19.2s\n",
      "22:\tlearn: 1497.0369331\ttotal: 11.6s\tremaining: 18.7s\n",
      "23:\tlearn: 1490.4310105\ttotal: 12.1s\tremaining: 18.1s\n",
      "24:\tlearn: 1482.4089533\ttotal: 12.6s\tremaining: 17.6s\n",
      "25:\tlearn: 1473.9486462\ttotal: 13.1s\tremaining: 17.1s\n",
      "26:\tlearn: 1468.6481339\ttotal: 13.6s\tremaining: 16.6s\n",
      "27:\tlearn: 1456.1494559\ttotal: 14s\tremaining: 16s\n",
      "28:\tlearn: 1448.9923049\ttotal: 14.6s\tremaining: 15.6s\n",
      "29:\tlearn: 1439.7827083\ttotal: 15s\tremaining: 15s\n",
      "30:\tlearn: 1432.0257874\ttotal: 15.6s\tremaining: 14.6s\n",
      "31:\tlearn: 1421.9587146\ttotal: 16.1s\tremaining: 14.1s\n",
      "32:\tlearn: 1409.7398998\ttotal: 16.6s\tremaining: 13.6s\n",
      "33:\tlearn: 1399.1401412\ttotal: 17.1s\tremaining: 13.1s\n",
      "34:\tlearn: 1395.4190896\ttotal: 17.6s\tremaining: 12.6s\n",
      "35:\tlearn: 1389.6442805\ttotal: 18.1s\tremaining: 12.1s\n",
      "36:\tlearn: 1384.0045239\ttotal: 18.7s\tremaining: 11.6s\n",
      "37:\tlearn: 1378.7313743\ttotal: 19.1s\tremaining: 11.1s\n",
      "38:\tlearn: 1371.9938900\ttotal: 19.7s\tremaining: 10.6s\n",
      "39:\tlearn: 1368.4871781\ttotal: 20.2s\tremaining: 10.1s\n",
      "40:\tlearn: 1360.7761750\ttotal: 20.6s\tremaining: 9.56s\n",
      "41:\tlearn: 1355.3303043\ttotal: 21.1s\tremaining: 9.05s\n",
      "42:\tlearn: 1348.9217983\ttotal: 21.6s\tremaining: 8.53s\n",
      "43:\tlearn: 1344.3627379\ttotal: 22.1s\tremaining: 8.02s\n",
      "44:\tlearn: 1339.7444039\ttotal: 22.5s\tremaining: 7.51s\n",
      "45:\tlearn: 1334.0318396\ttotal: 23s\tremaining: 7s\n",
      "46:\tlearn: 1325.9399686\ttotal: 23.5s\tremaining: 6.5s\n",
      "47:\tlearn: 1320.0609544\ttotal: 23.9s\tremaining: 5.99s\n",
      "48:\tlearn: 1316.0611948\ttotal: 24.4s\tremaining: 5.48s\n",
      "49:\tlearn: 1308.7760261\ttotal: 24.9s\tremaining: 4.99s\n",
      "50:\tlearn: 1308.7188715\ttotal: 25s\tremaining: 4.41s\n",
      "51:\tlearn: 1304.3703615\ttotal: 25.4s\tremaining: 3.91s\n",
      "52:\tlearn: 1299.1623576\ttotal: 25.9s\tremaining: 3.42s\n",
      "53:\tlearn: 1296.3205023\ttotal: 26.4s\tremaining: 2.93s\n",
      "54:\tlearn: 1290.9915128\ttotal: 26.8s\tremaining: 2.44s\n",
      "55:\tlearn: 1284.9314492\ttotal: 27.3s\tremaining: 1.95s\n",
      "56:\tlearn: 1281.9239417\ttotal: 27.7s\tremaining: 1.46s\n",
      "57:\tlearn: 1278.3753365\ttotal: 28.2s\tremaining: 973ms\n",
      "58:\tlearn: 1272.3345127\ttotal: 28.7s\tremaining: 487ms\n",
      "59:\tlearn: 1267.2062687\ttotal: 29.2s\tremaining: 0us\n",
      "Learning rate set to 0.5\n",
      "0:\tlearn: 3061.6229208\ttotal: 479ms\tremaining: 28.3s\n",
      "1:\tlearn: 2340.1906066\ttotal: 980ms\tremaining: 28.4s\n",
      "2:\tlearn: 2007.6435899\ttotal: 1.47s\tremaining: 27.9s\n",
      "3:\tlearn: 1854.0909680\ttotal: 1.96s\tremaining: 27.4s\n",
      "4:\tlearn: 1778.3689821\ttotal: 2.46s\tremaining: 27s\n",
      "5:\tlearn: 1740.5999674\ttotal: 2.94s\tremaining: 26.5s\n",
      "6:\tlearn: 1700.2680492\ttotal: 3.45s\tremaining: 26.1s\n",
      "7:\tlearn: 1677.1366768\ttotal: 3.96s\tremaining: 25.7s\n",
      "8:\tlearn: 1655.1144048\ttotal: 4.44s\tremaining: 25.2s\n",
      "9:\tlearn: 1636.9782129\ttotal: 4.96s\tremaining: 24.8s\n",
      "10:\tlearn: 1626.9140207\ttotal: 5.47s\tremaining: 24.4s\n",
      "11:\tlearn: 1607.5383447\ttotal: 5.97s\tremaining: 23.9s\n",
      "12:\tlearn: 1589.5617266\ttotal: 6.55s\tremaining: 23.7s\n",
      "13:\tlearn: 1576.2075828\ttotal: 7.09s\tremaining: 23.3s\n",
      "14:\tlearn: 1564.7734125\ttotal: 7.58s\tremaining: 22.7s\n",
      "15:\tlearn: 1550.5834313\ttotal: 8.09s\tremaining: 22.2s\n",
      "16:\tlearn: 1539.5070426\ttotal: 8.58s\tremaining: 21.7s\n",
      "17:\tlearn: 1531.9352375\ttotal: 9.08s\tremaining: 21.2s\n",
      "18:\tlearn: 1523.3933106\ttotal: 9.56s\tremaining: 20.6s\n",
      "19:\tlearn: 1513.8160489\ttotal: 10.1s\tremaining: 20.1s\n",
      "20:\tlearn: 1506.3901691\ttotal: 10.5s\tremaining: 19.6s\n",
      "21:\tlearn: 1491.5782801\ttotal: 11s\tremaining: 19.1s\n",
      "22:\tlearn: 1482.1015514\ttotal: 11.5s\tremaining: 18.6s\n",
      "23:\tlearn: 1474.0506968\ttotal: 12s\tremaining: 18s\n",
      "24:\tlearn: 1467.2737819\ttotal: 12.5s\tremaining: 17.5s\n"
     ]
    },
    {
     "name": "stdout",
     "output_type": "stream",
     "text": [
      "25:\tlearn: 1454.5386671\ttotal: 13s\tremaining: 17s\n",
      "26:\tlearn: 1441.6658881\ttotal: 13.5s\tremaining: 16.5s\n",
      "27:\tlearn: 1438.0571918\ttotal: 14s\tremaining: 16s\n",
      "28:\tlearn: 1424.9320403\ttotal: 14.5s\tremaining: 15.5s\n",
      "29:\tlearn: 1415.3767521\ttotal: 15s\tremaining: 15s\n",
      "30:\tlearn: 1410.4735226\ttotal: 15.4s\tremaining: 14.5s\n",
      "31:\tlearn: 1401.9640686\ttotal: 15.9s\tremaining: 13.9s\n",
      "32:\tlearn: 1396.4660737\ttotal: 16.4s\tremaining: 13.4s\n",
      "33:\tlearn: 1385.8994003\ttotal: 16.9s\tremaining: 12.9s\n",
      "34:\tlearn: 1376.9670036\ttotal: 17.4s\tremaining: 12.4s\n",
      "35:\tlearn: 1373.1670722\ttotal: 17.9s\tremaining: 11.9s\n",
      "36:\tlearn: 1366.7396414\ttotal: 18.3s\tremaining: 11.4s\n",
      "37:\tlearn: 1361.9230775\ttotal: 18.8s\tremaining: 10.9s\n",
      "38:\tlearn: 1352.2063849\ttotal: 19.3s\tremaining: 10.4s\n",
      "39:\tlearn: 1348.3377099\ttotal: 19.8s\tremaining: 9.88s\n",
      "40:\tlearn: 1341.1710569\ttotal: 20.2s\tremaining: 9.38s\n",
      "41:\tlearn: 1336.3707304\ttotal: 20.7s\tremaining: 8.88s\n",
      "42:\tlearn: 1332.9578986\ttotal: 21.2s\tremaining: 8.37s\n",
      "43:\tlearn: 1324.7358363\ttotal: 21.7s\tremaining: 7.88s\n",
      "44:\tlearn: 1320.1938481\ttotal: 22.2s\tremaining: 7.39s\n",
      "45:\tlearn: 1317.2775656\ttotal: 22.7s\tremaining: 6.89s\n",
      "46:\tlearn: 1312.2885650\ttotal: 23.1s\tremaining: 6.39s\n",
      "47:\tlearn: 1307.0398403\ttotal: 23.6s\tremaining: 5.9s\n",
      "48:\tlearn: 1303.6459959\ttotal: 24.1s\tremaining: 5.4s\n",
      "49:\tlearn: 1300.1658455\ttotal: 24.5s\tremaining: 4.91s\n",
      "50:\tlearn: 1295.7030904\ttotal: 25s\tremaining: 4.42s\n",
      "51:\tlearn: 1291.4124245\ttotal: 25.5s\tremaining: 3.93s\n",
      "52:\tlearn: 1286.7981670\ttotal: 26s\tremaining: 3.44s\n",
      "53:\tlearn: 1281.9471853\ttotal: 26.6s\tremaining: 2.95s\n",
      "54:\tlearn: 1276.1510130\ttotal: 27.1s\tremaining: 2.46s\n",
      "55:\tlearn: 1272.9037522\ttotal: 27.5s\tremaining: 1.97s\n",
      "56:\tlearn: 1268.4321939\ttotal: 28s\tremaining: 1.48s\n",
      "57:\tlearn: 1263.8767561\ttotal: 28.5s\tremaining: 983ms\n",
      "58:\tlearn: 1259.2261582\ttotal: 29s\tremaining: 491ms\n",
      "59:\tlearn: 1257.6763169\ttotal: 29.5s\tremaining: 0us\n",
      "Learning rate set to 0.5\n",
      "0:\tlearn: 3075.2052042\ttotal: 535ms\tremaining: 31.6s\n",
      "1:\tlearn: 2360.7031510\ttotal: 1.07s\tremaining: 31s\n",
      "2:\tlearn: 2006.4055340\ttotal: 1.56s\tremaining: 29.6s\n",
      "3:\tlearn: 1853.7799171\ttotal: 2.06s\tremaining: 28.8s\n",
      "4:\tlearn: 1779.3270965\ttotal: 2.54s\tremaining: 27.9s\n",
      "5:\tlearn: 1736.2692160\ttotal: 3.04s\tremaining: 27.4s\n",
      "6:\tlearn: 1689.8766978\ttotal: 3.53s\tremaining: 26.7s\n",
      "7:\tlearn: 1669.2538919\ttotal: 4.02s\tremaining: 26.2s\n",
      "8:\tlearn: 1652.4952592\ttotal: 4.5s\tremaining: 25.5s\n",
      "9:\tlearn: 1635.5847426\ttotal: 4.99s\tremaining: 24.9s\n",
      "10:\tlearn: 1618.2468465\ttotal: 5.47s\tremaining: 24.4s\n",
      "11:\tlearn: 1605.3147016\ttotal: 5.96s\tremaining: 23.8s\n",
      "12:\tlearn: 1589.9850174\ttotal: 6.45s\tremaining: 23.3s\n",
      "13:\tlearn: 1579.4494632\ttotal: 6.95s\tremaining: 22.8s\n",
      "14:\tlearn: 1562.9075830\ttotal: 7.43s\tremaining: 22.3s\n",
      "15:\tlearn: 1551.2487019\ttotal: 7.94s\tremaining: 21.8s\n",
      "16:\tlearn: 1540.4104367\ttotal: 8.41s\tremaining: 21.3s\n",
      "17:\tlearn: 1527.7155168\ttotal: 8.92s\tremaining: 20.8s\n",
      "18:\tlearn: 1518.7716988\ttotal: 9.39s\tremaining: 20.3s\n",
      "19:\tlearn: 1509.0661570\ttotal: 9.88s\tremaining: 19.8s\n",
      "20:\tlearn: 1500.2238788\ttotal: 10.3s\tremaining: 19.2s\n",
      "21:\tlearn: 1491.7189437\ttotal: 10.8s\tremaining: 18.7s\n",
      "22:\tlearn: 1482.4686778\ttotal: 11.3s\tremaining: 18.2s\n",
      "23:\tlearn: 1477.0789926\ttotal: 11.8s\tremaining: 17.7s\n",
      "24:\tlearn: 1467.5252661\ttotal: 12.2s\tremaining: 17.1s\n",
      "25:\tlearn: 1459.6727743\ttotal: 12.7s\tremaining: 16.7s\n",
      "26:\tlearn: 1454.3668627\ttotal: 13.2s\tremaining: 16.2s\n",
      "27:\tlearn: 1447.9457816\ttotal: 13.7s\tremaining: 15.6s\n",
      "28:\tlearn: 1434.6986261\ttotal: 14.2s\tremaining: 15.1s\n",
      "29:\tlearn: 1428.7740466\ttotal: 14.6s\tremaining: 14.6s\n",
      "30:\tlearn: 1415.9938540\ttotal: 15.1s\tremaining: 14.1s\n",
      "31:\tlearn: 1408.4752572\ttotal: 15.6s\tremaining: 13.6s\n",
      "32:\tlearn: 1402.2950122\ttotal: 16.1s\tremaining: 13.1s\n",
      "33:\tlearn: 1397.0003431\ttotal: 16.5s\tremaining: 12.6s\n",
      "34:\tlearn: 1386.9605066\ttotal: 17s\tremaining: 12.2s\n",
      "35:\tlearn: 1379.3331259\ttotal: 17.5s\tremaining: 11.7s\n",
      "36:\tlearn: 1374.7628978\ttotal: 18s\tremaining: 11.2s\n",
      "37:\tlearn: 1368.1283322\ttotal: 18.5s\tremaining: 10.7s\n",
      "38:\tlearn: 1364.2236590\ttotal: 19.2s\tremaining: 10.3s\n",
      "39:\tlearn: 1358.8284515\ttotal: 20.2s\tremaining: 10.1s\n",
      "40:\tlearn: 1354.9258133\ttotal: 20.8s\tremaining: 9.65s\n",
      "41:\tlearn: 1348.7965601\ttotal: 21.3s\tremaining: 9.13s\n",
      "42:\tlearn: 1339.7908320\ttotal: 21.8s\tremaining: 8.62s\n",
      "43:\tlearn: 1335.5308960\ttotal: 22.3s\tremaining: 8.12s\n",
      "44:\tlearn: 1333.2585641\ttotal: 22.9s\tremaining: 7.62s\n",
      "45:\tlearn: 1326.9361008\ttotal: 23.4s\tremaining: 7.12s\n",
      "46:\tlearn: 1321.7980391\ttotal: 23.9s\tremaining: 6.61s\n",
      "47:\tlearn: 1317.3917184\ttotal: 24.4s\tremaining: 6.09s\n",
      "48:\tlearn: 1312.4234524\ttotal: 24.9s\tremaining: 5.58s\n",
      "49:\tlearn: 1308.6468544\ttotal: 25.5s\tremaining: 5.11s\n",
      "50:\tlearn: 1303.3347871\ttotal: 26.3s\tremaining: 4.64s\n",
      "51:\tlearn: 1299.3011427\ttotal: 27.1s\tremaining: 4.17s\n",
      "52:\tlearn: 1296.2443257\ttotal: 27.9s\tremaining: 3.68s\n",
      "53:\tlearn: 1290.3836581\ttotal: 28.4s\tremaining: 3.15s\n",
      "54:\tlearn: 1285.5307929\ttotal: 28.9s\tremaining: 2.62s\n",
      "55:\tlearn: 1281.4979340\ttotal: 29.5s\tremaining: 2.11s\n",
      "56:\tlearn: 1277.7122807\ttotal: 30.4s\tremaining: 1.6s\n",
      "57:\tlearn: 1272.5219689\ttotal: 31.3s\tremaining: 1.08s\n",
      "58:\tlearn: 1266.3909319\ttotal: 31.9s\tremaining: 540ms\n",
      "59:\tlearn: 1263.2814494\ttotal: 32.4s\tremaining: 0us\n",
      "Learning rate set to 0.5\n",
      "0:\tlearn: 3061.8119476\ttotal: 535ms\tremaining: 31.6s\n",
      "1:\tlearn: 2338.8377047\ttotal: 1.15s\tremaining: 33.2s\n",
      "2:\tlearn: 2016.4155999\ttotal: 1.65s\tremaining: 31.4s\n",
      "3:\tlearn: 1867.8276731\ttotal: 2.2s\tremaining: 30.9s\n",
      "4:\tlearn: 1794.6314586\ttotal: 2.7s\tremaining: 29.7s\n",
      "5:\tlearn: 1750.8727364\ttotal: 3.28s\tremaining: 29.5s\n",
      "6:\tlearn: 1707.8067457\ttotal: 3.8s\tremaining: 28.8s\n",
      "7:\tlearn: 1681.4849072\ttotal: 4.32s\tremaining: 28.1s\n",
      "8:\tlearn: 1665.8409990\ttotal: 4.83s\tremaining: 27.4s\n",
      "9:\tlearn: 1643.5245416\ttotal: 5.33s\tremaining: 26.6s\n",
      "10:\tlearn: 1629.1704048\ttotal: 5.87s\tremaining: 26.2s\n",
      "11:\tlearn: 1614.5729144\ttotal: 6.36s\tremaining: 25.4s\n",
      "12:\tlearn: 1596.9912764\ttotal: 6.85s\tremaining: 24.8s\n",
      "13:\tlearn: 1582.4392910\ttotal: 7.34s\tremaining: 24.1s\n",
      "14:\tlearn: 1571.4113329\ttotal: 7.83s\tremaining: 23.5s\n",
      "15:\tlearn: 1561.0263236\ttotal: 8.3s\tremaining: 22.8s\n",
      "16:\tlearn: 1548.0672199\ttotal: 8.79s\tremaining: 22.2s\n",
      "17:\tlearn: 1534.2523690\ttotal: 9.28s\tremaining: 21.6s\n",
      "18:\tlearn: 1524.5001829\ttotal: 9.77s\tremaining: 21.1s\n",
      "19:\tlearn: 1514.2423142\ttotal: 10.3s\tremaining: 20.5s\n",
      "20:\tlearn: 1507.5344137\ttotal: 10.7s\tremaining: 20s\n",
      "21:\tlearn: 1498.9847698\ttotal: 11.2s\tremaining: 19.4s\n",
      "22:\tlearn: 1495.5795138\ttotal: 11.7s\tremaining: 18.8s\n",
      "23:\tlearn: 1481.1886334\ttotal: 12.2s\tremaining: 18.3s\n",
      "24:\tlearn: 1472.7355482\ttotal: 12.7s\tremaining: 17.8s\n",
      "25:\tlearn: 1466.9540537\ttotal: 13.2s\tremaining: 17.2s\n",
      "26:\tlearn: 1456.6452181\ttotal: 13.7s\tremaining: 16.7s\n",
      "27:\tlearn: 1450.8670538\ttotal: 14.2s\tremaining: 16.2s\n",
      "28:\tlearn: 1442.6419462\ttotal: 14.6s\tremaining: 15.7s\n",
      "29:\tlearn: 1433.4256519\ttotal: 15.1s\tremaining: 15.1s\n",
      "30:\tlearn: 1424.1500532\ttotal: 15.6s\tremaining: 14.6s\n",
      "31:\tlearn: 1416.8982133\ttotal: 16.1s\tremaining: 14.1s\n",
      "32:\tlearn: 1413.6199804\ttotal: 16.6s\tremaining: 13.6s\n",
      "33:\tlearn: 1409.1948062\ttotal: 17.1s\tremaining: 13.1s\n",
      "34:\tlearn: 1403.7806515\ttotal: 17.6s\tremaining: 12.5s\n",
      "35:\tlearn: 1395.2032609\ttotal: 18s\tremaining: 12s\n",
      "36:\tlearn: 1388.1640814\ttotal: 18.5s\tremaining: 11.5s\n",
      "37:\tlearn: 1378.5792501\ttotal: 19s\tremaining: 11s\n",
      "38:\tlearn: 1374.4899035\ttotal: 19.5s\tremaining: 10.5s\n",
      "39:\tlearn: 1369.9454597\ttotal: 19.9s\tremaining: 9.97s\n",
      "40:\tlearn: 1367.9630861\ttotal: 20s\tremaining: 9.28s\n",
      "41:\tlearn: 1362.9564968\ttotal: 20.5s\tremaining: 8.77s\n",
      "42:\tlearn: 1357.1263627\ttotal: 20.9s\tremaining: 8.28s\n",
      "43:\tlearn: 1350.4496480\ttotal: 21.4s\tremaining: 7.78s\n",
      "44:\tlearn: 1347.0327481\ttotal: 21.9s\tremaining: 7.3s\n",
      "45:\tlearn: 1339.7183348\ttotal: 22.4s\tremaining: 6.81s\n",
      "46:\tlearn: 1329.6049519\ttotal: 22.8s\tremaining: 6.32s\n",
      "47:\tlearn: 1328.1837286\ttotal: 23.3s\tremaining: 5.82s\n",
      "48:\tlearn: 1324.1791355\ttotal: 23.8s\tremaining: 5.34s\n",
      "49:\tlearn: 1320.7693340\ttotal: 24.2s\tremaining: 4.85s\n",
      "50:\tlearn: 1314.7425465\ttotal: 24.7s\tremaining: 4.36s\n",
      "51:\tlearn: 1311.1872342\ttotal: 25.2s\tremaining: 3.87s\n",
      "52:\tlearn: 1306.0329730\ttotal: 25.6s\tremaining: 3.39s\n",
      "53:\tlearn: 1300.5634128\ttotal: 26.1s\tremaining: 2.9s\n",
      "54:\tlearn: 1295.1606215\ttotal: 26.6s\tremaining: 2.42s\n",
      "55:\tlearn: 1289.4817703\ttotal: 27.1s\tremaining: 1.94s\n",
      "56:\tlearn: 1283.7808107\ttotal: 27.6s\tremaining: 1.45s\n",
      "57:\tlearn: 1278.2868694\ttotal: 28s\tremaining: 967ms\n"
     ]
    },
    {
     "name": "stdout",
     "output_type": "stream",
     "text": [
      "58:\tlearn: 1272.3033937\ttotal: 28.5s\tremaining: 483ms\n",
      "59:\tlearn: 1266.1694852\ttotal: 29s\tremaining: 0us\n",
      "0.8780174027083504\n",
      "Wall time: 3min 3s\n"
     ]
    }
   ],
   "source": [
    "%%time\n",
    "\n",
    "time.clock()\n",
    "\n",
    "model_catboost =  CatBoostRegressor(\n",
    "                                random_state=4040,  \n",
    "                                max_depth=15,\n",
    "                                n_estimators=60\n",
    "                                           ) \n",
    "model_catboost.fit(features_cod,target_cod, verbose=10) # обучение модели\n",
    "\n",
    "scores_catboost = cross_val_score(model_catboost, features_cod, target_cod, cv=5) \n",
    "\n",
    "print(scores_catboost.mean()) # расчет качества модели\n",
    "\n",
    "time_catboost = time.clock()"
   ]
  },
  {
   "cell_type": "markdown",
   "metadata": {},
   "source": [
    "#### LightGBM\n"
   ]
  },
  {
   "cell_type": "code",
   "execution_count": 114,
   "metadata": {},
   "outputs": [
    {
     "name": "stdout",
     "output_type": "stream",
     "text": [
      " Results from Random Search \n",
      "\n",
      " The best estimator across ALL searched params:\n",
      " LGBMRegressor(boosting_type='gbdt', class_weight=None, colsample_bytree=1.0,\n",
      "              importance_type='split', learning_rate=0.1, max_depth=12,\n",
      "              min_child_samples=20, min_child_weight=0.001, min_split_gain=0.0,\n",
      "              n_estimators=45, n_jobs=-1, num_leaves=31, objective=None,\n",
      "              random_state=None, reg_alpha=0.0, reg_lambda=0.0, silent='warn',\n",
      "              subsample=1.0, subsample_for_bin=200000, subsample_freq=0)\n",
      "\n",
      " The best score across ALL searched params:\n",
      " 0.8683072788316586\n",
      "\n",
      " The best parameters across ALL searched params:\n",
      " {'n_estimators': 45, 'max_depth': 12}\n",
      "Wall time: 15 s\n"
     ]
    }
   ],
   "source": [
    "%%time\n",
    "\n",
    "model_lgb = lgb.LGBMRegressor()\n",
    "\n",
    "n_estimators = [int(x) for x in np.linspace(start = 5, stop = 60, num = 20)]\n",
    "\n",
    "max_depth = [int(x) for x in np.linspace(start = 1, stop = 15, num = 15)]\n",
    "\n",
    "parameters = {'n_estimators': n_estimators,\n",
    "               'max_depth': max_depth}\n",
    "\n",
    "randm_src = RandomizedSearchCV(estimator=model_lgb, param_distributions = parameters,\n",
    "                               cv = 5, n_iter = 10, n_jobs=-1)\n",
    "randm_src.fit(features, target)\n",
    "\n",
    "print(\" Results from Random Search \" )\n",
    "print(\"\\n The best estimator across ALL searched params:\\n\", randm_src.best_estimator_)\n",
    "print(\"\\n The best score across ALL searched params:\\n\", randm_src.best_score_)\n",
    "print(\"\\n The best parameters across ALL searched params:\\n\", randm_src.best_params_)"
   ]
  },
  {
   "cell_type": "code",
   "execution_count": 115,
   "metadata": {
    "scrolled": true
   },
   "outputs": [
    {
     "name": "stdout",
     "output_type": "stream",
     "text": [
      "0.8726849868583392\n",
      "Wall time: 4.88 s\n"
     ]
    }
   ],
   "source": [
    "%%time\n",
    "\n",
    "time.clock()\n",
    "\n",
    "model_lgb =  lgb.LGBMRegressor(\n",
    "                                random_state=4040,\n",
    "                                boosting_type='gbdt',   \n",
    "                                max_depth=15,\n",
    "                                n_estimators=60, \n",
    "                                n_jobs=-1\n",
    "                                           ) \n",
    "model_lgb.fit(features,target) # обучение модели\n",
    "\n",
    "scores_lgb = cross_val_score(model_lgb, features, target, cv=5) \n",
    "\n",
    "print(scores_lgb.mean()) # расчет качества модели\n",
    "\n",
    "time_lgb = time.clock()"
   ]
  },
  {
   "cell_type": "markdown",
   "metadata": {},
   "source": [
    "#### RandomForestRegressor"
   ]
  },
  {
   "cell_type": "code",
   "execution_count": 116,
   "metadata": {},
   "outputs": [
    {
     "name": "stdout",
     "output_type": "stream",
     "text": [
      " Results from Random Search \n",
      "\n",
      " The best estimator across ALL searched params:\n",
      " RandomForestRegressor(bootstrap=True, criterion='mse', max_depth=15,\n",
      "                      max_features='auto', max_leaf_nodes=None,\n",
      "                      min_impurity_decrease=0.0, min_impurity_split=None,\n",
      "                      min_samples_leaf=1, min_samples_split=2,\n",
      "                      min_weight_fraction_leaf=0.0, n_estimators=31,\n",
      "                      n_jobs=None, oob_score=False, random_state=None,\n",
      "                      verbose=0, warm_start=False)\n",
      "\n",
      " The best score across ALL searched params:\n",
      " 0.8735924648560234\n",
      "\n",
      " The best parameters across ALL searched params:\n",
      " {'n_estimators': 31, 'max_depth': 15}\n",
      "Wall time: 3min 18s\n"
     ]
    }
   ],
   "source": [
    "%%time\n",
    "\n",
    "model_forest = RandomForestRegressor()\n",
    "\n",
    "n_estimators = [int(x) for x in np.linspace(start = 5, stop = 60, num = 20)]\n",
    "\n",
    "max_depth = [int(x) for x in np.linspace(start = 1, stop = 15, num = 15)]\n",
    "\n",
    "parameters = {'n_estimators': n_estimators,\n",
    "               'max_depth': max_depth}\n",
    "\n",
    "randm_src = RandomizedSearchCV(estimator=model_forest, param_distributions = parameters,\n",
    "                               cv = 5, n_iter = 10, n_jobs=-1)\n",
    "randm_src.fit(features_cod, target_cod)\n",
    "\n",
    "print(\" Results from Random Search \" )\n",
    "print(\"\\n The best estimator across ALL searched params:\\n\", randm_src.best_estimator_)\n",
    "print(\"\\n The best score across ALL searched params:\\n\", randm_src.best_score_)\n",
    "print(\"\\n The best parameters across ALL searched params:\\n\", randm_src.best_params_)"
   ]
  },
  {
   "cell_type": "code",
   "execution_count": 117,
   "metadata": {},
   "outputs": [
    {
     "name": "stdout",
     "output_type": "stream",
     "text": [
      "0.8735434003776936\n",
      "Wall time: 1min 10s\n"
     ]
    }
   ],
   "source": [
    "%%time\n",
    "\n",
    "time.clock()\n",
    "\n",
    "model_forest =  RandomForestRegressor(\n",
    "                                random_state=4040,\n",
    "                                bootstrap=True, \n",
    "                                max_depth=15,\n",
    "                                n_estimators=36\n",
    "                                           ) \n",
    "model_forest.fit(features_cod,target_cod) # обучение модели\n",
    "\n",
    "scores_forest = cross_val_score(model_forest, features_cod, target_cod, cv=5) \n",
    "\n",
    "print(scores_forest.mean()) # расчет качества модели\n",
    "\n",
    "time_forest = time.clock()"
   ]
  },
  {
   "cell_type": "markdown",
   "metadata": {},
   "source": [
    "#### LinearRegression"
   ]
  },
  {
   "cell_type": "code",
   "execution_count": 118,
   "metadata": {},
   "outputs": [
    {
     "name": "stdout",
     "output_type": "stream",
     "text": [
      "0.5928692645382385\n",
      "Wall time: 467 ms\n"
     ]
    }
   ],
   "source": [
    "%%time\n",
    "\n",
    "time.clock()\n",
    "\n",
    "model_lin_reg = LinearRegression() \n",
    "model_lin_reg.fit(features_cod, target_cod) \n",
    "\n",
    "scores_lin_reg = cross_val_score(model_lin_reg, features_cod,target_cod, cv=5) \n",
    "\n",
    "print(scores_lin_reg.mean()) # расчет качества модели\n",
    "\n",
    "time_lin_reg = time.clock()"
   ]
  },
  {
   "cell_type": "markdown",
   "metadata": {},
   "source": [
    "Поэкспериментируйте и сравните характеристики моделей: скорость работы, точность результата.\n",
    "\n",
    "Обучите разные модели. Для каждой попробуйте различные гиперпараметры.\n",
    "\n",
    "Поскольку модель градиентного бустинга может обучаться долго, измените у неё только два-три параметра."
   ]
  },
  {
   "cell_type": "markdown",
   "metadata": {},
   "source": [
    "## Анализ моделей"
   ]
  },
  {
   "cell_type": "code",
   "execution_count": 119,
   "metadata": {},
   "outputs": [
    {
     "data": {
      "text/plain": [
       "4736.73526200597"
      ]
     },
     "execution_count": 119,
     "metadata": {},
     "output_type": "execute_result"
    }
   ],
   "source": [
    "dummy_regr = DummyRegressor(strategy=\"mean\")\n",
    "dummy_regr.fit(features_cod, target_cod)\n",
    "\n",
    "predict = dummy_regr.predict(features_cod_test)\n",
    "\n",
    "scores_dummy = mean_squared_error(target_cod_test, predict)**0.5 \n",
    "scores_dummy"
   ]
  },
  {
   "cell_type": "code",
   "execution_count": 186,
   "metadata": {},
   "outputs": [
    {
     "data": {
      "text/plain": [
       "1629.4854105854608"
      ]
     },
     "execution_count": 186,
     "metadata": {},
     "output_type": "execute_result"
    }
   ],
   "source": [
    "mean_squared_error(target_cod_test, model_catboost.predict(features_cod_test))**0.5"
   ]
  },
  {
   "cell_type": "code",
   "execution_count": 120,
   "metadata": {
    "scrolled": true
   },
   "outputs": [
    {
     "data": {
      "text/plain": [
       "1696.3691615903792"
      ]
     },
     "execution_count": 120,
     "metadata": {},
     "output_type": "execute_result"
    }
   ],
   "source": [
    "mean_squared_error(target_test, model_lgb.predict(features_test))**0.5"
   ]
  },
  {
   "cell_type": "code",
   "execution_count": 121,
   "metadata": {},
   "outputs": [
    {
     "data": {
      "text/plain": [
       "1668.4940163517556"
      ]
     },
     "execution_count": 121,
     "metadata": {},
     "output_type": "execute_result"
    }
   ],
   "source": [
    "mean_squared_error(target_cod_test, model_forest.predict(features_cod_test))**0.5"
   ]
  },
  {
   "cell_type": "code",
   "execution_count": 122,
   "metadata": {},
   "outputs": [
    {
     "data": {
      "text/plain": [
       "2952.815483961168"
      ]
     },
     "execution_count": 122,
     "metadata": {},
     "output_type": "execute_result"
    }
   ],
   "source": [
    "mean_squared_error(target_cod_test, model_lin_reg.predict(features_cod_test))**0.5"
   ]
  },
  {
   "cell_type": "code",
   "execution_count": 181,
   "metadata": {},
   "outputs": [
    {
     "data": {
      "text/plain": [
       "12861.8216154"
      ]
     },
     "execution_count": 181,
     "metadata": {},
     "output_type": "execute_result"
    }
   ],
   "source": [
    "time_catboost"
   ]
  },
  {
   "cell_type": "code",
   "execution_count": 123,
   "metadata": {
    "scrolled": true
   },
   "outputs": [
    {
     "data": {
      "text/plain": [
       "573.4908283"
      ]
     },
     "execution_count": 123,
     "metadata": {},
     "output_type": "execute_result"
    }
   ],
   "source": [
    "time_lgb"
   ]
  },
  {
   "cell_type": "code",
   "execution_count": 124,
   "metadata": {},
   "outputs": [
    {
     "data": {
      "text/plain": [
       "842.9263134"
      ]
     },
     "execution_count": 124,
     "metadata": {},
     "output_type": "execute_result"
    }
   ],
   "source": [
    "time_forest "
   ]
  },
  {
   "cell_type": "code",
   "execution_count": 125,
   "metadata": {},
   "outputs": [
    {
     "data": {
      "text/plain": [
       "843.4146817"
      ]
     },
     "execution_count": 125,
     "metadata": {},
     "output_type": "execute_result"
    }
   ],
   "source": [
    "time_lin_reg"
   ]
  },
  {
   "cell_type": "code",
   "execution_count": 188,
   "metadata": {},
   "outputs": [],
   "source": [
    "indicators = pd.DataFrame([(time_lgb, mean_squared_error(target_test, model_lgb.predict(features_test))**0.5),\n",
    "                   (time_forest , mean_squared_error(target_cod_test, model_forest.predict(features_cod_test))**0.5),\n",
    "                   (time_lin_reg, mean_squared_error(target_cod_test, model_lin_reg.predict(features_cod_test))**0.5),\n",
    "                   (time_catboost, mean_squared_error(target_cod_test, model_catboost.predict(features_cod_test))**0.5)],\n",
    "                  index=['lgb', 'forest', 'lin_reg', 'catboost'],\n",
    "                  columns=('time', 'rmse'))"
   ]
  },
  {
   "cell_type": "code",
   "execution_count": 189,
   "metadata": {
    "scrolled": true
   },
   "outputs": [
    {
     "data": {
      "text/plain": [
       "<matplotlib.axes._subplots.AxesSubplot at 0x2ddd20f40c8>"
      ]
     },
     "execution_count": 189,
     "metadata": {},
     "output_type": "execute_result"
    },
    {
     "data": {
      "image/png": "[encoded data removed]",
      "text/plain": [
       "<Figure size 1080x360 with 1 Axes>"
      ]
     },
     "metadata": {
      "needs_background": "light"
     },
     "output_type": "display_data"
    }
   ],
   "source": [
    "indicators['time'].plot(\n",
    "                               kind='bar', \n",
    "                               figsize=(15,5), \n",
    "                               grid=True,\n",
    "                               title='Время обучения')"
   ]
  },
  {
   "cell_type": "code",
   "execution_count": 190,
   "metadata": {},
   "outputs": [
    {
     "data": {
      "text/plain": [
       "<matplotlib.axes._subplots.AxesSubplot at 0x2dd9808a088>"
      ]
     },
     "execution_count": 190,
     "metadata": {},
     "output_type": "execute_result"
    },
    {
     "data": {
      "image/png": "[encoded data removed]",
      "text/plain": [
       "<Figure size 1080x720 with 1 Axes>"
      ]
     },
     "metadata": {
      "needs_background": "light"
     },
     "output_type": "display_data"
    }
   ],
   "source": [
    "indicators['rmse'].plot(\n",
    "                               kind='bar', \n",
    "                               figsize=(15,10), \n",
    "                               grid=True,\n",
    "                               title='Значение метрики RMSE')"
   ]
  },
  {
   "cell_type": "markdown",
   "metadata": {},
   "source": [
    "<div style=\"border:solid blue 2px; padding: 20px\">\n",
    "\n",
    "модель случайный лес показала сопоставимую с LightGBM точность, при больших временных затратах\n",
    "лучшие показатели метрики RMSE показала catboost, как и наибольшее время исполнения кода\n",
    "все модели кроме lin_reg соответствуют требованю по максмальному значнию метрики RMSE (2500)"
   ]
  },
  {
   "cell_type": "markdown",
   "metadata": {},
   "source": [
    "## Заключение"
   ]
  },
  {
   "cell_type": "markdown",
   "metadata": {},
   "source": [
    "В рамках настоящего исследования проведено обучение моделей для прогнозирования стоимости авто с пробегом"
   ]
  }
 ],
 "metadata": {
  "kernelspec": {
   "display_name": "Python 3",
   "language": "python",
   "name": "python3"
  },
  "language_info": {
   "codemirror_mode": {
    "name": "ipython",
    "version": 3
   },
   "file_extension": ".py",
   "mimetype": "text/x-python",
   "name": "python",
   "nbconvert_exporter": "python",
   "pygments_lexer": "ipython3",
   "version": "3.7.12"
  },
  "toc": {
   "base_numbering": 1,
   "nav_menu": {},
   "number_sections": true,
   "sideBar": true,
   "skip_h1_title": true,
   "title_cell": "Содержание",
   "title_sidebar": "Содержание",
   "toc_cell": false,
   "toc_position": {
    "height": "996.25px",
    "left": "55.9961px",
    "top": "111.074px",
    "width": "480px"
   },
   "toc_section_display": true,
   "toc_window_display": true
  }
 },
 "nbformat": 4,
 "nbformat_minor": 2
}
